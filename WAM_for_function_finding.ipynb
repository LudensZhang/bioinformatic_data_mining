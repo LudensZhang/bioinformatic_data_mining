<<<<<<< HEAD
{"cells":[{"cell_type":"markdown","metadata":{"id":"2a0nqoftCwPC"},"source":["# WAM_for_function_finding"]},{"cell_type":"code","execution_count":1,"metadata":{"colab":{"base_uri":"https://localhost:8080/"},"executionInfo":{"elapsed":2121,"status":"ok","timestamp":1652363518250,"user":{"displayName":"Haohong Zhang","userId":"14617846136559299820"},"user_tz":-480},"id":"vzKBEnSIIice","outputId":"797fd970-8d08-49a5-fa09-0ba70ebafed2"},"outputs":[{"name":"stdout","output_type":"stream","text":["Drive already mounted at /content/drive; to attempt to forcibly remount, call drive.mount(\"/content/drive\", force_remount=True).\n"]}],"source":["from google.colab import drive\n","drive.mount('/content/drive')"]},{"cell_type":"code","execution_count":2,"metadata":{"executionInfo":{"elapsed":3700,"status":"ok","timestamp":1652363525896,"user":{"displayName":"Haohong Zhang","userId":"14617846136559299820"},"user_tz":-480},"id":"wYZeMyLoIKnp"},"outputs":[],"source":["! cp -r drive/MyDrive/Colab_Notebooks/bioinformatic_data_mining/dataset ./"]},{"cell_type":"markdown","metadata":{"id":"nulKN-DuxNj6"},"source":["## 导入所需库"]},{"cell_type":"code","execution_count":1,"metadata":{"executionInfo":{"elapsed":1441,"status":"ok","timestamp":1652363532588,"user":{"displayName":"Haohong Zhang","userId":"14617846136559299820"},"user_tz":-480},"id":"a02PPlPNCwPG"},"outputs":[],"source":["import pandas as pd \n","import numpy as np\n","import xarray as xr    # 处理三维数据\n","from tqdm import tqdm    # 进度条\n","import os\n","import re\n","import seaborn as sns\n","import matplotlib.pyplot as plt\n","\n","%matplotlib inline"]},{"cell_type":"markdown","metadata":{"id":"P97KGnFe-SKa"},"source":["## 设定路径，读取文件名"]},{"cell_type":"code","execution_count":2,"metadata":{"executionInfo":{"elapsed":848,"status":"ok","timestamp":1652363535870,"user":{"displayName":"Haohong Zhang","userId":"14617846136559299820"},"user_tz":-480},"id":"0Je1Ip4KCwPI"},"outputs":[],"source":["train_path = 'dataset/TrainingSet'\n","test_path = 'dataset/TestingSet'    \n","train_files = os.listdir(train_path)\n","test_file = os.listdir(test_path)"]},{"cell_type":"markdown","metadata":{"id":"ndICn3_YlCfy"},"source":["## WAM"]},{"cell_type":"markdown","metadata":{"id":"mlgl_acBAnyb"},"source":["### 处理训练数据"]},{"cell_type":"markdown","metadata":{"id":"HFycscWgAr77"},"source":["#### 碱基计数"]},{"cell_type":"code","execution_count":3,"metadata":{"colab":{"base_uri":"https://localhost:8080/"},"executionInfo":{"elapsed":1189549,"status":"ok","timestamp":1652369617388,"user":{"displayName":"Haohong Zhang","userId":"14617846136559299820"},"user_tz":-480},"id":"bL_Md6BNzvlh","outputId":"4b7258ce-19ee-446e-985e-f51b43ae6ef5"},"outputs":[{"name":"stderr","output_type":"stream","text":["  0%|          | 0/462 [00:00<?, ?it/s]"]},{"name":"stdout","output_type":"stream","text":["Loading data and counting base...\n"]},{"name":"stderr","output_type":"stream","text":["  5%|▍         | 22/462 [02:44<17:48,  2.43s/it]  "]}],"source":["site_base_count = pd.DataFrame(np.zeros((9, 4)),    # 记录位点周围碱基数\n","                               columns = ['a', 't', 'c', 'g'],\n","                               index = [i-3 for i in range(9)])\n","\n","site_forward_count = xr.DataArray(np.zeros((9, 4, 4)),    # 记录位点周围当前一个碱基确定时碱基数\n","                                  dims = ['position', 'forward', 'self'],\n","                                  coords = [[i-3 for i in range(9)],\n","                        ['a', 't', 'c', 'g'],\n","                        ['a', 't', 'c', 'g']])\n","\n","background_forward_count = pd.DataFrame(np.zeros((4, 4)),    # 记录背景当前一个碱基确定时碱基数\n","                                     columns = ['a', 't', 'c', 'g'],\n","                                     index = ['a', 't', 'c', 'g'])\n","site_seqs = []\n","whole_seq = ''\n","\n","print('Loading data and counting base...')\n","\n","for train_file in tqdm(train_files):\n","    with open(train_path + '/' + train_file, 'r') as f:\n","        text = f.readlines()\n","        site_positions = re.findall('(\\d+)(?=\\..)', text[1])    # 提取位置\n","        seq = ''.join(text[2:]).replace('\\n', '').lower()    # 仅保留小写序列\n","\n","        for position in site_positions:\n","            site_seqs.append(seq[int(position) - 4:int(position) + 5])    # 提取位点序列\n","\n","            for i in range(9):\n","                base = seq[int(position) - 1 + (i - 3)]    # 统计位点周围9个位置的碱基\n","                site_base_count.loc[i-3, base] += 1\n","\n","            for i in range(8):    # 统计位点周围9个位置的碱基，当前一个碱基确定时的数目\n","                base = seq[int(position) - 1 + (i - 2)]   \n","                forward_base = seq[int(position) - 1 + (i - 3)]\n","                site_forward_count.loc[i-2, forward_base, base] += 1\n","            \n","        for i in range(len(seq)-1):    # 统计背景碱基当前一个碱基确定时的数目 \n","            base = seq[i+1]\n","            forward_base = seq[i]\n","            try:    # 越过'n'\n","                background_forward_count.loc[forward_base, base] += 1\n","            except:\n","                continue\n","            \n","        whole_seq += seq\n"]},{"cell_type":"markdown","metadata":{"id":"Rh1yRhsZp4c0"},"source":["#### 构建前景概率矩阵"]},{"cell_type":"markdown","metadata":{"id":"b16okD6819jk"},"source":["构建不考虑前一个碱基的概率矩阵"]},{"cell_type":"code","execution_count":48,"metadata":{"colab":{"base_uri":"https://localhost:8080/","height":332},"executionInfo":{"elapsed":359,"status":"ok","timestamp":1652369823035,"user":{"displayName":"Haohong Zhang","userId":"14617846136559299820"},"user_tz":-480},"id":"tHg2nuRK18va","outputId":"bfc46781-dd99-4912-af74-78a7592f666e"},"outputs":[{"data":{"text/html":["\n","  <div id=\"df-ffea8820-05d2-4072-8a8c-a3235ef6c41f\">\n","    <div class=\"colab-df-container\">\n","      <div>\n","<style scoped>\n","    .dataframe tbody tr th:only-of-type {\n","        vertical-align: middle;\n","    }\n","\n","    .dataframe tbody tr th {\n","        vertical-align: top;\n","    }\n","\n","    .dataframe thead th {\n","        text-align: right;\n","    }\n","</style>\n","<table border=\"1\" class=\"dataframe\">\n","  <thead>\n","    <tr style=\"text-align: right;\">\n","      <th></th>\n","      <th>a</th>\n","      <th>t</th>\n","      <th>c</th>\n","      <th>g</th>\n","    </tr>\n","  </thead>\n","  <tbody>\n","    <tr>\n","      <th>-3</th>\n","      <td>0.120647</td>\n","      <td>0.188533</td>\n","      <td>0.630320</td>\n","      <td>0.060499</td>\n","    </tr>\n","    <tr>\n","      <th>-2</th>\n","      <td>0.881463</td>\n","      <td>0.019698</td>\n","      <td>0.073866</td>\n","      <td>0.024974</td>\n","    </tr>\n","    <tr>\n","      <th>-1</th>\n","      <td>0.027788</td>\n","      <td>0.010904</td>\n","      <td>0.081252</td>\n","      <td>0.880056</td>\n","    </tr>\n","    <tr>\n","      <th>0</th>\n","      <td>0.354203</td>\n","      <td>0.085121</td>\n","      <td>0.113261</td>\n","      <td>0.447415</td>\n","    </tr>\n","    <tr>\n","      <th>1</th>\n","      <td>0.187830</td>\n","      <td>0.433697</td>\n","      <td>0.167429</td>\n","      <td>0.211045</td>\n","    </tr>\n","    <tr>\n","      <th>2</th>\n","      <td>0.202251</td>\n","      <td>0.215969</td>\n","      <td>0.212452</td>\n","      <td>0.369328</td>\n","    </tr>\n","    <tr>\n","      <th>3</th>\n","      <td>0.231094</td>\n","      <td>0.217024</td>\n","      <td>0.273303</td>\n","      <td>0.278579</td>\n","    </tr>\n","    <tr>\n","      <th>4</th>\n","      <td>0.253605</td>\n","      <td>0.228983</td>\n","      <td>0.290538</td>\n","      <td>0.226873</td>\n","    </tr>\n","    <tr>\n","      <th>5</th>\n","      <td>0.205065</td>\n","      <td>0.219838</td>\n","      <td>0.289131</td>\n","      <td>0.285966</td>\n","    </tr>\n","  </tbody>\n","</table>\n","</div>\n","      <button class=\"colab-df-convert\" onclick=\"convertToInteractive('df-ffea8820-05d2-4072-8a8c-a3235ef6c41f')\"\n","              title=\"Convert this dataframe to an interactive table.\"\n","              style=\"display:none;\">\n","        \n","  <svg xmlns=\"http://www.w3.org/2000/svg\" height=\"24px\"viewBox=\"0 0 24 24\"\n","       width=\"24px\">\n","    <path d=\"M0 0h24v24H0V0z\" fill=\"none\"/>\n","    <path d=\"M18.56 5.44l.94 2.06.94-2.06 2.06-.94-2.06-.94-.94-2.06-.94 2.06-2.06.94zm-11 1L8.5 8.5l.94-2.06 2.06-.94-2.06-.94L8.5 2.5l-.94 2.06-2.06.94zm10 10l.94 2.06.94-2.06 2.06-.94-2.06-.94-.94-2.06-.94 2.06-2.06.94z\"/><path d=\"M17.41 7.96l-1.37-1.37c-.4-.4-.92-.59-1.43-.59-.52 0-1.04.2-1.43.59L10.3 9.45l-7.72 7.72c-.78.78-.78 2.05 0 2.83L4 21.41c.39.39.9.59 1.41.59.51 0 1.02-.2 1.41-.59l7.78-7.78 2.81-2.81c.8-.78.8-2.07 0-2.86zM5.41 20L4 18.59l7.72-7.72 1.47 1.35L5.41 20z\"/>\n","  </svg>\n","      </button>\n","      \n","  <style>\n","    .colab-df-container {\n","      display:flex;\n","      flex-wrap:wrap;\n","      gap: 12px;\n","    }\n","\n","    .colab-df-convert {\n","      background-color: #E8F0FE;\n","      border: none;\n","      border-radius: 50%;\n","      cursor: pointer;\n","      display: none;\n","      fill: #1967D2;\n","      height: 32px;\n","      padding: 0 0 0 0;\n","      width: 32px;\n","    }\n","\n","    .colab-df-convert:hover {\n","      background-color: #E2EBFA;\n","      box-shadow: 0px 1px 2px rgba(60, 64, 67, 0.3), 0px 1px 3px 1px rgba(60, 64, 67, 0.15);\n","      fill: #174EA6;\n","    }\n","\n","    [theme=dark] .colab-df-convert {\n","      background-color: #3B4455;\n","      fill: #D2E3FC;\n","    }\n","\n","    [theme=dark] .colab-df-convert:hover {\n","      background-color: #434B5C;\n","      box-shadow: 0px 1px 3px 1px rgba(0, 0, 0, 0.15);\n","      filter: drop-shadow(0px 1px 2px rgba(0, 0, 0, 0.3));\n","      fill: #FFFFFF;\n","    }\n","  </style>\n","\n","      <script>\n","        const buttonEl =\n","          document.querySelector('#df-ffea8820-05d2-4072-8a8c-a3235ef6c41f button.colab-df-convert');\n","        buttonEl.style.display =\n","          google.colab.kernel.accessAllowed ? 'block' : 'none';\n","\n","        async function convertToInteractive(key) {\n","          const element = document.querySelector('#df-ffea8820-05d2-4072-8a8c-a3235ef6c41f');\n","          const dataTable =\n","            await google.colab.kernel.invokeFunction('convertToInteractive',\n","                                                     [key], {});\n","          if (!dataTable) return;\n","\n","          const docLinkHtml = 'Like what you see? Visit the ' +\n","            '<a target=\"_blank\" href=https://colab.research.google.com/notebooks/data_table.ipynb>data table notebook</a>'\n","            + ' to learn more about interactive tables.';\n","          element.innerHTML = '';\n","          dataTable['output_type'] = 'display_data';\n","          await google.colab.output.renderOutput(dataTable, element);\n","          const docLink = document.createElement('div');\n","          docLink.innerHTML = docLinkHtml;\n","          element.appendChild(docLink);\n","        }\n","      </script>\n","    </div>\n","  </div>\n","  "],"text/plain":["           a         t         c         g\n","-3  0.120647  0.188533  0.630320  0.060499\n","-2  0.881463  0.019698  0.073866  0.024974\n","-1  0.027788  0.010904  0.081252  0.880056\n"," 0  0.354203  0.085121  0.113261  0.447415\n"," 1  0.187830  0.433697  0.167429  0.211045\n"," 2  0.202251  0.215969  0.212452  0.369328\n"," 3  0.231094  0.217024  0.273303  0.278579\n"," 4  0.253605  0.228983  0.290538  0.226873\n"," 5  0.205065  0.219838  0.289131  0.285966"]},"execution_count":48,"metadata":{},"output_type":"execute_result"}],"source":["matrix_pos = site_base_count/len(site_seqs)\n","matrix_pos"]},{"cell_type":"markdown","metadata":{"id":"A4JtneaL2DwS"},"source":["构建考虑前一个碱基的概率矩阵"]},{"cell_type":"code","execution_count":68,"metadata":{"colab":{"base_uri":"https://localhost:8080/","height":242},"executionInfo":{"elapsed":5,"status":"ok","timestamp":1652370303938,"user":{"displayName":"Haohong Zhang","userId":"14617846136559299820"},"user_tz":-480},"id":"uoqtv6vw8ad8","outputId":"f06ef814-cbbb-4709-9a83-dfe63d06cad9"},"outputs":[{"data":{"text/html":["<div><svg style=\"position: absolute; width: 0; height: 0; overflow: hidden\">\n","<defs>\n","<symbol id=\"icon-database\" viewBox=\"0 0 32 32\">\n","<path d=\"M16 0c-8.837 0-16 2.239-16 5v4c0 2.761 7.163 5 16 5s16-2.239 16-5v-4c0-2.761-7.163-5-16-5z\"></path>\n","<path d=\"M16 17c-8.837 0-16-2.239-16-5v6c0 2.761 7.163 5 16 5s16-2.239 16-5v-6c0 2.761-7.163 5-16 5z\"></path>\n","<path d=\"M16 26c-8.837 0-16-2.239-16-5v6c0 2.761 7.163 5 16 5s16-2.239 16-5v-6c0 2.761-7.163 5-16 5z\"></path>\n","</symbol>\n","<symbol id=\"icon-file-text2\" viewBox=\"0 0 32 32\">\n","<path d=\"M28.681 7.159c-0.694-0.947-1.662-2.053-2.724-3.116s-2.169-2.030-3.116-2.724c-1.612-1.182-2.393-1.319-2.841-1.319h-15.5c-1.378 0-2.5 1.121-2.5 2.5v27c0 1.378 1.122 2.5 2.5 2.5h23c1.378 0 2.5-1.122 2.5-2.5v-19.5c0-0.448-0.137-1.23-1.319-2.841zM24.543 5.457c0.959 0.959 1.712 1.825 2.268 2.543h-4.811v-4.811c0.718 0.556 1.584 1.309 2.543 2.268zM28 29.5c0 0.271-0.229 0.5-0.5 0.5h-23c-0.271 0-0.5-0.229-0.5-0.5v-27c0-0.271 0.229-0.5 0.5-0.5 0 0 15.499-0 15.5 0v7c0 0.552 0.448 1 1 1h7v19.5z\"></path>\n","<path d=\"M23 26h-14c-0.552 0-1-0.448-1-1s0.448-1 1-1h14c0.552 0 1 0.448 1 1s-0.448 1-1 1z\"></path>\n","<path d=\"M23 22h-14c-0.552 0-1-0.448-1-1s0.448-1 1-1h14c0.552 0 1 0.448 1 1s-0.448 1-1 1z\"></path>\n","<path d=\"M23 18h-14c-0.552 0-1-0.448-1-1s0.448-1 1-1h14c0.552 0 1 0.448 1 1s-0.448 1-1 1z\"></path>\n","</symbol>\n","</defs>\n","</svg>\n","<style>/* CSS stylesheet for displaying xarray objects in jupyterlab.\n"," *\n"," */\n","\n",":root {\n","  --xr-font-color0: var(--jp-content-font-color0, rgba(0, 0, 0, 1));\n","  --xr-font-color2: var(--jp-content-font-color2, rgba(0, 0, 0, 0.54));\n","  --xr-font-color3: var(--jp-content-font-color3, rgba(0, 0, 0, 0.38));\n","  --xr-border-color: var(--jp-border-color2, #e0e0e0);\n","  --xr-disabled-color: var(--jp-layout-color3, #bdbdbd);\n","  --xr-background-color: var(--jp-layout-color0, white);\n","  --xr-background-color-row-even: var(--jp-layout-color1, white);\n","  --xr-background-color-row-odd: var(--jp-layout-color2, #eeeeee);\n","}\n","\n","html[theme=dark],\n","body.vscode-dark {\n","  --xr-font-color0: rgba(255, 255, 255, 1);\n","  --xr-font-color2: rgba(255, 255, 255, 0.54);\n","  --xr-font-color3: rgba(255, 255, 255, 0.38);\n","  --xr-border-color: #1F1F1F;\n","  --xr-disabled-color: #515151;\n","  --xr-background-color: #111111;\n","  --xr-background-color-row-even: #111111;\n","  --xr-background-color-row-odd: #313131;\n","}\n","\n",".xr-wrap {\n","  display: block;\n","  min-width: 300px;\n","  max-width: 700px;\n","}\n","\n",".xr-text-repr-fallback {\n","  /* fallback to plain text repr when CSS is not injected (untrusted notebook) */\n","  display: none;\n","}\n","\n",".xr-header {\n","  padding-top: 6px;\n","  padding-bottom: 6px;\n","  margin-bottom: 4px;\n","  border-bottom: solid 1px var(--xr-border-color);\n","}\n","\n",".xr-header > div,\n",".xr-header > ul {\n","  display: inline;\n","  margin-top: 0;\n","  margin-bottom: 0;\n","}\n","\n",".xr-obj-type,\n",".xr-array-name {\n","  margin-left: 2px;\n","  margin-right: 10px;\n","}\n","\n",".xr-obj-type {\n","  color: var(--xr-font-color2);\n","}\n","\n",".xr-sections {\n","  padding-left: 0 !important;\n","  display: grid;\n","  grid-template-columns: 150px auto auto 1fr 20px 20px;\n","}\n","\n",".xr-section-item {\n","  display: contents;\n","}\n","\n",".xr-section-item input {\n","  display: none;\n","}\n","\n",".xr-section-item input + label {\n","  color: var(--xr-disabled-color);\n","}\n","\n",".xr-section-item input:enabled + label {\n","  cursor: pointer;\n","  color: var(--xr-font-color2);\n","}\n","\n",".xr-section-item input:enabled + label:hover {\n","  color: var(--xr-font-color0);\n","}\n","\n",".xr-section-summary {\n","  grid-column: 1;\n","  color: var(--xr-font-color2);\n","  font-weight: 500;\n","}\n","\n",".xr-section-summary > span {\n","  display: inline-block;\n","  padding-left: 0.5em;\n","}\n","\n",".xr-section-summary-in:disabled + label {\n","  color: var(--xr-font-color2);\n","}\n","\n",".xr-section-summary-in + label:before {\n","  display: inline-block;\n","  content: '►';\n","  font-size: 11px;\n","  width: 15px;\n","  text-align: center;\n","}\n","\n",".xr-section-summary-in:disabled + label:before {\n","  color: var(--xr-disabled-color);\n","}\n","\n",".xr-section-summary-in:checked + label:before {\n","  content: '▼';\n","}\n","\n",".xr-section-summary-in:checked + label > span {\n","  display: none;\n","}\n","\n",".xr-section-summary,\n",".xr-section-inline-details {\n","  padding-top: 4px;\n","  padding-bottom: 4px;\n","}\n","\n",".xr-section-inline-details {\n","  grid-column: 2 / -1;\n","}\n","\n",".xr-section-details {\n","  display: none;\n","  grid-column: 1 / -1;\n","  margin-bottom: 5px;\n","}\n","\n",".xr-section-summary-in:checked ~ .xr-section-details {\n","  display: contents;\n","}\n","\n",".xr-array-wrap {\n","  grid-column: 1 / -1;\n","  display: grid;\n","  grid-template-columns: 20px auto;\n","}\n","\n",".xr-array-wrap > label {\n","  grid-column: 1;\n","  vertical-align: top;\n","}\n","\n",".xr-preview {\n","  color: var(--xr-font-color3);\n","}\n","\n",".xr-array-preview,\n",".xr-array-data {\n","  padding: 0 5px !important;\n","  grid-column: 2;\n","}\n","\n",".xr-array-data,\n",".xr-array-in:checked ~ .xr-array-preview {\n","  display: none;\n","}\n","\n",".xr-array-in:checked ~ .xr-array-data,\n",".xr-array-preview {\n","  display: inline-block;\n","}\n","\n",".xr-dim-list {\n","  display: inline-block !important;\n","  list-style: none;\n","  padding: 0 !important;\n","  margin: 0;\n","}\n","\n",".xr-dim-list li {\n","  display: inline-block;\n","  padding: 0;\n","  margin: 0;\n","}\n","\n",".xr-dim-list:before {\n","  content: '(';\n","}\n","\n",".xr-dim-list:after {\n","  content: ')';\n","}\n","\n",".xr-dim-list li:not(:last-child):after {\n","  content: ',';\n","  padding-right: 5px;\n","}\n","\n",".xr-has-index {\n","  font-weight: bold;\n","}\n","\n",".xr-var-list,\n",".xr-var-item {\n","  display: contents;\n","}\n","\n",".xr-var-item > div,\n",".xr-var-item label,\n",".xr-var-item > .xr-var-name span {\n","  background-color: var(--xr-background-color-row-even);\n","  margin-bottom: 0;\n","}\n","\n",".xr-var-item > .xr-var-name:hover span {\n","  padding-right: 5px;\n","}\n","\n",".xr-var-list > li:nth-child(odd) > div,\n",".xr-var-list > li:nth-child(odd) > label,\n",".xr-var-list > li:nth-child(odd) > .xr-var-name span {\n","  background-color: var(--xr-background-color-row-odd);\n","}\n","\n",".xr-var-name {\n","  grid-column: 1;\n","}\n","\n",".xr-var-dims {\n","  grid-column: 2;\n","}\n","\n",".xr-var-dtype {\n","  grid-column: 3;\n","  text-align: right;\n","  color: var(--xr-font-color2);\n","}\n","\n",".xr-var-preview {\n","  grid-column: 4;\n","}\n","\n",".xr-var-name,\n",".xr-var-dims,\n",".xr-var-dtype,\n",".xr-preview,\n",".xr-attrs dt {\n","  white-space: nowrap;\n","  overflow: hidden;\n","  text-overflow: ellipsis;\n","  padding-right: 10px;\n","}\n","\n",".xr-var-name:hover,\n",".xr-var-dims:hover,\n",".xr-var-dtype:hover,\n",".xr-attrs dt:hover {\n","  overflow: visible;\n","  width: auto;\n","  z-index: 1;\n","}\n","\n",".xr-var-attrs,\n",".xr-var-data {\n","  display: none;\n","  background-color: var(--xr-background-color) !important;\n","  padding-bottom: 5px !important;\n","}\n","\n",".xr-var-attrs-in:checked ~ .xr-var-attrs,\n",".xr-var-data-in:checked ~ .xr-var-data {\n","  display: block;\n","}\n","\n",".xr-var-data > table {\n","  float: right;\n","}\n","\n",".xr-var-name span,\n",".xr-var-data,\n",".xr-attrs {\n","  padding-left: 25px !important;\n","}\n","\n",".xr-attrs,\n",".xr-var-attrs,\n",".xr-var-data {\n","  grid-column: 1 / -1;\n","}\n","\n","dl.xr-attrs {\n","  padding: 0;\n","  margin: 0;\n","  display: grid;\n","  grid-template-columns: 125px auto;\n","}\n","\n",".xr-attrs dt,\n",".xr-attrs dd {\n","  padding: 0;\n","  margin: 0;\n","  float: left;\n","  padding-right: 10px;\n","  width: auto;\n","}\n","\n",".xr-attrs dt {\n","  font-weight: normal;\n","  grid-column: 1;\n","}\n","\n",".xr-attrs dt:hover span {\n","  display: inline-block;\n","  background: var(--xr-background-color);\n","  padding-right: 10px;\n","}\n","\n",".xr-attrs dd {\n","  grid-column: 2;\n","  white-space: pre-wrap;\n","  word-break: break-all;\n","}\n","\n",".xr-icon-database,\n",".xr-icon-file-text2 {\n","  display: inline-block;\n","  vertical-align: middle;\n","  width: 1em;\n","  height: 1.5em !important;\n","  stroke-width: 0;\n","  stroke: currentColor;\n","  fill: currentColor;\n","}\n","</style><pre class='xr-text-repr-fallback'>&lt;xarray.DataArray (forward: 4, self: 4)&gt;\n","array([[1.730e+02, 3.100e+01, 8.800e+01, 5.100e+01],\n","       [5.250e+02, 3.000e+00, 7.000e+00, 1.000e+00],\n","       [1.771e+03, 5.000e+00, 1.400e+01, 2.000e+00],\n","       [3.700e+01, 1.700e+01, 1.010e+02, 1.700e+01]])\n","Coordinates:\n","    position  int64 -2\n","  * forward   (forward) &lt;U1 &#x27;a&#x27; &#x27;t&#x27; &#x27;c&#x27; &#x27;g&#x27;\n","  * self      (self) &lt;U1 &#x27;a&#x27; &#x27;t&#x27; &#x27;c&#x27; &#x27;g&#x27;</pre><div class='xr-wrap' hidden><div class='xr-header'><div class='xr-obj-type'>xarray.DataArray</div><div class='xr-array-name'></div><ul class='xr-dim-list'><li><span class='xr-has-index'>forward</span>: 4</li><li><span class='xr-has-index'>self</span>: 4</li></ul></div><ul class='xr-sections'><li class='xr-section-item'><div class='xr-array-wrap'><input id='section-e867a14a-f216-4019-b1d5-f74526da41b1' class='xr-array-in' type='checkbox' checked><label for='section-e867a14a-f216-4019-b1d5-f74526da41b1' title='Show/hide data repr'><svg class='icon xr-icon-database'><use xlink:href='#icon-database'></use></svg></label><div class='xr-array-preview xr-preview'><span>173.0 31.0 88.0 51.0 525.0 3.0 7.0 ... 14.0 2.0 37.0 17.0 101.0 17.0</span></div><div class='xr-array-data'><pre>array([[1.730e+02, 3.100e+01, 8.800e+01, 5.100e+01],\n","       [5.250e+02, 3.000e+00, 7.000e+00, 1.000e+00],\n","       [1.771e+03, 5.000e+00, 1.400e+01, 2.000e+00],\n","       [3.700e+01, 1.700e+01, 1.010e+02, 1.700e+01]])</pre></div></div></li><li class='xr-section-item'><input id='section-17cecc86-d447-4997-8ead-769b6779e702' class='xr-section-summary-in' type='checkbox'  checked><label for='section-17cecc86-d447-4997-8ead-769b6779e702' class='xr-section-summary' >Coordinates: <span>(3)</span></label><div class='xr-section-inline-details'></div><div class='xr-section-details'><ul class='xr-var-list'><li class='xr-var-item'><div class='xr-var-name'><span>position</span></div><div class='xr-var-dims'>()</div><div class='xr-var-dtype'>int64</div><div class='xr-var-preview xr-preview'>-2</div><input id='attrs-f83058ab-63b6-40b9-bf17-07a8a5ed4929' class='xr-var-attrs-in' type='checkbox' disabled><label for='attrs-f83058ab-63b6-40b9-bf17-07a8a5ed4929' title='Show/Hide attributes'><svg class='icon xr-icon-file-text2'><use xlink:href='#icon-file-text2'></use></svg></label><input id='data-519e42e8-c876-4611-bf3c-b5fe40beef22' class='xr-var-data-in' type='checkbox'><label for='data-519e42e8-c876-4611-bf3c-b5fe40beef22' title='Show/Hide data repr'><svg class='icon xr-icon-database'><use xlink:href='#icon-database'></use></svg></label><div class='xr-var-attrs'><dl class='xr-attrs'></dl></div><div class='xr-var-data'><pre>array(-2)</pre></div></li><li class='xr-var-item'><div class='xr-var-name'><span class='xr-has-index'>forward</span></div><div class='xr-var-dims'>(forward)</div><div class='xr-var-dtype'>&lt;U1</div><div class='xr-var-preview xr-preview'>&#x27;a&#x27; &#x27;t&#x27; &#x27;c&#x27; &#x27;g&#x27;</div><input id='attrs-9627b4ec-1ec3-49a9-b5dc-a32adfa94da1' class='xr-var-attrs-in' type='checkbox' disabled><label for='attrs-9627b4ec-1ec3-49a9-b5dc-a32adfa94da1' title='Show/Hide attributes'><svg class='icon xr-icon-file-text2'><use xlink:href='#icon-file-text2'></use></svg></label><input id='data-c1751199-e6b6-4ff8-89dd-842d5913cecd' class='xr-var-data-in' type='checkbox'><label for='data-c1751199-e6b6-4ff8-89dd-842d5913cecd' title='Show/Hide data repr'><svg class='icon xr-icon-database'><use xlink:href='#icon-database'></use></svg></label><div class='xr-var-attrs'><dl class='xr-attrs'></dl></div><div class='xr-var-data'><pre>array([&#x27;a&#x27;, &#x27;t&#x27;, &#x27;c&#x27;, &#x27;g&#x27;], dtype=&#x27;&lt;U1&#x27;)</pre></div></li><li class='xr-var-item'><div class='xr-var-name'><span class='xr-has-index'>self</span></div><div class='xr-var-dims'>(self)</div><div class='xr-var-dtype'>&lt;U1</div><div class='xr-var-preview xr-preview'>&#x27;a&#x27; &#x27;t&#x27; &#x27;c&#x27; &#x27;g&#x27;</div><input id='attrs-36fd3852-4169-4c9a-8bdf-aada2b819bf1' class='xr-var-attrs-in' type='checkbox' disabled><label for='attrs-36fd3852-4169-4c9a-8bdf-aada2b819bf1' title='Show/Hide attributes'><svg class='icon xr-icon-file-text2'><use xlink:href='#icon-file-text2'></use></svg></label><input id='data-dc787843-41cf-4493-bcbb-eb7bb2458341' class='xr-var-data-in' type='checkbox'><label for='data-dc787843-41cf-4493-bcbb-eb7bb2458341' title='Show/Hide data repr'><svg class='icon xr-icon-database'><use xlink:href='#icon-database'></use></svg></label><div class='xr-var-attrs'><dl class='xr-attrs'></dl></div><div class='xr-var-data'><pre>array([&#x27;a&#x27;, &#x27;t&#x27;, &#x27;c&#x27;, &#x27;g&#x27;], dtype=&#x27;&lt;U1&#x27;)</pre></div></li></ul></div></li><li class='xr-section-item'><input id='section-c7f51d16-efb3-4ba9-85ad-265130f14740' class='xr-section-summary-in' type='checkbox' disabled ><label for='section-c7f51d16-efb3-4ba9-85ad-265130f14740' class='xr-section-summary'  title='Expand/collapse section'>Attributes: <span>(0)</span></label><div class='xr-section-inline-details'></div><div class='xr-section-details'><dl class='xr-attrs'></dl></div></li></ul></div></div>"],"text/plain":["<xarray.DataArray (forward: 4, self: 4)>\n","array([[1.730e+02, 3.100e+01, 8.800e+01, 5.100e+01],\n","       [5.250e+02, 3.000e+00, 7.000e+00, 1.000e+00],\n","       [1.771e+03, 5.000e+00, 1.400e+01, 2.000e+00],\n","       [3.700e+01, 1.700e+01, 1.010e+02, 1.700e+01]])\n","Coordinates:\n","    position  int64 -2\n","  * forward   (forward) <U1 'a' 't' 'c' 'g'\n","  * self      (self) <U1 'a' 't' 'c' 'g'"]},"execution_count":68,"metadata":{},"output_type":"execute_result"}],"source":["site_forward_count.loc[-2]"]},{"cell_type":"code","execution_count":66,"metadata":{"colab":{"base_uri":"https://localhost:8080/","height":332},"executionInfo":{"elapsed":4,"status":"ok","timestamp":1652370204964,"user":{"displayName":"Haohong Zhang","userId":"14617846136559299820"},"user_tz":-480},"id":"DkbuGV1lp8ME","outputId":"68f4cf1c-4bdb-4302-9214-30df0204605f"},"outputs":[{"data":{"text/html":["\n","  <div id=\"df-52f09be4-3ce5-4b72-b656-b9abfaf51e36\">\n","    <div class=\"colab-df-container\">\n","      <div>\n","<style scoped>\n","    .dataframe tbody tr th:only-of-type {\n","        vertical-align: middle;\n","    }\n","\n","    .dataframe tbody tr th {\n","        vertical-align: top;\n","    }\n","\n","    .dataframe thead th {\n","        text-align: right;\n","    }\n","</style>\n","<table border=\"1\" class=\"dataframe\">\n","  <thead>\n","    <tr style=\"text-align: right;\">\n","      <th></th>\n","      <th>a</th>\n","      <th>t</th>\n","      <th>c</th>\n","      <th>g</th>\n","    </tr>\n","  </thead>\n","  <tbody>\n","    <tr>\n","      <th>-3</th>\n","      <td>343.0</td>\n","      <td>536.0</td>\n","      <td>1792.0</td>\n","      <td>172.0</td>\n","    </tr>\n","    <tr>\n","      <th>-2</th>\n","      <td>2506.0</td>\n","      <td>56.0</td>\n","      <td>210.0</td>\n","      <td>71.0</td>\n","    </tr>\n","    <tr>\n","      <th>-1</th>\n","      <td>79.0</td>\n","      <td>31.0</td>\n","      <td>231.0</td>\n","      <td>2502.0</td>\n","    </tr>\n","    <tr>\n","      <th>0</th>\n","      <td>1007.0</td>\n","      <td>242.0</td>\n","      <td>322.0</td>\n","      <td>1272.0</td>\n","    </tr>\n","    <tr>\n","      <th>1</th>\n","      <td>534.0</td>\n","      <td>1233.0</td>\n","      <td>476.0</td>\n","      <td>600.0</td>\n","    </tr>\n","    <tr>\n","      <th>2</th>\n","      <td>575.0</td>\n","      <td>614.0</td>\n","      <td>604.0</td>\n","      <td>1050.0</td>\n","    </tr>\n","    <tr>\n","      <th>3</th>\n","      <td>657.0</td>\n","      <td>617.0</td>\n","      <td>777.0</td>\n","      <td>792.0</td>\n","    </tr>\n","    <tr>\n","      <th>4</th>\n","      <td>721.0</td>\n","      <td>651.0</td>\n","      <td>826.0</td>\n","      <td>645.0</td>\n","    </tr>\n","    <tr>\n","      <th>5</th>\n","      <td>583.0</td>\n","      <td>625.0</td>\n","      <td>822.0</td>\n","      <td>813.0</td>\n","    </tr>\n","  </tbody>\n","</table>\n","</div>\n","      <button class=\"colab-df-convert\" onclick=\"convertToInteractive('df-52f09be4-3ce5-4b72-b656-b9abfaf51e36')\"\n","              title=\"Convert this dataframe to an interactive table.\"\n","              style=\"display:none;\">\n","        \n","  <svg xmlns=\"http://www.w3.org/2000/svg\" height=\"24px\"viewBox=\"0 0 24 24\"\n","       width=\"24px\">\n","    <path d=\"M0 0h24v24H0V0z\" fill=\"none\"/>\n","    <path d=\"M18.56 5.44l.94 2.06.94-2.06 2.06-.94-2.06-.94-.94-2.06-.94 2.06-2.06.94zm-11 1L8.5 8.5l.94-2.06 2.06-.94-2.06-.94L8.5 2.5l-.94 2.06-2.06.94zm10 10l.94 2.06.94-2.06 2.06-.94-2.06-.94-.94-2.06-.94 2.06-2.06.94z\"/><path d=\"M17.41 7.96l-1.37-1.37c-.4-.4-.92-.59-1.43-.59-.52 0-1.04.2-1.43.59L10.3 9.45l-7.72 7.72c-.78.78-.78 2.05 0 2.83L4 21.41c.39.39.9.59 1.41.59.51 0 1.02-.2 1.41-.59l7.78-7.78 2.81-2.81c.8-.78.8-2.07 0-2.86zM5.41 20L4 18.59l7.72-7.72 1.47 1.35L5.41 20z\"/>\n","  </svg>\n","      </button>\n","      \n","  <style>\n","    .colab-df-container {\n","      display:flex;\n","      flex-wrap:wrap;\n","      gap: 12px;\n","    }\n","\n","    .colab-df-convert {\n","      background-color: #E8F0FE;\n","      border: none;\n","      border-radius: 50%;\n","      cursor: pointer;\n","      display: none;\n","      fill: #1967D2;\n","      height: 32px;\n","      padding: 0 0 0 0;\n","      width: 32px;\n","    }\n","\n","    .colab-df-convert:hover {\n","      background-color: #E2EBFA;\n","      box-shadow: 0px 1px 2px rgba(60, 64, 67, 0.3), 0px 1px 3px 1px rgba(60, 64, 67, 0.15);\n","      fill: #174EA6;\n","    }\n","\n","    [theme=dark] .colab-df-convert {\n","      background-color: #3B4455;\n","      fill: #D2E3FC;\n","    }\n","\n","    [theme=dark] .colab-df-convert:hover {\n","      background-color: #434B5C;\n","      box-shadow: 0px 1px 3px 1px rgba(0, 0, 0, 0.15);\n","      filter: drop-shadow(0px 1px 2px rgba(0, 0, 0, 0.3));\n","      fill: #FFFFFF;\n","    }\n","  </style>\n","\n","      <script>\n","        const buttonEl =\n","          document.querySelector('#df-52f09be4-3ce5-4b72-b656-b9abfaf51e36 button.colab-df-convert');\n","        buttonEl.style.display =\n","          google.colab.kernel.accessAllowed ? 'block' : 'none';\n","\n","        async function convertToInteractive(key) {\n","          const element = document.querySelector('#df-52f09be4-3ce5-4b72-b656-b9abfaf51e36');\n","          const dataTable =\n","            await google.colab.kernel.invokeFunction('convertToInteractive',\n","                                                     [key], {});\n","          if (!dataTable) return;\n","\n","          const docLinkHtml = 'Like what you see? Visit the ' +\n","            '<a target=\"_blank\" href=https://colab.research.google.com/notebooks/data_table.ipynb>data table notebook</a>'\n","            + ' to learn more about interactive tables.';\n","          element.innerHTML = '';\n","          dataTable['output_type'] = 'display_data';\n","          await google.colab.output.renderOutput(dataTable, element);\n","          const docLink = document.createElement('div');\n","          docLink.innerHTML = docLinkHtml;\n","          element.appendChild(docLink);\n","        }\n","      </script>\n","    </div>\n","  </div>\n","  "],"text/plain":["         a       t       c       g\n","-3   343.0   536.0  1792.0   172.0\n","-2  2506.0    56.0   210.0    71.0\n","-1    79.0    31.0   231.0  2502.0\n"," 0  1007.0   242.0   322.0  1272.0\n"," 1   534.0  1233.0   476.0   600.0\n"," 2   575.0   614.0   604.0  1050.0\n"," 3   657.0   617.0   777.0   792.0\n"," 4   721.0   651.0   826.0   645.0\n"," 5   583.0   625.0   822.0   813.0"]},"execution_count":66,"metadata":{},"output_type":"execute_result"}],"source":["matrix_forward_pos = site_forward_count.copy()\n","\n","for base in ['a', 't', 'c', 'g']:\n","    matrix_forward_pos.loc[:, base] = matrix_forward_pos.loc[:, base]/matrix_forward_pos.loc[:, base].sum(axis = 1)\n","\n","matrix_forward_pos"]},{"cell_type":"markdown","metadata":{"id":"mQn_ToVTmo6p"},"source":["#### 构建背景概率矩阵"]},{"cell_type":"markdown","metadata":{"id":"m2-38FyX2M-p"},"source":["构建不考虑前一个碱基的概率矩阵"]},{"cell_type":"code","execution_count":51,"metadata":{"colab":{"base_uri":"https://localhost:8080/","height":332},"executionInfo":{"elapsed":328,"status":"ok","timestamp":1652369845948,"user":{"displayName":"Haohong Zhang","userId":"14617846136559299820"},"user_tz":-480},"id":"HW-YOQQH2L6-","outputId":"f83b97d2-d40b-4e01-c7dc-c6fadf200ebe"},"outputs":[{"data":{"text/html":["\n","  <div id=\"df-b8aed5ec-99e9-46a7-843f-0967a03a275c\">\n","    <div class=\"colab-df-container\">\n","      <div>\n","<style scoped>\n","    .dataframe tbody tr th:only-of-type {\n","        vertical-align: middle;\n","    }\n","\n","    .dataframe tbody tr th {\n","        vertical-align: top;\n","    }\n","\n","    .dataframe thead th {\n","        text-align: right;\n","    }\n","</style>\n","<table border=\"1\" class=\"dataframe\">\n","  <thead>\n","    <tr style=\"text-align: right;\">\n","      <th></th>\n","      <th>a</th>\n","      <th>t</th>\n","      <th>c</th>\n","      <th>g</th>\n","    </tr>\n","  </thead>\n","  <tbody>\n","    <tr>\n","      <th>-3</th>\n","      <td>0.260085</td>\n","      <td>0.271169</td>\n","      <td>0.23217</td>\n","      <td>0.236428</td>\n","    </tr>\n","    <tr>\n","      <th>-2</th>\n","      <td>0.260085</td>\n","      <td>0.271169</td>\n","      <td>0.23217</td>\n","      <td>0.236428</td>\n","    </tr>\n","    <tr>\n","      <th>-1</th>\n","      <td>0.260085</td>\n","      <td>0.271169</td>\n","      <td>0.23217</td>\n","      <td>0.236428</td>\n","    </tr>\n","    <tr>\n","      <th>0</th>\n","      <td>0.260085</td>\n","      <td>0.271169</td>\n","      <td>0.23217</td>\n","      <td>0.236428</td>\n","    </tr>\n","    <tr>\n","      <th>1</th>\n","      <td>0.260085</td>\n","      <td>0.271169</td>\n","      <td>0.23217</td>\n","      <td>0.236428</td>\n","    </tr>\n","    <tr>\n","      <th>2</th>\n","      <td>0.260085</td>\n","      <td>0.271169</td>\n","      <td>0.23217</td>\n","      <td>0.236428</td>\n","    </tr>\n","    <tr>\n","      <th>3</th>\n","      <td>0.260085</td>\n","      <td>0.271169</td>\n","      <td>0.23217</td>\n","      <td>0.236428</td>\n","    </tr>\n","    <tr>\n","      <th>4</th>\n","      <td>0.260085</td>\n","      <td>0.271169</td>\n","      <td>0.23217</td>\n","      <td>0.236428</td>\n","    </tr>\n","    <tr>\n","      <th>5</th>\n","      <td>0.260085</td>\n","      <td>0.271169</td>\n","      <td>0.23217</td>\n","      <td>0.236428</td>\n","    </tr>\n","  </tbody>\n","</table>\n","</div>\n","      <button class=\"colab-df-convert\" onclick=\"convertToInteractive('df-b8aed5ec-99e9-46a7-843f-0967a03a275c')\"\n","              title=\"Convert this dataframe to an interactive table.\"\n","              style=\"display:none;\">\n","        \n","  <svg xmlns=\"http://www.w3.org/2000/svg\" height=\"24px\"viewBox=\"0 0 24 24\"\n","       width=\"24px\">\n","    <path d=\"M0 0h24v24H0V0z\" fill=\"none\"/>\n","    <path d=\"M18.56 5.44l.94 2.06.94-2.06 2.06-.94-2.06-.94-.94-2.06-.94 2.06-2.06.94zm-11 1L8.5 8.5l.94-2.06 2.06-.94-2.06-.94L8.5 2.5l-.94 2.06-2.06.94zm10 10l.94 2.06.94-2.06 2.06-.94-2.06-.94-.94-2.06-.94 2.06-2.06.94z\"/><path d=\"M17.41 7.96l-1.37-1.37c-.4-.4-.92-.59-1.43-.59-.52 0-1.04.2-1.43.59L10.3 9.45l-7.72 7.72c-.78.78-.78 2.05 0 2.83L4 21.41c.39.39.9.59 1.41.59.51 0 1.02-.2 1.41-.59l7.78-7.78 2.81-2.81c.8-.78.8-2.07 0-2.86zM5.41 20L4 18.59l7.72-7.72 1.47 1.35L5.41 20z\"/>\n","  </svg>\n","      </button>\n","      \n","  <style>\n","    .colab-df-container {\n","      display:flex;\n","      flex-wrap:wrap;\n","      gap: 12px;\n","    }\n","\n","    .colab-df-convert {\n","      background-color: #E8F0FE;\n","      border: none;\n","      border-radius: 50%;\n","      cursor: pointer;\n","      display: none;\n","      fill: #1967D2;\n","      height: 32px;\n","      padding: 0 0 0 0;\n","      width: 32px;\n","    }\n","\n","    .colab-df-convert:hover {\n","      background-color: #E2EBFA;\n","      box-shadow: 0px 1px 2px rgba(60, 64, 67, 0.3), 0px 1px 3px 1px rgba(60, 64, 67, 0.15);\n","      fill: #174EA6;\n","    }\n","\n","    [theme=dark] .colab-df-convert {\n","      background-color: #3B4455;\n","      fill: #D2E3FC;\n","    }\n","\n","    [theme=dark] .colab-df-convert:hover {\n","      background-color: #434B5C;\n","      box-shadow: 0px 1px 3px 1px rgba(0, 0, 0, 0.15);\n","      filter: drop-shadow(0px 1px 2px rgba(0, 0, 0, 0.3));\n","      fill: #FFFFFF;\n","    }\n","  </style>\n","\n","      <script>\n","        const buttonEl =\n","          document.querySelector('#df-b8aed5ec-99e9-46a7-843f-0967a03a275c button.colab-df-convert');\n","        buttonEl.style.display =\n","          google.colab.kernel.accessAllowed ? 'block' : 'none';\n","\n","        async function convertToInteractive(key) {\n","          const element = document.querySelector('#df-b8aed5ec-99e9-46a7-843f-0967a03a275c');\n","          const dataTable =\n","            await google.colab.kernel.invokeFunction('convertToInteractive',\n","                                                     [key], {});\n","          if (!dataTable) return;\n","\n","          const docLinkHtml = 'Like what you see? Visit the ' +\n","            '<a target=\"_blank\" href=https://colab.research.google.com/notebooks/data_table.ipynb>data table notebook</a>'\n","            + ' to learn more about interactive tables.';\n","          element.innerHTML = '';\n","          dataTable['output_type'] = 'display_data';\n","          await google.colab.output.renderOutput(dataTable, element);\n","          const docLink = document.createElement('div');\n","          docLink.innerHTML = docLinkHtml;\n","          element.appendChild(docLink);\n","        }\n","      </script>\n","    </div>\n","  </div>\n","  "],"text/plain":["           a         t        c         g\n","-3  0.260085  0.271169  0.23217  0.236428\n","-2  0.260085  0.271169  0.23217  0.236428\n","-1  0.260085  0.271169  0.23217  0.236428\n"," 0  0.260085  0.271169  0.23217  0.236428\n"," 1  0.260085  0.271169  0.23217  0.236428\n"," 2  0.260085  0.271169  0.23217  0.236428\n"," 3  0.260085  0.271169  0.23217  0.236428\n"," 4  0.260085  0.271169  0.23217  0.236428\n"," 5  0.260085  0.271169  0.23217  0.236428"]},"execution_count":51,"metadata":{},"output_type":"execute_result"}],"source":["whole_seq.replace('n', '')\n","p_neg = [whole_seq.count(base)/len(whole_seq) for base in ['a', 't', 'c', 'g']]  \n","matrix_neg = pd.DataFrame(np.tile(p_neg, (9, 1)),\n","                          columns = ['a', 't', 'c', 'g'],\n","                          index = [i-3 for i in range(9)])\n","matrix_neg"]},{"cell_type":"markdown","metadata":{"id":"GWS9WnmF2Rfo"},"source":["构建考虑前一个碱基的概率矩阵"]},{"cell_type":"code","execution_count":52,"metadata":{"colab":{"base_uri":"https://localhost:8080/","height":175},"executionInfo":{"elapsed":322,"status":"ok","timestamp":1652369849021,"user":{"displayName":"Haohong Zhang","userId":"14617846136559299820"},"user_tz":-480},"id":"P3sZEVjf-EzB","outputId":"6de1b677-0576-483c-af5c-e757600fb938"},"outputs":[{"data":{"text/html":["\n","  <div id=\"df-ce6e1bbb-35df-4496-a427-8a5fc3987e36\">\n","    <div class=\"colab-df-container\">\n","      <div>\n","<style scoped>\n","    .dataframe tbody tr th:only-of-type {\n","        vertical-align: middle;\n","    }\n","\n","    .dataframe tbody tr th {\n","        vertical-align: top;\n","    }\n","\n","    .dataframe thead th {\n","        text-align: right;\n","    }\n","</style>\n","<table border=\"1\" class=\"dataframe\">\n","  <thead>\n","    <tr style=\"text-align: right;\">\n","      <th></th>\n","      <th>a</th>\n","      <th>t</th>\n","      <th>c</th>\n","      <th>g</th>\n","    </tr>\n","  </thead>\n","  <tbody>\n","    <tr>\n","      <th>a</th>\n","      <td>0.296923</td>\n","      <td>0.234069</td>\n","      <td>0.187147</td>\n","      <td>0.281861</td>\n","    </tr>\n","    <tr>\n","      <th>t</th>\n","      <td>0.186917</td>\n","      <td>0.308036</td>\n","      <td>0.223690</td>\n","      <td>0.281356</td>\n","    </tr>\n","    <tr>\n","      <th>c</th>\n","      <td>0.307009</td>\n","      <td>0.322820</td>\n","      <td>0.294622</td>\n","      <td>0.075548</td>\n","    </tr>\n","    <tr>\n","      <th>g</th>\n","      <td>0.257592</td>\n","      <td>0.219191</td>\n","      <td>0.230213</td>\n","      <td>0.293004</td>\n","    </tr>\n","  </tbody>\n","</table>\n","</div>\n","      <button class=\"colab-df-convert\" onclick=\"convertToInteractive('df-ce6e1bbb-35df-4496-a427-8a5fc3987e36')\"\n","              title=\"Convert this dataframe to an interactive table.\"\n","              style=\"display:none;\">\n","        \n","  <svg xmlns=\"http://www.w3.org/2000/svg\" height=\"24px\"viewBox=\"0 0 24 24\"\n","       width=\"24px\">\n","    <path d=\"M0 0h24v24H0V0z\" fill=\"none\"/>\n","    <path d=\"M18.56 5.44l.94 2.06.94-2.06 2.06-.94-2.06-.94-.94-2.06-.94 2.06-2.06.94zm-11 1L8.5 8.5l.94-2.06 2.06-.94-2.06-.94L8.5 2.5l-.94 2.06-2.06.94zm10 10l.94 2.06.94-2.06 2.06-.94-2.06-.94-.94-2.06-.94 2.06-2.06.94z\"/><path d=\"M17.41 7.96l-1.37-1.37c-.4-.4-.92-.59-1.43-.59-.52 0-1.04.2-1.43.59L10.3 9.45l-7.72 7.72c-.78.78-.78 2.05 0 2.83L4 21.41c.39.39.9.59 1.41.59.51 0 1.02-.2 1.41-.59l7.78-7.78 2.81-2.81c.8-.78.8-2.07 0-2.86zM5.41 20L4 18.59l7.72-7.72 1.47 1.35L5.41 20z\"/>\n","  </svg>\n","      </button>\n","      \n","  <style>\n","    .colab-df-container {\n","      display:flex;\n","      flex-wrap:wrap;\n","      gap: 12px;\n","    }\n","\n","    .colab-df-convert {\n","      background-color: #E8F0FE;\n","      border: none;\n","      border-radius: 50%;\n","      cursor: pointer;\n","      display: none;\n","      fill: #1967D2;\n","      height: 32px;\n","      padding: 0 0 0 0;\n","      width: 32px;\n","    }\n","\n","    .colab-df-convert:hover {\n","      background-color: #E2EBFA;\n","      box-shadow: 0px 1px 2px rgba(60, 64, 67, 0.3), 0px 1px 3px 1px rgba(60, 64, 67, 0.15);\n","      fill: #174EA6;\n","    }\n","\n","    [theme=dark] .colab-df-convert {\n","      background-color: #3B4455;\n","      fill: #D2E3FC;\n","    }\n","\n","    [theme=dark] .colab-df-convert:hover {\n","      background-color: #434B5C;\n","      box-shadow: 0px 1px 3px 1px rgba(0, 0, 0, 0.15);\n","      filter: drop-shadow(0px 1px 2px rgba(0, 0, 0, 0.3));\n","      fill: #FFFFFF;\n","    }\n","  </style>\n","\n","      <script>\n","        const buttonEl =\n","          document.querySelector('#df-ce6e1bbb-35df-4496-a427-8a5fc3987e36 button.colab-df-convert');\n","        buttonEl.style.display =\n","          google.colab.kernel.accessAllowed ? 'block' : 'none';\n","\n","        async function convertToInteractive(key) {\n","          const element = document.querySelector('#df-ce6e1bbb-35df-4496-a427-8a5fc3987e36');\n","          const dataTable =\n","            await google.colab.kernel.invokeFunction('convertToInteractive',\n","                                                     [key], {});\n","          if (!dataTable) return;\n","\n","          const docLinkHtml = 'Like what you see? Visit the ' +\n","            '<a target=\"_blank\" href=https://colab.research.google.com/notebooks/data_table.ipynb>data table notebook</a>'\n","            + ' to learn more about interactive tables.';\n","          element.innerHTML = '';\n","          dataTable['output_type'] = 'display_data';\n","          await google.colab.output.renderOutput(dataTable, element);\n","          const docLink = document.createElement('div');\n","          docLink.innerHTML = docLinkHtml;\n","          element.appendChild(docLink);\n","        }\n","      </script>\n","    </div>\n","  </div>\n","  "],"text/plain":["          a         t         c         g\n","a  0.296923  0.234069  0.187147  0.281861\n","t  0.186917  0.308036  0.223690  0.281356\n","c  0.307009  0.322820  0.294622  0.075548\n","g  0.257592  0.219191  0.230213  0.293004"]},"execution_count":52,"metadata":{},"output_type":"execute_result"}],"source":["matrix_forward_neg = background_forward_count.apply(lambda x: x/x.sum(), axis = 1)\n","matrix_forward_neg"]},{"cell_type":"markdown","metadata":{"id":"wx2vOgzeDl81"},"source":["### 定义$S(X)$"]},{"cell_type":"code","execution_count":59,"metadata":{"colab":{"base_uri":"https://localhost:8080/","height":246},"executionInfo":{"elapsed":5,"status":"ok","timestamp":1652370001878,"user":{"displayName":"Haohong Zhang","userId":"14617846136559299820"},"user_tz":-480},"id":"9vPg8jeZLJGt","outputId":"a6b1f603-ee0e-40b8-8f02-3bff127b651b"},"outputs":[{"name":"stdout","output_type":"stream","text":["taggtgata\n"]},{"name":"stderr","output_type":"stream","text":["/usr/local/lib/python3.7/dist-packages/xarray/core/computation.py:739: RuntimeWarning: divide by zero encountered in log\n","  result_data = func(*input_data)\n"]},{"data":{"text/html":["<div><svg style=\"position: absolute; width: 0; height: 0; overflow: hidden\">\n","<defs>\n","<symbol id=\"icon-database\" viewBox=\"0 0 32 32\">\n","<path d=\"M16 0c-8.837 0-16 2.239-16 5v4c0 2.761 7.163 5 16 5s16-2.239 16-5v-4c0-2.761-7.163-5-16-5z\"></path>\n","<path d=\"M16 17c-8.837 0-16-2.239-16-5v6c0 2.761 7.163 5 16 5s16-2.239 16-5v-6c0 2.761-7.163 5-16 5z\"></path>\n","<path d=\"M16 26c-8.837 0-16-2.239-16-5v6c0 2.761 7.163 5 16 5s16-2.239 16-5v-6c0 2.761-7.163 5-16 5z\"></path>\n","</symbol>\n","<symbol id=\"icon-file-text2\" viewBox=\"0 0 32 32\">\n","<path d=\"M28.681 7.159c-0.694-0.947-1.662-2.053-2.724-3.116s-2.169-2.030-3.116-2.724c-1.612-1.182-2.393-1.319-2.841-1.319h-15.5c-1.378 0-2.5 1.121-2.5 2.5v27c0 1.378 1.122 2.5 2.5 2.5h23c1.378 0 2.5-1.122 2.5-2.5v-19.5c0-0.448-0.137-1.23-1.319-2.841zM24.543 5.457c0.959 0.959 1.712 1.825 2.268 2.543h-4.811v-4.811c0.718 0.556 1.584 1.309 2.543 2.268zM28 29.5c0 0.271-0.229 0.5-0.5 0.5h-23c-0.271 0-0.5-0.229-0.5-0.5v-27c0-0.271 0.229-0.5 0.5-0.5 0 0 15.499-0 15.5 0v7c0 0.552 0.448 1 1 1h7v19.5z\"></path>\n","<path d=\"M23 26h-14c-0.552 0-1-0.448-1-1s0.448-1 1-1h14c0.552 0 1 0.448 1 1s-0.448 1-1 1z\"></path>\n","<path d=\"M23 22h-14c-0.552 0-1-0.448-1-1s0.448-1 1-1h14c0.552 0 1 0.448 1 1s-0.448 1-1 1z\"></path>\n","<path d=\"M23 18h-14c-0.552 0-1-0.448-1-1s0.448-1 1-1h14c0.552 0 1 0.448 1 1s-0.448 1-1 1z\"></path>\n","</symbol>\n","</defs>\n","</svg>\n","<style>/* CSS stylesheet for displaying xarray objects in jupyterlab.\n"," *\n"," */\n","\n",":root {\n","  --xr-font-color0: var(--jp-content-font-color0, rgba(0, 0, 0, 1));\n","  --xr-font-color2: var(--jp-content-font-color2, rgba(0, 0, 0, 0.54));\n","  --xr-font-color3: var(--jp-content-font-color3, rgba(0, 0, 0, 0.38));\n","  --xr-border-color: var(--jp-border-color2, #e0e0e0);\n","  --xr-disabled-color: var(--jp-layout-color3, #bdbdbd);\n","  --xr-background-color: var(--jp-layout-color0, white);\n","  --xr-background-color-row-even: var(--jp-layout-color1, white);\n","  --xr-background-color-row-odd: var(--jp-layout-color2, #eeeeee);\n","}\n","\n","html[theme=dark],\n","body.vscode-dark {\n","  --xr-font-color0: rgba(255, 255, 255, 1);\n","  --xr-font-color2: rgba(255, 255, 255, 0.54);\n","  --xr-font-color3: rgba(255, 255, 255, 0.38);\n","  --xr-border-color: #1F1F1F;\n","  --xr-disabled-color: #515151;\n","  --xr-background-color: #111111;\n","  --xr-background-color-row-even: #111111;\n","  --xr-background-color-row-odd: #313131;\n","}\n","\n",".xr-wrap {\n","  display: block;\n","  min-width: 300px;\n","  max-width: 700px;\n","}\n","\n",".xr-text-repr-fallback {\n","  /* fallback to plain text repr when CSS is not injected (untrusted notebook) */\n","  display: none;\n","}\n","\n",".xr-header {\n","  padding-top: 6px;\n","  padding-bottom: 6px;\n","  margin-bottom: 4px;\n","  border-bottom: solid 1px var(--xr-border-color);\n","}\n","\n",".xr-header > div,\n",".xr-header > ul {\n","  display: inline;\n","  margin-top: 0;\n","  margin-bottom: 0;\n","}\n","\n",".xr-obj-type,\n",".xr-array-name {\n","  margin-left: 2px;\n","  margin-right: 10px;\n","}\n","\n",".xr-obj-type {\n","  color: var(--xr-font-color2);\n","}\n","\n",".xr-sections {\n","  padding-left: 0 !important;\n","  display: grid;\n","  grid-template-columns: 150px auto auto 1fr 20px 20px;\n","}\n","\n",".xr-section-item {\n","  display: contents;\n","}\n","\n",".xr-section-item input {\n","  display: none;\n","}\n","\n",".xr-section-item input + label {\n","  color: var(--xr-disabled-color);\n","}\n","\n",".xr-section-item input:enabled + label {\n","  cursor: pointer;\n","  color: var(--xr-font-color2);\n","}\n","\n",".xr-section-item input:enabled + label:hover {\n","  color: var(--xr-font-color0);\n","}\n","\n",".xr-section-summary {\n","  grid-column: 1;\n","  color: var(--xr-font-color2);\n","  font-weight: 500;\n","}\n","\n",".xr-section-summary > span {\n","  display: inline-block;\n","  padding-left: 0.5em;\n","}\n","\n",".xr-section-summary-in:disabled + label {\n","  color: var(--xr-font-color2);\n","}\n","\n",".xr-section-summary-in + label:before {\n","  display: inline-block;\n","  content: '►';\n","  font-size: 11px;\n","  width: 15px;\n","  text-align: center;\n","}\n","\n",".xr-section-summary-in:disabled + label:before {\n","  color: var(--xr-disabled-color);\n","}\n","\n",".xr-section-summary-in:checked + label:before {\n","  content: '▼';\n","}\n","\n",".xr-section-summary-in:checked + label > span {\n","  display: none;\n","}\n","\n",".xr-section-summary,\n",".xr-section-inline-details {\n","  padding-top: 4px;\n","  padding-bottom: 4px;\n","}\n","\n",".xr-section-inline-details {\n","  grid-column: 2 / -1;\n","}\n","\n",".xr-section-details {\n","  display: none;\n","  grid-column: 1 / -1;\n","  margin-bottom: 5px;\n","}\n","\n",".xr-section-summary-in:checked ~ .xr-section-details {\n","  display: contents;\n","}\n","\n",".xr-array-wrap {\n","  grid-column: 1 / -1;\n","  display: grid;\n","  grid-template-columns: 20px auto;\n","}\n","\n",".xr-array-wrap > label {\n","  grid-column: 1;\n","  vertical-align: top;\n","}\n","\n",".xr-preview {\n","  color: var(--xr-font-color3);\n","}\n","\n",".xr-array-preview,\n",".xr-array-data {\n","  padding: 0 5px !important;\n","  grid-column: 2;\n","}\n","\n",".xr-array-data,\n",".xr-array-in:checked ~ .xr-array-preview {\n","  display: none;\n","}\n","\n",".xr-array-in:checked ~ .xr-array-data,\n",".xr-array-preview {\n","  display: inline-block;\n","}\n","\n",".xr-dim-list {\n","  display: inline-block !important;\n","  list-style: none;\n","  padding: 0 !important;\n","  margin: 0;\n","}\n","\n",".xr-dim-list li {\n","  display: inline-block;\n","  padding: 0;\n","  margin: 0;\n","}\n","\n",".xr-dim-list:before {\n","  content: '(';\n","}\n","\n",".xr-dim-list:after {\n","  content: ')';\n","}\n","\n",".xr-dim-list li:not(:last-child):after {\n","  content: ',';\n","  padding-right: 5px;\n","}\n","\n",".xr-has-index {\n","  font-weight: bold;\n","}\n","\n",".xr-var-list,\n",".xr-var-item {\n","  display: contents;\n","}\n","\n",".xr-var-item > div,\n",".xr-var-item label,\n",".xr-var-item > .xr-var-name span {\n","  background-color: var(--xr-background-color-row-even);\n","  margin-bottom: 0;\n","}\n","\n",".xr-var-item > .xr-var-name:hover span {\n","  padding-right: 5px;\n","}\n","\n",".xr-var-list > li:nth-child(odd) > div,\n",".xr-var-list > li:nth-child(odd) > label,\n",".xr-var-list > li:nth-child(odd) > .xr-var-name span {\n","  background-color: var(--xr-background-color-row-odd);\n","}\n","\n",".xr-var-name {\n","  grid-column: 1;\n","}\n","\n",".xr-var-dims {\n","  grid-column: 2;\n","}\n","\n",".xr-var-dtype {\n","  grid-column: 3;\n","  text-align: right;\n","  color: var(--xr-font-color2);\n","}\n","\n",".xr-var-preview {\n","  grid-column: 4;\n","}\n","\n",".xr-var-name,\n",".xr-var-dims,\n",".xr-var-dtype,\n",".xr-preview,\n",".xr-attrs dt {\n","  white-space: nowrap;\n","  overflow: hidden;\n","  text-overflow: ellipsis;\n","  padding-right: 10px;\n","}\n","\n",".xr-var-name:hover,\n",".xr-var-dims:hover,\n",".xr-var-dtype:hover,\n",".xr-attrs dt:hover {\n","  overflow: visible;\n","  width: auto;\n","  z-index: 1;\n","}\n","\n",".xr-var-attrs,\n",".xr-var-data {\n","  display: none;\n","  background-color: var(--xr-background-color) !important;\n","  padding-bottom: 5px !important;\n","}\n","\n",".xr-var-attrs-in:checked ~ .xr-var-attrs,\n",".xr-var-data-in:checked ~ .xr-var-data {\n","  display: block;\n","}\n","\n",".xr-var-data > table {\n","  float: right;\n","}\n","\n",".xr-var-name span,\n",".xr-var-data,\n",".xr-attrs {\n","  padding-left: 25px !important;\n","}\n","\n",".xr-attrs,\n",".xr-var-attrs,\n",".xr-var-data {\n","  grid-column: 1 / -1;\n","}\n","\n","dl.xr-attrs {\n","  padding: 0;\n","  margin: 0;\n","  display: grid;\n","  grid-template-columns: 125px auto;\n","}\n","\n",".xr-attrs dt,\n",".xr-attrs dd {\n","  padding: 0;\n","  margin: 0;\n","  float: left;\n","  padding-right: 10px;\n","  width: auto;\n","}\n","\n",".xr-attrs dt {\n","  font-weight: normal;\n","  grid-column: 1;\n","}\n","\n",".xr-attrs dt:hover span {\n","  display: inline-block;\n","  background: var(--xr-background-color);\n","  padding-right: 10px;\n","}\n","\n",".xr-attrs dd {\n","  grid-column: 2;\n","  white-space: pre-wrap;\n","  word-break: break-all;\n","}\n","\n",".xr-icon-database,\n",".xr-icon-file-text2 {\n","  display: inline-block;\n","  vertical-align: middle;\n","  width: 1em;\n","  height: 1.5em !important;\n","  stroke-width: 0;\n","  stroke: currentColor;\n","  fill: currentColor;\n","}\n","</style><pre class='xr-text-repr-fallback'>&lt;xarray.DataArray ()&gt;\n","array(-inf)\n","Coordinates:\n","    position  int64 -2\n","    forward   &lt;U1 &#x27;a&#x27;\n","    self      &lt;U1 &#x27;t&#x27;</pre><div class='xr-wrap' hidden><div class='xr-header'><div class='xr-obj-type'>xarray.DataArray</div><div class='xr-array-name'></div></div><ul class='xr-sections'><li class='xr-section-item'><div class='xr-array-wrap'><input id='section-a94f48e5-0c18-4e75-a5cb-bc72a340475a' class='xr-array-in' type='checkbox' checked><label for='section-a94f48e5-0c18-4e75-a5cb-bc72a340475a' title='Show/hide data repr'><svg class='icon xr-icon-database'><use xlink:href='#icon-database'></use></svg></label><div class='xr-array-preview xr-preview'><span>-inf</span></div><div class='xr-array-data'><pre>array(-inf)</pre></div></div></li><li class='xr-section-item'><input id='section-c29b3245-1e9d-4b71-b3b9-b2b34e170dc8' class='xr-section-summary-in' type='checkbox'  checked><label for='section-c29b3245-1e9d-4b71-b3b9-b2b34e170dc8' class='xr-section-summary' >Coordinates: <span>(3)</span></label><div class='xr-section-inline-details'></div><div class='xr-section-details'><ul class='xr-var-list'><li class='xr-var-item'><div class='xr-var-name'><span>position</span></div><div class='xr-var-dims'>()</div><div class='xr-var-dtype'>int64</div><div class='xr-var-preview xr-preview'>-2</div><input id='attrs-d17b837d-43c2-4831-a53d-a608aece2d15' class='xr-var-attrs-in' type='checkbox' disabled><label for='attrs-d17b837d-43c2-4831-a53d-a608aece2d15' title='Show/Hide attributes'><svg class='icon xr-icon-file-text2'><use xlink:href='#icon-file-text2'></use></svg></label><input id='data-50e207d1-a23d-470e-8391-b341b985d0ed' class='xr-var-data-in' type='checkbox'><label for='data-50e207d1-a23d-470e-8391-b341b985d0ed' title='Show/Hide data repr'><svg class='icon xr-icon-database'><use xlink:href='#icon-database'></use></svg></label><div class='xr-var-attrs'><dl class='xr-attrs'></dl></div><div class='xr-var-data'><pre>array(-2)</pre></div></li><li class='xr-var-item'><div class='xr-var-name'><span>forward</span></div><div class='xr-var-dims'>()</div><div class='xr-var-dtype'>&lt;U1</div><div class='xr-var-preview xr-preview'>&#x27;a&#x27;</div><input id='attrs-3d72143a-e43b-46de-b70b-14dd1bbdc149' class='xr-var-attrs-in' type='checkbox' disabled><label for='attrs-3d72143a-e43b-46de-b70b-14dd1bbdc149' title='Show/Hide attributes'><svg class='icon xr-icon-file-text2'><use xlink:href='#icon-file-text2'></use></svg></label><input id='data-40d519bd-6e81-41aa-b96f-2ebc0c85a7c7' class='xr-var-data-in' type='checkbox'><label for='data-40d519bd-6e81-41aa-b96f-2ebc0c85a7c7' title='Show/Hide data repr'><svg class='icon xr-icon-database'><use xlink:href='#icon-database'></use></svg></label><div class='xr-var-attrs'><dl class='xr-attrs'></dl></div><div class='xr-var-data'><pre>array(&#x27;a&#x27;, dtype=&#x27;&lt;U1&#x27;)</pre></div></li><li class='xr-var-item'><div class='xr-var-name'><span>self</span></div><div class='xr-var-dims'>()</div><div class='xr-var-dtype'>&lt;U1</div><div class='xr-var-preview xr-preview'>&#x27;t&#x27;</div><input id='attrs-13222e7b-7f45-4739-90b4-af82168e4e8f' class='xr-var-attrs-in' type='checkbox' disabled><label for='attrs-13222e7b-7f45-4739-90b4-af82168e4e8f' title='Show/Hide attributes'><svg class='icon xr-icon-file-text2'><use xlink:href='#icon-file-text2'></use></svg></label><input id='data-5af26045-dc42-4c05-8540-c003315fcb9f' class='xr-var-data-in' type='checkbox'><label for='data-5af26045-dc42-4c05-8540-c003315fcb9f' title='Show/Hide data repr'><svg class='icon xr-icon-database'><use xlink:href='#icon-database'></use></svg></label><div class='xr-var-attrs'><dl class='xr-attrs'></dl></div><div class='xr-var-data'><pre>array(&#x27;t&#x27;, dtype=&#x27;&lt;U1&#x27;)</pre></div></li></ul></div></li><li class='xr-section-item'><input id='section-55701222-06a0-4fad-85a7-e98ff9ad1365' class='xr-section-summary-in' type='checkbox' disabled ><label for='section-55701222-06a0-4fad-85a7-e98ff9ad1365' class='xr-section-summary'  title='Expand/collapse section'>Attributes: <span>(0)</span></label><div class='xr-section-inline-details'></div><div class='xr-section-details'><dl class='xr-attrs'></dl></div></li></ul></div></div>"],"text/plain":["<xarray.DataArray ()>\n","array(-inf)\n","Coordinates:\n","    position  int64 -2\n","    forward   <U1 'a'\n","    self      <U1 't'"]},"execution_count":59,"metadata":{},"output_type":"execute_result"}],"source":["def WAMDecisionFunction(seq):\n","    score = np.log(matrix_pos.loc[-3, seq[0]]/matrix_neg.loc[-3, seq[0]])\n","\n","    for i in range(8):\n","        score += np.log(matrix_forward_pos.loc[i-2, seq[i-1], seq[i]]/matrix_forward_neg.loc[seq[i-2], seq[i-2]])\n","\n","    return score\n","\n","seq = site_seqs[43]\n","print(seq)\n","WAMDecisionFunction(seq)"]},{"cell_type":"markdown","metadata":{"id":"Qr4OZ-eYy713"},"source":["### 寻找阈值 "]},{"cell_type":"code","execution_count":null,"metadata":{"id":"ld0ggiV84tm1"},"outputs":[],"source":[]}],"metadata":{"colab":{"collapsed_sections":[],"name":"WAM_for_function_finding.ipynb","provenance":[],"toc_visible":true},"interpreter":{"hash":"49cb93f377a7abe7414b7b0f21fb3017538004a126cf690fb524202736b7fb92"},"kernelspec":{"display_name":"Python 3.8.8 ('base')","language":"python","name":"python3"},"language_info":{"codemirror_mode":{"name":"ipython","version":3},"file_extension":".py","mimetype":"text/x-python","name":"python","nbconvert_exporter":"python","pygments_lexer":"ipython3","version":"3.8.8"},"orig_nbformat":4},"nbformat":4,"nbformat_minor":0}
=======
{
  "cells": [
    {
      "cell_type": "markdown",
      "metadata": {
        "id": "view-in-github",
        "colab_type": "text"
      },
      "source": [
        "<a href=\"https://colab.research.google.com/github/iceQHdrop/bioinformatic_data_mining/blob/main/WAM_for_function_finding.ipynb\" target=\"_parent\"><img src=\"https://colab.research.google.com/assets/colab-badge.svg\" alt=\"Open In Colab\"/></a>"
      ]
    },
    {
      "cell_type": "markdown",
      "metadata": {
        "id": "2a0nqoftCwPC"
      },
      "source": [
        "# WAM_for_function_finding"
      ]
    },
    {
      "cell_type": "code",
      "source": [
        "from google.colab import drive\n",
        "drive.mount('/content/drive')"
      ],
      "metadata": {
        "colab": {
          "base_uri": "https://localhost:8080/"
        },
        "id": "vzKBEnSIIice",
        "outputId": "de350a84-ae25-466b-a825-3fd7249897b4"
      },
      "execution_count": 85,
      "outputs": [
        {
          "output_type": "stream",
          "name": "stdout",
          "text": [
            "Drive already mounted at /content/drive; to attempt to forcibly remount, call drive.mount(\"/content/drive\", force_remount=True).\n"
          ]
        }
      ]
    },
    {
      "cell_type": "code",
      "source": [
        "! cp -r drive/MyDrive/Colab_Notebooks/bioinformatic_data_mining/dataset ./"
      ],
      "metadata": {
        "id": "wYZeMyLoIKnp"
      },
      "execution_count": 86,
      "outputs": []
    },
    {
      "cell_type": "code",
      "execution_count": 87,
      "metadata": {
        "id": "a02PPlPNCwPG"
      },
      "outputs": [],
      "source": [
        "import pandas as pd \n",
        "import numpy as np\n",
        "import os\n",
        "import re\n",
        "import seaborn as sns\n",
        "import matplotlib.pyplot as plt\n",
        "\n",
        "%matplotlib inline"
      ]
    },
    {
      "cell_type": "markdown",
      "metadata": {
        "id": "8fZcnbVqCwPI"
      },
      "source": [
        "\n",
        "设定路径，读取文件名"
      ]
    },
    {
      "cell_type": "code",
      "execution_count": 88,
      "metadata": {
        "id": "0Je1Ip4KCwPI"
      },
      "outputs": [],
      "source": [
        "train_path = 'dataset/TrainingSet'\n",
        "test_path = 'dataset/TestingSet'    \n",
        "train_files = os.listdir(train_path)\n",
        "test_file = os.listdir(test_path)"
      ]
    },
    {
      "cell_type": "markdown",
      "source": [
        "构建前景概率矩阵"
      ],
      "metadata": {
        "id": "Jsmi7HqrbHoj"
      }
    },
    {
      "cell_type": "code",
      "source": [
        "site_base_count = pd.DataFrame(np.zeros((9, 4)), \n",
        "                               columns = ['a', 't', 'c', 'g'],\n",
        "                               index = [i-3 for i in range(9)],)\n",
        "whole_seq = ''\n",
        "site_seqs = []\n",
        "\n",
        "for train_file in train_files:\n",
        "    with open(train_path + '/' + train_files[0], 'r') as f:\n",
        "        text = f.readlines()\n",
        "        site_positions = re.findall('(\\d+)(?=\\..)', text[1])    # 提取位置\n",
        "        seq = ''.join(text[2:]).replace('\\n', '').lower()   # 仅保留序列\n",
        "\n",
        "        for position in site_positions:\n",
        "            site_seqs.append(seq[int(position) - 4:int(position) + 5])  # 提取位点序列\n",
        "\n",
        "            for i in range(9):\n",
        "                base = seq[int(position) - 1 + (i - 3)]   # 统计位点周围9个位置的碱基\n",
        "                site_base_count.loc[i-3, base] += 1\n",
        "\n",
        "        whole_seq += seq\n",
        "\n",
        "matrix_pos = site_base_count/len(site_seqs)\n",
        "matrix_pos"
      ],
      "metadata": {
        "colab": {
          "base_uri": "https://localhost:8080/",
          "height": 328
        },
        "id": "RuFidueHPRp2",
        "outputId": "5e2c01f8-c4bc-4709-99a3-cc3b7bf3d71f"
      },
      "execution_count": 118,
      "outputs": [
        {
          "output_type": "execute_result",
          "data": {
            "text/plain": [
              "           a         t         c         g\n",
              "-3  0.090909  0.272727  0.636364  0.000000\n",
              "-2  1.000000  0.000000  0.000000  0.000000\n",
              "-1  0.000000  0.000000  0.000000  1.000000\n",
              " 0  0.181818  0.090909  0.181818  0.545455\n",
              " 1  0.090909  0.727273  0.181818  0.000000\n",
              " 2  0.090909  0.272727  0.181818  0.454545\n",
              " 3  0.272727  0.363636  0.090909  0.272727\n",
              " 4  0.090909  0.363636  0.181818  0.363636\n",
              " 5  0.363636  0.272727  0.090909  0.272727"
            ],
            "text/html": [
              "\n",
              "  <div id=\"df-30ee517f-b81c-4d6d-8b73-b4f8cff8b6fb\">\n",
              "    <div class=\"colab-df-container\">\n",
              "      <div>\n",
              "<style scoped>\n",
              "    .dataframe tbody tr th:only-of-type {\n",
              "        vertical-align: middle;\n",
              "    }\n",
              "\n",
              "    .dataframe tbody tr th {\n",
              "        vertical-align: top;\n",
              "    }\n",
              "\n",
              "    .dataframe thead th {\n",
              "        text-align: right;\n",
              "    }\n",
              "</style>\n",
              "<table border=\"1\" class=\"dataframe\">\n",
              "  <thead>\n",
              "    <tr style=\"text-align: right;\">\n",
              "      <th></th>\n",
              "      <th>a</th>\n",
              "      <th>t</th>\n",
              "      <th>c</th>\n",
              "      <th>g</th>\n",
              "    </tr>\n",
              "  </thead>\n",
              "  <tbody>\n",
              "    <tr>\n",
              "      <th>-3</th>\n",
              "      <td>0.090909</td>\n",
              "      <td>0.272727</td>\n",
              "      <td>0.636364</td>\n",
              "      <td>0.000000</td>\n",
              "    </tr>\n",
              "    <tr>\n",
              "      <th>-2</th>\n",
              "      <td>1.000000</td>\n",
              "      <td>0.000000</td>\n",
              "      <td>0.000000</td>\n",
              "      <td>0.000000</td>\n",
              "    </tr>\n",
              "    <tr>\n",
              "      <th>-1</th>\n",
              "      <td>0.000000</td>\n",
              "      <td>0.000000</td>\n",
              "      <td>0.000000</td>\n",
              "      <td>1.000000</td>\n",
              "    </tr>\n",
              "    <tr>\n",
              "      <th>0</th>\n",
              "      <td>0.181818</td>\n",
              "      <td>0.090909</td>\n",
              "      <td>0.181818</td>\n",
              "      <td>0.545455</td>\n",
              "    </tr>\n",
              "    <tr>\n",
              "      <th>1</th>\n",
              "      <td>0.090909</td>\n",
              "      <td>0.727273</td>\n",
              "      <td>0.181818</td>\n",
              "      <td>0.000000</td>\n",
              "    </tr>\n",
              "    <tr>\n",
              "      <th>2</th>\n",
              "      <td>0.090909</td>\n",
              "      <td>0.272727</td>\n",
              "      <td>0.181818</td>\n",
              "      <td>0.454545</td>\n",
              "    </tr>\n",
              "    <tr>\n",
              "      <th>3</th>\n",
              "      <td>0.272727</td>\n",
              "      <td>0.363636</td>\n",
              "      <td>0.090909</td>\n",
              "      <td>0.272727</td>\n",
              "    </tr>\n",
              "    <tr>\n",
              "      <th>4</th>\n",
              "      <td>0.090909</td>\n",
              "      <td>0.363636</td>\n",
              "      <td>0.181818</td>\n",
              "      <td>0.363636</td>\n",
              "    </tr>\n",
              "    <tr>\n",
              "      <th>5</th>\n",
              "      <td>0.363636</td>\n",
              "      <td>0.272727</td>\n",
              "      <td>0.090909</td>\n",
              "      <td>0.272727</td>\n",
              "    </tr>\n",
              "  </tbody>\n",
              "</table>\n",
              "</div>\n",
              "      <button class=\"colab-df-convert\" onclick=\"convertToInteractive('df-30ee517f-b81c-4d6d-8b73-b4f8cff8b6fb')\"\n",
              "              title=\"Convert this dataframe to an interactive table.\"\n",
              "              style=\"display:none;\">\n",
              "        \n",
              "  <svg xmlns=\"http://www.w3.org/2000/svg\" height=\"24px\"viewBox=\"0 0 24 24\"\n",
              "       width=\"24px\">\n",
              "    <path d=\"M0 0h24v24H0V0z\" fill=\"none\"/>\n",
              "    <path d=\"M18.56 5.44l.94 2.06.94-2.06 2.06-.94-2.06-.94-.94-2.06-.94 2.06-2.06.94zm-11 1L8.5 8.5l.94-2.06 2.06-.94-2.06-.94L8.5 2.5l-.94 2.06-2.06.94zm10 10l.94 2.06.94-2.06 2.06-.94-2.06-.94-.94-2.06-.94 2.06-2.06.94z\"/><path d=\"M17.41 7.96l-1.37-1.37c-.4-.4-.92-.59-1.43-.59-.52 0-1.04.2-1.43.59L10.3 9.45l-7.72 7.72c-.78.78-.78 2.05 0 2.83L4 21.41c.39.39.9.59 1.41.59.51 0 1.02-.2 1.41-.59l7.78-7.78 2.81-2.81c.8-.78.8-2.07 0-2.86zM5.41 20L4 18.59l7.72-7.72 1.47 1.35L5.41 20z\"/>\n",
              "  </svg>\n",
              "      </button>\n",
              "      \n",
              "  <style>\n",
              "    .colab-df-container {\n",
              "      display:flex;\n",
              "      flex-wrap:wrap;\n",
              "      gap: 12px;\n",
              "    }\n",
              "\n",
              "    .colab-df-convert {\n",
              "      background-color: #E8F0FE;\n",
              "      border: none;\n",
              "      border-radius: 50%;\n",
              "      cursor: pointer;\n",
              "      display: none;\n",
              "      fill: #1967D2;\n",
              "      height: 32px;\n",
              "      padding: 0 0 0 0;\n",
              "      width: 32px;\n",
              "    }\n",
              "\n",
              "    .colab-df-convert:hover {\n",
              "      background-color: #E2EBFA;\n",
              "      box-shadow: 0px 1px 2px rgba(60, 64, 67, 0.3), 0px 1px 3px 1px rgba(60, 64, 67, 0.15);\n",
              "      fill: #174EA6;\n",
              "    }\n",
              "\n",
              "    [theme=dark] .colab-df-convert {\n",
              "      background-color: #3B4455;\n",
              "      fill: #D2E3FC;\n",
              "    }\n",
              "\n",
              "    [theme=dark] .colab-df-convert:hover {\n",
              "      background-color: #434B5C;\n",
              "      box-shadow: 0px 1px 3px 1px rgba(0, 0, 0, 0.15);\n",
              "      filter: drop-shadow(0px 1px 2px rgba(0, 0, 0, 0.3));\n",
              "      fill: #FFFFFF;\n",
              "    }\n",
              "  </style>\n",
              "\n",
              "      <script>\n",
              "        const buttonEl =\n",
              "          document.querySelector('#df-30ee517f-b81c-4d6d-8b73-b4f8cff8b6fb button.colab-df-convert');\n",
              "        buttonEl.style.display =\n",
              "          google.colab.kernel.accessAllowed ? 'block' : 'none';\n",
              "\n",
              "        async function convertToInteractive(key) {\n",
              "          const element = document.querySelector('#df-30ee517f-b81c-4d6d-8b73-b4f8cff8b6fb');\n",
              "          const dataTable =\n",
              "            await google.colab.kernel.invokeFunction('convertToInteractive',\n",
              "                                                     [key], {});\n",
              "          if (!dataTable) return;\n",
              "\n",
              "          const docLinkHtml = 'Like what you see? Visit the ' +\n",
              "            '<a target=\"_blank\" href=https://colab.research.google.com/notebooks/data_table.ipynb>data table notebook</a>'\n",
              "            + ' to learn more about interactive tables.';\n",
              "          element.innerHTML = '';\n",
              "          dataTable['output_type'] = 'display_data';\n",
              "          await google.colab.output.renderOutput(dataTable, element);\n",
              "          const docLink = document.createElement('div');\n",
              "          docLink.innerHTML = docLinkHtml;\n",
              "          element.appendChild(docLink);\n",
              "        }\n",
              "      </script>\n",
              "    </div>\n",
              "  </div>\n",
              "  "
            ]
          },
          "metadata": {},
          "execution_count": 118
        }
      ]
    },
    {
      "cell_type": "markdown",
      "source": [
        "通过统计序列中所有碱基的出现次数构建背景概率矩阵"
      ],
      "metadata": {
        "id": "Tgbhzr8-XfqV"
      }
    },
    {
      "cell_type": "code",
      "source": [
        "p_neg = [whole_seq.count(base)/len(whole_seq) for base in ['a', 't', 'c', 'g']]  \n",
        "matrix_neg = pd.DataFrame(np.tile(p_neg, (9, 1)),\n",
        "                          columns = ['a', 't', 'c', 'g'],\n",
        "                          index = [i-3 for i in range(9)])\n",
        "matrix_neg"
      ],
      "metadata": {
        "colab": {
          "base_uri": "https://localhost:8080/",
          "height": 328
        },
        "id": "BCNOfQ45b3Qk",
        "outputId": "444515aa-3c51-4a9a-8256-599ebd9985d1"
      },
      "execution_count": 81,
      "outputs": [
        {
          "output_type": "execute_result",
          "data": {
            "text/plain": [
              "           a         t         c         g\n",
              "-3  0.227893  0.281851  0.223995  0.266261\n",
              "-2  0.227893  0.281851  0.223995  0.266261\n",
              "-1  0.227893  0.281851  0.223995  0.266261\n",
              " 0  0.227893  0.281851  0.223995  0.266261\n",
              " 1  0.227893  0.281851  0.223995  0.266261\n",
              " 2  0.227893  0.281851  0.223995  0.266261\n",
              " 3  0.227893  0.281851  0.223995  0.266261\n",
              " 4  0.227893  0.281851  0.223995  0.266261\n",
              " 5  0.227893  0.281851  0.223995  0.266261"
            ],
            "text/html": [
              "\n",
              "  <div id=\"df-e5feb9ff-87f1-4d6c-9e89-aa21dc7e2c29\">\n",
              "    <div class=\"colab-df-container\">\n",
              "      <div>\n",
              "<style scoped>\n",
              "    .dataframe tbody tr th:only-of-type {\n",
              "        vertical-align: middle;\n",
              "    }\n",
              "\n",
              "    .dataframe tbody tr th {\n",
              "        vertical-align: top;\n",
              "    }\n",
              "\n",
              "    .dataframe thead th {\n",
              "        text-align: right;\n",
              "    }\n",
              "</style>\n",
              "<table border=\"1\" class=\"dataframe\">\n",
              "  <thead>\n",
              "    <tr style=\"text-align: right;\">\n",
              "      <th></th>\n",
              "      <th>a</th>\n",
              "      <th>t</th>\n",
              "      <th>c</th>\n",
              "      <th>g</th>\n",
              "    </tr>\n",
              "  </thead>\n",
              "  <tbody>\n",
              "    <tr>\n",
              "      <th>-3</th>\n",
              "      <td>0.227893</td>\n",
              "      <td>0.281851</td>\n",
              "      <td>0.223995</td>\n",
              "      <td>0.266261</td>\n",
              "    </tr>\n",
              "    <tr>\n",
              "      <th>-2</th>\n",
              "      <td>0.227893</td>\n",
              "      <td>0.281851</td>\n",
              "      <td>0.223995</td>\n",
              "      <td>0.266261</td>\n",
              "    </tr>\n",
              "    <tr>\n",
              "      <th>-1</th>\n",
              "      <td>0.227893</td>\n",
              "      <td>0.281851</td>\n",
              "      <td>0.223995</td>\n",
              "      <td>0.266261</td>\n",
              "    </tr>\n",
              "    <tr>\n",
              "      <th>0</th>\n",
              "      <td>0.227893</td>\n",
              "      <td>0.281851</td>\n",
              "      <td>0.223995</td>\n",
              "      <td>0.266261</td>\n",
              "    </tr>\n",
              "    <tr>\n",
              "      <th>1</th>\n",
              "      <td>0.227893</td>\n",
              "      <td>0.281851</td>\n",
              "      <td>0.223995</td>\n",
              "      <td>0.266261</td>\n",
              "    </tr>\n",
              "    <tr>\n",
              "      <th>2</th>\n",
              "      <td>0.227893</td>\n",
              "      <td>0.281851</td>\n",
              "      <td>0.223995</td>\n",
              "      <td>0.266261</td>\n",
              "    </tr>\n",
              "    <tr>\n",
              "      <th>3</th>\n",
              "      <td>0.227893</td>\n",
              "      <td>0.281851</td>\n",
              "      <td>0.223995</td>\n",
              "      <td>0.266261</td>\n",
              "    </tr>\n",
              "    <tr>\n",
              "      <th>4</th>\n",
              "      <td>0.227893</td>\n",
              "      <td>0.281851</td>\n",
              "      <td>0.223995</td>\n",
              "      <td>0.266261</td>\n",
              "    </tr>\n",
              "    <tr>\n",
              "      <th>5</th>\n",
              "      <td>0.227893</td>\n",
              "      <td>0.281851</td>\n",
              "      <td>0.223995</td>\n",
              "      <td>0.266261</td>\n",
              "    </tr>\n",
              "  </tbody>\n",
              "</table>\n",
              "</div>\n",
              "      <button class=\"colab-df-convert\" onclick=\"convertToInteractive('df-e5feb9ff-87f1-4d6c-9e89-aa21dc7e2c29')\"\n",
              "              title=\"Convert this dataframe to an interactive table.\"\n",
              "              style=\"display:none;\">\n",
              "        \n",
              "  <svg xmlns=\"http://www.w3.org/2000/svg\" height=\"24px\"viewBox=\"0 0 24 24\"\n",
              "       width=\"24px\">\n",
              "    <path d=\"M0 0h24v24H0V0z\" fill=\"none\"/>\n",
              "    <path d=\"M18.56 5.44l.94 2.06.94-2.06 2.06-.94-2.06-.94-.94-2.06-.94 2.06-2.06.94zm-11 1L8.5 8.5l.94-2.06 2.06-.94-2.06-.94L8.5 2.5l-.94 2.06-2.06.94zm10 10l.94 2.06.94-2.06 2.06-.94-2.06-.94-.94-2.06-.94 2.06-2.06.94z\"/><path d=\"M17.41 7.96l-1.37-1.37c-.4-.4-.92-.59-1.43-.59-.52 0-1.04.2-1.43.59L10.3 9.45l-7.72 7.72c-.78.78-.78 2.05 0 2.83L4 21.41c.39.39.9.59 1.41.59.51 0 1.02-.2 1.41-.59l7.78-7.78 2.81-2.81c.8-.78.8-2.07 0-2.86zM5.41 20L4 18.59l7.72-7.72 1.47 1.35L5.41 20z\"/>\n",
              "  </svg>\n",
              "      </button>\n",
              "      \n",
              "  <style>\n",
              "    .colab-df-container {\n",
              "      display:flex;\n",
              "      flex-wrap:wrap;\n",
              "      gap: 12px;\n",
              "    }\n",
              "\n",
              "    .colab-df-convert {\n",
              "      background-color: #E8F0FE;\n",
              "      border: none;\n",
              "      border-radius: 50%;\n",
              "      cursor: pointer;\n",
              "      display: none;\n",
              "      fill: #1967D2;\n",
              "      height: 32px;\n",
              "      padding: 0 0 0 0;\n",
              "      width: 32px;\n",
              "    }\n",
              "\n",
              "    .colab-df-convert:hover {\n",
              "      background-color: #E2EBFA;\n",
              "      box-shadow: 0px 1px 2px rgba(60, 64, 67, 0.3), 0px 1px 3px 1px rgba(60, 64, 67, 0.15);\n",
              "      fill: #174EA6;\n",
              "    }\n",
              "\n",
              "    [theme=dark] .colab-df-convert {\n",
              "      background-color: #3B4455;\n",
              "      fill: #D2E3FC;\n",
              "    }\n",
              "\n",
              "    [theme=dark] .colab-df-convert:hover {\n",
              "      background-color: #434B5C;\n",
              "      box-shadow: 0px 1px 3px 1px rgba(0, 0, 0, 0.15);\n",
              "      filter: drop-shadow(0px 1px 2px rgba(0, 0, 0, 0.3));\n",
              "      fill: #FFFFFF;\n",
              "    }\n",
              "  </style>\n",
              "\n",
              "      <script>\n",
              "        const buttonEl =\n",
              "          document.querySelector('#df-e5feb9ff-87f1-4d6c-9e89-aa21dc7e2c29 button.colab-df-convert');\n",
              "        buttonEl.style.display =\n",
              "          google.colab.kernel.accessAllowed ? 'block' : 'none';\n",
              "\n",
              "        async function convertToInteractive(key) {\n",
              "          const element = document.querySelector('#df-e5feb9ff-87f1-4d6c-9e89-aa21dc7e2c29');\n",
              "          const dataTable =\n",
              "            await google.colab.kernel.invokeFunction('convertToInteractive',\n",
              "                                                     [key], {});\n",
              "          if (!dataTable) return;\n",
              "\n",
              "          const docLinkHtml = 'Like what you see? Visit the ' +\n",
              "            '<a target=\"_blank\" href=https://colab.research.google.com/notebooks/data_table.ipynb>data table notebook</a>'\n",
              "            + ' to learn more about interactive tables.';\n",
              "          element.innerHTML = '';\n",
              "          dataTable['output_type'] = 'display_data';\n",
              "          await google.colab.output.renderOutput(dataTable, element);\n",
              "          const docLink = document.createElement('div');\n",
              "          docLink.innerHTML = docLinkHtml;\n",
              "          element.appendChild(docLink);\n",
              "        }\n",
              "      </script>\n",
              "    </div>\n",
              "  </div>\n",
              "  "
            ]
          },
          "metadata": {},
          "execution_count": 81
        }
      ]
    },
    {
      "cell_type": "markdown",
      "source": [
        "定义$S(X)$\n"
      ],
      "metadata": {
        "id": "qRtJvdENcJk-"
      }
    },
    {
      "cell_type": "code",
      "source": [
        "def DecisionFunction(seq):\n",
        "    score = 0\n",
        "\n",
        "    for i in range(9):\n",
        "        pos_score = np.log(matrix_pos.loc[i-3, seq[i]])\n",
        "        neg_score = np.log(matrix_neg.loc[i-3, seq[i]])\n",
        "        score += pos_score - neg_score\n",
        "\n",
        "    return score"
      ],
      "metadata": {
        "id": "RPkr_t7NkCW9"
      },
      "execution_count": 120,
      "outputs": []
    },
    {
      "cell_type": "code",
      "source": [
        ""
      ],
      "metadata": {
        "id": "ndICn3_YlCfy"
      },
      "execution_count": null,
      "outputs": []
    }
  ],
  "metadata": {
    "interpreter": {
      "hash": "7b4b4feff2f24a0f0a34464dbe537a36fda679851528fb8735cb41fa49dffb2d"
    },
    "kernelspec": {
      "display_name": "Python 3.8.8 ('base')",
      "language": "python",
      "name": "python3"
    },
    "language_info": {
      "name": "python",
      "version": "3.8.8"
    },
    "orig_nbformat": 4,
    "colab": {
      "name": "WAM_for_function_finding.ipynb",
      "provenance": [],
      "collapsed_sections": [],
      "include_colab_link": true
    }
  },
  "nbformat": 4,
  "nbformat_minor": 0
}
>>>>>>> 19e85ba86e6d37e05492699c535be50a08af9c1f
