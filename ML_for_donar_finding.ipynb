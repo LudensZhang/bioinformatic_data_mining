{
  "cells": [
    {
      "cell_type": "markdown",
      "metadata": {
        "colab_type": "text",
        "id": "view-in-github"
      },
      "source": [
        "<a href=\"https://colab.research.google.com/github/iceQHdrop/bioinformatic_data_mining/blob/main/ML_for_donar_finding.ipynb\" target=\"_parent\"><img src=\"https://colab.research.google.com/assets/colab-badge.svg\" alt=\"Open In Colab\"/></a>"
      ]
    },
    {
      "cell_type": "markdown",
      "metadata": {
        "id": "PmZTC1lWMhI5"
      },
      "source": [
        "# ML for donar finding"
      ]
    },
    {
      "cell_type": "code",
      "execution_count": 1,
      "metadata": {
        "colab": {
          "base_uri": "https://localhost:8080/"
        },
        "id": "MEj1_5b2Mwqi",
        "outputId": "c9432e16-be8c-446e-b3c0-57b28effce66"
      },
      "outputs": [
        {
          "name": "stdout",
          "output_type": "stream",
          "text": [
            "Mounted at /content/drive\n"
          ]
        }
      ],
      "source": [
        "from google.colab import drive\n",
        "drive.mount('/content/drive')"
      ]
    },
    {
      "cell_type": "code",
      "execution_count": 2,
      "metadata": {
        "id": "y3MtQEWlMtoL"
      },
      "outputs": [],
      "source": [
        "! cp -r drive/MyDrive/Colab_Notebooks/bioinformatic_data_mining/dataset ./"
      ]
    },
    {
      "cell_type": "code",
      "execution_count": 1,
      "metadata": {
        "id": "5devSBatNNtc"
      },
      "outputs": [],
      "source": [
        "import pandas as pd\n",
        "import numpy as np\n",
        "import os\n",
        "from tqdm import tqdm\n",
        "import re\n",
        "from sklearn.svm import SVC\n",
        "from sklearn.feature_extraction.text import CountVectorizer\n",
        "from sklearn.model_selection import train_test_split\n",
        "from sklearn.metrics import roc_curve, auc\n",
        "import torch\n",
        "from torch.utils.data import DataLoader, TensorDataset, random_split\n",
        "import torch.optim as optim\n",
        "import torch.nn as nn\n",
        "import torch.nn.functional as F"
      ]
    },
    {
      "cell_type": "markdown",
      "metadata": {
        "id": "Us1nK3-BMlu5"
      },
      "source": [
        "## 数据读取"
      ]
    },
    {
      "cell_type": "markdown",
      "metadata": {
        "id": "LEoV2HUjOX11"
      },
      "source": [
        "### 设定路径名"
      ]
    },
    {
      "cell_type": "code",
      "execution_count": 42,
      "metadata": {
        "id": "kfn1SA9eMp5J"
      },
      "outputs": [],
      "source": [
        "train_path = 'dataset/TrainingSet'\n",
        "test_path = 'dataset/TestingSet'    \n",
        "train_files = os.listdir(train_path)\n",
        "test_files = os.listdir(test_path)\n"
      ]
    },
    {
      "cell_type": "markdown",
      "metadata": {
        "id": "cfYkXEBPOghk"
      },
      "source": [
        "### 读取训练数据"
      ]
    },
    {
      "cell_type": "markdown",
      "metadata": {
        "id": "XaVwTbgdRO0d"
      },
      "source": [
        "#### 定义读取函数"
      ]
    },
    {
      "cell_type": "code",
      "execution_count": 47,
      "metadata": {
        "id": "pkCScTNaOrXx"
      },
      "outputs": [],
      "source": [
        "def LoadData(files, file_path):\n",
        "    site_seqs = []\n",
        "    normal_seqs = []\n",
        "\n",
        "    print(f'Loading data from {file_path}...')\n",
        "\n",
        "    for file in tqdm(files):\n",
        "        with open(file_path + '/' + file, 'r') as f:\n",
        "            text = f.readlines()\n",
        "            site_positions = re.findall('(\\d+)(?=,)', text[1])    # 提取位置\n",
        "            seq = ''.join(text[2:]).replace('\\n', '').lower()\n",
        "        \n",
        "            for position in site_positions:\n",
        "                site_seqs.append(seq[int(position) - 4:int(position) + 5])\n",
        "                \n",
        "            for position in range(len(seq) - 8):\n",
        "                normal_seq = seq[position:position+9]\n",
        "                \n",
        "                if normal_seq not in site_seqs and \\\n",
        "                    set(normal_seq) == {'a', 't', 'c', 'g'}:\n",
        "                    normal_seqs.append(normal_seq)\n",
        "        \n",
        "            # for num in range(4):    # 提取非位点序列\n",
        "            #     normal_position = np.random.randint(len(seq) - 9)    # 采样至倒数第九位\n",
        "            #     normal_seq = seq[normal_position - 4:normal_position + 5]\n",
        "\n",
        "            #     while normal_position in site_positions or \\\n",
        "            #         set(normal_seq) != {'a', 't', 'c', 'g'} or \\\n",
        "            #         len(normal_seq) != 9:    # 排除donar位点与'n', 'm' 等\n",
        "\n",
        "            #         normal_position = np.random.randint(len(seq) - 9)\n",
        "            #         normal_seq = seq[normal_position - 4:normal_position + 5]\n",
        "\n",
        "            #     normal_seqs.append(normal_seq)\n",
        "    \n",
        "    site_df = pd.DataFrame(list(zip(site_seqs, np.ones(len(site_seqs)))),    # 位点\n",
        "                            columns = ['Seq', 'Donar'])\n",
        "\n",
        "    normal_df = pd.DataFrame(list(zip(normal_seqs, np.zeros(len(normal_seqs)))),    # 非位点\n",
        "                              columns = ['Seq', 'Donar'])\n",
        "\n",
        "    df = pd.concat([site_df, normal_df]).reset_index(drop = True)\n",
        "\n",
        "    return df\n",
        "  "
      ]
    },
    {
      "cell_type": "markdown",
      "metadata": {
        "id": "-50CdAQmO8Xd"
      },
      "source": [
        "#### 读取数据   "
      ]
    },
    {
      "cell_type": "code",
      "execution_count": 48,
      "metadata": {
        "colab": {
          "base_uri": "https://localhost:8080/"
        },
        "id": "wg1wJRcdRYYM",
        "outputId": "5738e173-a2b9-4d35-f38b-0266ee7057e5"
      },
      "outputs": [
        {
          "name": "stdout",
          "output_type": "stream",
          "text": [
            "Loading data from dataset/TrainingSet...\n"
          ]
        },
        {
          "name": "stderr",
          "output_type": "stream",
          "text": [
            "100%|██████████| 462/462 [02:02<00:00,  3.79it/s]\n"
          ]
        },
        {
          "name": "stdout",
          "output_type": "stream",
          "text": [
            "Loading data from dataset/TestingSet...\n"
          ]
        },
        {
          "name": "stderr",
          "output_type": "stream",
          "text": [
            "100%|██████████| 570/570 [01:06<00:00,  8.63it/s]\n"
          ]
        }
      ],
      "source": [
        "train_df = LoadData(train_files, train_path)\n",
        "test_df = LoadData(test_files, test_path)"
      ]
    },
    {
      "cell_type": "markdown",
      "metadata": {
        "id": "O-xApIfyRdoA"
      },
      "source": [
        "## 特征提取"
      ]
    },
    {
      "cell_type": "markdown",
      "metadata": {
        "id": "XRZF1CmpYeGX"
      },
      "source": [
        "### One-hot 编码"
      ]
    },
    {
      "cell_type": "code",
      "execution_count": 50,
      "metadata": {
        "colab": {
          "base_uri": "https://localhost:8080/",
          "height": 424
        },
        "id": "95SVQROnSXMV",
        "outputId": "1c4763b9-7747-43c8-900e-0a8dcb86618a"
      },
      "outputs": [
        {
          "data": {
            "text/html": [
              "<div>\n",
              "<style scoped>\n",
              "    .dataframe tbody tr th:only-of-type {\n",
              "        vertical-align: middle;\n",
              "    }\n",
              "\n",
              "    .dataframe tbody tr th {\n",
              "        vertical-align: top;\n",
              "    }\n",
              "\n",
              "    .dataframe thead th {\n",
              "        text-align: right;\n",
              "    }\n",
              "</style>\n",
              "<table border=\"1\" class=\"dataframe\">\n",
              "  <thead>\n",
              "    <tr style=\"text-align: right;\">\n",
              "      <th></th>\n",
              "      <th>1_a</th>\n",
              "      <th>1_c</th>\n",
              "      <th>1_g</th>\n",
              "      <th>1_t</th>\n",
              "      <th>2_a</th>\n",
              "      <th>2_c</th>\n",
              "      <th>2_g</th>\n",
              "      <th>2_t</th>\n",
              "      <th>3_a</th>\n",
              "      <th>3_c</th>\n",
              "      <th>...</th>\n",
              "      <th>7_g</th>\n",
              "      <th>7_t</th>\n",
              "      <th>8_a</th>\n",
              "      <th>8_c</th>\n",
              "      <th>8_g</th>\n",
              "      <th>8_t</th>\n",
              "      <th>9_a</th>\n",
              "      <th>9_c</th>\n",
              "      <th>9_g</th>\n",
              "      <th>9_t</th>\n",
              "    </tr>\n",
              "  </thead>\n",
              "  <tbody>\n",
              "    <tr>\n",
              "      <th>0</th>\n",
              "      <td>0</td>\n",
              "      <td>1</td>\n",
              "      <td>0</td>\n",
              "      <td>0</td>\n",
              "      <td>1</td>\n",
              "      <td>0</td>\n",
              "      <td>0</td>\n",
              "      <td>0</td>\n",
              "      <td>0</td>\n",
              "      <td>0</td>\n",
              "      <td>...</td>\n",
              "      <td>0</td>\n",
              "      <td>0</td>\n",
              "      <td>1</td>\n",
              "      <td>0</td>\n",
              "      <td>0</td>\n",
              "      <td>0</td>\n",
              "      <td>0</td>\n",
              "      <td>0</td>\n",
              "      <td>1</td>\n",
              "      <td>0</td>\n",
              "    </tr>\n",
              "    <tr>\n",
              "      <th>1</th>\n",
              "      <td>1</td>\n",
              "      <td>0</td>\n",
              "      <td>0</td>\n",
              "      <td>0</td>\n",
              "      <td>0</td>\n",
              "      <td>0</td>\n",
              "      <td>0</td>\n",
              "      <td>1</td>\n",
              "      <td>0</td>\n",
              "      <td>0</td>\n",
              "      <td>...</td>\n",
              "      <td>0</td>\n",
              "      <td>0</td>\n",
              "      <td>1</td>\n",
              "      <td>0</td>\n",
              "      <td>0</td>\n",
              "      <td>0</td>\n",
              "      <td>0</td>\n",
              "      <td>0</td>\n",
              "      <td>1</td>\n",
              "      <td>0</td>\n",
              "    </tr>\n",
              "    <tr>\n",
              "      <th>2</th>\n",
              "      <td>0</td>\n",
              "      <td>0</td>\n",
              "      <td>0</td>\n",
              "      <td>1</td>\n",
              "      <td>1</td>\n",
              "      <td>0</td>\n",
              "      <td>0</td>\n",
              "      <td>0</td>\n",
              "      <td>0</td>\n",
              "      <td>0</td>\n",
              "      <td>...</td>\n",
              "      <td>0</td>\n",
              "      <td>0</td>\n",
              "      <td>1</td>\n",
              "      <td>0</td>\n",
              "      <td>0</td>\n",
              "      <td>0</td>\n",
              "      <td>0</td>\n",
              "      <td>0</td>\n",
              "      <td>1</td>\n",
              "      <td>0</td>\n",
              "    </tr>\n",
              "    <tr>\n",
              "      <th>3</th>\n",
              "      <td>0</td>\n",
              "      <td>0</td>\n",
              "      <td>0</td>\n",
              "      <td>1</td>\n",
              "      <td>0</td>\n",
              "      <td>1</td>\n",
              "      <td>0</td>\n",
              "      <td>0</td>\n",
              "      <td>1</td>\n",
              "      <td>0</td>\n",
              "      <td>...</td>\n",
              "      <td>1</td>\n",
              "      <td>0</td>\n",
              "      <td>0</td>\n",
              "      <td>0</td>\n",
              "      <td>1</td>\n",
              "      <td>0</td>\n",
              "      <td>0</td>\n",
              "      <td>0</td>\n",
              "      <td>1</td>\n",
              "      <td>0</td>\n",
              "    </tr>\n",
              "    <tr>\n",
              "      <th>4</th>\n",
              "      <td>1</td>\n",
              "      <td>0</td>\n",
              "      <td>0</td>\n",
              "      <td>0</td>\n",
              "      <td>0</td>\n",
              "      <td>0</td>\n",
              "      <td>1</td>\n",
              "      <td>0</td>\n",
              "      <td>1</td>\n",
              "      <td>0</td>\n",
              "      <td>...</td>\n",
              "      <td>1</td>\n",
              "      <td>0</td>\n",
              "      <td>1</td>\n",
              "      <td>0</td>\n",
              "      <td>0</td>\n",
              "      <td>0</td>\n",
              "      <td>0</td>\n",
              "      <td>0</td>\n",
              "      <td>1</td>\n",
              "      <td>0</td>\n",
              "    </tr>\n",
              "    <tr>\n",
              "      <th>...</th>\n",
              "      <td>...</td>\n",
              "      <td>...</td>\n",
              "      <td>...</td>\n",
              "      <td>...</td>\n",
              "      <td>...</td>\n",
              "      <td>...</td>\n",
              "      <td>...</td>\n",
              "      <td>...</td>\n",
              "      <td>...</td>\n",
              "      <td>...</td>\n",
              "      <td>...</td>\n",
              "      <td>...</td>\n",
              "      <td>...</td>\n",
              "      <td>...</td>\n",
              "      <td>...</td>\n",
              "      <td>...</td>\n",
              "      <td>...</td>\n",
              "      <td>...</td>\n",
              "      <td>...</td>\n",
              "      <td>...</td>\n",
              "      <td>...</td>\n",
              "    </tr>\n",
              "    <tr>\n",
              "      <th>3212062</th>\n",
              "      <td>0</td>\n",
              "      <td>0</td>\n",
              "      <td>1</td>\n",
              "      <td>0</td>\n",
              "      <td>0</td>\n",
              "      <td>1</td>\n",
              "      <td>0</td>\n",
              "      <td>0</td>\n",
              "      <td>0</td>\n",
              "      <td>0</td>\n",
              "      <td>...</td>\n",
              "      <td>1</td>\n",
              "      <td>0</td>\n",
              "      <td>0</td>\n",
              "      <td>1</td>\n",
              "      <td>0</td>\n",
              "      <td>0</td>\n",
              "      <td>0</td>\n",
              "      <td>0</td>\n",
              "      <td>1</td>\n",
              "      <td>0</td>\n",
              "    </tr>\n",
              "    <tr>\n",
              "      <th>3212063</th>\n",
              "      <td>0</td>\n",
              "      <td>1</td>\n",
              "      <td>0</td>\n",
              "      <td>0</td>\n",
              "      <td>0</td>\n",
              "      <td>0</td>\n",
              "      <td>0</td>\n",
              "      <td>1</td>\n",
              "      <td>0</td>\n",
              "      <td>0</td>\n",
              "      <td>...</td>\n",
              "      <td>0</td>\n",
              "      <td>0</td>\n",
              "      <td>0</td>\n",
              "      <td>0</td>\n",
              "      <td>1</td>\n",
              "      <td>0</td>\n",
              "      <td>0</td>\n",
              "      <td>1</td>\n",
              "      <td>0</td>\n",
              "      <td>0</td>\n",
              "    </tr>\n",
              "    <tr>\n",
              "      <th>3212064</th>\n",
              "      <td>0</td>\n",
              "      <td>0</td>\n",
              "      <td>0</td>\n",
              "      <td>1</td>\n",
              "      <td>0</td>\n",
              "      <td>0</td>\n",
              "      <td>1</td>\n",
              "      <td>0</td>\n",
              "      <td>0</td>\n",
              "      <td>0</td>\n",
              "      <td>...</td>\n",
              "      <td>1</td>\n",
              "      <td>0</td>\n",
              "      <td>0</td>\n",
              "      <td>1</td>\n",
              "      <td>0</td>\n",
              "      <td>0</td>\n",
              "      <td>0</td>\n",
              "      <td>1</td>\n",
              "      <td>0</td>\n",
              "      <td>0</td>\n",
              "    </tr>\n",
              "    <tr>\n",
              "      <th>3212065</th>\n",
              "      <td>0</td>\n",
              "      <td>0</td>\n",
              "      <td>1</td>\n",
              "      <td>0</td>\n",
              "      <td>0</td>\n",
              "      <td>0</td>\n",
              "      <td>0</td>\n",
              "      <td>1</td>\n",
              "      <td>1</td>\n",
              "      <td>0</td>\n",
              "      <td>...</td>\n",
              "      <td>0</td>\n",
              "      <td>0</td>\n",
              "      <td>0</td>\n",
              "      <td>1</td>\n",
              "      <td>0</td>\n",
              "      <td>0</td>\n",
              "      <td>0</td>\n",
              "      <td>1</td>\n",
              "      <td>0</td>\n",
              "      <td>0</td>\n",
              "    </tr>\n",
              "    <tr>\n",
              "      <th>3212066</th>\n",
              "      <td>0</td>\n",
              "      <td>0</td>\n",
              "      <td>0</td>\n",
              "      <td>1</td>\n",
              "      <td>1</td>\n",
              "      <td>0</td>\n",
              "      <td>0</td>\n",
              "      <td>0</td>\n",
              "      <td>0</td>\n",
              "      <td>0</td>\n",
              "      <td>...</td>\n",
              "      <td>0</td>\n",
              "      <td>0</td>\n",
              "      <td>0</td>\n",
              "      <td>1</td>\n",
              "      <td>0</td>\n",
              "      <td>0</td>\n",
              "      <td>0</td>\n",
              "      <td>1</td>\n",
              "      <td>0</td>\n",
              "      <td>0</td>\n",
              "    </tr>\n",
              "  </tbody>\n",
              "</table>\n",
              "<p>3212067 rows × 36 columns</p>\n",
              "</div>"
            ],
            "text/plain": [
              "         1_a  1_c  1_g  1_t  2_a  2_c  2_g  2_t  3_a  3_c  ...  7_g  7_t  8_a  \\\n",
              "0          0    1    0    0    1    0    0    0    0    0  ...    0    0    1   \n",
              "1          1    0    0    0    0    0    0    1    0    0  ...    0    0    1   \n",
              "2          0    0    0    1    1    0    0    0    0    0  ...    0    0    1   \n",
              "3          0    0    0    1    0    1    0    0    1    0  ...    1    0    0   \n",
              "4          1    0    0    0    0    0    1    0    1    0  ...    1    0    1   \n",
              "...      ...  ...  ...  ...  ...  ...  ...  ...  ...  ...  ...  ...  ...  ...   \n",
              "3212062    0    0    1    0    0    1    0    0    0    0  ...    1    0    0   \n",
              "3212063    0    1    0    0    0    0    0    1    0    0  ...    0    0    0   \n",
              "3212064    0    0    0    1    0    0    1    0    0    0  ...    1    0    0   \n",
              "3212065    0    0    1    0    0    0    0    1    1    0  ...    0    0    0   \n",
              "3212066    0    0    0    1    1    0    0    0    0    0  ...    0    0    0   \n",
              "\n",
              "         8_c  8_g  8_t  9_a  9_c  9_g  9_t  \n",
              "0          0    0    0    0    0    1    0  \n",
              "1          0    0    0    0    0    1    0  \n",
              "2          0    0    0    0    0    1    0  \n",
              "3          0    1    0    0    0    1    0  \n",
              "4          0    0    0    0    0    1    0  \n",
              "...      ...  ...  ...  ...  ...  ...  ...  \n",
              "3212062    1    0    0    0    0    1    0  \n",
              "3212063    0    1    0    0    1    0    0  \n",
              "3212064    1    0    0    0    1    0    0  \n",
              "3212065    1    0    0    0    1    0    0  \n",
              "3212066    1    0    0    0    1    0    0  \n",
              "\n",
              "[3212067 rows x 36 columns]"
            ]
          },
          "execution_count": 50,
          "metadata": {},
          "output_type": "execute_result"
        }
      ],
      "source": [
        "X_train = train_df['Seq'].str.split('', expand = True).iloc[:, 1:10]\n",
        "X_train = pd.get_dummies(X_train)\n",
        "y_train = train_df['Donar']\n",
        "X_train"
      ]
    },
    {
      "cell_type": "code",
      "execution_count": 51,
      "metadata": {
        "colab": {
          "base_uri": "https://localhost:8080/",
          "height": 235
        },
        "id": "wflA7V3mSnVF",
        "outputId": "35d18b30-5cee-498f-a5d3-251616b1a575"
      },
      "outputs": [
        {
          "data": {
            "text/plain": [
              "(1702069,)"
            ]
          },
          "execution_count": 51,
          "metadata": {},
          "output_type": "execute_result"
        }
      ],
      "source": [
        "X_test = test_df['Seq'].str.split('', expand = True).iloc[:, 1:10]\n",
        "X_test = pd.get_dummies(X_test)\n",
        "y_test = test_df['Donar']\n",
        "X_test.head()\n",
        "y_test.shape"
      ]
    },
    {
      "cell_type": "markdown",
      "metadata": {
        "id": "lthgzLrMY0uL"
      },
      "source": [
        "## SVM"
      ]
    },
    {
      "cell_type": "code",
      "execution_count": 54,
      "metadata": {
        "id": "wJAv55lOZwIO"
      },
      "outputs": [],
      "source": [
        "clf = SVC(probability = True)"
      ]
    },
    {
      "cell_type": "code",
      "execution_count": 55,
      "metadata": {
        "colab": {
          "base_uri": "https://localhost:8080/"
        },
        "id": "6STAG9rCaE64",
        "outputId": "5b4ced54-296d-4984-b38b-1750e0310bf6"
      },
      "outputs": [],
      "source": [
        "clf.fit(X_train, y_train)\n",
        "y_pred = clf.predict_proba(X_test)\n",
        "fpr, tpr, _ = roc_curve(y_test, y_pred[:, 1])\n",
        "auc_roc = auc(fpr, tpr)\n",
        "auc_roc"
      ]
    },
    {
      "cell_type": "code",
      "execution_count": null,
      "metadata": {},
      "outputs": [],
      "source": [
        "result_df = pd.DataFrame({'Donar': y_test, 'Score': y_pred[:, 1]})\n",
        "result_df.to_csv('SVM_test_df.csv')\n",
        "result_df = pd.read_csv('SVM_test_df.csv', index_col = 0)"
      ]
    },
    {
      "cell_type": "markdown",
      "metadata": {
        "id": "kqOZjHHRaKM9"
      },
      "source": [
        "## CNN"
      ]
    },
    {
      "cell_type": "markdown",
      "metadata": {
        "id": "zjyBBoGqcdaC"
      },
      "source": [
        "### 确定设备"
      ]
    },
    {
      "cell_type": "code",
      "execution_count": 9,
      "metadata": {
        "colab": {
          "base_uri": "https://localhost:8080/"
        },
        "id": "MvxE6eC3acxb",
        "outputId": "1e4dcbb3-f1a6-4acb-c762-16558de47d1d"
      },
      "outputs": [
        {
          "name": "stdout",
          "output_type": "stream",
          "text": [
            "The model will be running on cuda.\n"
          ]
        }
      ],
      "source": [
        "device = 'cuda' if torch.cuda.is_available() else 'cpu'\n",
        "print(f'The model will be running on {device}.')"
      ]
    },
    {
      "cell_type": "markdown",
      "metadata": {
        "id": "pgu6hvS-cmSu"
      },
      "source": [
        "### 定义模型"
      ]
    },
    {
      "cell_type": "code",
      "execution_count": 33,
      "metadata": {
        "id": "dZEAXLThYDg1"
      },
      "outputs": [],
      "source": [
        "class CNN(nn.Module):\n",
        "    def __init__(self):\n",
        "        super(CNN, self).__init__()\n",
        "        self.layers = nn.Sequential(nn.Conv2d(1, 10, kernel_size = 3, padding = 1, stride = 1),\n",
        "                                    nn.ReLU(True),\n",
        "                                    nn.Conv2d(10, 20, kernel_size = 3, padding = 1, stride = 1),\n",
        "                                    nn.ReLU(True),\n",
        "                                    nn.Conv2d(20, 50, kernel_size = 3, padding = 1, stride = 1),\n",
        "                                    nn.ReLU(True),\n",
        "                                    nn.Flatten(),\n",
        "                                    nn.Linear(4*9*50, 2),\n",
        "                                    nn.Softmax())\n",
        "        \n",
        "    def forward(self, X):\n",
        "        X = X.view(-1, 1, 9, 4)\n",
        "        return self.layers(X)"
      ]
    },
    {
      "cell_type": "markdown",
      "metadata": {
        "id": "Tz58yB4CrEeJ"
      },
      "source": [
        "### 模型结构"
      ]
    },
    {
      "cell_type": "code",
      "execution_count": 34,
      "metadata": {
        "colab": {
          "base_uri": "https://localhost:8080/",
          "height": 317
        },
        "id": "DCFT1pwjoyxP",
        "outputId": "fcbf9000-3fe0-41ee-87ff-3316e467da74"
      },
      "outputs": [
        {
          "name": "stdout",
          "output_type": "stream",
          "text": [
            "Requirement already satisfied: hiddenlayer in d:\\anaconda3\\envs\\torch_gpu\\lib\\site-packages (0.3)\n"
          ]
        },
        {
          "name": "stderr",
          "output_type": "stream",
          "text": [
            "d:\\anaconda3\\envs\\torch_gpu\\lib\\site-packages\\torch\\nn\\modules\\module.py:1102: UserWarning: Implicit dimension choice for softmax has been deprecated. Change the call to include dim=X as an argument.\n",
            "  return forward_call(*input, **kwargs)\n",
            "\n",
            "(dot.exe:14176): Pango-WARNING **: couldn't load font \"Times Not-Rotated 10\", falling back to \"Sans Not-Rotated 10\", expect ugly output.\n"
          ]
        }
      ],
      "source": [
        "! pip install hiddenlayer\n",
        "import hiddenlayer as h\n",
        "\n",
        "cnn_vis = CNN()\n",
        "vis_graph = h.build_graph(cnn_vis, torch.zeros([1 ,1, 9, 4])) \n",
        "vis_graph.save('model_fig')"
      ]
    },
    {
      "cell_type": "markdown",
      "metadata": {
        "id": "5BJjVlNncsG0"
      },
      "source": [
        "### 重新定义数据特征表示"
      ]
    },
    {
      "cell_type": "markdown",
      "metadata": {
        "id": "9kXAHymLbUpx"
      },
      "source": [
        "#### 定义编码函数"
      ]
    },
    {
      "cell_type": "code",
      "execution_count": 35,
      "metadata": {
        "id": "NRFwkW3TczXz"
      },
      "outputs": [],
      "source": [
        "def OneHot(seq):\n",
        "    base_dict = {'a': 0, 't': 1, 'c': 2, 'g': 3}\n",
        "    seq_list = [base_dict[base] for base in seq]\n",
        "    seq_tensor = torch.tensor(seq_list)\n",
        "    return F.one_hot(seq_tensor).tolist()"
      ]
    },
    {
      "cell_type": "markdown",
      "metadata": {
        "id": "Ek3OuZMIa7aE"
      },
      "source": [
        "#### 编码"
      ]
    },
    {
      "cell_type": "code",
      "execution_count": 36,
      "metadata": {
        "colab": {
          "base_uri": "https://localhost:8080/"
        },
        "id": "B-Hf_I31Wffx",
        "outputId": "c32f4382-5e8e-4240-da78-08f4f78d7b1c"
      },
      "outputs": [
        {
          "data": {
            "text/plain": [
              "tensor([[0., 0., 1., 0.],\n",
              "        [1., 0., 0., 0.],\n",
              "        [0., 0., 0., 1.],\n",
              "        [0., 1., 0., 0.],\n",
              "        [0., 0., 0., 1.],\n",
              "        [0., 1., 0., 0.],\n",
              "        [1., 0., 0., 0.],\n",
              "        [1., 0., 0., 0.],\n",
              "        [0., 0., 0., 1.]])"
            ]
          },
          "execution_count": 36,
          "metadata": {},
          "output_type": "execute_result"
        }
      ],
      "source": [
        "X_train_cnn = torch.tensor(train_df['Seq'].apply(OneHot).values.tolist(), \n",
        "                           dtype = torch.float)\n",
        "X_test_cnn = torch.tensor(test_df['Seq'].apply(OneHot).values.tolist(), \n",
        "                          dtype = torch.float)\n",
        "y_train_cnn = torch.tensor(train_df['Donar'])\n",
        "y_test_cnn = torch.tensor(test_df['Donar'])\n",
        "X_train_cnn[0]"
      ]
    },
    {
      "cell_type": "markdown",
      "metadata": {
        "id": "iY0XSlOLfUUZ"
      },
      "source": [
        "### 装入DataSet"
      ]
    },
    {
      "cell_type": "code",
      "execution_count": 37,
      "metadata": {
        "id": "1FhKmiClfdQL"
      },
      "outputs": [],
      "source": [
        "whole_train_set = TensorDataset(X_train_cnn, y_train_cnn)\n",
        "test_set = TensorDataset(X_test_cnn, y_test_cnn)"
      ]
    },
    {
      "cell_type": "markdown",
      "metadata": {
        "id": "OMSWb0tboqtP"
      },
      "source": [
        "### 定义训练函数"
      ]
    },
    {
      "cell_type": "code",
      "execution_count": 38,
      "metadata": {
        "id": "c0dV6qShaMpi"
      },
      "outputs": [],
      "source": [
        "def train(whole_train_set):\n",
        "    train_set, valid_set = random_split(whole_train_set, [int(0.8*len(whole_train_set)), len(whole_train_set) - int(0.8*len(whole_train_set))])\n",
        "    train_loader = DataLoader(train_set, batch_size = 500, shuffle = True)\n",
        "    valid_loader = DataLoader(valid_set, batch_size = 500, shuffle = True)\n",
        "    \n",
        "    model = CNN()\n",
        "    model.to(device)\n",
        "    criterion = nn.CrossEntropyLoss()\n",
        "    optimizer = optim.Adam(model.parameters(), lr=1e-5)\n",
        "    best_accuracy = 0\n",
        "    \n",
        "    for epoch in range(200):\n",
        "        running_train_loss = 0.0  \n",
        "        running_val_loss = 0.0\n",
        "        correct, total = 0, 0 \n",
        "        for i, data in enumerate(train_loader, 0):\n",
        "            X = data[0].to(device)\n",
        "            y = data[1].to(device)\n",
        "            optimizer.zero_grad()\n",
        "            \n",
        "            outputs = model(X)  \n",
        "            loss = criterion(outputs, y.long())\n",
        "            loss.backward()\n",
        "            optimizer.step()\n",
        "            running_train_loss += loss\n",
        "        \n",
        "        train_loss = running_train_loss/len(train_loader)\n",
        "        \n",
        "        with torch.no_grad():\n",
        "            model.eval()\n",
        "            \n",
        "            for i, data in enumerate(valid_loader, 0):\n",
        "                X = data[0].to(device)\n",
        "                y = data[1].to(device)\n",
        "            \n",
        "                outputs = model(X)\n",
        "                loss = criterion(outputs, y.long())\n",
        "                _, y_pred = torch.max(outputs, dim = 1)\n",
        "                running_val_loss += loss\n",
        "                total += outputs.size(0)\n",
        "                correct += (y == y_pred).sum().item()\n",
        "            \n",
        "        val_loss = running_val_loss/len(valid_loader)\n",
        "        \n",
        "        accuracy = 100*correct/total\n",
        "        \n",
        "        if accuracy > best_accuracy:\n",
        "            torch.save(model.state_dict(), f'./best_model.pth')\n",
        "            print('The model has been saved for the best accuracy %d %%'%(accuracy))\n",
        "            best_accuracy = accuracy\n",
        "        \n",
        "        if epoch == 0:\n",
        "            print('The model is working fine!')\n",
        "\n",
        "        if (epoch + 1)%10 == 0:\n",
        "            print('Completed training epoch', epoch + 1, 'Training Loss is: %.4f' %train_loss, 'Validation Loss is: %.4f' %val_loss, 'Accuracy is %d %%' % (accuracy))"
      ]
    },
    {
      "cell_type": "markdown",
      "metadata": {
        "id": "qy0JCTW5otyP"
      },
      "source": [
        "### 训练"
      ]
    },
    {
      "cell_type": "code",
      "execution_count": 39,
      "metadata": {
        "colab": {
          "base_uri": "https://localhost:8080/"
        },
        "id": "eoEQrrHlowmd",
        "outputId": "ff2700c1-9cca-4be9-a375-ce557dac1397"
      },
      "outputs": [
        {
          "name": "stderr",
          "output_type": "stream",
          "text": [
            "d:\\anaconda3\\envs\\torch_gpu\\lib\\site-packages\\torch\\nn\\modules\\container.py:141: UserWarning: Implicit dimension choice for softmax has been deprecated. Change the call to include dim=X as an argument.\n",
            "  input = module(input)\n"
          ]
        },
        {
          "name": "stdout",
          "output_type": "stream",
          "text": [
            "The model has been saved for the best accuracy 53 %\n",
            "The model is working fine!\n",
            "The model has been saved for the best accuracy 56 %\n",
            "The model has been saved for the best accuracy 57 %\n",
            "The model has been saved for the best accuracy 58 %\n",
            "Completed training epoch 100 Training Loss is: 0.6459 Validation Loss is: 0.6453 Accuracy is 57 %\n",
            "The model has been saved for the best accuracy 60 %\n",
            "The model has been saved for the best accuracy 60 %\n",
            "The model has been saved for the best accuracy 61 %\n",
            "The model has been saved for the best accuracy 61 %\n",
            "The model has been saved for the best accuracy 61 %\n",
            "The model has been saved for the best accuracy 61 %\n",
            "The model has been saved for the best accuracy 62 %\n",
            "The model has been saved for the best accuracy 62 %\n",
            "The model has been saved for the best accuracy 63 %\n",
            "The model has been saved for the best accuracy 63 %\n",
            "The model has been saved for the best accuracy 64 %\n",
            "The model has been saved for the best accuracy 65 %\n",
            "The model has been saved for the best accuracy 66 %\n",
            "The model has been saved for the best accuracy 67 %\n",
            "The model has been saved for the best accuracy 69 %\n",
            "The model has been saved for the best accuracy 70 %\n",
            "The model has been saved for the best accuracy 70 %\n",
            "The model has been saved for the best accuracy 71 %\n",
            "The model has been saved for the best accuracy 71 %\n",
            "The model has been saved for the best accuracy 72 %\n",
            "The model has been saved for the best accuracy 73 %\n",
            "The model has been saved for the best accuracy 73 %\n",
            "The model has been saved for the best accuracy 74 %\n",
            "The model has been saved for the best accuracy 75 %\n",
            "The model has been saved for the best accuracy 75 %\n",
            "The model has been saved for the best accuracy 76 %\n",
            "The model has been saved for the best accuracy 76 %\n",
            "The model has been saved for the best accuracy 77 %\n",
            "The model has been saved for the best accuracy 77 %\n",
            "The model has been saved for the best accuracy 78 %\n",
            "The model has been saved for the best accuracy 79 %\n",
            "The model has been saved for the best accuracy 80 %\n",
            "The model has been saved for the best accuracy 80 %\n",
            "The model has been saved for the best accuracy 81 %\n",
            "The model has been saved for the best accuracy 81 %\n",
            "The model has been saved for the best accuracy 81 %\n",
            "The model has been saved for the best accuracy 82 %\n",
            "The model has been saved for the best accuracy 82 %\n",
            "The model has been saved for the best accuracy 82 %\n",
            "The model has been saved for the best accuracy 83 %\n",
            "The model has been saved for the best accuracy 84 %\n",
            "The model has been saved for the best accuracy 84 %\n",
            "The model has been saved for the best accuracy 84 %\n",
            "The model has been saved for the best accuracy 85 %\n",
            "The model has been saved for the best accuracy 86 %\n",
            "The model has been saved for the best accuracy 86 %\n",
            "The model has been saved for the best accuracy 86 %\n",
            "The model has been saved for the best accuracy 87 %\n",
            "The model has been saved for the best accuracy 87 %\n",
            "The model has been saved for the best accuracy 87 %\n",
            "The model has been saved for the best accuracy 88 %\n",
            "The model has been saved for the best accuracy 88 %\n",
            "The model has been saved for the best accuracy 88 %\n",
            "The model has been saved for the best accuracy 89 %\n",
            "The model has been saved for the best accuracy 89 %\n",
            "The model has been saved for the best accuracy 89 %\n",
            "The model has been saved for the best accuracy 90 %\n",
            "The model has been saved for the best accuracy 90 %\n",
            "The model has been saved for the best accuracy 90 %\n",
            "The model has been saved for the best accuracy 90 %\n",
            "The model has been saved for the best accuracy 91 %\n",
            "The model has been saved for the best accuracy 91 %\n",
            "The model has been saved for the best accuracy 91 %\n",
            "The model has been saved for the best accuracy 92 %\n",
            "The model has been saved for the best accuracy 92 %\n",
            "The model has been saved for the best accuracy 92 %\n",
            "The model has been saved for the best accuracy 93 %\n",
            "Completed training epoch 200 Training Loss is: 0.5373 Validation Loss is: 0.5386 Accuracy is 93 %\n"
          ]
        }
      ],
      "source": [
        "train(whole_train_set)"
      ]
    },
    {
      "cell_type": "code",
      "execution_count": 40,
      "metadata": {
        "id": "jdANy0Jpqbz9"
      },
      "outputs": [],
      "source": [
        "def test(test_set):\n",
        "    model = CNN()\n",
        "    model.to(device)\n",
        "    model.load_state_dict(torch.load(f'./best_model.pth'))\n",
        "    model.eval()\n",
        "    \n",
        "    X = test_set[:][0].to(device)\n",
        "    y = test_set[:][1].to(device)\n",
        "    \n",
        "    y_pred = model(X)[:, 1]\n",
        "    fpr, tpr, _ = roc_curve(y.cpu().detach().numpy(), y_pred.cpu().detach().numpy())\n",
        "    print(\"AUC: {:.4f} on test data.\".format(auc(fpr, tpr)))\n",
        "    return pd.DataFrame({'Donar': y.cpu().detach().numpy(), 'Score': y_pred.cpu().detach().numpy()})"
      ]
    },
    {
      "cell_type": "code",
      "execution_count": 41,
      "metadata": {
        "colab": {
          "base_uri": "https://localhost:8080/"
        },
        "id": "qd_PeEObqhN4",
        "outputId": "ce337d63-9590-4694-8b4a-0620a6d88a1d"
      },
      "outputs": [
        {
          "name": "stdout",
          "output_type": "stream",
          "text": [
            "AUC: 0.9969 on test data.\n"
          ]
        }
      ],
      "source": [
        "result_df = test(test_set)\n",
        "result_df = pd.DataFrame({'Donar': y_test, 'Score': y_pred[:, 1]})\n",
        "result_df.to_csv('CNN_test_df.csv')\n",
        "result_df = pd.read_csv('CNN_test_df.csv', index_col = 0)"
      ]
    },
    {
      "cell_type": "code",
      "execution_count": null,
      "metadata": {},
      "outputs": [],
      "source": []
    }
  ],
  "metadata": {
    "accelerator": "GPU",
    "colab": {
      "authorship_tag": "ABX9TyPfE5hDVzOyUGdolur2khyc",
      "collapsed_sections": [],
      "include_colab_link": true,
      "mount_file_id": "1gm070IemrSmiZisRU7DNIut5ExUM3yoI",
      "name": "ML_for_donar_finding.ipynb",
      "provenance": []
    },
    "interpreter": {
      "hash": "927842737cf5fa330c3721863fb31af07bd51566d3bcee023a71752311a19572"
    },
    "kernelspec": {
      "display_name": "Python 3.9.7 ('torch_gpu')",
      "language": "python",
      "name": "python3"
    },
    "language_info": {
      "codemirror_mode": {
        "name": "ipython",
        "version": 3
      },
      "file_extension": ".py",
      "mimetype": "text/x-python",
      "name": "python",
      "nbconvert_exporter": "python",
      "pygments_lexer": "ipython3",
      "version": "3.9.7"
    }
  },
  "nbformat": 4,
  "nbformat_minor": 0
}
