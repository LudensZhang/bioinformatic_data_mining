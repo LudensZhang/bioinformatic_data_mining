{
  "nbformat": 4,
  "nbformat_minor": 0,
  "metadata": {
    "colab": {
      "name": "ML_for_donar_finding.ipynb",
      "provenance": [],
      "collapsed_sections": [],
      "toc_visible": true,
      "mount_file_id": "1gm070IemrSmiZisRU7DNIut5ExUM3yoI",
      "authorship_tag": "ABX9TyMr3tVW2UX2fq2HWuDcMP4J",
      "include_colab_link": true
    },
    "kernelspec": {
      "name": "python3",
      "display_name": "Python 3"
    },
    "language_info": {
      "name": "python"
    }
  },
  "cells": [
    {
      "cell_type": "markdown",
      "metadata": {
        "id": "view-in-github",
        "colab_type": "text"
      },
      "source": [
        "<a href=\"https://colab.research.google.com/github/iceQHdrop/bioinformatic_data_mining/blob/main/ML_for_donar_finding.ipynb\" target=\"_parent\"><img src=\"https://colab.research.google.com/assets/colab-badge.svg\" alt=\"Open In Colab\"/></a>"
      ]
    },
    {
      "cell_type": "markdown",
      "source": [
        "# ML for donar finding"
      ],
      "metadata": {
        "id": "PmZTC1lWMhI5"
      }
    },
    {
      "cell_type": "code",
      "source": [
        "from google.colab import drive\n",
        "drive.mount('/content/drive')"
      ],
      "metadata": {
        "colab": {
          "base_uri": "https://localhost:8080/"
        },
        "id": "MEj1_5b2Mwqi",
        "outputId": "cfa669e6-bc19-4fa4-fbe5-3f69a9a693c1"
      },
      "execution_count": 1,
      "outputs": [
        {
          "output_type": "stream",
          "name": "stdout",
          "text": [
            "Drive already mounted at /content/drive; to attempt to forcibly remount, call drive.mount(\"/content/drive\", force_remount=True).\n"
          ]
        }
      ]
    },
    {
      "cell_type": "code",
      "source": [
        "! cp -r drive/MyDrive/Colab_Notebooks/bioinformatic_data_mining/dataset ./"
      ],
      "metadata": {
        "id": "y3MtQEWlMtoL"
      },
      "execution_count": 2,
      "outputs": []
    },
    {
      "cell_type": "code",
      "source": [
        "import pandas as pd\n",
        "import numpy as np\n",
        "import os\n",
        "from tqdm import tqdm\n",
        "import re\n",
        "from sklearn.svm import SVC\n",
        "from sklearn.feature_extraction.text import CountVectorizer\n",
        "from sklearn.model_selection import train_test_split\n",
        "from sklearn.metrics import roc_curve, auc\n",
        "import torch\n",
        "from torch.utils.data import DataLoader, TensorDataset, random_split\n",
        "import torch.optim as optim\n",
        "import torch.nn as nn\n",
        "import torch.nn.functional as F"
      ],
      "metadata": {
        "id": "5devSBatNNtc"
      },
      "execution_count": 16,
      "outputs": []
    },
    {
      "cell_type": "markdown",
      "source": [
        "## 数据读取"
      ],
      "metadata": {
        "id": "Us1nK3-BMlu5"
      }
    },
    {
      "cell_type": "markdown",
      "source": [
        "### 设定路径名"
      ],
      "metadata": {
        "id": "LEoV2HUjOX11"
      }
    },
    {
      "cell_type": "code",
      "source": [
        "train_path = 'dataset/TrainingSet'\n",
        "test_path = 'dataset/TestingSet'    \n",
        "train_files = os.listdir(train_path)\n",
        "test_files = os.listdir(test_path)\n"
      ],
      "metadata": {
        "id": "kfn1SA9eMp5J"
      },
      "execution_count": 4,
      "outputs": []
    },
    {
      "cell_type": "markdown",
      "source": [
        "### 读取训练数据"
      ],
      "metadata": {
        "id": "cfYkXEBPOghk"
      }
    },
    {
      "cell_type": "markdown",
      "source": [
        "#### 定义读取函数"
      ],
      "metadata": {
        "id": "XaVwTbgdRO0d"
      }
    },
    {
      "cell_type": "code",
      "source": [
        "def LoadData(files, file_path):\n",
        "    site_seqs = []\n",
        "    normal_seqs = []\n",
        "\n",
        "    print(f'Loading data from {file_path}...')\n",
        "\n",
        "    for file in tqdm(files):\n",
        "        with open(file_path + '/' + file, 'r') as f:\n",
        "            text = f.readlines()\n",
        "            site_positions = re.findall('(\\d+)(?=,)', text[1])    # 提取位置\n",
        "            seq = ''.join(text[2:]).replace('\\n', '').lower()\n",
        "        \n",
        "            for position in site_positions:\n",
        "                site_seqs.append(seq[int(position) - 4:int(position) + 5])\n",
        "        \n",
        "            for num in range(4):    # 提取非位点序列\n",
        "                normal_position = np.random.randint(len(seq) - 9)    # 采样至倒数第九位\n",
        "                normal_seq = seq[normal_position - 4:normal_position + 5]\n",
        "\n",
        "                while normal_position in site_positions or \\\n",
        "                    set(normal_seq) != {'a', 't', 'c', 'g'} or \\\n",
        "                    len(normal_seq) != 9:    # 排除donar位点与'n', 'm' 等\n",
        "\n",
        "                    normal_position = np.random.randint(len(seq) - 9)\n",
        "                    normal_seq = seq[normal_position - 4:normal_position + 5]\n",
        "\n",
        "                normal_seqs.append(normal_seq)\n",
        "    \n",
        "    site_df = pd.DataFrame(list(zip(site_seqs, np.ones(len(site_seqs)))),    # 位点\n",
        "                            columns = ['Seq', 'Donar'])\n",
        "\n",
        "    normal_df = pd.DataFrame(list(zip(normal_seqs, np.zeros(len(normal_seqs)))),    # 非位点\n",
        "                              columns = ['Seq', 'Donar'])\n",
        "\n",
        "    df = pd.concat([site_df, normal_df]).reset_index(drop = True)\n",
        "\n",
        "    return df\n",
        "  "
      ],
      "metadata": {
        "id": "pkCScTNaOrXx"
      },
      "execution_count": 5,
      "outputs": []
    },
    {
      "cell_type": "markdown",
      "source": [
        "#### 读取数据   "
      ],
      "metadata": {
        "id": "-50CdAQmO8Xd"
      }
    },
    {
      "cell_type": "code",
      "source": [
        "train_df = LoadData(train_files, train_path)\n",
        "test_df = LoadData(test_files, test_path)"
      ],
      "metadata": {
        "colab": {
          "base_uri": "https://localhost:8080/"
        },
        "id": "wg1wJRcdRYYM",
        "outputId": "4a0e28fa-9488-42f7-c744-dd1af67c6942"
      },
      "execution_count": 6,
      "outputs": [
        {
          "output_type": "stream",
          "name": "stdout",
          "text": [
            "Loading data from dataset/TrainingSet...\n"
          ]
        },
        {
          "output_type": "stream",
          "name": "stderr",
          "text": [
            "100%|██████████| 462/462 [00:00<00:00, 6228.54it/s]\n"
          ]
        },
        {
          "output_type": "stream",
          "name": "stdout",
          "text": [
            "Loading data from dataset/TestingSet...\n"
          ]
        },
        {
          "output_type": "stream",
          "name": "stderr",
          "text": [
            "100%|██████████| 570/570 [00:00<00:00, 7628.32it/s]\n"
          ]
        }
      ]
    },
    {
      "cell_type": "markdown",
      "source": [
        "## 特征提取"
      ],
      "metadata": {
        "id": "O-xApIfyRdoA"
      }
    },
    {
      "cell_type": "markdown",
      "source": [
        "### One-hot 编码"
      ],
      "metadata": {
        "id": "XRZF1CmpYeGX"
      }
    },
    {
      "cell_type": "code",
      "source": [
        "X_train = train_df['Seq'].str.split('', expand = True).iloc[:, 1:10]\n",
        "X_train = pd.get_dummies(X_train)\n",
        "y_train = train_df['Donar']\n",
        "X_train"
      ],
      "metadata": {
        "colab": {
          "base_uri": "https://localhost:8080/",
          "height": 483
        },
        "id": "95SVQROnSXMV",
        "outputId": "0c0160eb-ac64-4884-b331-6ff6bf8852ef"
      },
      "execution_count": 7,
      "outputs": [
        {
          "output_type": "execute_result",
          "data": {
            "text/plain": [
              "      1_a  1_c  1_g  1_t  2_a  2_c  2_g  2_t  3_a  3_c  ...  7_g  7_t  8_a  \\\n",
              "0       0    0    1    0    0    0    0    1    0    1  ...    0    0    1   \n",
              "1       1    0    0    0    0    0    1    0    0    0  ...    0    1    0   \n",
              "2       1    0    0    0    1    0    0    0    1    0  ...    0    0    1   \n",
              "3       0    0    1    0    0    0    1    0    1    0  ...    0    0    1   \n",
              "4       0    0    0    1    0    1    0    0    1    0  ...    0    0    1   \n",
              "...   ...  ...  ...  ...  ...  ...  ...  ...  ...  ...  ...  ...  ...  ...   \n",
              "4224    0    0    1    0    0    0    0    1    1    0  ...    0    0    0   \n",
              "4225    0    0    0    1    0    1    0    0    0    0  ...    0    1    0   \n",
              "4226    0    0    1    0    0    0    0    1    0    1  ...    0    1    0   \n",
              "4227    0    0    0    1    0    1    0    0    1    0  ...    0    0    0   \n",
              "4228    0    0    1    0    0    0    1    0    0    1  ...    0    0    0   \n",
              "\n",
              "      8_c  8_g  8_t  9_a  9_c  9_g  9_t  \n",
              "0       0    0    0    0    0    1    0  \n",
              "1       0    1    0    0    0    0    1  \n",
              "2       0    0    0    0    0    1    0  \n",
              "3       0    0    0    0    0    1    0  \n",
              "4       0    0    0    0    0    1    0  \n",
              "...   ...  ...  ...  ...  ...  ...  ...  \n",
              "4224    0    0    1    0    0    0    1  \n",
              "4225    0    0    1    0    0    1    0  \n",
              "4226    0    1    0    1    0    0    0  \n",
              "4227    0    1    0    0    1    0    0  \n",
              "4228    0    0    1    1    0    0    0  \n",
              "\n",
              "[4229 rows x 36 columns]"
            ],
            "text/html": [
              "\n",
              "  <div id=\"df-b3cd7b6b-fa73-4f77-8b50-42fcc84453d6\">\n",
              "    <div class=\"colab-df-container\">\n",
              "      <div>\n",
              "<style scoped>\n",
              "    .dataframe tbody tr th:only-of-type {\n",
              "        vertical-align: middle;\n",
              "    }\n",
              "\n",
              "    .dataframe tbody tr th {\n",
              "        vertical-align: top;\n",
              "    }\n",
              "\n",
              "    .dataframe thead th {\n",
              "        text-align: right;\n",
              "    }\n",
              "</style>\n",
              "<table border=\"1\" class=\"dataframe\">\n",
              "  <thead>\n",
              "    <tr style=\"text-align: right;\">\n",
              "      <th></th>\n",
              "      <th>1_a</th>\n",
              "      <th>1_c</th>\n",
              "      <th>1_g</th>\n",
              "      <th>1_t</th>\n",
              "      <th>2_a</th>\n",
              "      <th>2_c</th>\n",
              "      <th>2_g</th>\n",
              "      <th>2_t</th>\n",
              "      <th>3_a</th>\n",
              "      <th>3_c</th>\n",
              "      <th>...</th>\n",
              "      <th>7_g</th>\n",
              "      <th>7_t</th>\n",
              "      <th>8_a</th>\n",
              "      <th>8_c</th>\n",
              "      <th>8_g</th>\n",
              "      <th>8_t</th>\n",
              "      <th>9_a</th>\n",
              "      <th>9_c</th>\n",
              "      <th>9_g</th>\n",
              "      <th>9_t</th>\n",
              "    </tr>\n",
              "  </thead>\n",
              "  <tbody>\n",
              "    <tr>\n",
              "      <th>0</th>\n",
              "      <td>0</td>\n",
              "      <td>0</td>\n",
              "      <td>1</td>\n",
              "      <td>0</td>\n",
              "      <td>0</td>\n",
              "      <td>0</td>\n",
              "      <td>0</td>\n",
              "      <td>1</td>\n",
              "      <td>0</td>\n",
              "      <td>1</td>\n",
              "      <td>...</td>\n",
              "      <td>0</td>\n",
              "      <td>0</td>\n",
              "      <td>1</td>\n",
              "      <td>0</td>\n",
              "      <td>0</td>\n",
              "      <td>0</td>\n",
              "      <td>0</td>\n",
              "      <td>0</td>\n",
              "      <td>1</td>\n",
              "      <td>0</td>\n",
              "    </tr>\n",
              "    <tr>\n",
              "      <th>1</th>\n",
              "      <td>1</td>\n",
              "      <td>0</td>\n",
              "      <td>0</td>\n",
              "      <td>0</td>\n",
              "      <td>0</td>\n",
              "      <td>0</td>\n",
              "      <td>1</td>\n",
              "      <td>0</td>\n",
              "      <td>0</td>\n",
              "      <td>0</td>\n",
              "      <td>...</td>\n",
              "      <td>0</td>\n",
              "      <td>1</td>\n",
              "      <td>0</td>\n",
              "      <td>0</td>\n",
              "      <td>1</td>\n",
              "      <td>0</td>\n",
              "      <td>0</td>\n",
              "      <td>0</td>\n",
              "      <td>0</td>\n",
              "      <td>1</td>\n",
              "    </tr>\n",
              "    <tr>\n",
              "      <th>2</th>\n",
              "      <td>1</td>\n",
              "      <td>0</td>\n",
              "      <td>0</td>\n",
              "      <td>0</td>\n",
              "      <td>1</td>\n",
              "      <td>0</td>\n",
              "      <td>0</td>\n",
              "      <td>0</td>\n",
              "      <td>1</td>\n",
              "      <td>0</td>\n",
              "      <td>...</td>\n",
              "      <td>0</td>\n",
              "      <td>0</td>\n",
              "      <td>1</td>\n",
              "      <td>0</td>\n",
              "      <td>0</td>\n",
              "      <td>0</td>\n",
              "      <td>0</td>\n",
              "      <td>0</td>\n",
              "      <td>1</td>\n",
              "      <td>0</td>\n",
              "    </tr>\n",
              "    <tr>\n",
              "      <th>3</th>\n",
              "      <td>0</td>\n",
              "      <td>0</td>\n",
              "      <td>1</td>\n",
              "      <td>0</td>\n",
              "      <td>0</td>\n",
              "      <td>0</td>\n",
              "      <td>1</td>\n",
              "      <td>0</td>\n",
              "      <td>1</td>\n",
              "      <td>0</td>\n",
              "      <td>...</td>\n",
              "      <td>0</td>\n",
              "      <td>0</td>\n",
              "      <td>1</td>\n",
              "      <td>0</td>\n",
              "      <td>0</td>\n",
              "      <td>0</td>\n",
              "      <td>0</td>\n",
              "      <td>0</td>\n",
              "      <td>1</td>\n",
              "      <td>0</td>\n",
              "    </tr>\n",
              "    <tr>\n",
              "      <th>4</th>\n",
              "      <td>0</td>\n",
              "      <td>0</td>\n",
              "      <td>0</td>\n",
              "      <td>1</td>\n",
              "      <td>0</td>\n",
              "      <td>1</td>\n",
              "      <td>0</td>\n",
              "      <td>0</td>\n",
              "      <td>1</td>\n",
              "      <td>0</td>\n",
              "      <td>...</td>\n",
              "      <td>0</td>\n",
              "      <td>0</td>\n",
              "      <td>1</td>\n",
              "      <td>0</td>\n",
              "      <td>0</td>\n",
              "      <td>0</td>\n",
              "      <td>0</td>\n",
              "      <td>0</td>\n",
              "      <td>1</td>\n",
              "      <td>0</td>\n",
              "    </tr>\n",
              "    <tr>\n",
              "      <th>...</th>\n",
              "      <td>...</td>\n",
              "      <td>...</td>\n",
              "      <td>...</td>\n",
              "      <td>...</td>\n",
              "      <td>...</td>\n",
              "      <td>...</td>\n",
              "      <td>...</td>\n",
              "      <td>...</td>\n",
              "      <td>...</td>\n",
              "      <td>...</td>\n",
              "      <td>...</td>\n",
              "      <td>...</td>\n",
              "      <td>...</td>\n",
              "      <td>...</td>\n",
              "      <td>...</td>\n",
              "      <td>...</td>\n",
              "      <td>...</td>\n",
              "      <td>...</td>\n",
              "      <td>...</td>\n",
              "      <td>...</td>\n",
              "      <td>...</td>\n",
              "    </tr>\n",
              "    <tr>\n",
              "      <th>4224</th>\n",
              "      <td>0</td>\n",
              "      <td>0</td>\n",
              "      <td>1</td>\n",
              "      <td>0</td>\n",
              "      <td>0</td>\n",
              "      <td>0</td>\n",
              "      <td>0</td>\n",
              "      <td>1</td>\n",
              "      <td>1</td>\n",
              "      <td>0</td>\n",
              "      <td>...</td>\n",
              "      <td>0</td>\n",
              "      <td>0</td>\n",
              "      <td>0</td>\n",
              "      <td>0</td>\n",
              "      <td>0</td>\n",
              "      <td>1</td>\n",
              "      <td>0</td>\n",
              "      <td>0</td>\n",
              "      <td>0</td>\n",
              "      <td>1</td>\n",
              "    </tr>\n",
              "    <tr>\n",
              "      <th>4225</th>\n",
              "      <td>0</td>\n",
              "      <td>0</td>\n",
              "      <td>0</td>\n",
              "      <td>1</td>\n",
              "      <td>0</td>\n",
              "      <td>1</td>\n",
              "      <td>0</td>\n",
              "      <td>0</td>\n",
              "      <td>0</td>\n",
              "      <td>0</td>\n",
              "      <td>...</td>\n",
              "      <td>0</td>\n",
              "      <td>1</td>\n",
              "      <td>0</td>\n",
              "      <td>0</td>\n",
              "      <td>0</td>\n",
              "      <td>1</td>\n",
              "      <td>0</td>\n",
              "      <td>0</td>\n",
              "      <td>1</td>\n",
              "      <td>0</td>\n",
              "    </tr>\n",
              "    <tr>\n",
              "      <th>4226</th>\n",
              "      <td>0</td>\n",
              "      <td>0</td>\n",
              "      <td>1</td>\n",
              "      <td>0</td>\n",
              "      <td>0</td>\n",
              "      <td>0</td>\n",
              "      <td>0</td>\n",
              "      <td>1</td>\n",
              "      <td>0</td>\n",
              "      <td>1</td>\n",
              "      <td>...</td>\n",
              "      <td>0</td>\n",
              "      <td>1</td>\n",
              "      <td>0</td>\n",
              "      <td>0</td>\n",
              "      <td>1</td>\n",
              "      <td>0</td>\n",
              "      <td>1</td>\n",
              "      <td>0</td>\n",
              "      <td>0</td>\n",
              "      <td>0</td>\n",
              "    </tr>\n",
              "    <tr>\n",
              "      <th>4227</th>\n",
              "      <td>0</td>\n",
              "      <td>0</td>\n",
              "      <td>0</td>\n",
              "      <td>1</td>\n",
              "      <td>0</td>\n",
              "      <td>1</td>\n",
              "      <td>0</td>\n",
              "      <td>0</td>\n",
              "      <td>1</td>\n",
              "      <td>0</td>\n",
              "      <td>...</td>\n",
              "      <td>0</td>\n",
              "      <td>0</td>\n",
              "      <td>0</td>\n",
              "      <td>0</td>\n",
              "      <td>1</td>\n",
              "      <td>0</td>\n",
              "      <td>0</td>\n",
              "      <td>1</td>\n",
              "      <td>0</td>\n",
              "      <td>0</td>\n",
              "    </tr>\n",
              "    <tr>\n",
              "      <th>4228</th>\n",
              "      <td>0</td>\n",
              "      <td>0</td>\n",
              "      <td>1</td>\n",
              "      <td>0</td>\n",
              "      <td>0</td>\n",
              "      <td>0</td>\n",
              "      <td>1</td>\n",
              "      <td>0</td>\n",
              "      <td>0</td>\n",
              "      <td>1</td>\n",
              "      <td>...</td>\n",
              "      <td>0</td>\n",
              "      <td>0</td>\n",
              "      <td>0</td>\n",
              "      <td>0</td>\n",
              "      <td>0</td>\n",
              "      <td>1</td>\n",
              "      <td>1</td>\n",
              "      <td>0</td>\n",
              "      <td>0</td>\n",
              "      <td>0</td>\n",
              "    </tr>\n",
              "  </tbody>\n",
              "</table>\n",
              "<p>4229 rows × 36 columns</p>\n",
              "</div>\n",
              "      <button class=\"colab-df-convert\" onclick=\"convertToInteractive('df-b3cd7b6b-fa73-4f77-8b50-42fcc84453d6')\"\n",
              "              title=\"Convert this dataframe to an interactive table.\"\n",
              "              style=\"display:none;\">\n",
              "        \n",
              "  <svg xmlns=\"http://www.w3.org/2000/svg\" height=\"24px\"viewBox=\"0 0 24 24\"\n",
              "       width=\"24px\">\n",
              "    <path d=\"M0 0h24v24H0V0z\" fill=\"none\"/>\n",
              "    <path d=\"M18.56 5.44l.94 2.06.94-2.06 2.06-.94-2.06-.94-.94-2.06-.94 2.06-2.06.94zm-11 1L8.5 8.5l.94-2.06 2.06-.94-2.06-.94L8.5 2.5l-.94 2.06-2.06.94zm10 10l.94 2.06.94-2.06 2.06-.94-2.06-.94-.94-2.06-.94 2.06-2.06.94z\"/><path d=\"M17.41 7.96l-1.37-1.37c-.4-.4-.92-.59-1.43-.59-.52 0-1.04.2-1.43.59L10.3 9.45l-7.72 7.72c-.78.78-.78 2.05 0 2.83L4 21.41c.39.39.9.59 1.41.59.51 0 1.02-.2 1.41-.59l7.78-7.78 2.81-2.81c.8-.78.8-2.07 0-2.86zM5.41 20L4 18.59l7.72-7.72 1.47 1.35L5.41 20z\"/>\n",
              "  </svg>\n",
              "      </button>\n",
              "      \n",
              "  <style>\n",
              "    .colab-df-container {\n",
              "      display:flex;\n",
              "      flex-wrap:wrap;\n",
              "      gap: 12px;\n",
              "    }\n",
              "\n",
              "    .colab-df-convert {\n",
              "      background-color: #E8F0FE;\n",
              "      border: none;\n",
              "      border-radius: 50%;\n",
              "      cursor: pointer;\n",
              "      display: none;\n",
              "      fill: #1967D2;\n",
              "      height: 32px;\n",
              "      padding: 0 0 0 0;\n",
              "      width: 32px;\n",
              "    }\n",
              "\n",
              "    .colab-df-convert:hover {\n",
              "      background-color: #E2EBFA;\n",
              "      box-shadow: 0px 1px 2px rgba(60, 64, 67, 0.3), 0px 1px 3px 1px rgba(60, 64, 67, 0.15);\n",
              "      fill: #174EA6;\n",
              "    }\n",
              "\n",
              "    [theme=dark] .colab-df-convert {\n",
              "      background-color: #3B4455;\n",
              "      fill: #D2E3FC;\n",
              "    }\n",
              "\n",
              "    [theme=dark] .colab-df-convert:hover {\n",
              "      background-color: #434B5C;\n",
              "      box-shadow: 0px 1px 3px 1px rgba(0, 0, 0, 0.15);\n",
              "      filter: drop-shadow(0px 1px 2px rgba(0, 0, 0, 0.3));\n",
              "      fill: #FFFFFF;\n",
              "    }\n",
              "  </style>\n",
              "\n",
              "      <script>\n",
              "        const buttonEl =\n",
              "          document.querySelector('#df-b3cd7b6b-fa73-4f77-8b50-42fcc84453d6 button.colab-df-convert');\n",
              "        buttonEl.style.display =\n",
              "          google.colab.kernel.accessAllowed ? 'block' : 'none';\n",
              "\n",
              "        async function convertToInteractive(key) {\n",
              "          const element = document.querySelector('#df-b3cd7b6b-fa73-4f77-8b50-42fcc84453d6');\n",
              "          const dataTable =\n",
              "            await google.colab.kernel.invokeFunction('convertToInteractive',\n",
              "                                                     [key], {});\n",
              "          if (!dataTable) return;\n",
              "\n",
              "          const docLinkHtml = 'Like what you see? Visit the ' +\n",
              "            '<a target=\"_blank\" href=https://colab.research.google.com/notebooks/data_table.ipynb>data table notebook</a>'\n",
              "            + ' to learn more about interactive tables.';\n",
              "          element.innerHTML = '';\n",
              "          dataTable['output_type'] = 'display_data';\n",
              "          await google.colab.output.renderOutput(dataTable, element);\n",
              "          const docLink = document.createElement('div');\n",
              "          docLink.innerHTML = docLinkHtml;\n",
              "          element.appendChild(docLink);\n",
              "        }\n",
              "      </script>\n",
              "    </div>\n",
              "  </div>\n",
              "  "
            ]
          },
          "metadata": {},
          "execution_count": 7
        }
      ]
    },
    {
      "cell_type": "code",
      "source": [
        "X_test = test_df['Seq'].str.split('', expand = True).iloc[:, 1:10]\n",
        "X_test = pd.get_dummies(X_test)\n",
        "y_test = test_df['Donar']\n",
        "X_test.head()"
      ],
      "metadata": {
        "colab": {
          "base_uri": "https://localhost:8080/",
          "height": 297
        },
        "id": "wflA7V3mSnVF",
        "outputId": "c1c2c329-1612-4613-f3c4-44915bea7cdc"
      },
      "execution_count": 8,
      "outputs": [
        {
          "output_type": "execute_result",
          "data": {
            "text/plain": [
              "   1_a  1_c  1_g  1_t  2_a  2_c  2_g  2_t  3_a  3_c  ...  7_g  7_t  8_a  8_c  \\\n",
              "0    0    1    0    0    0    1    0    0    1    0  ...    0    0    1    0   \n",
              "1    1    0    0    0    0    1    0    0    0    0  ...    1    0    1    0   \n",
              "2    1    0    0    0    0    1    0    0    1    0  ...    1    0    1    0   \n",
              "3    1    0    0    0    0    0    0    1    0    0  ...    1    0    1    0   \n",
              "4    0    1    0    0    1    0    0    0    1    0  ...    0    0    1    0   \n",
              "\n",
              "   8_g  8_t  9_a  9_c  9_g  9_t  \n",
              "0    0    0    0    0    1    0  \n",
              "1    0    0    0    0    1    0  \n",
              "2    0    0    0    0    1    0  \n",
              "3    0    0    0    0    1    0  \n",
              "4    0    0    1    0    0    0  \n",
              "\n",
              "[5 rows x 36 columns]"
            ],
            "text/html": [
              "\n",
              "  <div id=\"df-0da0d306-436d-4c61-9f1a-7eab90c48517\">\n",
              "    <div class=\"colab-df-container\">\n",
              "      <div>\n",
              "<style scoped>\n",
              "    .dataframe tbody tr th:only-of-type {\n",
              "        vertical-align: middle;\n",
              "    }\n",
              "\n",
              "    .dataframe tbody tr th {\n",
              "        vertical-align: top;\n",
              "    }\n",
              "\n",
              "    .dataframe thead th {\n",
              "        text-align: right;\n",
              "    }\n",
              "</style>\n",
              "<table border=\"1\" class=\"dataframe\">\n",
              "  <thead>\n",
              "    <tr style=\"text-align: right;\">\n",
              "      <th></th>\n",
              "      <th>1_a</th>\n",
              "      <th>1_c</th>\n",
              "      <th>1_g</th>\n",
              "      <th>1_t</th>\n",
              "      <th>2_a</th>\n",
              "      <th>2_c</th>\n",
              "      <th>2_g</th>\n",
              "      <th>2_t</th>\n",
              "      <th>3_a</th>\n",
              "      <th>3_c</th>\n",
              "      <th>...</th>\n",
              "      <th>7_g</th>\n",
              "      <th>7_t</th>\n",
              "      <th>8_a</th>\n",
              "      <th>8_c</th>\n",
              "      <th>8_g</th>\n",
              "      <th>8_t</th>\n",
              "      <th>9_a</th>\n",
              "      <th>9_c</th>\n",
              "      <th>9_g</th>\n",
              "      <th>9_t</th>\n",
              "    </tr>\n",
              "  </thead>\n",
              "  <tbody>\n",
              "    <tr>\n",
              "      <th>0</th>\n",
              "      <td>0</td>\n",
              "      <td>1</td>\n",
              "      <td>0</td>\n",
              "      <td>0</td>\n",
              "      <td>0</td>\n",
              "      <td>1</td>\n",
              "      <td>0</td>\n",
              "      <td>0</td>\n",
              "      <td>1</td>\n",
              "      <td>0</td>\n",
              "      <td>...</td>\n",
              "      <td>0</td>\n",
              "      <td>0</td>\n",
              "      <td>1</td>\n",
              "      <td>0</td>\n",
              "      <td>0</td>\n",
              "      <td>0</td>\n",
              "      <td>0</td>\n",
              "      <td>0</td>\n",
              "      <td>1</td>\n",
              "      <td>0</td>\n",
              "    </tr>\n",
              "    <tr>\n",
              "      <th>1</th>\n",
              "      <td>1</td>\n",
              "      <td>0</td>\n",
              "      <td>0</td>\n",
              "      <td>0</td>\n",
              "      <td>0</td>\n",
              "      <td>1</td>\n",
              "      <td>0</td>\n",
              "      <td>0</td>\n",
              "      <td>0</td>\n",
              "      <td>0</td>\n",
              "      <td>...</td>\n",
              "      <td>1</td>\n",
              "      <td>0</td>\n",
              "      <td>1</td>\n",
              "      <td>0</td>\n",
              "      <td>0</td>\n",
              "      <td>0</td>\n",
              "      <td>0</td>\n",
              "      <td>0</td>\n",
              "      <td>1</td>\n",
              "      <td>0</td>\n",
              "    </tr>\n",
              "    <tr>\n",
              "      <th>2</th>\n",
              "      <td>1</td>\n",
              "      <td>0</td>\n",
              "      <td>0</td>\n",
              "      <td>0</td>\n",
              "      <td>0</td>\n",
              "      <td>1</td>\n",
              "      <td>0</td>\n",
              "      <td>0</td>\n",
              "      <td>1</td>\n",
              "      <td>0</td>\n",
              "      <td>...</td>\n",
              "      <td>1</td>\n",
              "      <td>0</td>\n",
              "      <td>1</td>\n",
              "      <td>0</td>\n",
              "      <td>0</td>\n",
              "      <td>0</td>\n",
              "      <td>0</td>\n",
              "      <td>0</td>\n",
              "      <td>1</td>\n",
              "      <td>0</td>\n",
              "    </tr>\n",
              "    <tr>\n",
              "      <th>3</th>\n",
              "      <td>1</td>\n",
              "      <td>0</td>\n",
              "      <td>0</td>\n",
              "      <td>0</td>\n",
              "      <td>0</td>\n",
              "      <td>0</td>\n",
              "      <td>0</td>\n",
              "      <td>1</td>\n",
              "      <td>0</td>\n",
              "      <td>0</td>\n",
              "      <td>...</td>\n",
              "      <td>1</td>\n",
              "      <td>0</td>\n",
              "      <td>1</td>\n",
              "      <td>0</td>\n",
              "      <td>0</td>\n",
              "      <td>0</td>\n",
              "      <td>0</td>\n",
              "      <td>0</td>\n",
              "      <td>1</td>\n",
              "      <td>0</td>\n",
              "    </tr>\n",
              "    <tr>\n",
              "      <th>4</th>\n",
              "      <td>0</td>\n",
              "      <td>1</td>\n",
              "      <td>0</td>\n",
              "      <td>0</td>\n",
              "      <td>1</td>\n",
              "      <td>0</td>\n",
              "      <td>0</td>\n",
              "      <td>0</td>\n",
              "      <td>1</td>\n",
              "      <td>0</td>\n",
              "      <td>...</td>\n",
              "      <td>0</td>\n",
              "      <td>0</td>\n",
              "      <td>1</td>\n",
              "      <td>0</td>\n",
              "      <td>0</td>\n",
              "      <td>0</td>\n",
              "      <td>1</td>\n",
              "      <td>0</td>\n",
              "      <td>0</td>\n",
              "      <td>0</td>\n",
              "    </tr>\n",
              "  </tbody>\n",
              "</table>\n",
              "<p>5 rows × 36 columns</p>\n",
              "</div>\n",
              "      <button class=\"colab-df-convert\" onclick=\"convertToInteractive('df-0da0d306-436d-4c61-9f1a-7eab90c48517')\"\n",
              "              title=\"Convert this dataframe to an interactive table.\"\n",
              "              style=\"display:none;\">\n",
              "        \n",
              "  <svg xmlns=\"http://www.w3.org/2000/svg\" height=\"24px\"viewBox=\"0 0 24 24\"\n",
              "       width=\"24px\">\n",
              "    <path d=\"M0 0h24v24H0V0z\" fill=\"none\"/>\n",
              "    <path d=\"M18.56 5.44l.94 2.06.94-2.06 2.06-.94-2.06-.94-.94-2.06-.94 2.06-2.06.94zm-11 1L8.5 8.5l.94-2.06 2.06-.94-2.06-.94L8.5 2.5l-.94 2.06-2.06.94zm10 10l.94 2.06.94-2.06 2.06-.94-2.06-.94-.94-2.06-.94 2.06-2.06.94z\"/><path d=\"M17.41 7.96l-1.37-1.37c-.4-.4-.92-.59-1.43-.59-.52 0-1.04.2-1.43.59L10.3 9.45l-7.72 7.72c-.78.78-.78 2.05 0 2.83L4 21.41c.39.39.9.59 1.41.59.51 0 1.02-.2 1.41-.59l7.78-7.78 2.81-2.81c.8-.78.8-2.07 0-2.86zM5.41 20L4 18.59l7.72-7.72 1.47 1.35L5.41 20z\"/>\n",
              "  </svg>\n",
              "      </button>\n",
              "      \n",
              "  <style>\n",
              "    .colab-df-container {\n",
              "      display:flex;\n",
              "      flex-wrap:wrap;\n",
              "      gap: 12px;\n",
              "    }\n",
              "\n",
              "    .colab-df-convert {\n",
              "      background-color: #E8F0FE;\n",
              "      border: none;\n",
              "      border-radius: 50%;\n",
              "      cursor: pointer;\n",
              "      display: none;\n",
              "      fill: #1967D2;\n",
              "      height: 32px;\n",
              "      padding: 0 0 0 0;\n",
              "      width: 32px;\n",
              "    }\n",
              "\n",
              "    .colab-df-convert:hover {\n",
              "      background-color: #E2EBFA;\n",
              "      box-shadow: 0px 1px 2px rgba(60, 64, 67, 0.3), 0px 1px 3px 1px rgba(60, 64, 67, 0.15);\n",
              "      fill: #174EA6;\n",
              "    }\n",
              "\n",
              "    [theme=dark] .colab-df-convert {\n",
              "      background-color: #3B4455;\n",
              "      fill: #D2E3FC;\n",
              "    }\n",
              "\n",
              "    [theme=dark] .colab-df-convert:hover {\n",
              "      background-color: #434B5C;\n",
              "      box-shadow: 0px 1px 3px 1px rgba(0, 0, 0, 0.15);\n",
              "      filter: drop-shadow(0px 1px 2px rgba(0, 0, 0, 0.3));\n",
              "      fill: #FFFFFF;\n",
              "    }\n",
              "  </style>\n",
              "\n",
              "      <script>\n",
              "        const buttonEl =\n",
              "          document.querySelector('#df-0da0d306-436d-4c61-9f1a-7eab90c48517 button.colab-df-convert');\n",
              "        buttonEl.style.display =\n",
              "          google.colab.kernel.accessAllowed ? 'block' : 'none';\n",
              "\n",
              "        async function convertToInteractive(key) {\n",
              "          const element = document.querySelector('#df-0da0d306-436d-4c61-9f1a-7eab90c48517');\n",
              "          const dataTable =\n",
              "            await google.colab.kernel.invokeFunction('convertToInteractive',\n",
              "                                                     [key], {});\n",
              "          if (!dataTable) return;\n",
              "\n",
              "          const docLinkHtml = 'Like what you see? Visit the ' +\n",
              "            '<a target=\"_blank\" href=https://colab.research.google.com/notebooks/data_table.ipynb>data table notebook</a>'\n",
              "            + ' to learn more about interactive tables.';\n",
              "          element.innerHTML = '';\n",
              "          dataTable['output_type'] = 'display_data';\n",
              "          await google.colab.output.renderOutput(dataTable, element);\n",
              "          const docLink = document.createElement('div');\n",
              "          docLink.innerHTML = docLinkHtml;\n",
              "          element.appendChild(docLink);\n",
              "        }\n",
              "      </script>\n",
              "    </div>\n",
              "  </div>\n",
              "  "
            ]
          },
          "metadata": {},
          "execution_count": 8
        }
      ]
    },
    {
      "cell_type": "markdown",
      "source": [
        "## SVM"
      ],
      "metadata": {
        "id": "lthgzLrMY0uL"
      }
    },
    {
      "cell_type": "code",
      "source": [
        "clf = SVC(probability = True)"
      ],
      "metadata": {
        "id": "wJAv55lOZwIO"
      },
      "execution_count": 9,
      "outputs": []
    },
    {
      "cell_type": "code",
      "source": [
        "clf.fit(X_train, y_train)\n",
        "y_pred = clf.predict_proba(X_test)\n",
        "fpr, tpr, _ = roc_curve(y_test, y_pred[:, 1])\n",
        "auc_roc = auc(fpr, tpr)\n",
        "auc_roc"
      ],
      "metadata": {
        "colab": {
          "base_uri": "https://localhost:8080/"
        },
        "id": "6STAG9rCaE64",
        "outputId": "b0704575-50ef-49eb-bea5-039a46907a88"
      },
      "execution_count": 10,
      "outputs": [
        {
          "output_type": "execute_result",
          "data": {
            "text/plain": [
              "0.9982420276279925"
            ]
          },
          "metadata": {},
          "execution_count": 10
        }
      ]
    },
    {
      "cell_type": "markdown",
      "source": [
        "## ANN"
      ],
      "metadata": {
        "id": "kqOZjHHRaKM9"
      }
    },
    {
      "cell_type": "markdown",
      "source": [
        "### 确定设备"
      ],
      "metadata": {
        "id": "zjyBBoGqcdaC"
      }
    },
    {
      "cell_type": "code",
      "source": [
        "device = 'cuda' if torch.cuda.is_available() else 'cpu'\n",
        "print(f'The model will be running on {device}.')"
      ],
      "metadata": {
        "colab": {
          "base_uri": "https://localhost:8080/"
        },
        "id": "MvxE6eC3acxb",
        "outputId": "c893ef0d-ac29-4850-d939-c393c623b049"
      },
      "execution_count": 11,
      "outputs": [
        {
          "output_type": "stream",
          "name": "stdout",
          "text": [
            "The model will be running on cpu.\n"
          ]
        }
      ]
    },
    {
      "cell_type": "markdown",
      "source": [
        "### 定义模型"
      ],
      "metadata": {
        "id": "pgu6hvS-cmSu"
      }
    },
    {
      "cell_type": "code",
      "source": [
        "class CNN(nn.Module):\n",
        "    def __init__(self):\n",
        "        super(CNN, self).__init__()\n",
        "        self.layers = nn.Sequential(nn.Conv2d(1, 5, kernel_size = 3, padding = 1),\n",
        "                                    nn.ReLU(True),\n",
        "                                    nn.Conv2d(5, 10, kernel_size = 3, padding = 1),\n",
        "                                    nn.ReLU(True),\n",
        "                                    nn.Flatten(),\n",
        "                                    nn.Linear(4*9*10, 500),\n",
        "                                    nn.ReLU(True),\n",
        "                                    nn.Linear(500, 1000), \n",
        "                                    nn.ReLU(True),\n",
        "                                    nn.Linear(1000, 1000),\n",
        "                                    nn.ReLU(True),\n",
        "                                    nn.Linear(1000, 2),\n",
        "                                    nn.Softmax())\n",
        "        \n",
        "    def forward(self, X):\n",
        "        X = X.view(-1, 1, 9, 4)\n",
        "        return self.layers(X)"
      ],
      "metadata": {
        "id": "dZEAXLThYDg1"
      },
      "execution_count": 123,
      "outputs": []
    },
    {
      "cell_type": "markdown",
      "source": [
        "### 模型结构"
      ],
      "metadata": {
        "id": "Tz58yB4CrEeJ"
      }
    },
    {
      "cell_type": "code",
      "source": [
        "import hiddenlayer as h\n",
        "vis_graph = h.build_graph(CNN(), torch.zeros([1 ,1, 9, 4]))   # 获取绘制图像的对象\n",
        "vis_graph.theme = h.graph.THEMES[\"blue\"].copy()\n",
        "vis_graph"
      ],
      "metadata": {
        "colab": {
          "base_uri": "https://localhost:8080/",
          "height": 232
        },
        "id": "DCFT1pwjoyxP",
        "outputId": "26c01d4d-2bed-4e4a-9711-19244370aa66"
      },
      "execution_count": 143,
      "outputs": [
        {
          "output_type": "stream",
          "name": "stderr",
          "text": [
            "/usr/local/lib/python3.7/dist-packages/torch/nn/modules/module.py:1110: UserWarning: Implicit dimension choice for softmax has been deprecated. Change the call to include dim=X as an argument.\n",
            "  return forward_call(*input, **kwargs)\n"
          ]
        },
        {
          "output_type": "execute_result",
          "data": {
            "text/plain": [
              "<hiddenlayer.graph.Graph at 0x7f6bff817f50>"
            ],
            "image/svg+xml": "<?xml version=\"1.0\" encoding=\"UTF-8\" standalone=\"no\"?>\n<!DOCTYPE svg PUBLIC \"-//W3C//DTD SVG 1.1//EN\"\n \"http://www.w3.org/Graphics/SVG/1.1/DTD/svg11.dtd\">\n<!-- Generated by graphviz version 2.40.1 (20161225.0304)\n -->\n<!-- Title: %3 Pages: 1 -->\n<svg width=\"852pt\" height=\"116pt\"\n viewBox=\"0.00 0.00 852.00 116.00\" xmlns=\"http://www.w3.org/2000/svg\" xmlns:xlink=\"http://www.w3.org/1999/xlink\">\n<g id=\"graph0\" class=\"graph\" transform=\"scale(1 1) rotate(0) translate(72 80)\">\n<title>%3</title>\n<polygon fill=\"#ffffff\" stroke=\"transparent\" points=\"-72,36 -72,-80 780,-80 780,36 -72,36\"/>\n<!-- /outputs/13 -->\n<g id=\"node1\" class=\"node\">\n<title>/outputs/13</title>\n<polygon fill=\"#bcd6fc\" stroke=\"#7c96bc\" points=\"65,-40 0,-40 0,-4 65,-4 65,-40\"/>\n<text text-anchor=\"start\" x=\"8.5\" y=\"-19\" font-family=\"Verdana\" font-size=\"10.00\" fill=\"#202020\">Constant</text>\n</g>\n<!-- /outputs/14 -->\n<g id=\"node2\" class=\"node\">\n<title>/outputs/14</title>\n<polygon fill=\"#bcd6fc\" stroke=\"#7c96bc\" points=\"160,-40 101,-40 101,-4 160,-4 160,-40\"/>\n<text text-anchor=\"start\" x=\"109.5\" y=\"-19\" font-family=\"Verdana\" font-size=\"10.00\" fill=\"#202020\">Reshape</text>\n</g>\n<!-- /outputs/13&#45;&gt;/outputs/14 -->\n<g id=\"edge1\" class=\"edge\">\n<title>/outputs/13&#45;&gt;/outputs/14</title>\n<path fill=\"none\" stroke=\"#7c96bc\" d=\"M65.1326,-22C73.3663,-22 82.2966,-22 90.8343,-22\"/>\n<polygon fill=\"#7c96bc\" stroke=\"#7c96bc\" points=\"90.9805,-25.5001 100.9805,-22 90.9805,-18.5001 90.9805,-25.5001\"/>\n</g>\n<!-- 702225846707498509 -->\n<g id=\"node6\" class=\"node\">\n<title>702225846707498509</title>\n<polygon fill=\"#bcd6fc\" stroke=\"#7c96bc\" points=\"297,-44 196,-44 196,0 297,0 297,-44\"/>\n<text text-anchor=\"start\" x=\"204.5\" y=\"-28\" font-family=\"Verdana\" font-size=\"10.00\" fill=\"#202020\">Conv3x3 &gt; Relu</text>\n<text text-anchor=\"start\" x=\"280.5\" y=\"-7\" font-family=\"Verdana\" font-size=\"10.00\" fill=\"#202020\">x2</text>\n</g>\n<!-- /outputs/14&#45;&gt;702225846707498509 -->\n<g id=\"edge3\" class=\"edge\">\n<title>/outputs/14&#45;&gt;702225846707498509</title>\n<path fill=\"none\" stroke=\"#7c96bc\" d=\"M160.0718,-22C167.9726,-22 176.8085,-22 185.7319,-22\"/>\n<polygon fill=\"#7c96bc\" stroke=\"#7c96bc\" points=\"185.7987,-25.5001 195.7987,-22 185.7987,-18.5001 185.7987,-25.5001\"/>\n</g>\n<!-- /outputs/19 -->\n<g id=\"node3\" class=\"node\">\n<title>/outputs/19</title>\n<polygon fill=\"#bcd6fc\" stroke=\"#7c96bc\" points=\"392,-40 333,-40 333,-4 392,-4 392,-40\"/>\n<text text-anchor=\"start\" x=\"341.5\" y=\"-19\" font-family=\"Verdana\" font-size=\"10.00\" fill=\"#202020\">Flatten</text>\n</g>\n<!-- 8124969634161303675 -->\n<g id=\"node7\" class=\"node\">\n<title>8124969634161303675</title>\n<polygon fill=\"#bcd6fc\" stroke=\"#7c96bc\" points=\"523,-44 428,-44 428,0 523,0 523,-44\"/>\n<text text-anchor=\"start\" x=\"436.5\" y=\"-28\" font-family=\"Verdana\" font-size=\"10.00\" fill=\"#202020\">Linear &gt; Relu</text>\n<text text-anchor=\"start\" x=\"506.5\" y=\"-7\" font-family=\"Verdana\" font-size=\"10.00\" fill=\"#202020\">x3</text>\n</g>\n<!-- /outputs/19&#45;&gt;8124969634161303675 -->\n<g id=\"edge5\" class=\"edge\">\n<title>/outputs/19&#45;&gt;8124969634161303675</title>\n<path fill=\"none\" stroke=\"#7c96bc\" d=\"M392.1894,-22C399.9913,-22 408.6811,-22 417.4214,-22\"/>\n<polygon fill=\"#7c96bc\" stroke=\"#7c96bc\" points=\"417.6546,-25.5001 427.6546,-22 417.6546,-18.5001 417.6546,-25.5001\"/>\n</g>\n<!-- /outputs/26 -->\n<g id=\"node4\" class=\"node\">\n<title>/outputs/26</title>\n<polygon fill=\"#bcd6fc\" stroke=\"#7c96bc\" points=\"613,-40 559,-40 559,-4 613,-4 613,-40\"/>\n<text text-anchor=\"start\" x=\"568\" y=\"-19\" font-family=\"Verdana\" font-size=\"10.00\" fill=\"#202020\">Linear</text>\n</g>\n<!-- /outputs/27 -->\n<g id=\"node5\" class=\"node\">\n<title>/outputs/27</title>\n<polygon fill=\"#bcd6fc\" stroke=\"#7c96bc\" points=\"708,-40 649,-40 649,-4 708,-4 708,-40\"/>\n<text text-anchor=\"start\" x=\"657.5\" y=\"-19\" font-family=\"Verdana\" font-size=\"10.00\" fill=\"#202020\">Softmax</text>\n</g>\n<!-- /outputs/26&#45;&gt;/outputs/27 -->\n<g id=\"edge2\" class=\"edge\">\n<title>/outputs/26&#45;&gt;/outputs/27</title>\n<path fill=\"none\" stroke=\"#7c96bc\" d=\"M613.2528,-22C621.209,-22 630.0731,-22 638.639,-22\"/>\n<polygon fill=\"#7c96bc\" stroke=\"#7c96bc\" points=\"638.8587,-25.5001 648.8587,-22 638.8587,-18.5001 638.8587,-25.5001\"/>\n</g>\n<!-- 702225846707498509&#45;&gt;/outputs/19 -->\n<g id=\"edge4\" class=\"edge\">\n<title>702225846707498509&#45;&gt;/outputs/19</title>\n<path fill=\"none\" stroke=\"#7c96bc\" d=\"M297.0418,-22C305.6276,-22 314.435,-22 322.6946,-22\"/>\n<polygon fill=\"#7c96bc\" stroke=\"#7c96bc\" points=\"322.806,-25.5001 332.806,-22 322.8059,-18.5001 322.806,-25.5001\"/>\n</g>\n<!-- 8124969634161303675&#45;&gt;/outputs/26 -->\n<g id=\"edge6\" class=\"edge\">\n<title>8124969634161303675&#45;&gt;/outputs/26</title>\n<path fill=\"none\" stroke=\"#7c96bc\" d=\"M523.0032,-22C531.6403,-22 540.5351,-22 548.8206,-22\"/>\n<polygon fill=\"#7c96bc\" stroke=\"#7c96bc\" points=\"548.9245,-25.5001 558.9245,-22 548.9244,-18.5001 548.9245,-25.5001\"/>\n</g>\n</g>\n</svg>\n"
          },
          "metadata": {},
          "execution_count": 143
        }
      ]
    },
    {
      "cell_type": "markdown",
      "source": [
        "### 重新定义数据特征表示"
      ],
      "metadata": {
        "id": "5BJjVlNncsG0"
      }
    },
    {
      "cell_type": "markdown",
      "source": [
        "#### 定义编码函数"
      ],
      "metadata": {
        "id": "9kXAHymLbUpx"
      }
    },
    {
      "cell_type": "code",
      "source": [
        "def OneHot(seq):\n",
        "    base_dict = {'a': 0, 't': 1, 'c': 2, 'g': 3}\n",
        "    seq_list = [base_dict[base] for base in seq]\n",
        "    seq_tensor = torch.tensor(seq_list)\n",
        "    return F.one_hot(seq_tensor).tolist()"
      ],
      "metadata": {
        "id": "NRFwkW3TczXz"
      },
      "execution_count": 124,
      "outputs": []
    },
    {
      "cell_type": "markdown",
      "source": [
        "#### 编码"
      ],
      "metadata": {
        "id": "Ek3OuZMIa7aE"
      }
    },
    {
      "cell_type": "code",
      "source": [
        "X_train_cnn = torch.tensor(train_df['Seq'].apply(OneHot).values.tolist(), \n",
        "                           dtype = torch.float)\n",
        "X_test_cnn = torch.tensor(test_df['Seq'].apply(OneHot).values.tolist(), \n",
        "                          dtype = torch.float)\n",
        "y_train_cnn = torch.tensor(train_df['Donar'])\n",
        "y_test_cnn = torch.tensor(test_df['Donar'])\n",
        "X_train_cnn[0]"
      ],
      "metadata": {
        "colab": {
          "base_uri": "https://localhost:8080/"
        },
        "id": "B-Hf_I31Wffx",
        "outputId": "ec38e581-bcee-4441-d13d-a5d07c2527ec"
      },
      "execution_count": 125,
      "outputs": [
        {
          "output_type": "execute_result",
          "data": {
            "text/plain": [
              "tensor([[0., 0., 0., 1.],\n",
              "        [0., 1., 0., 0.],\n",
              "        [0., 0., 1., 0.],\n",
              "        [0., 0., 1., 0.],\n",
              "        [0., 0., 0., 1.],\n",
              "        [0., 1., 0., 0.],\n",
              "        [1., 0., 0., 0.],\n",
              "        [1., 0., 0., 0.],\n",
              "        [0., 0., 0., 1.]])"
            ]
          },
          "metadata": {},
          "execution_count": 125
        }
      ]
    },
    {
      "cell_type": "markdown",
      "source": [
        "### 装入DataSet"
      ],
      "metadata": {
        "id": "iY0XSlOLfUUZ"
      }
    },
    {
      "cell_type": "code",
      "source": [
        "whole_train_set = TensorDataset(X_train_cnn, y_train_cnn)\n",
        "test_set = TensorDataset(X_test_cnn, y_test_cnn)"
      ],
      "metadata": {
        "id": "1FhKmiClfdQL"
      },
      "execution_count": 128,
      "outputs": []
    },
    {
      "cell_type": "markdown",
      "source": [
        "### 定义训练函数"
      ],
      "metadata": {
        "id": "OMSWb0tboqtP"
      }
    },
    {
      "cell_type": "code",
      "source": [
        "def train(whole_train_set):\n",
        "    train_set, valid_set = random_split(whole_train_set, [int(0.8*len(whole_train_set)),\n",
        "                                                            len(whole_train_set) - int(0.8*len(whole_train_set))])\n",
        "    train_loader = DataLoader(train_set, batch_size = int(0.2*len(train_set)), shuffle = True)\n",
        "    valid_loader = DataLoader(valid_set, batch_size = int(0.5*len(valid_set)), shuffle = True)\n",
        "    \n",
        "    model = CNN()\n",
        "    model.to(device)\n",
        "    criterion = nn.CrossEntropyLoss()\n",
        "    optimizer = optim.Adam(model.parameters(), lr=1e-5)\n",
        "    best_accuracy = 0\n",
        "    \n",
        "    for epoch in range(200):\n",
        "        running_train_loss = 0.0  \n",
        "        running_val_loss = 0.0\n",
        "        correct, total = 0, 0 \n",
        "        for i, data in enumerate(train_loader, 0):\n",
        "            X = data[0].to(device)\n",
        "            y = data[1].to(device)\n",
        "            optimizer.zero_grad()\n",
        "            \n",
        "            outputs = model(X)  \n",
        "            loss = criterion(outputs, y.long())\n",
        "            loss.backward()\n",
        "            optimizer.step()\n",
        "            running_train_loss += loss\n",
        "        \n",
        "        train_loss = running_train_loss/len(train_loader)\n",
        "        \n",
        "        with torch.no_grad():\n",
        "            model.eval()\n",
        "            \n",
        "            for i, data in enumerate(valid_loader, 0):\n",
        "                X = data[0].to(device)\n",
        "                y = data[1].to(device)\n",
        "            \n",
        "                outputs = model(X)\n",
        "                loss = criterion(outputs, y.long())\n",
        "                _, y_pred = torch.max(outputs, dim = 1)\n",
        "                running_val_loss += loss\n",
        "                total += outputs.size(0)\n",
        "                correct += (y == y_pred).sum().item()\n",
        "            \n",
        "        val_loss = running_val_loss/len(valid_loader)\n",
        "        \n",
        "        accuracy = 100*correct/total\n",
        "        \n",
        "        if accuracy > best_accuracy:\n",
        "            torch.save(model.state_dict(), f'./best_model.pth')\n",
        "            print('The model has been saved for the best accuracy %d %%'%(accuracy))\n",
        "            best_accuracy = accuracy\n",
        "        \n",
        "        if epoch == 0:\n",
        "            print('The model is working fine!')\n",
        "\n",
        "        if (epoch + 1)%100 == 0:\n",
        "            print('Completed training epoch', epoch + 1, 'Training Loss is: %.4f' %train_loss, 'Validation Loss is: %.4f' %val_loss, 'Accuracy is %d %%' % (accuracy))"
      ],
      "metadata": {
        "id": "c0dV6qShaMpi"
      },
      "execution_count": 174,
      "outputs": []
    },
    {
      "cell_type": "markdown",
      "source": [
        "### 训练"
      ],
      "metadata": {
        "id": "qy0JCTW5otyP"
      }
    },
    {
      "cell_type": "code",
      "source": [
        "train(whole_train_set)"
      ],
      "metadata": {
        "colab": {
          "base_uri": "https://localhost:8080/"
        },
        "id": "eoEQrrHlowmd",
        "outputId": "dc940f54-8851-40ec-9e00-f23ce0e0d949"
      },
      "execution_count": 175,
      "outputs": [
        {
          "output_type": "stream",
          "name": "stderr",
          "text": [
            "/usr/local/lib/python3.7/dist-packages/torch/nn/modules/container.py:141: UserWarning: Implicit dimension choice for softmax has been deprecated. Change the call to include dim=X as an argument.\n",
            "  input = module(input)\n"
          ]
        },
        {
          "output_type": "stream",
          "name": "stdout",
          "text": [
            "The model has been saved for the best accuracy 48 %\n",
            "The model is working fine!\n",
            "The model has been saved for the best accuracy 92 %\n",
            "The model has been saved for the best accuracy 92 %\n",
            "The model has been saved for the best accuracy 93 %\n",
            "The model has been saved for the best accuracy 94 %\n",
            "The model has been saved for the best accuracy 94 %\n",
            "The model has been saved for the best accuracy 94 %\n",
            "The model has been saved for the best accuracy 95 %\n",
            "The model has been saved for the best accuracy 95 %\n",
            "The model has been saved for the best accuracy 96 %\n",
            "The model has been saved for the best accuracy 96 %\n",
            "The model has been saved for the best accuracy 96 %\n",
            "The model has been saved for the best accuracy 97 %\n",
            "The model has been saved for the best accuracy 97 %\n",
            "The model has been saved for the best accuracy 97 %\n",
            "The model has been saved for the best accuracy 97 %\n",
            "The model has been saved for the best accuracy 97 %\n",
            "The model has been saved for the best accuracy 97 %\n",
            "Completed training epoch 100 Training Loss is: 0.3451 Validation Loss is: 0.3507 Accuracy is 97 %\n",
            "The model has been saved for the best accuracy 98 %\n",
            "The model has been saved for the best accuracy 98 %\n",
            "The model has been saved for the best accuracy 98 %\n",
            "Completed training epoch 200 Training Loss is: 0.3273 Validation Loss is: 0.3319 Accuracy is 98 %\n"
          ]
        }
      ]
    },
    {
      "cell_type": "code",
      "source": [
        "def test(test_set):\n",
        "    model = CNN()\n",
        "    model.to(device)\n",
        "    model.load_state_dict(torch.load(f'./best_model.pth'))\n",
        "    model.eval()\n",
        "    \n",
        "    X = test_set[:][0].to(device)\n",
        "    y = test_set[:][1].to(device)\n",
        "    \n",
        "    y_pred = model(X)[:, 1]\n",
        "    print(y_pred)\n",
        "    fpr, tpr, _ = roc_curve(y.cpu().detach().numpy(), y_pred.cpu().detach().numpy())\n",
        "    print(\"AUC:{:.4f} on test data.\".format(auc(fpr, tpr)))"
      ],
      "metadata": {
        "id": "jdANy0Jpqbz9"
      },
      "execution_count": 176,
      "outputs": []
    },
    {
      "cell_type": "code",
      "source": [
        "test(test_set)"
      ],
      "metadata": {
        "colab": {
          "base_uri": "https://localhost:8080/"
        },
        "id": "qd_PeEObqhN4",
        "outputId": "c7a2cfee-9d6d-4287-bb8c-7011b08bd3d5"
      },
      "execution_count": 177,
      "outputs": [
        {
          "output_type": "stream",
          "name": "stdout",
          "text": [
            "tensor([0.9971, 0.9946, 0.9963,  ..., 0.0510, 0.0016, 0.0112],\n",
            "       grad_fn=<SelectBackward0>)\n",
            "AUC:0.9975 on test data.\n"
          ]
        },
        {
          "output_type": "stream",
          "name": "stderr",
          "text": [
            "/usr/local/lib/python3.7/dist-packages/torch/nn/modules/container.py:141: UserWarning: Implicit dimension choice for softmax has been deprecated. Change the call to include dim=X as an argument.\n",
            "  input = module(input)\n"
          ]
        }
      ]
    },
    {
      "cell_type": "code",
      "source": [
        ""
      ],
      "metadata": {
        "id": "HmiCJliNsK5r"
      },
      "execution_count": null,
      "outputs": []
    }
  ]
}