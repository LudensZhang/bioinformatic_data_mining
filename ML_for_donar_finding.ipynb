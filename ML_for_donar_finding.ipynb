{
  "cells": [
    {
      "cell_type": "markdown",
      "metadata": {
        "colab_type": "text",
        "id": "view-in-github"
      },
      "source": [
        "<a href=\"https://colab.research.google.com/github/iceQHdrop/bioinformatic_data_mining/blob/main/ML_for_donar_finding.ipynb\" target=\"_parent\"><img src=\"https://colab.research.google.com/assets/colab-badge.svg\" alt=\"Open In Colab\"/></a>"
      ]
    },
    {
      "cell_type": "markdown",
      "metadata": {
        "id": "PmZTC1lWMhI5"
      },
      "source": [
        "# ML for donar finding"
      ]
    },
    {
      "cell_type": "code",
      "execution_count": 1,
      "metadata": {
        "colab": {
          "base_uri": "https://localhost:8080/"
        },
        "id": "MEj1_5b2Mwqi",
        "outputId": "c9432e16-be8c-446e-b3c0-57b28effce66"
      },
      "outputs": [
        {
          "name": "stdout",
          "output_type": "stream",
          "text": [
            "Mounted at /content/drive\n"
          ]
        }
      ],
      "source": [
        "from google.colab import drive\n",
        "drive.mount('/content/drive')"
      ]
    },
    {
      "cell_type": "code",
      "execution_count": 2,
      "metadata": {
        "id": "y3MtQEWlMtoL"
      },
      "outputs": [],
      "source": [
        "! cp -r drive/MyDrive/Colab_Notebooks/bioinformatic_data_mining/dataset ./"
      ]
    },
    {
      "cell_type": "code",
      "execution_count": 105,
      "metadata": {
        "id": "5devSBatNNtc"
      },
      "outputs": [],
      "source": [
        "import pandas as pd\n",
        "import numpy as np\n",
        "import os\n",
        "from tqdm import tqdm\n",
        "import re\n",
        "from sklearn.svm import SVC\n",
        "from sklearn.feature_extraction.text import CountVectorizer\n",
        "from sklearn.model_selection import train_test_split\n",
        "from sklearn.metrics import roc_curve, auc, f1_score, confusion_matrix\n",
        "import torch\n",
        "from torch.utils.data import DataLoader, TensorDataset, random_split\n",
        "import torch.optim as optim\n",
        "import torch.nn as nn\n",
        "import torch.nn.functional as F\n",
        "import matplotlib.pyplot as plt\n",
        "import seaborn as sns"
      ]
    },
    {
      "cell_type": "markdown",
      "metadata": {
        "id": "Us1nK3-BMlu5"
      },
      "source": [
        "## 数据读取"
      ]
    },
    {
      "cell_type": "markdown",
      "metadata": {
        "id": "LEoV2HUjOX11"
      },
      "source": [
        "### 设定路径名"
      ]
    },
    {
      "cell_type": "code",
      "execution_count": 3,
      "metadata": {
        "id": "kfn1SA9eMp5J"
      },
      "outputs": [],
      "source": [
        "train_path = 'dataset/TrainingSet'\n",
        "test_path = 'dataset/TestingSet'    \n",
        "train_files = os.listdir(train_path)\n",
        "test_files = os.listdir(test_path)\n"
      ]
    },
    {
      "cell_type": "markdown",
      "metadata": {
        "id": "cfYkXEBPOghk"
      },
      "source": [
        "### 读取训练数据"
      ]
    },
    {
      "cell_type": "markdown",
      "metadata": {
        "id": "XaVwTbgdRO0d"
      },
      "source": [
        "#### 定义读取函数"
      ]
    },
    {
      "cell_type": "code",
      "execution_count": 4,
      "metadata": {
        "id": "pkCScTNaOrXx"
      },
      "outputs": [],
      "source": [
        "def LoadData(files, file_path):\n",
        "    site_seqs = []\n",
        "    normal_seqs = []\n",
        "\n",
        "    print(f'Loading data from {file_path}...')\n",
        "\n",
        "    for file in tqdm(files):\n",
        "        with open(file_path + '/' + file, 'r') as f:\n",
        "            text = f.readlines()\n",
        "            site_positions = re.findall('(\\d+)(?=,)', text[1])    # 提取位置\n",
        "            seq = ''.join(text[2:]).replace('\\n', '').lower()\n",
        "        \n",
        "            for position in site_positions:\n",
        "                site_seqs.append(seq[int(position) - 4:int(position) + 5])\n",
        "                \n",
        "            for position in range(len(seq) - 8):\n",
        "                normal_seq = seq[position:position+9]\n",
        "                \n",
        "                if normal_seq not in site_seqs and \\\n",
        "                    set(normal_seq) == {'a', 't', 'c', 'g'}:\n",
        "                    normal_seqs.append(normal_seq)\n",
        "        \n",
        "            # for num in range(4):    # 提取非位点序列\n",
        "            #     normal_position = np.random.randint(len(seq) - 9)    # 采样至倒数第九位\n",
        "            #     normal_seq = seq[normal_position - 4:normal_position + 5]\n",
        "\n",
        "            #     while normal_position in site_positions or \\\n",
        "            #         set(normal_seq) != {'a', 't', 'c', 'g'} or \\\n",
        "            #         len(normal_seq) != 9:    # 排除donar位点与'n', 'm' 等\n",
        "\n",
        "            #         normal_position = np.random.randint(len(seq) - 9)\n",
        "            #         normal_seq = seq[normal_position - 4:normal_position + 5]\n",
        "\n",
        "            #     normal_seqs.append(normal_seq)\n",
        "    \n",
        "    site_df = pd.DataFrame(list(zip(site_seqs, np.ones(len(site_seqs)))),    # 位点\n",
        "                            columns = ['Seq', 'Donar'])\n",
        "\n",
        "    normal_df = pd.DataFrame(list(zip(normal_seqs, np.zeros(len(normal_seqs)))),    # 非位点\n",
        "                              columns = ['Seq', 'Donar'])\n",
        "\n",
        "    df = pd.concat([site_df, normal_df]).reset_index(drop = True)\n",
        "\n",
        "    return df\n",
        "  "
      ]
    },
    {
      "cell_type": "markdown",
      "metadata": {
        "id": "-50CdAQmO8Xd"
      },
      "source": [
        "#### 读取数据   "
      ]
    },
    {
      "cell_type": "code",
      "execution_count": 5,
      "metadata": {
        "colab": {
          "base_uri": "https://localhost:8080/"
        },
        "id": "wg1wJRcdRYYM",
        "outputId": "5738e173-a2b9-4d35-f38b-0266ee7057e5"
      },
      "outputs": [
        {
          "name": "stdout",
          "output_type": "stream",
          "text": [
            "Loading data from dataset/TrainingSet...\n"
          ]
        },
        {
          "name": "stderr",
          "output_type": "stream",
          "text": [
            "100%|██████████| 462/462 [01:43<00:00,  4.46it/s]\n"
          ]
        },
        {
          "name": "stdout",
          "output_type": "stream",
          "text": [
            "Loading data from dataset/TestingSet...\n"
          ]
        },
        {
          "name": "stderr",
          "output_type": "stream",
          "text": [
            "100%|██████████| 570/570 [00:56<00:00, 10.08it/s]\n"
          ]
        }
      ],
      "source": [
        "train_df = LoadData(train_files, train_path)\n",
        "test_df = LoadData(test_files, test_path)"
      ]
    },
    {
      "cell_type": "markdown",
      "metadata": {
        "id": "O-xApIfyRdoA"
      },
      "source": [
        "## 特征提取"
      ]
    },
    {
      "cell_type": "markdown",
      "metadata": {
        "id": "XRZF1CmpYeGX"
      },
      "source": [
        "### One-hot 编码"
      ]
    },
    {
      "cell_type": "code",
      "execution_count": 6,
      "metadata": {
        "colab": {
          "base_uri": "https://localhost:8080/",
          "height": 424
        },
        "id": "95SVQROnSXMV",
        "outputId": "1c4763b9-7747-43c8-900e-0a8dcb86618a"
      },
      "outputs": [
        {
          "data": {
            "text/html": [
              "<div>\n",
              "<style scoped>\n",
              "    .dataframe tbody tr th:only-of-type {\n",
              "        vertical-align: middle;\n",
              "    }\n",
              "\n",
              "    .dataframe tbody tr th {\n",
              "        vertical-align: top;\n",
              "    }\n",
              "\n",
              "    .dataframe thead th {\n",
              "        text-align: right;\n",
              "    }\n",
              "</style>\n",
              "<table border=\"1\" class=\"dataframe\">\n",
              "  <thead>\n",
              "    <tr style=\"text-align: right;\">\n",
              "      <th></th>\n",
              "      <th>1_a</th>\n",
              "      <th>1_c</th>\n",
              "      <th>1_g</th>\n",
              "      <th>1_t</th>\n",
              "      <th>2_a</th>\n",
              "      <th>2_c</th>\n",
              "      <th>2_g</th>\n",
              "      <th>2_t</th>\n",
              "      <th>3_a</th>\n",
              "      <th>3_c</th>\n",
              "      <th>...</th>\n",
              "      <th>7_g</th>\n",
              "      <th>7_t</th>\n",
              "      <th>8_a</th>\n",
              "      <th>8_c</th>\n",
              "      <th>8_g</th>\n",
              "      <th>8_t</th>\n",
              "      <th>9_a</th>\n",
              "      <th>9_c</th>\n",
              "      <th>9_g</th>\n",
              "      <th>9_t</th>\n",
              "    </tr>\n",
              "  </thead>\n",
              "  <tbody>\n",
              "    <tr>\n",
              "      <th>0</th>\n",
              "      <td>0</td>\n",
              "      <td>1</td>\n",
              "      <td>0</td>\n",
              "      <td>0</td>\n",
              "      <td>1</td>\n",
              "      <td>0</td>\n",
              "      <td>0</td>\n",
              "      <td>0</td>\n",
              "      <td>0</td>\n",
              "      <td>0</td>\n",
              "      <td>...</td>\n",
              "      <td>0</td>\n",
              "      <td>0</td>\n",
              "      <td>1</td>\n",
              "      <td>0</td>\n",
              "      <td>0</td>\n",
              "      <td>0</td>\n",
              "      <td>0</td>\n",
              "      <td>0</td>\n",
              "      <td>1</td>\n",
              "      <td>0</td>\n",
              "    </tr>\n",
              "    <tr>\n",
              "      <th>1</th>\n",
              "      <td>1</td>\n",
              "      <td>0</td>\n",
              "      <td>0</td>\n",
              "      <td>0</td>\n",
              "      <td>0</td>\n",
              "      <td>0</td>\n",
              "      <td>0</td>\n",
              "      <td>1</td>\n",
              "      <td>0</td>\n",
              "      <td>0</td>\n",
              "      <td>...</td>\n",
              "      <td>0</td>\n",
              "      <td>0</td>\n",
              "      <td>1</td>\n",
              "      <td>0</td>\n",
              "      <td>0</td>\n",
              "      <td>0</td>\n",
              "      <td>0</td>\n",
              "      <td>0</td>\n",
              "      <td>1</td>\n",
              "      <td>0</td>\n",
              "    </tr>\n",
              "    <tr>\n",
              "      <th>2</th>\n",
              "      <td>0</td>\n",
              "      <td>0</td>\n",
              "      <td>0</td>\n",
              "      <td>1</td>\n",
              "      <td>1</td>\n",
              "      <td>0</td>\n",
              "      <td>0</td>\n",
              "      <td>0</td>\n",
              "      <td>0</td>\n",
              "      <td>0</td>\n",
              "      <td>...</td>\n",
              "      <td>0</td>\n",
              "      <td>0</td>\n",
              "      <td>1</td>\n",
              "      <td>0</td>\n",
              "      <td>0</td>\n",
              "      <td>0</td>\n",
              "      <td>0</td>\n",
              "      <td>0</td>\n",
              "      <td>1</td>\n",
              "      <td>0</td>\n",
              "    </tr>\n",
              "    <tr>\n",
              "      <th>3</th>\n",
              "      <td>0</td>\n",
              "      <td>0</td>\n",
              "      <td>0</td>\n",
              "      <td>1</td>\n",
              "      <td>0</td>\n",
              "      <td>1</td>\n",
              "      <td>0</td>\n",
              "      <td>0</td>\n",
              "      <td>1</td>\n",
              "      <td>0</td>\n",
              "      <td>...</td>\n",
              "      <td>1</td>\n",
              "      <td>0</td>\n",
              "      <td>0</td>\n",
              "      <td>0</td>\n",
              "      <td>1</td>\n",
              "      <td>0</td>\n",
              "      <td>0</td>\n",
              "      <td>0</td>\n",
              "      <td>1</td>\n",
              "      <td>0</td>\n",
              "    </tr>\n",
              "    <tr>\n",
              "      <th>4</th>\n",
              "      <td>1</td>\n",
              "      <td>0</td>\n",
              "      <td>0</td>\n",
              "      <td>0</td>\n",
              "      <td>0</td>\n",
              "      <td>0</td>\n",
              "      <td>1</td>\n",
              "      <td>0</td>\n",
              "      <td>1</td>\n",
              "      <td>0</td>\n",
              "      <td>...</td>\n",
              "      <td>1</td>\n",
              "      <td>0</td>\n",
              "      <td>1</td>\n",
              "      <td>0</td>\n",
              "      <td>0</td>\n",
              "      <td>0</td>\n",
              "      <td>0</td>\n",
              "      <td>0</td>\n",
              "      <td>1</td>\n",
              "      <td>0</td>\n",
              "    </tr>\n",
              "    <tr>\n",
              "      <th>...</th>\n",
              "      <td>...</td>\n",
              "      <td>...</td>\n",
              "      <td>...</td>\n",
              "      <td>...</td>\n",
              "      <td>...</td>\n",
              "      <td>...</td>\n",
              "      <td>...</td>\n",
              "      <td>...</td>\n",
              "      <td>...</td>\n",
              "      <td>...</td>\n",
              "      <td>...</td>\n",
              "      <td>...</td>\n",
              "      <td>...</td>\n",
              "      <td>...</td>\n",
              "      <td>...</td>\n",
              "      <td>...</td>\n",
              "      <td>...</td>\n",
              "      <td>...</td>\n",
              "      <td>...</td>\n",
              "      <td>...</td>\n",
              "      <td>...</td>\n",
              "    </tr>\n",
              "    <tr>\n",
              "      <th>3212062</th>\n",
              "      <td>0</td>\n",
              "      <td>0</td>\n",
              "      <td>1</td>\n",
              "      <td>0</td>\n",
              "      <td>0</td>\n",
              "      <td>1</td>\n",
              "      <td>0</td>\n",
              "      <td>0</td>\n",
              "      <td>0</td>\n",
              "      <td>0</td>\n",
              "      <td>...</td>\n",
              "      <td>1</td>\n",
              "      <td>0</td>\n",
              "      <td>0</td>\n",
              "      <td>1</td>\n",
              "      <td>0</td>\n",
              "      <td>0</td>\n",
              "      <td>0</td>\n",
              "      <td>0</td>\n",
              "      <td>1</td>\n",
              "      <td>0</td>\n",
              "    </tr>\n",
              "    <tr>\n",
              "      <th>3212063</th>\n",
              "      <td>0</td>\n",
              "      <td>1</td>\n",
              "      <td>0</td>\n",
              "      <td>0</td>\n",
              "      <td>0</td>\n",
              "      <td>0</td>\n",
              "      <td>0</td>\n",
              "      <td>1</td>\n",
              "      <td>0</td>\n",
              "      <td>0</td>\n",
              "      <td>...</td>\n",
              "      <td>0</td>\n",
              "      <td>0</td>\n",
              "      <td>0</td>\n",
              "      <td>0</td>\n",
              "      <td>1</td>\n",
              "      <td>0</td>\n",
              "      <td>0</td>\n",
              "      <td>1</td>\n",
              "      <td>0</td>\n",
              "      <td>0</td>\n",
              "    </tr>\n",
              "    <tr>\n",
              "      <th>3212064</th>\n",
              "      <td>0</td>\n",
              "      <td>0</td>\n",
              "      <td>0</td>\n",
              "      <td>1</td>\n",
              "      <td>0</td>\n",
              "      <td>0</td>\n",
              "      <td>1</td>\n",
              "      <td>0</td>\n",
              "      <td>0</td>\n",
              "      <td>0</td>\n",
              "      <td>...</td>\n",
              "      <td>1</td>\n",
              "      <td>0</td>\n",
              "      <td>0</td>\n",
              "      <td>1</td>\n",
              "      <td>0</td>\n",
              "      <td>0</td>\n",
              "      <td>0</td>\n",
              "      <td>1</td>\n",
              "      <td>0</td>\n",
              "      <td>0</td>\n",
              "    </tr>\n",
              "    <tr>\n",
              "      <th>3212065</th>\n",
              "      <td>0</td>\n",
              "      <td>0</td>\n",
              "      <td>1</td>\n",
              "      <td>0</td>\n",
              "      <td>0</td>\n",
              "      <td>0</td>\n",
              "      <td>0</td>\n",
              "      <td>1</td>\n",
              "      <td>1</td>\n",
              "      <td>0</td>\n",
              "      <td>...</td>\n",
              "      <td>0</td>\n",
              "      <td>0</td>\n",
              "      <td>0</td>\n",
              "      <td>1</td>\n",
              "      <td>0</td>\n",
              "      <td>0</td>\n",
              "      <td>0</td>\n",
              "      <td>1</td>\n",
              "      <td>0</td>\n",
              "      <td>0</td>\n",
              "    </tr>\n",
              "    <tr>\n",
              "      <th>3212066</th>\n",
              "      <td>0</td>\n",
              "      <td>0</td>\n",
              "      <td>0</td>\n",
              "      <td>1</td>\n",
              "      <td>1</td>\n",
              "      <td>0</td>\n",
              "      <td>0</td>\n",
              "      <td>0</td>\n",
              "      <td>0</td>\n",
              "      <td>0</td>\n",
              "      <td>...</td>\n",
              "      <td>0</td>\n",
              "      <td>0</td>\n",
              "      <td>0</td>\n",
              "      <td>1</td>\n",
              "      <td>0</td>\n",
              "      <td>0</td>\n",
              "      <td>0</td>\n",
              "      <td>1</td>\n",
              "      <td>0</td>\n",
              "      <td>0</td>\n",
              "    </tr>\n",
              "  </tbody>\n",
              "</table>\n",
              "<p>3212067 rows × 36 columns</p>\n",
              "</div>"
            ],
            "text/plain": [
              "         1_a  1_c  1_g  1_t  2_a  2_c  2_g  2_t  3_a  3_c  ...  7_g  7_t  8_a  \\\n",
              "0          0    1    0    0    1    0    0    0    0    0  ...    0    0    1   \n",
              "1          1    0    0    0    0    0    0    1    0    0  ...    0    0    1   \n",
              "2          0    0    0    1    1    0    0    0    0    0  ...    0    0    1   \n",
              "3          0    0    0    1    0    1    0    0    1    0  ...    1    0    0   \n",
              "4          1    0    0    0    0    0    1    0    1    0  ...    1    0    1   \n",
              "...      ...  ...  ...  ...  ...  ...  ...  ...  ...  ...  ...  ...  ...  ...   \n",
              "3212062    0    0    1    0    0    1    0    0    0    0  ...    1    0    0   \n",
              "3212063    0    1    0    0    0    0    0    1    0    0  ...    0    0    0   \n",
              "3212064    0    0    0    1    0    0    1    0    0    0  ...    1    0    0   \n",
              "3212065    0    0    1    0    0    0    0    1    1    0  ...    0    0    0   \n",
              "3212066    0    0    0    1    1    0    0    0    0    0  ...    0    0    0   \n",
              "\n",
              "         8_c  8_g  8_t  9_a  9_c  9_g  9_t  \n",
              "0          0    0    0    0    0    1    0  \n",
              "1          0    0    0    0    0    1    0  \n",
              "2          0    0    0    0    0    1    0  \n",
              "3          0    1    0    0    0    1    0  \n",
              "4          0    0    0    0    0    1    0  \n",
              "...      ...  ...  ...  ...  ...  ...  ...  \n",
              "3212062    1    0    0    0    0    1    0  \n",
              "3212063    0    1    0    0    1    0    0  \n",
              "3212064    1    0    0    0    1    0    0  \n",
              "3212065    1    0    0    0    1    0    0  \n",
              "3212066    1    0    0    0    1    0    0  \n",
              "\n",
              "[3212067 rows x 36 columns]"
            ]
          },
          "execution_count": 6,
          "metadata": {},
          "output_type": "execute_result"
        }
      ],
      "source": [
        "X_train = train_df['Seq'].str.split('', expand = True).iloc[:, 1:10]\n",
        "X_train = pd.get_dummies(X_train)\n",
        "y_train = train_df['Donar']\n",
        "X_train"
      ]
    },
    {
      "cell_type": "code",
      "execution_count": 7,
      "metadata": {
        "colab": {
          "base_uri": "https://localhost:8080/",
          "height": 235
        },
        "id": "wflA7V3mSnVF",
        "outputId": "35d18b30-5cee-498f-a5d3-251616b1a575"
      },
      "outputs": [
        {
          "data": {
            "text/plain": [
              "(1702069,)"
            ]
          },
          "execution_count": 7,
          "metadata": {},
          "output_type": "execute_result"
        }
      ],
      "source": [
        "X_test = test_df['Seq'].str.split('', expand = True).iloc[:, 1:10]\n",
        "X_test = pd.get_dummies(X_test)\n",
        "y_test = test_df['Donar']\n",
        "X_test.head()\n",
        "y_test.shape"
      ]
    },
    {
      "cell_type": "markdown",
      "metadata": {
        "id": "lthgzLrMY0uL"
      },
      "source": [
        "## SVM"
      ]
    },
    {
      "cell_type": "code",
      "execution_count": 9,
      "metadata": {
        "id": "wJAv55lOZwIO"
      },
      "outputs": [],
      "source": [
        "clf = SVC()"
      ]
    },
    {
      "cell_type": "code",
      "execution_count": 10,
      "metadata": {
        "colab": {
          "base_uri": "https://localhost:8080/"
        },
        "id": "6STAG9rCaE64",
        "outputId": "5b4ced54-296d-4984-b38b-1750e0310bf6"
      },
      "outputs": [],
      "source": [
        "clf.fit(X_train, y_train)\n",
        "y_pred = clf.predict(X_test)"
      ]
    },
    {
      "cell_type": "code",
      "execution_count": 109,
      "metadata": {},
      "outputs": [],
      "source": [
        "# result_df = pd.DataFrame({'Donar': y_test, 'Pred': y_pred})\n",
        "# result_df.to_csv('SVM_test_df.csv')\n",
        "result_df = pd.read_csv('SVM_test_df.csv', index_col = 0)"
      ]
    },
    {
      "cell_type": "markdown",
      "metadata": {},
      "source": [
        "### F1-score"
      ]
    },
    {
      "cell_type": "code",
      "execution_count": 110,
      "metadata": {},
      "outputs": [
        {
          "data": {
            "image/png": "[encoded data removed]",
            "text/plain": [
              "<Figure size 360x360 with 1 Axes>"
            ]
          },
          "metadata": {
            "needs_background": "light"
          },
          "output_type": "display_data"
        }
      ],
      "source": [
        "svm_f1 = f1_score(result_df['Donar'], result_df['Pred'])\n",
        "svm_mat = confusion_matrix(result_df['Donar'], result_df['Pred'])\n",
        "\n",
        "plt.figure(figsize = (5, 5))\n",
        "svm_hm = sns.heatmap(np.log(svm_mat), \n",
        "                        annot = svm_mat, \n",
        "                        cmap = 'YlGnBu', \n",
        "                        xticklabels = ['Pred Normal', 'Pred Donar'],\n",
        "                        yticklabels = ['Normal', 'Donar'],\n",
        "                        cbar = False)"
      ]
    },
    {
      "cell_type": "markdown",
      "metadata": {
        "id": "kqOZjHHRaKM9"
      },
      "source": [
        "## CNN"
      ]
    },
    {
      "cell_type": "markdown",
      "metadata": {
        "id": "zjyBBoGqcdaC"
      },
      "source": [
        "### 确定设备"
      ]
    },
    {
      "cell_type": "code",
      "execution_count": 19,
      "metadata": {
        "colab": {
          "base_uri": "https://localhost:8080/"
        },
        "id": "MvxE6eC3acxb",
        "outputId": "1e4dcbb3-f1a6-4acb-c762-16558de47d1d"
      },
      "outputs": [
        {
          "name": "stdout",
          "output_type": "stream",
          "text": [
            "The model will be running on cuda.\n"
          ]
        }
      ],
      "source": [
        "device = 'cuda' if torch.cuda.is_available() else 'cpu'\n",
        "print(f'The model will be running on {device}.')"
      ]
    },
    {
      "cell_type": "markdown",
      "metadata": {
        "id": "pgu6hvS-cmSu"
      },
      "source": [
        "### 定义模型"
      ]
    },
    {
      "cell_type": "code",
      "execution_count": 33,
      "metadata": {
        "id": "dZEAXLThYDg1"
      },
      "outputs": [],
      "source": [
        "class CNN(nn.Module):\n",
        "    def __init__(self):\n",
        "        super(CNN, self).__init__()\n",
        "        self.layers = nn.Sequential(nn.Conv2d(1, 10, kernel_size = 3, padding = 1, stride = 1),\n",
        "                                    nn.ReLU(True),\n",
        "                                    nn.Conv2d(10, 20, kernel_size = 3, padding = 1, stride = 1),\n",
        "                                    nn.ReLU(True),\n",
        "                                    nn.Conv2d(20, 50, kernel_size = 3, padding = 1, stride = 1),\n",
        "                                    nn.ReLU(True),\n",
        "                                    nn.Flatten(),\n",
        "                                    nn.Linear(4*9*50, 2))\n",
        "        \n",
        "    def forward(self, X):\n",
        "        X = X.view(-1, 1, 9, 4)\n",
        "        return self.layers(X)"
      ]
    },
    {
      "cell_type": "markdown",
      "metadata": {
        "id": "Tz58yB4CrEeJ"
      },
      "source": [
        "### 模型结构"
      ]
    },
    {
      "cell_type": "code",
      "execution_count": 21,
      "metadata": {
        "colab": {
          "base_uri": "https://localhost:8080/",
          "height": 317
        },
        "id": "DCFT1pwjoyxP",
        "outputId": "fcbf9000-3fe0-41ee-87ff-3316e467da74"
      },
      "outputs": [
        {
          "name": "stdout",
          "output_type": "stream",
          "text": [
            "Collecting hiddenlayer\n",
            "  Downloading hiddenlayer-0.3-py3-none-any.whl (19 kB)\n",
            "Installing collected packages: hiddenlayer\n",
            "Successfully installed hiddenlayer-0.3\n"
          ]
        },
        {
          "name": "stderr",
          "output_type": "stream",
          "text": [
            "/data4/zhanghaohong/anaconda3/envs/torch/lib/python3.8/site-packages/torch/nn/modules/module.py:720: UserWarning: Implicit dimension choice for softmax has been deprecated. Change the call to include dim=X as an argument.\n",
            "  result = self._slow_forward(*input, **kwargs)\n"
          ]
        },
        {
          "ename": "ModuleNotFoundError",
          "evalue": "No module named 'graphviz'",
          "output_type": "error",
          "traceback": [
            "\u001b[0;31m---------------------------------------------------------------------------\u001b[0m",
            "\u001b[0;31mModuleNotFoundError\u001b[0m                       Traceback (most recent call last)",
            "\u001b[1;32m/data4/zhanghaohong/github/bioinformatic_data_mining/ML_for_donar_finding.ipynb Cell 30'\u001b[0m in \u001b[0;36m<cell line: 6>\u001b[0;34m()\u001b[0m\n\u001b[1;32m      <a href='vscode-notebook-cell://ssh-remote%2B192.168.123.145/data4/zhanghaohong/github/bioinformatic_data_mining/ML_for_donar_finding.ipynb#ch0000027vscode-remote?line=3'>4</a>\u001b[0m cnn_vis \u001b[39m=\u001b[39m CNN()\n\u001b[1;32m      <a href='vscode-notebook-cell://ssh-remote%2B192.168.123.145/data4/zhanghaohong/github/bioinformatic_data_mining/ML_for_donar_finding.ipynb#ch0000027vscode-remote?line=4'>5</a>\u001b[0m vis_graph \u001b[39m=\u001b[39m h\u001b[39m.\u001b[39mbuild_graph(cnn_vis, torch\u001b[39m.\u001b[39mzeros([\u001b[39m1\u001b[39m ,\u001b[39m1\u001b[39m, \u001b[39m9\u001b[39m, \u001b[39m4\u001b[39m])) \n\u001b[0;32m----> <a href='vscode-notebook-cell://ssh-remote%2B192.168.123.145/data4/zhanghaohong/github/bioinformatic_data_mining/ML_for_donar_finding.ipynb#ch0000027vscode-remote?line=5'>6</a>\u001b[0m vis_graph\u001b[39m.\u001b[39;49msave(\u001b[39m'\u001b[39;49m\u001b[39mmodel_fig\u001b[39;49m\u001b[39m'\u001b[39;49m)\n",
            "File \u001b[0;32m/data4/zhanghaohong/anaconda3/envs/torch/lib/python3.8/site-packages/hiddenlayer/graph.py:363\u001b[0m, in \u001b[0;36mGraph.save\u001b[0;34m(self, path, format)\u001b[0m\n\u001b[1;32m    361\u001b[0m \u001b[39mdef\u001b[39;00m \u001b[39msave\u001b[39m(\u001b[39mself\u001b[39m, path, \u001b[39mformat\u001b[39m\u001b[39m=\u001b[39m\u001b[39m\"\u001b[39m\u001b[39mpdf\u001b[39m\u001b[39m\"\u001b[39m):\n\u001b[1;32m    362\u001b[0m     \u001b[39m# TODO: assert on acceptable format values\u001b[39;00m\n\u001b[0;32m--> 363\u001b[0m     dot \u001b[39m=\u001b[39m \u001b[39mself\u001b[39;49m\u001b[39m.\u001b[39;49mbuild_dot()\n\u001b[1;32m    364\u001b[0m     dot\u001b[39m.\u001b[39mformat \u001b[39m=\u001b[39m \u001b[39mformat\u001b[39m\n\u001b[1;32m    365\u001b[0m     directory, file_name \u001b[39m=\u001b[39m os\u001b[39m.\u001b[39mpath\u001b[39m.\u001b[39msplit(path)\n",
            "File \u001b[0;32m/data4/zhanghaohong/anaconda3/envs/torch/lib/python3.8/site-packages/hiddenlayer/graph.py:316\u001b[0m, in \u001b[0;36mGraph.build_dot\u001b[0;34m(self)\u001b[0m\n\u001b[1;32m    311\u001b[0m \u001b[39mdef\u001b[39;00m \u001b[39mbuild_dot\u001b[39m(\u001b[39mself\u001b[39m):\n\u001b[1;32m    312\u001b[0m     \u001b[39m\"\"\"Generate a GraphViz Dot graph.\u001b[39;00m\n\u001b[1;32m    313\u001b[0m \n\u001b[1;32m    314\u001b[0m \u001b[39m    Returns a GraphViz Digraph object.\u001b[39;00m\n\u001b[1;32m    315\u001b[0m \u001b[39m    \"\"\"\u001b[39;00m\n\u001b[0;32m--> 316\u001b[0m     \u001b[39mfrom\u001b[39;00m \u001b[39mgraphviz\u001b[39;00m \u001b[39mimport\u001b[39;00m Digraph\n\u001b[1;32m    318\u001b[0m     \u001b[39m# Build GraphViz Digraph\u001b[39;00m\n\u001b[1;32m    319\u001b[0m     dot \u001b[39m=\u001b[39m Digraph()\n",
            "\u001b[0;31mModuleNotFoundError\u001b[0m: No module named 'graphviz'"
          ]
        }
      ],
      "source": [
        "! pip install hiddenlayer\n",
        "import hiddenlayer as h\n",
        "\n",
        "cnn_vis = CNN()\n",
        "vis_graph = h.build_graph(cnn_vis, torch.zeros([1 ,1, 9, 4])) \n",
        "vis_graph.save('model_fig')"
      ]
    },
    {
      "cell_type": "markdown",
      "metadata": {
        "id": "5BJjVlNncsG0"
      },
      "source": [
        "### 重新定义数据特征表示"
      ]
    },
    {
      "cell_type": "markdown",
      "metadata": {
        "id": "9kXAHymLbUpx"
      },
      "source": [
        "#### 定义编码函数"
      ]
    },
    {
      "cell_type": "code",
      "execution_count": 26,
      "metadata": {
        "id": "NRFwkW3TczXz"
      },
      "outputs": [],
      "source": [
        "def OneHot(seq):\n",
        "    base_dict = {'a': 0, 't': 1, 'c': 2, 'g': 3}\n",
        "    seq_list = [base_dict[base] for base in seq]\n",
        "    seq_tensor = torch.tensor(seq_list)\n",
        "    return F.one_hot(seq_tensor).tolist()"
      ]
    },
    {
      "cell_type": "markdown",
      "metadata": {
        "id": "Ek3OuZMIa7aE"
      },
      "source": [
        "#### 编码"
      ]
    },
    {
      "cell_type": "code",
      "execution_count": 27,
      "metadata": {
        "colab": {
          "base_uri": "https://localhost:8080/"
        },
        "id": "B-Hf_I31Wffx",
        "outputId": "c32f4382-5e8e-4240-da78-08f4f78d7b1c"
      },
      "outputs": [
        {
          "data": {
            "text/plain": [
              "tensor([[0., 0., 1., 0.],\n",
              "        [1., 0., 0., 0.],\n",
              "        [0., 0., 0., 1.],\n",
              "        [0., 1., 0., 0.],\n",
              "        [0., 0., 0., 1.],\n",
              "        [0., 1., 0., 0.],\n",
              "        [1., 0., 0., 0.],\n",
              "        [1., 0., 0., 0.],\n",
              "        [0., 0., 0., 1.]])"
            ]
          },
          "execution_count": 27,
          "metadata": {},
          "output_type": "execute_result"
        }
      ],
      "source": [
        "X_train_cnn = torch.tensor(train_df['Seq'].apply(OneHot).values.tolist(), \n",
        "                           dtype = torch.float)\n",
        "X_test_cnn = torch.tensor(test_df['Seq'].apply(OneHot).values.tolist(), \n",
        "                          dtype = torch.float)\n",
        "y_train_cnn = torch.tensor(train_df['Donar'])\n",
        "y_test_cnn = torch.tensor(test_df['Donar'])\n",
        "X_train_cnn[0]"
      ]
    },
    {
      "cell_type": "markdown",
      "metadata": {
        "id": "iY0XSlOLfUUZ"
      },
      "source": [
        "### 装入DataSet"
      ]
    },
    {
      "cell_type": "code",
      "execution_count": 28,
      "metadata": {
        "id": "1FhKmiClfdQL"
      },
      "outputs": [],
      "source": [
        "whole_train_set = TensorDataset(X_train_cnn, y_train_cnn)\n",
        "test_set = TensorDataset(X_test_cnn, y_test_cnn)"
      ]
    },
    {
      "cell_type": "markdown",
      "metadata": {
        "id": "OMSWb0tboqtP"
      },
      "source": [
        "### 定义训练函数"
      ]
    },
    {
      "cell_type": "code",
      "execution_count": 43,
      "metadata": {
        "id": "c0dV6qShaMpi"
      },
      "outputs": [],
      "source": [
        "def train(whole_train_set):\n",
        "    train_set, valid_set = random_split(whole_train_set, [int(0.8*len(whole_train_set)), len(whole_train_set) - int(0.8*len(whole_train_set))])\n",
        "    train_loader = DataLoader(train_set, batch_size = 500, shuffle = True)\n",
        "    # valid_loader = DataLoader(valid_set, batch_size = 500, shuffle = True)\n",
        "    \n",
        "    model = CNN()\n",
        "    model.to(device)\n",
        "    criterion = nn.CrossEntropyLoss()\n",
        "    optimizer = optim.Adam(model.parameters(), lr=1e-5)\n",
        "    best_f1 = 0.0\n",
        "    \n",
        "    for epoch in range(200):\n",
        "        running_train_loss = 0.0  \n",
        "\n",
        "        for i, data in enumerate(train_loader, 0):\n",
        "            X = data[0].to(device)\n",
        "            y = data[1].to(device)\n",
        "            optimizer.zero_grad()\n",
        "            \n",
        "            outputs = model(X)  \n",
        "            loss = criterion(outputs, y.long())\n",
        "            loss.backward()\n",
        "            optimizer.step()\n",
        "            running_train_loss += loss\n",
        "        \n",
        "        train_loss = running_train_loss/len(train_loader)\n",
        "        \n",
        "        with torch.no_grad():\n",
        "            model.eval()\n",
        "            \n",
        "            X = valid_set[:][0].to(device)\n",
        "            y = valid_set[:][1].to(device)\n",
        "            outputs = model(X)\n",
        "            val_loss = criterion(outputs, y.long())\n",
        "            _, y_pred = torch.max(outputs, dim = 1)\n",
        "            f1 = f1_score(y.cpu().detach().numpy(), y_pred.cpu().detach().numpy())        \n",
        "        \n",
        "        if f1 > best_f1:\n",
        "            torch.save(model.state_dict(), f'./best_model.pth')\n",
        "            print(f'The model has been saved for the best F1-score {f1}')\n",
        "            best_f1 = f1\n",
        "        \n",
        "        if epoch == 0:\n",
        "            print(f'The model is working fine! F1-score: {f1}')\n",
        "\n",
        "        if (epoch + 1)%10 == 0:\n",
        "            print(f'Completed training epoch', epoch + 1, 'Training Loss is: %.4f' %train_loss, 'Validation Loss is: %.4f' %val_loss, 'f1-score is {f1}')"
      ]
    },
    {
      "cell_type": "markdown",
      "metadata": {
        "id": "qy0JCTW5otyP"
      },
      "source": [
        "### 训练"
      ]
    },
    {
      "cell_type": "code",
      "execution_count": 44,
      "metadata": {
        "colab": {
          "base_uri": "https://localhost:8080/"
        },
        "id": "eoEQrrHlowmd",
        "outputId": "ff2700c1-9cca-4be9-a375-ce557dac1397"
      },
      "outputs": [
        {
          "name": "stdout",
          "output_type": "stream",
          "text": [
            "The model is working fine! F1-score: 0.0\n",
            "The model has been saved for the best F1-score 0.36393442622950817\n",
            "The model has been saved for the best F1-score 0.47647058823529415\n",
            "The model has been saved for the best F1-score 0.5200553250345781\n",
            "The model has been saved for the best F1-score 0.56158940397351\n",
            "The model has been saved for the best F1-score 0.5809768637532133\n",
            "Completed training epoch 10 Training Loss is: 0.0015 Validation Loss is: 0.0015 f1-score is {f1}\n",
            "The model has been saved for the best F1-score 0.5985037406483791\n",
            "The model has been saved for the best F1-score 0.6025\n",
            "The model has been saved for the best F1-score 0.6072289156626506\n",
            "The model has been saved for the best F1-score 0.6096385542168674\n",
            "The model has been saved for the best F1-score 0.6108374384236454\n",
            "Completed training epoch 20 Training Loss is: 0.0014 Validation Loss is: 0.0014 f1-score is {f1}\n",
            "The model has been saved for the best F1-score 0.6121437422552665\n",
            "The model has been saved for the best F1-score 0.6264775413711584\n",
            "The model has been saved for the best F1-score 0.6306098964326813\n",
            "The model has been saved for the best F1-score 0.6312056737588652\n",
            "The model has been saved for the best F1-score 0.6319526627218934\n",
            "The model has been saved for the best F1-score 0.6342042755344419\n",
            "Completed training epoch 30 Training Loss is: 0.0014 Validation Loss is: 0.0014 f1-score is {f1}\n",
            "The model has been saved for the best F1-score 0.6348448687350835\n",
            "The model has been saved for the best F1-score 0.6351829988193625\n",
            "The model has been saved for the best F1-score 0.6367924528301887\n",
            "Completed training epoch 40 Training Loss is: 0.0014 Validation Loss is: 0.0014 f1-score is {f1}\n",
            "Completed training epoch 50 Training Loss is: 0.0014 Validation Loss is: 0.0014 f1-score is {f1}\n",
            "The model has been saved for the best F1-score 0.6429418742586003\n",
            "Completed training epoch 60 Training Loss is: 0.0014 Validation Loss is: 0.0014 f1-score is {f1}\n",
            "The model has been saved for the best F1-score 0.6453143534994069\n",
            "Completed training epoch 70 Training Loss is: 0.0013 Validation Loss is: 0.0014 f1-score is {f1}\n",
            "The model has been saved for the best F1-score 0.6477541371158393\n",
            "The model has been saved for the best F1-score 0.6501182033096927\n",
            "Completed training epoch 80 Training Loss is: 0.0013 Validation Loss is: 0.0014 f1-score is {f1}\n",
            "Completed training epoch 90 Training Loss is: 0.0013 Validation Loss is: 0.0014 f1-score is {f1}\n",
            "The model has been saved for the best F1-score 0.6507177033492823\n",
            "Completed training epoch 100 Training Loss is: 0.0013 Validation Loss is: 0.0013 f1-score is {f1}\n",
            "The model has been saved for the best F1-score 0.6507747318235996\n",
            "The model has been saved for the best F1-score 0.6533018867924527\n",
            "The model has been saved for the best F1-score 0.6548881036513545\n",
            "Completed training epoch 110 Training Loss is: 0.0013 Validation Loss is: 0.0013 f1-score is {f1}\n",
            "The model has been saved for the best F1-score 0.6564705882352941\n",
            "Completed training epoch 120 Training Loss is: 0.0013 Validation Loss is: 0.0013 f1-score is {f1}\n",
            "Completed training epoch 130 Training Loss is: 0.0013 Validation Loss is: 0.0014 f1-score is {f1}\n",
            "The model has been saved for the best F1-score 0.6682134570765661\n",
            "Completed training epoch 140 Training Loss is: 0.0013 Validation Loss is: 0.0013 f1-score is {f1}\n",
            "The model has been saved for the best F1-score 0.6787741203178206\n",
            "Completed training epoch 150 Training Loss is: 0.0013 Validation Loss is: 0.0013 f1-score is {f1}\n",
            "The model has been saved for the best F1-score 0.683684794672586\n",
            "Completed training epoch 160 Training Loss is: 0.0013 Validation Loss is: 0.0013 f1-score is {f1}\n",
            "Completed training epoch 170 Training Loss is: 0.0013 Validation Loss is: 0.0013 f1-score is {f1}\n",
            "Completed training epoch 180 Training Loss is: 0.0013 Validation Loss is: 0.0013 f1-score is {f1}\n",
            "Completed training epoch 190 Training Loss is: 0.0013 Validation Loss is: 0.0013 f1-score is {f1}\n",
            "Completed training epoch 200 Training Loss is: 0.0013 Validation Loss is: 0.0013 f1-score is {f1}\n"
          ]
        }
      ],
      "source": [
        "train(whole_train_set)"
      ]
    },
    {
      "cell_type": "code",
      "execution_count": 81,
      "metadata": {
        "id": "jdANy0Jpqbz9"
      },
      "outputs": [],
      "source": [
        "def test(test_set):\n",
        "    model = CNN()\n",
        "    model.to('cpu')\n",
        "    model.load_state_dict(torch.load(f'./best_model.pth'))\n",
        "    model.eval()\n",
        "    \n",
        "    X = test_set[:][0].to('cpu')\n",
        "    y = test_set[:][1].to('cpu')\n",
        "    \n",
        "    y_pred = F.softmax(model(X), 1)[:, 1]\n",
        "    return pd.DataFrame({'Donar': y.cpu().detach().numpy(), 'Score': y_pred.cpu().detach().numpy()})"
      ]
    },
    {
      "cell_type": "code",
      "execution_count": 82,
      "metadata": {
        "colab": {
          "base_uri": "https://localhost:8080/"
        },
        "id": "qd_PeEObqhN4",
        "outputId": "ce337d63-9590-4694-8b4a-0620a6d88a1d"
      },
      "outputs": [],
      "source": [
        "result_df = test(test_set)\n",
        "result_df.to_csv('CNN_test_df.csv')\n",
        "result_df = pd.read_csv('CNN_test_df.csv', index_col = 0)"
      ]
    },
    {
      "cell_type": "code",
      "execution_count": 85,
      "metadata": {},
      "outputs": [
        {
          "data": {
            "text/plain": [
              "(0.758697467297523,\n",
              " array([[1699839,     151],\n",
              "        [    716,    1363]]))"
            ]
          },
          "execution_count": 85,
          "metadata": {},
          "output_type": "execute_result"
        }
      ],
      "source": [
        "cnn_f1 =  f1_score(result_df['Donar'], result_df['Score'].apply(lambda x: 1 if x > 0.5 else 0))\n",
        "cnn_mat = confusion_matrix(result_df['Donar'], result_df['Score'].apply(lambda x: 1 if x > 0.5 else 0))\n",
        "cnn_f1, cnn_mat"
      ]
    },
    {
      "cell_type": "code",
      "execution_count": 107,
      "metadata": {},
      "outputs": [
        {
          "data": {
            "image/png": "[encoded data removed]",
            "text/plain": [
              "<Figure size 360x360 with 1 Axes>"
            ]
          },
          "metadata": {
            "needs_background": "light"
          },
          "output_type": "display_data"
        }
      ],
      "source": [
        "plt.figure(figsize = (5, 5))\n",
        "cnn_hm = sns.heatmap(np.log(cnn_mat), \n",
        "                        annot = cnn_mat, \n",
        "                        cmap = 'YlGnBu', \n",
        "                        xticklabels = ['Pred Normal', 'Pred Donar'],\n",
        "                        yticklabels = ['Normal', 'Donar'],\n",
        "                        cbar = False)"
      ]
    },
    {
      "cell_type": "code",
      "execution_count": null,
      "metadata": {},
      "outputs": [],
      "source": []
    }
  ],
  "metadata": {
    "accelerator": "GPU",
    "colab": {
      "authorship_tag": "ABX9TyPfE5hDVzOyUGdolur2khyc",
      "collapsed_sections": [],
      "include_colab_link": true,
      "mount_file_id": "1gm070IemrSmiZisRU7DNIut5ExUM3yoI",
      "name": "ML_for_donar_finding.ipynb",
      "provenance": []
    },
    "kernelspec": {
      "display_name": "Python 3.8.13 ('torch')",
      "language": "python",
      "name": "python3"
    },
    "language_info": {
      "codemirror_mode": {
        "name": "ipython",
        "version": 3
      },
      "file_extension": ".py",
      "mimetype": "text/x-python",
      "name": "python",
      "nbconvert_exporter": "python",
      "pygments_lexer": "ipython3",
      "version": "3.8.13"
    },
    "vscode": {
      "interpreter": {
        "hash": "9ff2abf7b7cf8a1b21908a8a7b42aaf8c083e7b836cc07037792e5e51d8c906d"
      }
    }
  },
  "nbformat": 4,
  "nbformat_minor": 0
}
