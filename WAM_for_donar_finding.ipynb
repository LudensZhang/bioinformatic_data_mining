{
 "cells": [
  {
   "cell_type": "markdown",
   "metadata": {
    "colab_type": "text",
    "id": "view-in-github",
    "pycharm": {
     "name": "#%% md\n"
    }
   },
   "source": [
    "<a href=\"https://colab.research.google.com/github/iceQHdrop/bioinformatic_data_mining/blob/main/WAM_for_function_finding.ipynb\" target=\"_parent\"><img src=\"https://colab.research.google.com/assets/colab-badge.svg\" alt=\"Open In Colab\"/></a>"
   ]
  },
  {
   "cell_type": "markdown",
   "metadata": {
    "id": "2a0nqoftCwPC",
    "pycharm": {
     "name": "#%% md\n"
    }
   },
   "source": [
    "# WAM_for_donar_finding"
   ]
  },
  {
   "cell_type": "code",
   "execution_count": 86,
   "metadata": {
    "colab": {
     "base_uri": "https://localhost:8080/"
    },
    "id": "vzKBEnSIIice",
    "outputId": "61c19ba2-c0fc-4654-b941-b13e1fa257b6",
    "pycharm": {
     "name": "#%%\n"
    }
   },
   "outputs": [
    {
     "ename": "ModuleNotFoundError",
     "evalue": "No module named 'google.colab'",
     "output_type": "error",
     "traceback": [
      "\u001b[1;31m---------------------------------------------------------------------------\u001b[0m",
      "\u001b[1;31mModuleNotFoundError\u001b[0m                       Traceback (most recent call last)",
      "\u001b[1;32m<ipython-input-86-d5df0069828e>\u001b[0m in \u001b[0;36m<module>\u001b[1;34m\u001b[0m\n\u001b[1;32m----> 1\u001b[1;33m \u001b[1;32mfrom\u001b[0m \u001b[0mgoogle\u001b[0m\u001b[1;33m.\u001b[0m\u001b[0mcolab\u001b[0m \u001b[1;32mimport\u001b[0m \u001b[0mdrive\u001b[0m\u001b[1;33m\u001b[0m\u001b[1;33m\u001b[0m\u001b[0m\n\u001b[0m\u001b[0;32m      2\u001b[0m \u001b[0mdrive\u001b[0m\u001b[1;33m.\u001b[0m\u001b[0mmount\u001b[0m\u001b[1;33m(\u001b[0m\u001b[1;34m'/content/drive'\u001b[0m\u001b[1;33m)\u001b[0m\u001b[1;33m\u001b[0m\u001b[1;33m\u001b[0m\u001b[0m\n",
      "\u001b[1;31mModuleNotFoundError\u001b[0m: No module named 'google.colab'"
     ]
    }
   ],
   "source": [
    "from google.colab import drive\n",
    "drive.mount('/content/drive')"
   ]
  },
  {
   "cell_type": "code",
   "execution_count": null,
   "metadata": {
    "id": "wYZeMyLoIKnp",
    "pycharm": {
     "name": "#%%\n"
    }
   },
   "outputs": [],
   "source": [
    "! cp -r drive/MyDrive/Colab_Notebooks/bioinformatic_data_mining/dataset ./"
   ]
  },
  {
   "cell_type": "markdown",
   "metadata": {
    "id": "nulKN-DuxNj6",
    "pycharm": {
     "name": "#%% md\n"
    }
   },
   "source": [
    "## 导入所需库"
   ]
  },
  {
   "cell_type": "code",
   "execution_count": 10,
   "metadata": {
    "id": "a02PPlPNCwPG",
    "pycharm": {
     "name": "#%%\n"
    }
   },
   "outputs": [],
   "source": [
    "import pandas as pd \n",
    "import numpy as np\n",
    "import xarray as xr    # 处理三维数据\n",
    "from tqdm import tqdm    # 进度条\n",
    "import os\n",
    "import re\n",
    "import matplotlib.pyplot as plt\n",
    "import seaborn as sns\n",
    "from sklearn.metrics import roc_curve, auc, confusion_matrix, f1_score\n",
    "from plotnine import*\n",
    "\n",
    "%matplotlib inline"
   ]
  },
  {
   "cell_type": "markdown",
   "metadata": {
    "id": "P97KGnFe-SKa",
    "pycharm": {
     "name": "#%% md\n"
    }
   },
   "source": [
    "## 设定路径，读取文件名"
   ]
  },
  {
   "cell_type": "code",
   "execution_count": null,
   "metadata": {
    "id": "0Je1Ip4KCwPI",
    "pycharm": {
     "name": "#%%\n"
    }
   },
   "outputs": [],
   "source": [
    "train_path = 'dataset/TrainingSet'\n",
    "test_path = 'dataset/TestingSet'    \n",
    "train_files = os.listdir(train_path)\n",
    "test_files = os.listdir(test_path)"
   ]
  },
  {
   "cell_type": "markdown",
   "metadata": {
    "id": "ndICn3_YlCfy",
    "pycharm": {
     "name": "#%% md\n"
    }
   },
   "source": [
    "## WAM"
   ]
  },
  {
   "cell_type": "markdown",
   "metadata": {
    "id": "mlgl_acBAnyb",
    "pycharm": {
     "name": "#%% md\n"
    }
   },
   "source": [
    "### 处理训练数据"
   ]
  },
  {
   "cell_type": "markdown",
   "metadata": {
    "id": "HFycscWgAr77",
    "pycharm": {
     "name": "#%% md\n"
    }
   },
   "source": [
    "#### 碱基计数"
   ]
  },
  {
   "cell_type": "code",
   "execution_count": null,
   "metadata": {
    "colab": {
     "base_uri": "https://localhost:8080/"
    },
    "id": "bL_Md6BNzvlh",
    "outputId": "ab8db889-4a34-47c9-c2e1-c2a7ef0eb16b",
    "pycharm": {
     "name": "#%%\n"
    }
   },
   "outputs": [
    {
     "name": "stderr",
     "output_type": "stream",
     "text": [
      "  0%|          | 2/462 [00:00<00:37, 12.21it/s]"
     ]
    },
    {
     "name": "stdout",
     "output_type": "stream",
     "text": [
      "Loading data and counting base, this could be time consuming...\n"
     ]
    },
    {
     "name": "stderr",
     "output_type": "stream",
     "text": [
      "100%|██████████| 462/462 [00:20<00:00, 22.22it/s]\n"
     ]
    }
   ],
   "source": [
    "site_base_count = pd.DataFrame(np.zeros((9, 4)),    # 记录位点周围碱基数\n",
    "                               columns = ['a', 't', 'c', 'g'],\n",
    "                               index = [i-3 for i in range(9)])\n",
    "\n",
    "site_forward_count = xr.DataArray(np.zeros((9, 4, 4)),    # 记录位点周围当前一个碱基确定时碱基数\n",
    "                                  dims = ['position', 'forward', 'self'],\n",
    "                                  coords = [[i-3 for i in range(9)],\n",
    "                        ['a', 't', 'c', 'g'],\n",
    "                        ['a', 't', 'c', 'g']])\n",
    "\n",
    "background_forward_count = pd.DataFrame(np.zeros((4, 4)),    # 记录背景当前一个碱基确定时碱基数\n",
    "                                     columns = ['a', 't', 'c', 'g'],\n",
    "                                     index = ['a', 't', 'c', 'g'])\n",
    "site_seqs = []\n",
    "whole_seq = ''\n",
    "\n",
    "print('Loading data and counting base, this could be time consuming...')\n",
    "\n",
    "for train_file in tqdm(train_files):\n",
    "    with open(train_path + '/' + train_file, 'r') as f:\n",
    "        text = f.readlines()\n",
    "        site_positions = re.findall('(\\d+)(?=,)', text[1])    # 提取位置\n",
    "        seq = ''.join(text[2:]).replace('\\n', '').lower()    # 仅保留小写序列\n",
    "\n",
    "        for position in site_positions:\n",
    "            site_seqs.append(seq[int(position) - 4:int(position) + 5])    # 提取位点序列\n",
    "\n",
    "            for i in range(9):    # 统计位点周围9个位置的碱基\n",
    "                if int(position) - 1 + (i - 3) > 0:    # 排除在基因前三个碱基的位点\n",
    "                    base = seq[int(position) - 1 + (i - 3)]    \n",
    "                    site_base_count.loc[i-3, base] += 1\n",
    "\n",
    "            for i in range(8):    # 统计位点周围9个位置的碱基，当前一个碱基确定时的数目\n",
    "                if int(position) - 1 + (i - 3) > 0:\n",
    "                    base = seq[int(position) - 1 + (i - 2)]   \n",
    "                    forward_base = seq[int(position) - 1 + (i - 3)]\n",
    "                    site_forward_count.loc[i-2, forward_base, base] += 1\n",
    "                    \n",
    "        whole_seq += seq            \n",
    "            \n",
    "#         for i in range(len(seq)-1):    # 统计背景碱基当前一个碱基确定时的数目，费时，保存后可注释掉\n",
    "#             base = seq[i+1]\n",
    "#             forward_base = seq[i]\n",
    "#             try:    # 越过'n'\n",
    "#                 background_forward_count.loc[forward_base, base] += 1\n",
    "#             except:\n",
    "#                 continue\n",
    "            \n",
    "# background_forward_count.to_csv('dataset/background_forward_matrix.csv')"
   ]
  },
  {
   "cell_type": "markdown",
   "metadata": {
    "id": "8LXdkRlp8Clv",
    "pycharm": {
     "name": "#%% md\n"
    }
   },
   "source": [
    "读取先前计算好的背景概率矩阵"
   ]
  },
  {
   "cell_type": "code",
   "execution_count": null,
   "metadata": {
    "id": "4ant9Fsf61Xe",
    "pycharm": {
     "name": "#%%\n"
    }
   },
   "outputs": [],
   "source": [
    "background_forward_count = pd.read_csv('dataset/background_forward_matrix.csv', index_col = 0)"
   ]
  },
  {
   "cell_type": "markdown",
   "metadata": {
    "id": "Rh1yRhsZp4c0",
    "pycharm": {
     "name": "#%% md\n"
    }
   },
   "source": [
    "#### 构建前景概率矩阵"
   ]
  },
  {
   "cell_type": "markdown",
   "metadata": {
    "id": "b16okD6819jk",
    "pycharm": {
     "name": "#%% md\n"
    }
   },
   "source": [
    "构建不考虑前一个碱基的概率矩阵"
   ]
  },
  {
   "cell_type": "code",
   "execution_count": null,
   "metadata": {
    "colab": {
     "base_uri": "https://localhost:8080/",
     "height": 328
    },
    "id": "tHg2nuRK18va",
    "outputId": "7a4dcf2e-5f2c-49d1-9918-404a2c914bdc",
    "pycharm": {
     "name": "#%%\n"
    }
   },
   "outputs": [
    {
     "data": {
      "text/html": [
       "<div>\n",
       "<style scoped>\n",
       "    .dataframe tbody tr th:only-of-type {\n",
       "        vertical-align: middle;\n",
       "    }\n",
       "\n",
       "    .dataframe tbody tr th {\n",
       "        vertical-align: top;\n",
       "    }\n",
       "\n",
       "    .dataframe thead th {\n",
       "        text-align: right;\n",
       "    }\n",
       "</style>\n",
       "<table border=\"1\" class=\"dataframe\">\n",
       "  <thead>\n",
       "    <tr style=\"text-align: right;\">\n",
       "      <th></th>\n",
       "      <th>a</th>\n",
       "      <th>t</th>\n",
       "      <th>c</th>\n",
       "      <th>g</th>\n",
       "    </tr>\n",
       "  </thead>\n",
       "  <tbody>\n",
       "    <tr>\n",
       "      <th>-3</th>\n",
       "      <td>0.270055</td>\n",
       "      <td>0.183536</td>\n",
       "      <td>0.305334</td>\n",
       "      <td>0.241075</td>\n",
       "    </tr>\n",
       "    <tr>\n",
       "      <th>-2</th>\n",
       "      <td>0.328433</td>\n",
       "      <td>0.119278</td>\n",
       "      <td>0.363713</td>\n",
       "      <td>0.188576</td>\n",
       "    </tr>\n",
       "    <tr>\n",
       "      <th>-1</th>\n",
       "      <td>0.585468</td>\n",
       "      <td>0.143217</td>\n",
       "      <td>0.137757</td>\n",
       "      <td>0.133557</td>\n",
       "    </tr>\n",
       "    <tr>\n",
       "      <th>0</th>\n",
       "      <td>0.094078</td>\n",
       "      <td>0.083158</td>\n",
       "      <td>0.034019</td>\n",
       "      <td>0.788744</td>\n",
       "    </tr>\n",
       "    <tr>\n",
       "      <th>1</th>\n",
       "      <td>0.000000</td>\n",
       "      <td>0.000000</td>\n",
       "      <td>0.000000</td>\n",
       "      <td>1.000000</td>\n",
       "    </tr>\n",
       "    <tr>\n",
       "      <th>2</th>\n",
       "      <td>0.000000</td>\n",
       "      <td>1.000000</td>\n",
       "      <td>0.000000</td>\n",
       "      <td>0.000000</td>\n",
       "    </tr>\n",
       "    <tr>\n",
       "      <th>3</th>\n",
       "      <td>0.490130</td>\n",
       "      <td>0.024360</td>\n",
       "      <td>0.027299</td>\n",
       "      <td>0.458211</td>\n",
       "    </tr>\n",
       "    <tr>\n",
       "      <th>4</th>\n",
       "      <td>0.713566</td>\n",
       "      <td>0.091558</td>\n",
       "      <td>0.077278</td>\n",
       "      <td>0.117598</td>\n",
       "    </tr>\n",
       "    <tr>\n",
       "      <th>5</th>\n",
       "      <td>0.065099</td>\n",
       "      <td>0.047039</td>\n",
       "      <td>0.049559</td>\n",
       "      <td>0.838303</td>\n",
       "    </tr>\n",
       "  </tbody>\n",
       "</table>\n",
       "</div>"
      ],
      "text/plain": [
       "           a         t         c         g\n",
       "-3  0.270055  0.183536  0.305334  0.241075\n",
       "-2  0.328433  0.119278  0.363713  0.188576\n",
       "-1  0.585468  0.143217  0.137757  0.133557\n",
       " 0  0.094078  0.083158  0.034019  0.788744\n",
       " 1  0.000000  0.000000  0.000000  1.000000\n",
       " 2  0.000000  1.000000  0.000000  0.000000\n",
       " 3  0.490130  0.024360  0.027299  0.458211\n",
       " 4  0.713566  0.091558  0.077278  0.117598\n",
       " 5  0.065099  0.047039  0.049559  0.838303"
      ]
     },
     "execution_count": 7,
     "metadata": {},
     "output_type": "execute_result"
    }
   ],
   "source": [
    "matrix_pos = site_base_count/len(site_seqs)\n",
    "matrix_pos"
   ]
  },
  {
   "cell_type": "markdown",
   "metadata": {
    "id": "A4JtneaL2DwS",
    "pycharm": {
     "name": "#%% md\n"
    }
   },
   "source": [
    "构建考虑前一个碱基的概率矩阵"
   ]
  },
  {
   "cell_type": "code",
   "execution_count": null,
   "metadata": {
    "colab": {
     "base_uri": "https://localhost:8080/",
     "height": 869
    },
    "id": "DkbuGV1lp8ME",
    "outputId": "af98322c-83ee-47d7-f625-4bb054024c5a",
    "pycharm": {
     "name": "#%%\n"
    }
   },
   "outputs": [
    {
     "data": {
      "text/html": [
       "<div><svg style=\"position: absolute; width: 0; height: 0; overflow: hidden\">\n",
       "<defs>\n",
       "<symbol id=\"icon-database\" viewBox=\"0 0 32 32\">\n",
       "<path d=\"M16 0c-8.837 0-16 2.239-16 5v4c0 2.761 7.163 5 16 5s16-2.239 16-5v-4c0-2.761-7.163-5-16-5z\"></path>\n",
       "<path d=\"M16 17c-8.837 0-16-2.239-16-5v6c0 2.761 7.163 5 16 5s16-2.239 16-5v-6c0 2.761-7.163 5-16 5z\"></path>\n",
       "<path d=\"M16 26c-8.837 0-16-2.239-16-5v6c0 2.761 7.163 5 16 5s16-2.239 16-5v-6c0 2.761-7.163 5-16 5z\"></path>\n",
       "</symbol>\n",
       "<symbol id=\"icon-file-text2\" viewBox=\"0 0 32 32\">\n",
       "<path d=\"M28.681 7.159c-0.694-0.947-1.662-2.053-2.724-3.116s-2.169-2.030-3.116-2.724c-1.612-1.182-2.393-1.319-2.841-1.319h-15.5c-1.378 0-2.5 1.121-2.5 2.5v27c0 1.378 1.122 2.5 2.5 2.5h23c1.378 0 2.5-1.122 2.5-2.5v-19.5c0-0.448-0.137-1.23-1.319-2.841zM24.543 5.457c0.959 0.959 1.712 1.825 2.268 2.543h-4.811v-4.811c0.718 0.556 1.584 1.309 2.543 2.268zM28 29.5c0 0.271-0.229 0.5-0.5 0.5h-23c-0.271 0-0.5-0.229-0.5-0.5v-27c0-0.271 0.229-0.5 0.5-0.5 0 0 15.499-0 15.5 0v7c0 0.552 0.448 1 1 1h7v19.5z\"></path>\n",
       "<path d=\"M23 26h-14c-0.552 0-1-0.448-1-1s0.448-1 1-1h14c0.552 0 1 0.448 1 1s-0.448 1-1 1z\"></path>\n",
       "<path d=\"M23 22h-14c-0.552 0-1-0.448-1-1s0.448-1 1-1h14c0.552 0 1 0.448 1 1s-0.448 1-1 1z\"></path>\n",
       "<path d=\"M23 18h-14c-0.552 0-1-0.448-1-1s0.448-1 1-1h14c0.552 0 1 0.448 1 1s-0.448 1-1 1z\"></path>\n",
       "</symbol>\n",
       "</defs>\n",
       "</svg>\n",
       "<style>/* CSS stylesheet for displaying xarray objects in jupyterlab.\n",
       " *\n",
       " */\n",
       "\n",
       ":root {\n",
       "  --xr-font-color0: var(--jp-content-font-color0, rgba(0, 0, 0, 1));\n",
       "  --xr-font-color2: var(--jp-content-font-color2, rgba(0, 0, 0, 0.54));\n",
       "  --xr-font-color3: var(--jp-content-font-color3, rgba(0, 0, 0, 0.38));\n",
       "  --xr-border-color: var(--jp-border-color2, #e0e0e0);\n",
       "  --xr-disabled-color: var(--jp-layout-color3, #bdbdbd);\n",
       "  --xr-background-color: var(--jp-layout-color0, white);\n",
       "  --xr-background-color-row-even: var(--jp-layout-color1, white);\n",
       "  --xr-background-color-row-odd: var(--jp-layout-color2, #eeeeee);\n",
       "}\n",
       "\n",
       "html[theme=dark],\n",
       "body.vscode-dark {\n",
       "  --xr-font-color0: rgba(255, 255, 255, 1);\n",
       "  --xr-font-color2: rgba(255, 255, 255, 0.54);\n",
       "  --xr-font-color3: rgba(255, 255, 255, 0.38);\n",
       "  --xr-border-color: #1F1F1F;\n",
       "  --xr-disabled-color: #515151;\n",
       "  --xr-background-color: #111111;\n",
       "  --xr-background-color-row-even: #111111;\n",
       "  --xr-background-color-row-odd: #313131;\n",
       "}\n",
       "\n",
       ".xr-wrap {\n",
       "  display: block !important;\n",
       "  min-width: 300px;\n",
       "  max-width: 700px;\n",
       "}\n",
       "\n",
       ".xr-text-repr-fallback {\n",
       "  /* fallback to plain text repr when CSS is not injected (untrusted notebook) */\n",
       "  display: none;\n",
       "}\n",
       "\n",
       ".xr-header {\n",
       "  padding-top: 6px;\n",
       "  padding-bottom: 6px;\n",
       "  margin-bottom: 4px;\n",
       "  border-bottom: solid 1px var(--xr-border-color);\n",
       "}\n",
       "\n",
       ".xr-header > div,\n",
       ".xr-header > ul {\n",
       "  display: inline;\n",
       "  margin-top: 0;\n",
       "  margin-bottom: 0;\n",
       "}\n",
       "\n",
       ".xr-obj-type,\n",
       ".xr-array-name {\n",
       "  margin-left: 2px;\n",
       "  margin-right: 10px;\n",
       "}\n",
       "\n",
       ".xr-obj-type {\n",
       "  color: var(--xr-font-color2);\n",
       "}\n",
       "\n",
       ".xr-sections {\n",
       "  padding-left: 0 !important;\n",
       "  display: grid;\n",
       "  grid-template-columns: 150px auto auto 1fr 20px 20px;\n",
       "}\n",
       "\n",
       ".xr-section-item {\n",
       "  display: contents;\n",
       "}\n",
       "\n",
       ".xr-section-item input {\n",
       "  display: none;\n",
       "}\n",
       "\n",
       ".xr-section-item input + label {\n",
       "  color: var(--xr-disabled-color);\n",
       "}\n",
       "\n",
       ".xr-section-item input:enabled + label {\n",
       "  cursor: pointer;\n",
       "  color: var(--xr-font-color2);\n",
       "}\n",
       "\n",
       ".xr-section-item input:enabled + label:hover {\n",
       "  color: var(--xr-font-color0);\n",
       "}\n",
       "\n",
       ".xr-section-summary {\n",
       "  grid-column: 1;\n",
       "  color: var(--xr-font-color2);\n",
       "  font-weight: 500;\n",
       "}\n",
       "\n",
       ".xr-section-summary > span {\n",
       "  display: inline-block;\n",
       "  padding-left: 0.5em;\n",
       "}\n",
       "\n",
       ".xr-section-summary-in:disabled + label {\n",
       "  color: var(--xr-font-color2);\n",
       "}\n",
       "\n",
       ".xr-section-summary-in + label:before {\n",
       "  display: inline-block;\n",
       "  content: '►';\n",
       "  font-size: 11px;\n",
       "  width: 15px;\n",
       "  text-align: center;\n",
       "}\n",
       "\n",
       ".xr-section-summary-in:disabled + label:before {\n",
       "  color: var(--xr-disabled-color);\n",
       "}\n",
       "\n",
       ".xr-section-summary-in:checked + label:before {\n",
       "  content: '▼';\n",
       "}\n",
       "\n",
       ".xr-section-summary-in:checked + label > span {\n",
       "  display: none;\n",
       "}\n",
       "\n",
       ".xr-section-summary,\n",
       ".xr-section-inline-details {\n",
       "  padding-top: 4px;\n",
       "  padding-bottom: 4px;\n",
       "}\n",
       "\n",
       ".xr-section-inline-details {\n",
       "  grid-column: 2 / -1;\n",
       "}\n",
       "\n",
       ".xr-section-details {\n",
       "  display: none;\n",
       "  grid-column: 1 / -1;\n",
       "  margin-bottom: 5px;\n",
       "}\n",
       "\n",
       ".xr-section-summary-in:checked ~ .xr-section-details {\n",
       "  display: contents;\n",
       "}\n",
       "\n",
       ".xr-array-wrap {\n",
       "  grid-column: 1 / -1;\n",
       "  display: grid;\n",
       "  grid-template-columns: 20px auto;\n",
       "}\n",
       "\n",
       ".xr-array-wrap > label {\n",
       "  grid-column: 1;\n",
       "  vertical-align: top;\n",
       "}\n",
       "\n",
       ".xr-preview {\n",
       "  color: var(--xr-font-color3);\n",
       "}\n",
       "\n",
       ".xr-array-preview,\n",
       ".xr-array-data {\n",
       "  padding: 0 5px !important;\n",
       "  grid-column: 2;\n",
       "}\n",
       "\n",
       ".xr-array-data,\n",
       ".xr-array-in:checked ~ .xr-array-preview {\n",
       "  display: none;\n",
       "}\n",
       "\n",
       ".xr-array-in:checked ~ .xr-array-data,\n",
       ".xr-array-preview {\n",
       "  display: inline-block;\n",
       "}\n",
       "\n",
       ".xr-dim-list {\n",
       "  display: inline-block !important;\n",
       "  list-style: none;\n",
       "  padding: 0 !important;\n",
       "  margin: 0;\n",
       "}\n",
       "\n",
       ".xr-dim-list li {\n",
       "  display: inline-block;\n",
       "  padding: 0;\n",
       "  margin: 0;\n",
       "}\n",
       "\n",
       ".xr-dim-list:before {\n",
       "  content: '(';\n",
       "}\n",
       "\n",
       ".xr-dim-list:after {\n",
       "  content: ')';\n",
       "}\n",
       "\n",
       ".xr-dim-list li:not(:last-child):after {\n",
       "  content: ',';\n",
       "  padding-right: 5px;\n",
       "}\n",
       "\n",
       ".xr-has-index {\n",
       "  font-weight: bold;\n",
       "}\n",
       "\n",
       ".xr-var-list,\n",
       ".xr-var-item {\n",
       "  display: contents;\n",
       "}\n",
       "\n",
       ".xr-var-item > div,\n",
       ".xr-var-item label,\n",
       ".xr-var-item > .xr-var-name span {\n",
       "  background-color: var(--xr-background-color-row-even);\n",
       "  margin-bottom: 0;\n",
       "}\n",
       "\n",
       ".xr-var-item > .xr-var-name:hover span {\n",
       "  padding-right: 5px;\n",
       "}\n",
       "\n",
       ".xr-var-list > li:nth-child(odd) > div,\n",
       ".xr-var-list > li:nth-child(odd) > label,\n",
       ".xr-var-list > li:nth-child(odd) > .xr-var-name span {\n",
       "  background-color: var(--xr-background-color-row-odd);\n",
       "}\n",
       "\n",
       ".xr-var-name {\n",
       "  grid-column: 1;\n",
       "}\n",
       "\n",
       ".xr-var-dims {\n",
       "  grid-column: 2;\n",
       "}\n",
       "\n",
       ".xr-var-dtype {\n",
       "  grid-column: 3;\n",
       "  text-align: right;\n",
       "  color: var(--xr-font-color2);\n",
       "}\n",
       "\n",
       ".xr-var-preview {\n",
       "  grid-column: 4;\n",
       "}\n",
       "\n",
       ".xr-var-name,\n",
       ".xr-var-dims,\n",
       ".xr-var-dtype,\n",
       ".xr-preview,\n",
       ".xr-attrs dt {\n",
       "  white-space: nowrap;\n",
       "  overflow: hidden;\n",
       "  text-overflow: ellipsis;\n",
       "  padding-right: 10px;\n",
       "}\n",
       "\n",
       ".xr-var-name:hover,\n",
       ".xr-var-dims:hover,\n",
       ".xr-var-dtype:hover,\n",
       ".xr-attrs dt:hover {\n",
       "  overflow: visible;\n",
       "  width: auto;\n",
       "  z-index: 1;\n",
       "}\n",
       "\n",
       ".xr-var-attrs,\n",
       ".xr-var-data {\n",
       "  display: none;\n",
       "  background-color: var(--xr-background-color) !important;\n",
       "  padding-bottom: 5px !important;\n",
       "}\n",
       "\n",
       ".xr-var-attrs-in:checked ~ .xr-var-attrs,\n",
       ".xr-var-data-in:checked ~ .xr-var-data {\n",
       "  display: block;\n",
       "}\n",
       "\n",
       ".xr-var-data > table {\n",
       "  float: right;\n",
       "}\n",
       "\n",
       ".xr-var-name span,\n",
       ".xr-var-data,\n",
       ".xr-attrs {\n",
       "  padding-left: 25px !important;\n",
       "}\n",
       "\n",
       ".xr-attrs,\n",
       ".xr-var-attrs,\n",
       ".xr-var-data {\n",
       "  grid-column: 1 / -1;\n",
       "}\n",
       "\n",
       "dl.xr-attrs {\n",
       "  padding: 0;\n",
       "  margin: 0;\n",
       "  display: grid;\n",
       "  grid-template-columns: 125px auto;\n",
       "}\n",
       "\n",
       ".xr-attrs dt,\n",
       ".xr-attrs dd {\n",
       "  padding: 0;\n",
       "  margin: 0;\n",
       "  float: left;\n",
       "  padding-right: 10px;\n",
       "  width: auto;\n",
       "}\n",
       "\n",
       ".xr-attrs dt {\n",
       "  font-weight: normal;\n",
       "  grid-column: 1;\n",
       "}\n",
       "\n",
       ".xr-attrs dt:hover span {\n",
       "  display: inline-block;\n",
       "  background: var(--xr-background-color);\n",
       "  padding-right: 10px;\n",
       "}\n",
       "\n",
       ".xr-attrs dd {\n",
       "  grid-column: 2;\n",
       "  white-space: pre-wrap;\n",
       "  word-break: break-all;\n",
       "}\n",
       "\n",
       ".xr-icon-database,\n",
       ".xr-icon-file-text2 {\n",
       "  display: inline-block;\n",
       "  vertical-align: middle;\n",
       "  width: 1em;\n",
       "  height: 1.5em !important;\n",
       "  stroke-width: 0;\n",
       "  stroke: currentColor;\n",
       "  fill: currentColor;\n",
       "}\n",
       "</style><pre class='xr-text-repr-fallback'>&lt;xarray.DataArray (position: 9, forward: 4, self: 4)&gt;\n",
       "array([[[0.        , 0.        , 0.        , 0.        ],\n",
       "        [0.        , 0.        , 0.        , 0.        ],\n",
       "        [0.        , 0.        , 0.        , 0.        ],\n",
       "        [0.        , 0.        , 0.        , 0.        ]],\n",
       "\n",
       "       [[0.3125972 , 0.14152411, 0.30948678, 0.23639191],\n",
       "        [0.1624714 , 0.13043478, 0.40732265, 0.29977117],\n",
       "        [0.39614856, 0.1389271 , 0.3823934 , 0.08253095],\n",
       "        [0.38675958, 0.06097561, 0.36759582, 0.18466899]],\n",
       "\n",
       "       [[0.61636829, 0.13682864, 0.0971867 , 0.14961637],\n",
       "        [0.18309859, 0.23943662, 0.24647887, 0.33098592],\n",
       "        [0.6778291 , 0.13972286, 0.12355658, 0.05889145],\n",
       "        [0.60801782, 0.10022272, 0.16703786, 0.1247216 ]],\n",
       "\n",
       "       [[0.07388809, 0.05308465, 0.01865136, 0.8543759 ],\n",
       "        [0.03519062, 0.08211144, 0.03225806, 0.85043988],\n",
       "        [0.18902439, 0.21646341, 0.07012195, 0.52439024],\n",
       "        [0.14779874, 0.07861635, 0.06603774, 0.70754717]],\n",
       "\n",
       "...\n",
       "\n",
       "       [[0.        , 0.        , 0.        , 0.        ],\n",
       "        [0.        , 0.        , 0.        , 0.        ],\n",
       "        [0.        , 0.        , 0.        , 0.        ],\n",
       "        [0.        , 1.        , 0.        , 0.        ]],\n",
       "\n",
       "       [[0.        , 0.        , 0.        , 0.        ],\n",
       "        [0.4901302 , 0.02435951, 0.02729945, 0.45821084],\n",
       "        [0.        , 0.        , 0.        , 0.        ],\n",
       "        [0.        , 0.        , 0.        , 0.        ]],\n",
       "\n",
       "       [[0.64610111, 0.13624679, 0.09597258, 0.12167952],\n",
       "        [0.34482759, 0.22413793, 0.06896552, 0.36206897],\n",
       "        [0.67692308, 0.18461538, 0.03076923, 0.10769231],\n",
       "        [0.80751604, 0.03116407, 0.06049496, 0.10082493]],\n",
       "\n",
       "       [[0.05768099, 0.03296057, 0.02707475, 0.8822837 ],\n",
       "        [0.04587156, 0.06422018, 0.07798165, 0.81192661],\n",
       "        [0.16304348, 0.18478261, 0.22282609, 0.42934783],\n",
       "        [0.06071429, 0.02857143, 0.05      , 0.86071429]]])\n",
       "Coordinates:\n",
       "  * position  (position) int32 -3 -2 -1 0 1 2 3 4 5\n",
       "  * forward   (forward) &lt;U1 &#x27;a&#x27; &#x27;t&#x27; &#x27;c&#x27; &#x27;g&#x27;\n",
       "  * self      (self) &lt;U1 &#x27;a&#x27; &#x27;t&#x27; &#x27;c&#x27; &#x27;g&#x27;</pre><div class='xr-wrap' style='display:none'><div class='xr-header'><div class='xr-obj-type'>xarray.DataArray</div><div class='xr-array-name'></div><ul class='xr-dim-list'><li><span class='xr-has-index'>position</span>: 9</li><li><span class='xr-has-index'>forward</span>: 4</li><li><span class='xr-has-index'>self</span>: 4</li></ul></div><ul class='xr-sections'><li class='xr-section-item'><div class='xr-array-wrap'><input id='section-7e34bb17-58f0-46b1-94c5-3399031a81ec' class='xr-array-in' type='checkbox' checked><label for='section-7e34bb17-58f0-46b1-94c5-3399031a81ec' title='Show/hide data repr'><svg class='icon xr-icon-database'><use xlink:href='#icon-database'></use></svg></label><div class='xr-array-preview xr-preview'><span>0.0 0.0 0.0 0.0 0.0 0.0 ... 0.2228 0.4293 0.06071 0.02857 0.05 0.8607</span></div><div class='xr-array-data'><pre>array([[[0.        , 0.        , 0.        , 0.        ],\n",
       "        [0.        , 0.        , 0.        , 0.        ],\n",
       "        [0.        , 0.        , 0.        , 0.        ],\n",
       "        [0.        , 0.        , 0.        , 0.        ]],\n",
       "\n",
       "       [[0.3125972 , 0.14152411, 0.30948678, 0.23639191],\n",
       "        [0.1624714 , 0.13043478, 0.40732265, 0.29977117],\n",
       "        [0.39614856, 0.1389271 , 0.3823934 , 0.08253095],\n",
       "        [0.38675958, 0.06097561, 0.36759582, 0.18466899]],\n",
       "\n",
       "       [[0.61636829, 0.13682864, 0.0971867 , 0.14961637],\n",
       "        [0.18309859, 0.23943662, 0.24647887, 0.33098592],\n",
       "        [0.6778291 , 0.13972286, 0.12355658, 0.05889145],\n",
       "        [0.60801782, 0.10022272, 0.16703786, 0.1247216 ]],\n",
       "\n",
       "       [[0.07388809, 0.05308465, 0.01865136, 0.8543759 ],\n",
       "        [0.03519062, 0.08211144, 0.03225806, 0.85043988],\n",
       "        [0.18902439, 0.21646341, 0.07012195, 0.52439024],\n",
       "        [0.14779874, 0.07861635, 0.06603774, 0.70754717]],\n",
       "\n",
       "...\n",
       "\n",
       "       [[0.        , 0.        , 0.        , 0.        ],\n",
       "        [0.        , 0.        , 0.        , 0.        ],\n",
       "        [0.        , 0.        , 0.        , 0.        ],\n",
       "        [0.        , 1.        , 0.        , 0.        ]],\n",
       "\n",
       "       [[0.        , 0.        , 0.        , 0.        ],\n",
       "        [0.4901302 , 0.02435951, 0.02729945, 0.45821084],\n",
       "        [0.        , 0.        , 0.        , 0.        ],\n",
       "        [0.        , 0.        , 0.        , 0.        ]],\n",
       "\n",
       "       [[0.64610111, 0.13624679, 0.09597258, 0.12167952],\n",
       "        [0.34482759, 0.22413793, 0.06896552, 0.36206897],\n",
       "        [0.67692308, 0.18461538, 0.03076923, 0.10769231],\n",
       "        [0.80751604, 0.03116407, 0.06049496, 0.10082493]],\n",
       "\n",
       "       [[0.05768099, 0.03296057, 0.02707475, 0.8822837 ],\n",
       "        [0.04587156, 0.06422018, 0.07798165, 0.81192661],\n",
       "        [0.16304348, 0.18478261, 0.22282609, 0.42934783],\n",
       "        [0.06071429, 0.02857143, 0.05      , 0.86071429]]])</pre></div></div></li><li class='xr-section-item'><input id='section-f49ce17b-f9c4-4df8-84a3-181d4c7c3ae2' class='xr-section-summary-in' type='checkbox'  checked><label for='section-f49ce17b-f9c4-4df8-84a3-181d4c7c3ae2' class='xr-section-summary' >Coordinates: <span>(3)</span></label><div class='xr-section-inline-details'></div><div class='xr-section-details'><ul class='xr-var-list'><li class='xr-var-item'><div class='xr-var-name'><span class='xr-has-index'>position</span></div><div class='xr-var-dims'>(position)</div><div class='xr-var-dtype'>int32</div><div class='xr-var-preview xr-preview'>-3 -2 -1 0 1 2 3 4 5</div><input id='attrs-6613a485-ad35-4a69-937f-0c1d783b3843' class='xr-var-attrs-in' type='checkbox' disabled><label for='attrs-6613a485-ad35-4a69-937f-0c1d783b3843' title='Show/Hide attributes'><svg class='icon xr-icon-file-text2'><use xlink:href='#icon-file-text2'></use></svg></label><input id='data-6d6debc3-204b-4ce0-a4d1-780430d3a6d9' class='xr-var-data-in' type='checkbox'><label for='data-6d6debc3-204b-4ce0-a4d1-780430d3a6d9' title='Show/Hide data repr'><svg class='icon xr-icon-database'><use xlink:href='#icon-database'></use></svg></label><div class='xr-var-attrs'><dl class='xr-attrs'></dl></div><div class='xr-var-data'><pre>array([-3, -2, -1,  0,  1,  2,  3,  4,  5])</pre></div></li><li class='xr-var-item'><div class='xr-var-name'><span class='xr-has-index'>forward</span></div><div class='xr-var-dims'>(forward)</div><div class='xr-var-dtype'>&lt;U1</div><div class='xr-var-preview xr-preview'>&#x27;a&#x27; &#x27;t&#x27; &#x27;c&#x27; &#x27;g&#x27;</div><input id='attrs-dd2a856a-90f8-4692-9355-f737da2e4760' class='xr-var-attrs-in' type='checkbox' disabled><label for='attrs-dd2a856a-90f8-4692-9355-f737da2e4760' title='Show/Hide attributes'><svg class='icon xr-icon-file-text2'><use xlink:href='#icon-file-text2'></use></svg></label><input id='data-fd731450-ac41-4d02-9ada-42d29a868546' class='xr-var-data-in' type='checkbox'><label for='data-fd731450-ac41-4d02-9ada-42d29a868546' title='Show/Hide data repr'><svg class='icon xr-icon-database'><use xlink:href='#icon-database'></use></svg></label><div class='xr-var-attrs'><dl class='xr-attrs'></dl></div><div class='xr-var-data'><pre>array([&#x27;a&#x27;, &#x27;t&#x27;, &#x27;c&#x27;, &#x27;g&#x27;], dtype=&#x27;&lt;U1&#x27;)</pre></div></li><li class='xr-var-item'><div class='xr-var-name'><span class='xr-has-index'>self</span></div><div class='xr-var-dims'>(self)</div><div class='xr-var-dtype'>&lt;U1</div><div class='xr-var-preview xr-preview'>&#x27;a&#x27; &#x27;t&#x27; &#x27;c&#x27; &#x27;g&#x27;</div><input id='attrs-5f7d6fbc-0a02-47cc-b7f4-17dc24a21eb0' class='xr-var-attrs-in' type='checkbox' disabled><label for='attrs-5f7d6fbc-0a02-47cc-b7f4-17dc24a21eb0' title='Show/Hide attributes'><svg class='icon xr-icon-file-text2'><use xlink:href='#icon-file-text2'></use></svg></label><input id='data-8380cf09-0b82-4292-9523-c43154e30e63' class='xr-var-data-in' type='checkbox'><label for='data-8380cf09-0b82-4292-9523-c43154e30e63' title='Show/Hide data repr'><svg class='icon xr-icon-database'><use xlink:href='#icon-database'></use></svg></label><div class='xr-var-attrs'><dl class='xr-attrs'></dl></div><div class='xr-var-data'><pre>array([&#x27;a&#x27;, &#x27;t&#x27;, &#x27;c&#x27;, &#x27;g&#x27;], dtype=&#x27;&lt;U1&#x27;)</pre></div></li></ul></div></li><li class='xr-section-item'><input id='section-9a606e3e-0171-4b1f-b42b-41dbb153b739' class='xr-section-summary-in' type='checkbox' disabled ><label for='section-9a606e3e-0171-4b1f-b42b-41dbb153b739' class='xr-section-summary'  title='Expand/collapse section'>Attributes: <span>(0)</span></label><div class='xr-section-inline-details'></div><div class='xr-section-details'><dl class='xr-attrs'></dl></div></li></ul></div></div>"
      ],
      "text/plain": [
       "<xarray.DataArray (position: 9, forward: 4, self: 4)>\n",
       "array([[[0.        , 0.        , 0.        , 0.        ],\n",
       "        [0.        , 0.        , 0.        , 0.        ],\n",
       "        [0.        , 0.        , 0.        , 0.        ],\n",
       "        [0.        , 0.        , 0.        , 0.        ]],\n",
       "\n",
       "       [[0.3125972 , 0.14152411, 0.30948678, 0.23639191],\n",
       "        [0.1624714 , 0.13043478, 0.40732265, 0.29977117],\n",
       "        [0.39614856, 0.1389271 , 0.3823934 , 0.08253095],\n",
       "        [0.38675958, 0.06097561, 0.36759582, 0.18466899]],\n",
       "\n",
       "       [[0.61636829, 0.13682864, 0.0971867 , 0.14961637],\n",
       "        [0.18309859, 0.23943662, 0.24647887, 0.33098592],\n",
       "        [0.6778291 , 0.13972286, 0.12355658, 0.05889145],\n",
       "        [0.60801782, 0.10022272, 0.16703786, 0.1247216 ]],\n",
       "\n",
       "       [[0.07388809, 0.05308465, 0.01865136, 0.8543759 ],\n",
       "        [0.03519062, 0.08211144, 0.03225806, 0.85043988],\n",
       "        [0.18902439, 0.21646341, 0.07012195, 0.52439024],\n",
       "        [0.14779874, 0.07861635, 0.06603774, 0.70754717]],\n",
       "\n",
       "...\n",
       "\n",
       "       [[0.        , 0.        , 0.        , 0.        ],\n",
       "        [0.        , 0.        , 0.        , 0.        ],\n",
       "        [0.        , 0.        , 0.        , 0.        ],\n",
       "        [0.        , 1.        , 0.        , 0.        ]],\n",
       "\n",
       "       [[0.        , 0.        , 0.        , 0.        ],\n",
       "        [0.4901302 , 0.02435951, 0.02729945, 0.45821084],\n",
       "        [0.        , 0.        , 0.        , 0.        ],\n",
       "        [0.        , 0.        , 0.        , 0.        ]],\n",
       "\n",
       "       [[0.64610111, 0.13624679, 0.09597258, 0.12167952],\n",
       "        [0.34482759, 0.22413793, 0.06896552, 0.36206897],\n",
       "        [0.67692308, 0.18461538, 0.03076923, 0.10769231],\n",
       "        [0.80751604, 0.03116407, 0.06049496, 0.10082493]],\n",
       "\n",
       "       [[0.05768099, 0.03296057, 0.02707475, 0.8822837 ],\n",
       "        [0.04587156, 0.06422018, 0.07798165, 0.81192661],\n",
       "        [0.16304348, 0.18478261, 0.22282609, 0.42934783],\n",
       "        [0.06071429, 0.02857143, 0.05      , 0.86071429]]])\n",
       "Coordinates:\n",
       "  * position  (position) int32 -3 -2 -1 0 1 2 3 4 5\n",
       "  * forward   (forward) <U1 'a' 't' 'c' 'g'\n",
       "  * self      (self) <U1 'a' 't' 'c' 'g'"
      ]
     },
     "execution_count": 8,
     "metadata": {},
     "output_type": "execute_result"
    }
   ],
   "source": [
    "matrix_forward_pos = site_forward_count.copy()\n",
    "\n",
    "for base in ['a', 't', 'c', 'g']:\n",
    "    matrix_forward_pos.loc[:, base] = matrix_forward_pos.loc[:, base]/matrix_forward_pos.loc[:, base].sum(axis = 1)\n",
    "\n",
    "matrix_forward_pos = matrix_forward_pos.fillna(0)\n",
    "matrix_forward_pos"
   ]
  },
  {
   "cell_type": "markdown",
   "metadata": {
    "id": "mQn_ToVTmo6p",
    "pycharm": {
     "name": "#%% md\n"
    }
   },
   "source": [
    "#### 构建背景概率矩阵"
   ]
  },
  {
   "cell_type": "markdown",
   "metadata": {
    "id": "m2-38FyX2M-p",
    "pycharm": {
     "name": "#%% md\n"
    }
   },
   "source": [
    "构建不考虑前一个碱基的概率矩阵"
   ]
  },
  {
   "cell_type": "code",
   "execution_count": null,
   "metadata": {
    "colab": {
     "base_uri": "https://localhost:8080/",
     "height": 328
    },
    "id": "HW-YOQQH2L6-",
    "outputId": "75354408-b7b3-4db7-cfa9-bb71cc9dda37",
    "pycharm": {
     "name": "#%%\n"
    }
   },
   "outputs": [
    {
     "data": {
      "text/html": [
       "<div>\n",
       "<style scoped>\n",
       "    .dataframe tbody tr th:only-of-type {\n",
       "        vertical-align: middle;\n",
       "    }\n",
       "\n",
       "    .dataframe tbody tr th {\n",
       "        vertical-align: top;\n",
       "    }\n",
       "\n",
       "    .dataframe thead th {\n",
       "        text-align: right;\n",
       "    }\n",
       "</style>\n",
       "<table border=\"1\" class=\"dataframe\">\n",
       "  <thead>\n",
       "    <tr style=\"text-align: right;\">\n",
       "      <th></th>\n",
       "      <th>a</th>\n",
       "      <th>t</th>\n",
       "      <th>c</th>\n",
       "      <th>g</th>\n",
       "    </tr>\n",
       "  </thead>\n",
       "  <tbody>\n",
       "    <tr>\n",
       "      <th>-3</th>\n",
       "      <td>0.260085</td>\n",
       "      <td>0.271169</td>\n",
       "      <td>0.23217</td>\n",
       "      <td>0.236428</td>\n",
       "    </tr>\n",
       "    <tr>\n",
       "      <th>-2</th>\n",
       "      <td>0.260085</td>\n",
       "      <td>0.271169</td>\n",
       "      <td>0.23217</td>\n",
       "      <td>0.236428</td>\n",
       "    </tr>\n",
       "    <tr>\n",
       "      <th>-1</th>\n",
       "      <td>0.260085</td>\n",
       "      <td>0.271169</td>\n",
       "      <td>0.23217</td>\n",
       "      <td>0.236428</td>\n",
       "    </tr>\n",
       "    <tr>\n",
       "      <th>0</th>\n",
       "      <td>0.260085</td>\n",
       "      <td>0.271169</td>\n",
       "      <td>0.23217</td>\n",
       "      <td>0.236428</td>\n",
       "    </tr>\n",
       "    <tr>\n",
       "      <th>1</th>\n",
       "      <td>0.260085</td>\n",
       "      <td>0.271169</td>\n",
       "      <td>0.23217</td>\n",
       "      <td>0.236428</td>\n",
       "    </tr>\n",
       "    <tr>\n",
       "      <th>2</th>\n",
       "      <td>0.260085</td>\n",
       "      <td>0.271169</td>\n",
       "      <td>0.23217</td>\n",
       "      <td>0.236428</td>\n",
       "    </tr>\n",
       "    <tr>\n",
       "      <th>3</th>\n",
       "      <td>0.260085</td>\n",
       "      <td>0.271169</td>\n",
       "      <td>0.23217</td>\n",
       "      <td>0.236428</td>\n",
       "    </tr>\n",
       "    <tr>\n",
       "      <th>4</th>\n",
       "      <td>0.260085</td>\n",
       "      <td>0.271169</td>\n",
       "      <td>0.23217</td>\n",
       "      <td>0.236428</td>\n",
       "    </tr>\n",
       "    <tr>\n",
       "      <th>5</th>\n",
       "      <td>0.260085</td>\n",
       "      <td>0.271169</td>\n",
       "      <td>0.23217</td>\n",
       "      <td>0.236428</td>\n",
       "    </tr>\n",
       "  </tbody>\n",
       "</table>\n",
       "</div>"
      ],
      "text/plain": [
       "           a         t        c         g\n",
       "-3  0.260085  0.271169  0.23217  0.236428\n",
       "-2  0.260085  0.271169  0.23217  0.236428\n",
       "-1  0.260085  0.271169  0.23217  0.236428\n",
       " 0  0.260085  0.271169  0.23217  0.236428\n",
       " 1  0.260085  0.271169  0.23217  0.236428\n",
       " 2  0.260085  0.271169  0.23217  0.236428\n",
       " 3  0.260085  0.271169  0.23217  0.236428\n",
       " 4  0.260085  0.271169  0.23217  0.236428\n",
       " 5  0.260085  0.271169  0.23217  0.236428"
      ]
     },
     "execution_count": 9,
     "metadata": {},
     "output_type": "execute_result"
    }
   ],
   "source": [
    "whole_seq.replace('n', '')\n",
    "p_neg = [whole_seq.count(base)/len(whole_seq) for base in ['a', 't', 'c', 'g']]  \n",
    "matrix_neg = pd.DataFrame(np.tile(p_neg, (9, 1)),\n",
    "                          columns = ['a', 't', 'c', 'g'],\n",
    "                          index = [i-3 for i in range(9)])\n",
    "matrix_neg"
   ]
  },
  {
   "cell_type": "markdown",
   "metadata": {
    "id": "GWS9WnmF2Rfo",
    "pycharm": {
     "name": "#%% md\n"
    }
   },
   "source": [
    "构建考虑前一个碱基的概率矩阵"
   ]
  },
  {
   "cell_type": "code",
   "execution_count": null,
   "metadata": {
    "colab": {
     "base_uri": "https://localhost:8080/",
     "height": 173
    },
    "id": "P3sZEVjf-EzB",
    "outputId": "01abed8a-c5e8-4878-a618-edaf7f493342",
    "pycharm": {
     "name": "#%%\n"
    }
   },
   "outputs": [
    {
     "data": {
      "text/html": [
       "<div>\n",
       "<style scoped>\n",
       "    .dataframe tbody tr th:only-of-type {\n",
       "        vertical-align: middle;\n",
       "    }\n",
       "\n",
       "    .dataframe tbody tr th {\n",
       "        vertical-align: top;\n",
       "    }\n",
       "\n",
       "    .dataframe thead th {\n",
       "        text-align: right;\n",
       "    }\n",
       "</style>\n",
       "<table border=\"1\" class=\"dataframe\">\n",
       "  <thead>\n",
       "    <tr style=\"text-align: right;\">\n",
       "      <th></th>\n",
       "      <th>a</th>\n",
       "      <th>t</th>\n",
       "      <th>c</th>\n",
       "      <th>g</th>\n",
       "    </tr>\n",
       "  </thead>\n",
       "  <tbody>\n",
       "    <tr>\n",
       "      <th>a</th>\n",
       "      <td>0.296923</td>\n",
       "      <td>0.234069</td>\n",
       "      <td>0.187147</td>\n",
       "      <td>0.281861</td>\n",
       "    </tr>\n",
       "    <tr>\n",
       "      <th>t</th>\n",
       "      <td>0.186917</td>\n",
       "      <td>0.308036</td>\n",
       "      <td>0.223690</td>\n",
       "      <td>0.281356</td>\n",
       "    </tr>\n",
       "    <tr>\n",
       "      <th>c</th>\n",
       "      <td>0.307009</td>\n",
       "      <td>0.322820</td>\n",
       "      <td>0.294622</td>\n",
       "      <td>0.075548</td>\n",
       "    </tr>\n",
       "    <tr>\n",
       "      <th>g</th>\n",
       "      <td>0.257592</td>\n",
       "      <td>0.219191</td>\n",
       "      <td>0.230213</td>\n",
       "      <td>0.293004</td>\n",
       "    </tr>\n",
       "  </tbody>\n",
       "</table>\n",
       "</div>"
      ],
      "text/plain": [
       "          a         t         c         g\n",
       "a  0.296923  0.234069  0.187147  0.281861\n",
       "t  0.186917  0.308036  0.223690  0.281356\n",
       "c  0.307009  0.322820  0.294622  0.075548\n",
       "g  0.257592  0.219191  0.230213  0.293004"
      ]
     },
     "execution_count": 10,
     "metadata": {},
     "output_type": "execute_result"
    }
   ],
   "source": [
    "matrix_forward_neg = background_forward_count.apply(lambda x: x/x.sum(), axis = 1)\n",
    "matrix_forward_neg"
   ]
  },
  {
   "cell_type": "markdown",
   "metadata": {
    "id": "wx2vOgzeDl81",
    "pycharm": {
     "name": "#%% md\n"
    }
   },
   "source": [
    "### 定义$S(X)$"
   ]
  },
  {
   "cell_type": "code",
   "execution_count": null,
   "metadata": {
    "id": "9vPg8jeZLJGt",
    "pycharm": {
     "name": "#%%\n"
    }
   },
   "outputs": [],
   "source": [
    "def WAMDecisionFunction(seq):\n",
    "    score = np.log((matrix_pos.loc[-3, seq[0]] + 1)/matrix_neg.loc[-3, seq[0]])\n",
    "\n",
    "    for i in range(8):\n",
    "        score += np.log((matrix_forward_pos.loc[i-2, seq[i], seq[i+1]] + 1)/matrix_forward_neg.loc[seq[i], seq[i+1]])\n",
    "\n",
    "    return float(score)"
   ]
  },
  {
   "cell_type": "markdown",
   "metadata": {
    "id": "Qr4OZ-eYy713",
    "pycharm": {
     "name": "#%% md\n"
    }
   },
   "source": [
    "### 寻找阈值 "
   ]
  },
  {
   "cell_type": "markdown",
   "metadata": {
    "id": "Z2snZ67MaeLl",
    "pycharm": {
     "name": "#%% md\n"
    }
   },
   "source": [
    "#### 计算位点序列得分"
   ]
  },
  {
   "cell_type": "code",
   "execution_count": null,
   "metadata": {
    "colab": {
     "base_uri": "https://localhost:8080/"
    },
    "id": "XZB-DTS9Ze1K",
    "outputId": "d6d6782a-faa0-4a55-d003-9c83458fb2a1",
    "pycharm": {
     "name": "#%%\n"
    }
   },
   "outputs": [
    {
     "data": {
      "text/plain": [
       "array([16.10031588, 17.26630261, 16.2886994 , ..., 16.12701094,\n",
       "       15.84424438, 16.73646724])"
      ]
     },
     "execution_count": 12,
     "metadata": {},
     "output_type": "execute_result"
    }
   ],
   "source": [
    "scores = [WAMDecisionFunction(seq) for seq in site_seqs]\n",
    "scores = np.array(scores)\n",
    "scores"
   ]
  },
  {
   "cell_type": "markdown",
   "metadata": {
    "id": "qi-5vgrEcJmK",
    "pycharm": {
     "name": "#%% md\n"
    }
   },
   "source": [
    "#### 计算召回率"
   ]
  },
  {
   "cell_type": "code",
   "execution_count": null,
   "metadata": {
    "colab": {
     "base_uri": "https://localhost:8080/"
    },
    "id": "f8L66Rv9am1X",
    "outputId": "caffc5c2-7dc5-41c7-f7dc-e190bc0103df",
    "pycharm": {
     "name": "#%%\n"
    }
   },
   "outputs": [
    {
     "data": {
      "text/plain": [
       "array([9.99580008e-01, 9.99580008e-01, 9.99580008e-01, 9.99580008e-01,\n",
       "       9.99580008e-01, 9.98740025e-01, 9.97900042e-01, 9.97480050e-01,\n",
       "       9.91600168e-01, 9.86980260e-01, 9.73960521e-01, 9.62620748e-01,\n",
       "       9.32801344e-01, 8.93742125e-01, 8.37463251e-01, 7.78244435e-01,\n",
       "       7.21545569e-01, 6.25787484e-01, 5.56068879e-01, 4.82990340e-01,\n",
       "       4.21671567e-01, 3.33893322e-01, 2.71734565e-01, 2.30995380e-01,\n",
       "       1.84796304e-01, 1.71776564e-01, 1.60856783e-01, 1.54136917e-01,\n",
       "       1.40697186e-01, 1.28937421e-01, 1.06677866e-01, 8.60982780e-02,\n",
       "       7.26585468e-02, 5.20789584e-02, 4.40991180e-02, 2.60394792e-02,\n",
       "       2.01595968e-02, 1.25997480e-02, 1.13397732e-02, 9.65980680e-03,\n",
       "       7.97984040e-03, 6.71986560e-03, 5.45989080e-03, 3.77992440e-03,\n",
       "       3.35993280e-03, 1.67996640e-03, 1.25997480e-03, 8.39983200e-04,\n",
       "       4.19991600e-04, 0.00000000e+00])"
      ]
     },
     "execution_count": 13,
     "metadata": {},
     "output_type": "execute_result"
    }
   ],
   "source": [
    "threshold = np.linspace(scores.min(), scores.max(), 50)\n",
    "\n",
    "recall = [np.sum(scores > thr)/scores.shape for thr in threshold]\n",
    "recall = np.array(recall).reshape(-1)\n",
    "recall"
   ]
  },
  {
   "cell_type": "markdown",
   "metadata": {
    "id": "WEv4Up4jco_m",
    "pycharm": {
     "name": "#%% md\n"
    }
   },
   "source": [
    "#### 绘制阈值与召回率关系图"
   ]
  },
  {
   "cell_type": "code",
   "execution_count": null,
   "metadata": {},
   "outputs": [
    {
     "data": {
      "image/png": "[encoded data removed]",
      "text/plain": [
       "<Figure size 640x480 with 1 Axes>"
      ]
     },
     "metadata": {},
     "output_type": "display_data"
    },
    {
     "data": {
      "text/plain": [
       "<ggplot: (127345335694)>"
      ]
     },
     "execution_count": 44,
     "metadata": {},
     "output_type": "execute_result"
    }
   ],
   "source": [
    "p = (ggplot(aes(x = threshold, y = recall)) +\n",
    "            geom_line(color = '#66ccff', size = 2) +\n",
    "            theme_bw()+\n",
    "            xlab('Recall') +\n",
    "            ylab('threshold') +\n",
    "            theme(axis_text_x = element_text(color = 'black')))\n",
    "p"
   ]
  },
  {
   "cell_type": "code",
   "execution_count": null,
   "metadata": {
    "colab": {
     "base_uri": "https://localhost:8080/",
     "height": 279
    },
    "id": "TSoyPvNOc8Q6",
    "outputId": "bd7f6baf-8905-46f7-8f3c-2448a0d6b494",
    "pycharm": {
     "name": "#%%\n"
    }
   },
   "outputs": [
    {
     "data": {
      "image/png": "[encoded data removed]",
      "text/plain": [
       "<Figure size 432x288 with 1 Axes>"
      ]
     },
     "metadata": {
      "needs_background": "light"
     },
     "output_type": "display_data"
    }
   ],
   "source": [
    "plt.figure()\n",
    "lw = 2\n",
    "plt.plot(\n",
    "    threshold,\n",
    "    recall,\n",
    "    color = 'darkorange',\n",
    "    lw = lw,\n",
    "    )\n",
    "plt.xlabel('Threshold')\n",
    "plt.ylabel('Recall')\n",
    "plt.show()"
   ]
  },
  {
   "cell_type": "markdown",
   "metadata": {
    "id": "evMVnW5mdZ6e",
    "pycharm": {
     "name": "#%% md\n"
    }
   },
   "source": [
    "### 处理测试数据"
   ]
  },
  {
   "cell_type": "markdown",
   "metadata": {
    "id": "Pzv1ZSkBehrF",
    "pycharm": {
     "name": "#%% md\n"
    }
   },
   "source": [
    "#### 导入并提取序列"
   ]
  },
  {
   "cell_type": "code",
   "execution_count": null,
   "metadata": {
    "colab": {
     "base_uri": "https://localhost:8080/"
    },
    "id": "JhmuDX_ue4yD",
    "outputId": "8c7ec744-f90a-44e5-f655-eccc2f28d00a",
    "pycharm": {
     "name": "#%%\n"
    }
   },
   "outputs": [
    {
     "name": "stderr",
     "output_type": "stream",
     "text": [
      "  2%|▏         | 9/570 [00:00<00:06, 89.35it/s]"
     ]
    },
    {
     "name": "stdout",
     "output_type": "stream",
     "text": [
      "Loading testing data...\n"
     ]
    },
    {
     "name": "stderr",
     "output_type": "stream",
     "text": [
      "100%|██████████| 570/570 [01:01<00:00,  9.26it/s]\n"
     ]
    }
   ],
   "source": [
    "test_site_seqs = []\n",
    "test_normal_seqs = []\n",
    "\n",
    "print('Loading testing data...')\n",
    "\n",
    "for test_file in tqdm(test_files):\n",
    "    with open(test_path + '/' + test_file, 'r') as f:\n",
    "        text = f.readlines()\n",
    "        test_site_positions = re.findall('(\\d+)(?=,)', text[1])    # 提取位置\n",
    "        seq = ''.join(text[2:]).replace('\\n', '').lower()\n",
    "        \n",
    "        for position in test_site_positions:\n",
    "            test_site_seqs.append(seq[int(position) - 4:int(position) + 5])\n",
    "            \n",
    "        for position in range(len(seq) - 8):\n",
    "            test_normal_seq = seq[position:position+9]\n",
    "            if test_normal_seq not in test_site_seqs and \\\n",
    "                set(test_normal_seq) == {'a', 't', 'c', 'g'}:\n",
    "                test_normal_seqs.append(test_normal_seq)\n",
    "        \n",
    "        # for num in range(4):    # 提取非位点序列\n",
    "        #     test_normal_position = np.random.randint(len(seq) - 9)    # 采样至倒数第九位\n",
    "        #     test_normal_seq = seq[test_normal_position - 4:test_normal_position + 5]\n",
    "\n",
    "        #     while test_normal_position in test_site_positions or \\\n",
    "        #         set(test_normal_seq) != {'a', 't', 'c', 'g'} or  \\\n",
    "        #         len(test_normal_seq) != 9:    # 排除donar位点与'n', 'm' 等\n",
    "\n",
    "        #         test_normal_position = np.random.randint(len(seq) - 9)\n",
    "        #         test_normal_seq = seq[test_normal_position - 4:test_normal_position + 5]\n",
    "\n",
    "        #     test_normal_seqs.append(test_normal_seq)"
   ]
  },
  {
   "cell_type": "markdown",
   "metadata": {
    "id": "Re8MDxEeE_3t",
    "pycharm": {
     "name": "#%% md\n"
    }
   },
   "source": [
    "#### 构建数据集"
   ]
  },
  {
   "cell_type": "code",
   "execution_count": null,
   "metadata": {
    "colab": {
     "base_uri": "https://localhost:8080/",
     "height": 204
    },
    "id": "mnPQ359GFPJc",
    "outputId": "bbcfd688-4684-4c13-b91a-4216cdb8aafe",
    "pycharm": {
     "name": "#%%\n"
    }
   },
   "outputs": [
    {
     "data": {
      "text/plain": [
       "0.0    1699990\n",
       "1.0       2079\n",
       "Name: Donar, dtype: int64"
      ]
     },
     "execution_count": 24,
     "metadata": {},
     "output_type": "execute_result"
    }
   ],
   "source": [
    "test_site_df = pd.DataFrame(list(zip(test_site_seqs, np.ones(len(test_site_seqs)))),    # 位点\n",
    "                            columns = ['Seq', 'Donar'])\n",
    "\n",
    "test_normal_df = pd.DataFrame(list(zip(test_normal_seqs, np.zeros(len(test_normal_seqs)))),    # 非位点\n",
    "                              columns = ['Seq', 'Donar'])\n",
    "\n",
    "test_df = pd.concat([test_site_df, test_normal_df]).reset_index(drop = True)\n",
    "test_df['Donar'].value_counts()"
   ]
  },
  {
   "cell_type": "markdown",
   "metadata": {
    "id": "g4C4SBb4DbA6",
    "pycharm": {
     "name": "#%% md\n"
    }
   },
   "source": [
    "#### 计算每一条序列得分"
   ]
  },
  {
   "cell_type": "code",
   "execution_count": 3,
   "metadata": {
    "colab": {
     "base_uri": "https://localhost:8080/",
     "height": 419
    },
    "id": "ld0ggiV84tm1",
    "outputId": "fe3ef586-6a3b-49d9-dd12-222887bbc5bb",
    "pycharm": {
     "name": "#%%\n"
    }
   },
   "outputs": [],
   "source": [
    "# test_df['Score'] = test_df['Seq'].apply(WAMDecisionFunction)\n",
    "# test_df.to_csv('WAM_test_df.csv')\n",
    "test_df = pd.read_csv('WAM_test_df.csv', index_col = 0)"
   ]
  },
  {
   "cell_type": "markdown",
   "metadata": {},
   "source": [
    "##### 计算 F1 分数"
   ]
  },
  {
   "cell_type": "code",
   "execution_count": 4,
   "metadata": {},
   "outputs": [
    {
     "name": "stderr",
     "output_type": "stream",
     "text": [
      "  0%|          | 0/100 [00:00<?, ?it/s]/home/zhanghaohong/.aspera/connect/bin:/data4/zhanghaohong/anaconda3/bin:/data4/zhanghaohong/anaconda3/condabin:/home/zhanghaohong/.aspera/connect/bin:/usr/local/bin:/usr/bin:/usr/local/sbin:/usr/sbin:/data4/zhanghaohong/tmp/ipykernel_23322/3091834413.py:6: FutureWarning: The frame.append method is deprecated and will be removed from pandas in a future version. Use pandas.concat instead.\n",
      "  1%|          | 1/100 [00:02<04:27,  2.70s/it]/home/zhanghaohong/.aspera/connect/bin:/data4/zhanghaohong/anaconda3/bin:/data4/zhanghaohong/anaconda3/condabin:/home/zhanghaohong/.aspera/connect/bin:/usr/local/bin:/usr/bin:/usr/local/sbin:/usr/sbin:/data4/zhanghaohong/tmp/ipykernel_23322/3091834413.py:6: FutureWarning: The frame.append method is deprecated and will be removed from pandas in a future version. Use pandas.concat instead.\n",
      "  2%|▏         | 2/100 [00:04<03:08,  1.93s/it]/home/zhanghaohong/.aspera/connect/bin:/data4/zhanghaohong/anaconda3/bin:/data4/zhanghaohong/anaconda3/condabin:/home/zhanghaohong/.aspera/connect/bin:/usr/local/bin:/usr/bin:/usr/local/sbin:/usr/sbin:/data4/zhanghaohong/tmp/ipykernel_23322/3091834413.py:6: FutureWarning: The frame.append method is deprecated and will be removed from pandas in a future version. Use pandas.concat instead.\n",
      "  3%|▎         | 3/100 [00:05<02:39,  1.65s/it]/home/zhanghaohong/.aspera/connect/bin:/data4/zhanghaohong/anaconda3/bin:/data4/zhanghaohong/anaconda3/condabin:/home/zhanghaohong/.aspera/connect/bin:/usr/local/bin:/usr/bin:/usr/local/sbin:/usr/sbin:/data4/zhanghaohong/tmp/ipykernel_23322/3091834413.py:6: FutureWarning: The frame.append method is deprecated and will be removed from pandas in a future version. Use pandas.concat instead.\n",
      "  4%|▍         | 4/100 [00:06<02:27,  1.53s/it]/home/zhanghaohong/.aspera/connect/bin:/data4/zhanghaohong/anaconda3/bin:/data4/zhanghaohong/anaconda3/condabin:/home/zhanghaohong/.aspera/connect/bin:/usr/local/bin:/usr/bin:/usr/local/sbin:/usr/sbin:/data4/zhanghaohong/tmp/ipykernel_23322/3091834413.py:6: FutureWarning: The frame.append method is deprecated and will be removed from pandas in a future version. Use pandas.concat instead.\n",
      "  5%|▌         | 5/100 [00:08<02:18,  1.45s/it]/home/zhanghaohong/.aspera/connect/bin:/data4/zhanghaohong/anaconda3/bin:/data4/zhanghaohong/anaconda3/condabin:/home/zhanghaohong/.aspera/connect/bin:/usr/local/bin:/usr/bin:/usr/local/sbin:/usr/sbin:/data4/zhanghaohong/tmp/ipykernel_23322/3091834413.py:6: FutureWarning: The frame.append method is deprecated and will be removed from pandas in a future version. Use pandas.concat instead.\n",
      "  6%|▌         | 6/100 [00:09<02:12,  1.41s/it]/home/zhanghaohong/.aspera/connect/bin:/data4/zhanghaohong/anaconda3/bin:/data4/zhanghaohong/anaconda3/condabin:/home/zhanghaohong/.aspera/connect/bin:/usr/local/bin:/usr/bin:/usr/local/sbin:/usr/sbin:/data4/zhanghaohong/tmp/ipykernel_23322/3091834413.py:6: FutureWarning: The frame.append method is deprecated and will be removed from pandas in a future version. Use pandas.concat instead.\n",
      "  7%|▋         | 7/100 [00:11<02:17,  1.48s/it]/home/zhanghaohong/.aspera/connect/bin:/data4/zhanghaohong/anaconda3/bin:/data4/zhanghaohong/anaconda3/condabin:/home/zhanghaohong/.aspera/connect/bin:/usr/local/bin:/usr/bin:/usr/local/sbin:/usr/sbin:/data4/zhanghaohong/tmp/ipykernel_23322/3091834413.py:6: FutureWarning: The frame.append method is deprecated and will be removed from pandas in a future version. Use pandas.concat instead.\n",
      "  8%|▊         | 8/100 [00:12<02:12,  1.44s/it]/home/zhanghaohong/.aspera/connect/bin:/data4/zhanghaohong/anaconda3/bin:/data4/zhanghaohong/anaconda3/condabin:/home/zhanghaohong/.aspera/connect/bin:/usr/local/bin:/usr/bin:/usr/local/sbin:/usr/sbin:/data4/zhanghaohong/tmp/ipykernel_23322/3091834413.py:6: FutureWarning: The frame.append method is deprecated and will be removed from pandas in a future version. Use pandas.concat instead.\n",
      "  9%|▉         | 9/100 [00:13<02:08,  1.41s/it]/home/zhanghaohong/.aspera/connect/bin:/data4/zhanghaohong/anaconda3/bin:/data4/zhanghaohong/anaconda3/condabin:/home/zhanghaohong/.aspera/connect/bin:/usr/local/bin:/usr/bin:/usr/local/sbin:/usr/sbin:/data4/zhanghaohong/tmp/ipykernel_23322/3091834413.py:6: FutureWarning: The frame.append method is deprecated and will be removed from pandas in a future version. Use pandas.concat instead.\n",
      " 10%|█         | 10/100 [00:15<02:03,  1.37s/it]/home/zhanghaohong/.aspera/connect/bin:/data4/zhanghaohong/anaconda3/bin:/data4/zhanghaohong/anaconda3/condabin:/home/zhanghaohong/.aspera/connect/bin:/usr/local/bin:/usr/bin:/usr/local/sbin:/usr/sbin:/data4/zhanghaohong/tmp/ipykernel_23322/3091834413.py:6: FutureWarning: The frame.append method is deprecated and will be removed from pandas in a future version. Use pandas.concat instead.\n",
      " 11%|█         | 11/100 [00:16<02:00,  1.35s/it]/home/zhanghaohong/.aspera/connect/bin:/data4/zhanghaohong/anaconda3/bin:/data4/zhanghaohong/anaconda3/condabin:/home/zhanghaohong/.aspera/connect/bin:/usr/local/bin:/usr/bin:/usr/local/sbin:/usr/sbin:/data4/zhanghaohong/tmp/ipykernel_23322/3091834413.py:6: FutureWarning: The frame.append method is deprecated and will be removed from pandas in a future version. Use pandas.concat instead.\n",
      " 12%|█▏        | 12/100 [00:17<01:57,  1.33s/it]/home/zhanghaohong/.aspera/connect/bin:/data4/zhanghaohong/anaconda3/bin:/data4/zhanghaohong/anaconda3/condabin:/home/zhanghaohong/.aspera/connect/bin:/usr/local/bin:/usr/bin:/usr/local/sbin:/usr/sbin:/data4/zhanghaohong/tmp/ipykernel_23322/3091834413.py:6: FutureWarning: The frame.append method is deprecated and will be removed from pandas in a future version. Use pandas.concat instead.\n",
      " 13%|█▎        | 13/100 [00:18<01:54,  1.32s/it]/home/zhanghaohong/.aspera/connect/bin:/data4/zhanghaohong/anaconda3/bin:/data4/zhanghaohong/anaconda3/condabin:/home/zhanghaohong/.aspera/connect/bin:/usr/local/bin:/usr/bin:/usr/local/sbin:/usr/sbin:/data4/zhanghaohong/tmp/ipykernel_23322/3091834413.py:6: FutureWarning: The frame.append method is deprecated and will be removed from pandas in a future version. Use pandas.concat instead.\n",
      " 14%|█▍        | 14/100 [00:20<01:53,  1.32s/it]/home/zhanghaohong/.aspera/connect/bin:/data4/zhanghaohong/anaconda3/bin:/data4/zhanghaohong/anaconda3/condabin:/home/zhanghaohong/.aspera/connect/bin:/usr/local/bin:/usr/bin:/usr/local/sbin:/usr/sbin:/data4/zhanghaohong/tmp/ipykernel_23322/3091834413.py:6: FutureWarning: The frame.append method is deprecated and will be removed from pandas in a future version. Use pandas.concat instead.\n",
      " 15%|█▌        | 15/100 [00:21<01:51,  1.31s/it]/home/zhanghaohong/.aspera/connect/bin:/data4/zhanghaohong/anaconda3/bin:/data4/zhanghaohong/anaconda3/condabin:/home/zhanghaohong/.aspera/connect/bin:/usr/local/bin:/usr/bin:/usr/local/sbin:/usr/sbin:/data4/zhanghaohong/tmp/ipykernel_23322/3091834413.py:6: FutureWarning: The frame.append method is deprecated and will be removed from pandas in a future version. Use pandas.concat instead.\n",
      " 16%|█▌        | 16/100 [00:22<01:49,  1.30s/it]/home/zhanghaohong/.aspera/connect/bin:/data4/zhanghaohong/anaconda3/bin:/data4/zhanghaohong/anaconda3/condabin:/home/zhanghaohong/.aspera/connect/bin:/usr/local/bin:/usr/bin:/usr/local/sbin:/usr/sbin:/data4/zhanghaohong/tmp/ipykernel_23322/3091834413.py:6: FutureWarning: The frame.append method is deprecated and will be removed from pandas in a future version. Use pandas.concat instead.\n",
      " 17%|█▋        | 17/100 [00:24<01:48,  1.30s/it]/home/zhanghaohong/.aspera/connect/bin:/data4/zhanghaohong/anaconda3/bin:/data4/zhanghaohong/anaconda3/condabin:/home/zhanghaohong/.aspera/connect/bin:/usr/local/bin:/usr/bin:/usr/local/sbin:/usr/sbin:/data4/zhanghaohong/tmp/ipykernel_23322/3091834413.py:6: FutureWarning: The frame.append method is deprecated and will be removed from pandas in a future version. Use pandas.concat instead.\n",
      " 18%|█▊        | 18/100 [00:25<01:46,  1.30s/it]/home/zhanghaohong/.aspera/connect/bin:/data4/zhanghaohong/anaconda3/bin:/data4/zhanghaohong/anaconda3/condabin:/home/zhanghaohong/.aspera/connect/bin:/usr/local/bin:/usr/bin:/usr/local/sbin:/usr/sbin:/data4/zhanghaohong/tmp/ipykernel_23322/3091834413.py:6: FutureWarning: The frame.append method is deprecated and will be removed from pandas in a future version. Use pandas.concat instead.\n",
      " 19%|█▉        | 19/100 [00:26<01:44,  1.29s/it]/home/zhanghaohong/.aspera/connect/bin:/data4/zhanghaohong/anaconda3/bin:/data4/zhanghaohong/anaconda3/condabin:/home/zhanghaohong/.aspera/connect/bin:/usr/local/bin:/usr/bin:/usr/local/sbin:/usr/sbin:/data4/zhanghaohong/tmp/ipykernel_23322/3091834413.py:6: FutureWarning: The frame.append method is deprecated and will be removed from pandas in a future version. Use pandas.concat instead.\n",
      " 20%|██        | 20/100 [00:27<01:42,  1.29s/it]/home/zhanghaohong/.aspera/connect/bin:/data4/zhanghaohong/anaconda3/bin:/data4/zhanghaohong/anaconda3/condabin:/home/zhanghaohong/.aspera/connect/bin:/usr/local/bin:/usr/bin:/usr/local/sbin:/usr/sbin:/data4/zhanghaohong/tmp/ipykernel_23322/3091834413.py:6: FutureWarning: The frame.append method is deprecated and will be removed from pandas in a future version. Use pandas.concat instead.\n",
      " 21%|██        | 21/100 [00:29<01:41,  1.28s/it]/home/zhanghaohong/.aspera/connect/bin:/data4/zhanghaohong/anaconda3/bin:/data4/zhanghaohong/anaconda3/condabin:/home/zhanghaohong/.aspera/connect/bin:/usr/local/bin:/usr/bin:/usr/local/sbin:/usr/sbin:/data4/zhanghaohong/tmp/ipykernel_23322/3091834413.py:6: FutureWarning: The frame.append method is deprecated and will be removed from pandas in a future version. Use pandas.concat instead.\n",
      " 22%|██▏       | 22/100 [00:30<01:40,  1.28s/it]/home/zhanghaohong/.aspera/connect/bin:/data4/zhanghaohong/anaconda3/bin:/data4/zhanghaohong/anaconda3/condabin:/home/zhanghaohong/.aspera/connect/bin:/usr/local/bin:/usr/bin:/usr/local/sbin:/usr/sbin:/data4/zhanghaohong/tmp/ipykernel_23322/3091834413.py:6: FutureWarning: The frame.append method is deprecated and will be removed from pandas in a future version. Use pandas.concat instead.\n",
      " 23%|██▎       | 23/100 [00:31<01:38,  1.28s/it]/home/zhanghaohong/.aspera/connect/bin:/data4/zhanghaohong/anaconda3/bin:/data4/zhanghaohong/anaconda3/condabin:/home/zhanghaohong/.aspera/connect/bin:/usr/local/bin:/usr/bin:/usr/local/sbin:/usr/sbin:/data4/zhanghaohong/tmp/ipykernel_23322/3091834413.py:6: FutureWarning: The frame.append method is deprecated and will be removed from pandas in a future version. Use pandas.concat instead.\n",
      " 24%|██▍       | 24/100 [00:33<01:37,  1.28s/it]/home/zhanghaohong/.aspera/connect/bin:/data4/zhanghaohong/anaconda3/bin:/data4/zhanghaohong/anaconda3/condabin:/home/zhanghaohong/.aspera/connect/bin:/usr/local/bin:/usr/bin:/usr/local/sbin:/usr/sbin:/data4/zhanghaohong/tmp/ipykernel_23322/3091834413.py:6: FutureWarning: The frame.append method is deprecated and will be removed from pandas in a future version. Use pandas.concat instead.\n",
      " 25%|██▌       | 25/100 [00:34<01:35,  1.27s/it]/home/zhanghaohong/.aspera/connect/bin:/data4/zhanghaohong/anaconda3/bin:/data4/zhanghaohong/anaconda3/condabin:/home/zhanghaohong/.aspera/connect/bin:/usr/local/bin:/usr/bin:/usr/local/sbin:/usr/sbin:/data4/zhanghaohong/tmp/ipykernel_23322/3091834413.py:6: FutureWarning: The frame.append method is deprecated and will be removed from pandas in a future version. Use pandas.concat instead.\n",
      " 26%|██▌       | 26/100 [00:35<01:34,  1.27s/it]/home/zhanghaohong/.aspera/connect/bin:/data4/zhanghaohong/anaconda3/bin:/data4/zhanghaohong/anaconda3/condabin:/home/zhanghaohong/.aspera/connect/bin:/usr/local/bin:/usr/bin:/usr/local/sbin:/usr/sbin:/data4/zhanghaohong/tmp/ipykernel_23322/3091834413.py:6: FutureWarning: The frame.append method is deprecated and will be removed from pandas in a future version. Use pandas.concat instead.\n",
      " 27%|██▋       | 27/100 [00:36<01:32,  1.27s/it]/home/zhanghaohong/.aspera/connect/bin:/data4/zhanghaohong/anaconda3/bin:/data4/zhanghaohong/anaconda3/condabin:/home/zhanghaohong/.aspera/connect/bin:/usr/local/bin:/usr/bin:/usr/local/sbin:/usr/sbin:/data4/zhanghaohong/tmp/ipykernel_23322/3091834413.py:6: FutureWarning: The frame.append method is deprecated and will be removed from pandas in a future version. Use pandas.concat instead.\n",
      " 28%|██▊       | 28/100 [00:38<01:31,  1.27s/it]/home/zhanghaohong/.aspera/connect/bin:/data4/zhanghaohong/anaconda3/bin:/data4/zhanghaohong/anaconda3/condabin:/home/zhanghaohong/.aspera/connect/bin:/usr/local/bin:/usr/bin:/usr/local/sbin:/usr/sbin:/data4/zhanghaohong/tmp/ipykernel_23322/3091834413.py:6: FutureWarning: The frame.append method is deprecated and will be removed from pandas in a future version. Use pandas.concat instead.\n",
      " 29%|██▉       | 29/100 [00:39<01:29,  1.27s/it]/home/zhanghaohong/.aspera/connect/bin:/data4/zhanghaohong/anaconda3/bin:/data4/zhanghaohong/anaconda3/condabin:/home/zhanghaohong/.aspera/connect/bin:/usr/local/bin:/usr/bin:/usr/local/sbin:/usr/sbin:/data4/zhanghaohong/tmp/ipykernel_23322/3091834413.py:6: FutureWarning: The frame.append method is deprecated and will be removed from pandas in a future version. Use pandas.concat instead.\n",
      " 30%|███       | 30/100 [00:40<01:28,  1.27s/it]/home/zhanghaohong/.aspera/connect/bin:/data4/zhanghaohong/anaconda3/bin:/data4/zhanghaohong/anaconda3/condabin:/home/zhanghaohong/.aspera/connect/bin:/usr/local/bin:/usr/bin:/usr/local/sbin:/usr/sbin:/data4/zhanghaohong/tmp/ipykernel_23322/3091834413.py:6: FutureWarning: The frame.append method is deprecated and will be removed from pandas in a future version. Use pandas.concat instead.\n",
      " 31%|███       | 31/100 [00:41<01:27,  1.27s/it]/home/zhanghaohong/.aspera/connect/bin:/data4/zhanghaohong/anaconda3/bin:/data4/zhanghaohong/anaconda3/condabin:/home/zhanghaohong/.aspera/connect/bin:/usr/local/bin:/usr/bin:/usr/local/sbin:/usr/sbin:/data4/zhanghaohong/tmp/ipykernel_23322/3091834413.py:6: FutureWarning: The frame.append method is deprecated and will be removed from pandas in a future version. Use pandas.concat instead.\n",
      " 32%|███▏      | 32/100 [00:43<01:25,  1.26s/it]/home/zhanghaohong/.aspera/connect/bin:/data4/zhanghaohong/anaconda3/bin:/data4/zhanghaohong/anaconda3/condabin:/home/zhanghaohong/.aspera/connect/bin:/usr/local/bin:/usr/bin:/usr/local/sbin:/usr/sbin:/data4/zhanghaohong/tmp/ipykernel_23322/3091834413.py:6: FutureWarning: The frame.append method is deprecated and will be removed from pandas in a future version. Use pandas.concat instead.\n",
      " 33%|███▎      | 33/100 [00:44<01:24,  1.26s/it]/home/zhanghaohong/.aspera/connect/bin:/data4/zhanghaohong/anaconda3/bin:/data4/zhanghaohong/anaconda3/condabin:/home/zhanghaohong/.aspera/connect/bin:/usr/local/bin:/usr/bin:/usr/local/sbin:/usr/sbin:/data4/zhanghaohong/tmp/ipykernel_23322/3091834413.py:6: FutureWarning: The frame.append method is deprecated and will be removed from pandas in a future version. Use pandas.concat instead.\n",
      " 34%|███▍      | 34/100 [00:45<01:22,  1.26s/it]/home/zhanghaohong/.aspera/connect/bin:/data4/zhanghaohong/anaconda3/bin:/data4/zhanghaohong/anaconda3/condabin:/home/zhanghaohong/.aspera/connect/bin:/usr/local/bin:/usr/bin:/usr/local/sbin:/usr/sbin:/data4/zhanghaohong/tmp/ipykernel_23322/3091834413.py:6: FutureWarning: The frame.append method is deprecated and will be removed from pandas in a future version. Use pandas.concat instead.\n",
      " 35%|███▌      | 35/100 [00:46<01:21,  1.26s/it]/home/zhanghaohong/.aspera/connect/bin:/data4/zhanghaohong/anaconda3/bin:/data4/zhanghaohong/anaconda3/condabin:/home/zhanghaohong/.aspera/connect/bin:/usr/local/bin:/usr/bin:/usr/local/sbin:/usr/sbin:/data4/zhanghaohong/tmp/ipykernel_23322/3091834413.py:6: FutureWarning: The frame.append method is deprecated and will be removed from pandas in a future version. Use pandas.concat instead.\n",
      " 36%|███▌      | 36/100 [00:48<01:20,  1.25s/it]/home/zhanghaohong/.aspera/connect/bin:/data4/zhanghaohong/anaconda3/bin:/data4/zhanghaohong/anaconda3/condabin:/home/zhanghaohong/.aspera/connect/bin:/usr/local/bin:/usr/bin:/usr/local/sbin:/usr/sbin:/data4/zhanghaohong/tmp/ipykernel_23322/3091834413.py:6: FutureWarning: The frame.append method is deprecated and will be removed from pandas in a future version. Use pandas.concat instead.\n",
      " 37%|███▋      | 37/100 [00:49<01:18,  1.25s/it]/home/zhanghaohong/.aspera/connect/bin:/data4/zhanghaohong/anaconda3/bin:/data4/zhanghaohong/anaconda3/condabin:/home/zhanghaohong/.aspera/connect/bin:/usr/local/bin:/usr/bin:/usr/local/sbin:/usr/sbin:/data4/zhanghaohong/tmp/ipykernel_23322/3091834413.py:6: FutureWarning: The frame.append method is deprecated and will be removed from pandas in a future version. Use pandas.concat instead.\n",
      " 38%|███▊      | 38/100 [00:50<01:17,  1.25s/it]/home/zhanghaohong/.aspera/connect/bin:/data4/zhanghaohong/anaconda3/bin:/data4/zhanghaohong/anaconda3/condabin:/home/zhanghaohong/.aspera/connect/bin:/usr/local/bin:/usr/bin:/usr/local/sbin:/usr/sbin:/data4/zhanghaohong/tmp/ipykernel_23322/3091834413.py:6: FutureWarning: The frame.append method is deprecated and will be removed from pandas in a future version. Use pandas.concat instead.\n",
      " 39%|███▉      | 39/100 [00:51<01:16,  1.25s/it]/home/zhanghaohong/.aspera/connect/bin:/data4/zhanghaohong/anaconda3/bin:/data4/zhanghaohong/anaconda3/condabin:/home/zhanghaohong/.aspera/connect/bin:/usr/local/bin:/usr/bin:/usr/local/sbin:/usr/sbin:/data4/zhanghaohong/tmp/ipykernel_23322/3091834413.py:6: FutureWarning: The frame.append method is deprecated and will be removed from pandas in a future version. Use pandas.concat instead.\n",
      " 40%|████      | 40/100 [00:53<01:15,  1.25s/it]/home/zhanghaohong/.aspera/connect/bin:/data4/zhanghaohong/anaconda3/bin:/data4/zhanghaohong/anaconda3/condabin:/home/zhanghaohong/.aspera/connect/bin:/usr/local/bin:/usr/bin:/usr/local/sbin:/usr/sbin:/data4/zhanghaohong/tmp/ipykernel_23322/3091834413.py:6: FutureWarning: The frame.append method is deprecated and will be removed from pandas in a future version. Use pandas.concat instead.\n",
      " 41%|████      | 41/100 [00:54<01:13,  1.25s/it]/home/zhanghaohong/.aspera/connect/bin:/data4/zhanghaohong/anaconda3/bin:/data4/zhanghaohong/anaconda3/condabin:/home/zhanghaohong/.aspera/connect/bin:/usr/local/bin:/usr/bin:/usr/local/sbin:/usr/sbin:/data4/zhanghaohong/tmp/ipykernel_23322/3091834413.py:6: FutureWarning: The frame.append method is deprecated and will be removed from pandas in a future version. Use pandas.concat instead.\n",
      " 42%|████▏     | 42/100 [00:55<01:12,  1.25s/it]/home/zhanghaohong/.aspera/connect/bin:/data4/zhanghaohong/anaconda3/bin:/data4/zhanghaohong/anaconda3/condabin:/home/zhanghaohong/.aspera/connect/bin:/usr/local/bin:/usr/bin:/usr/local/sbin:/usr/sbin:/data4/zhanghaohong/tmp/ipykernel_23322/3091834413.py:6: FutureWarning: The frame.append method is deprecated and will be removed from pandas in a future version. Use pandas.concat instead.\n",
      " 43%|████▎     | 43/100 [00:56<01:11,  1.25s/it]/home/zhanghaohong/.aspera/connect/bin:/data4/zhanghaohong/anaconda3/bin:/data4/zhanghaohong/anaconda3/condabin:/home/zhanghaohong/.aspera/connect/bin:/usr/local/bin:/usr/bin:/usr/local/sbin:/usr/sbin:/data4/zhanghaohong/tmp/ipykernel_23322/3091834413.py:6: FutureWarning: The frame.append method is deprecated and will be removed from pandas in a future version. Use pandas.concat instead.\n",
      " 44%|████▍     | 44/100 [00:58<01:09,  1.24s/it]/home/zhanghaohong/.aspera/connect/bin:/data4/zhanghaohong/anaconda3/bin:/data4/zhanghaohong/anaconda3/condabin:/home/zhanghaohong/.aspera/connect/bin:/usr/local/bin:/usr/bin:/usr/local/sbin:/usr/sbin:/data4/zhanghaohong/tmp/ipykernel_23322/3091834413.py:6: FutureWarning: The frame.append method is deprecated and will be removed from pandas in a future version. Use pandas.concat instead.\n",
      " 45%|████▌     | 45/100 [00:59<01:08,  1.24s/it]/home/zhanghaohong/.aspera/connect/bin:/data4/zhanghaohong/anaconda3/bin:/data4/zhanghaohong/anaconda3/condabin:/home/zhanghaohong/.aspera/connect/bin:/usr/local/bin:/usr/bin:/usr/local/sbin:/usr/sbin:/data4/zhanghaohong/tmp/ipykernel_23322/3091834413.py:6: FutureWarning: The frame.append method is deprecated and will be removed from pandas in a future version. Use pandas.concat instead.\n",
      " 46%|████▌     | 46/100 [01:00<01:07,  1.24s/it]/home/zhanghaohong/.aspera/connect/bin:/data4/zhanghaohong/anaconda3/bin:/data4/zhanghaohong/anaconda3/condabin:/home/zhanghaohong/.aspera/connect/bin:/usr/local/bin:/usr/bin:/usr/local/sbin:/usr/sbin:/data4/zhanghaohong/tmp/ipykernel_23322/3091834413.py:6: FutureWarning: The frame.append method is deprecated and will be removed from pandas in a future version. Use pandas.concat instead.\n",
      " 47%|████▋     | 47/100 [01:01<01:05,  1.24s/it]/home/zhanghaohong/.aspera/connect/bin:/data4/zhanghaohong/anaconda3/bin:/data4/zhanghaohong/anaconda3/condabin:/home/zhanghaohong/.aspera/connect/bin:/usr/local/bin:/usr/bin:/usr/local/sbin:/usr/sbin:/data4/zhanghaohong/tmp/ipykernel_23322/3091834413.py:6: FutureWarning: The frame.append method is deprecated and will be removed from pandas in a future version. Use pandas.concat instead.\n",
      " 48%|████▊     | 48/100 [01:03<01:04,  1.25s/it]/home/zhanghaohong/.aspera/connect/bin:/data4/zhanghaohong/anaconda3/bin:/data4/zhanghaohong/anaconda3/condabin:/home/zhanghaohong/.aspera/connect/bin:/usr/local/bin:/usr/bin:/usr/local/sbin:/usr/sbin:/data4/zhanghaohong/tmp/ipykernel_23322/3091834413.py:6: FutureWarning: The frame.append method is deprecated and will be removed from pandas in a future version. Use pandas.concat instead.\n",
      " 49%|████▉     | 49/100 [01:04<01:03,  1.25s/it]/home/zhanghaohong/.aspera/connect/bin:/data4/zhanghaohong/anaconda3/bin:/data4/zhanghaohong/anaconda3/condabin:/home/zhanghaohong/.aspera/connect/bin:/usr/local/bin:/usr/bin:/usr/local/sbin:/usr/sbin:/data4/zhanghaohong/tmp/ipykernel_23322/3091834413.py:6: FutureWarning: The frame.append method is deprecated and will be removed from pandas in a future version. Use pandas.concat instead.\n",
      " 50%|█████     | 50/100 [01:05<01:02,  1.24s/it]/home/zhanghaohong/.aspera/connect/bin:/data4/zhanghaohong/anaconda3/bin:/data4/zhanghaohong/anaconda3/condabin:/home/zhanghaohong/.aspera/connect/bin:/usr/local/bin:/usr/bin:/usr/local/sbin:/usr/sbin:/data4/zhanghaohong/tmp/ipykernel_23322/3091834413.py:6: FutureWarning: The frame.append method is deprecated and will be removed from pandas in a future version. Use pandas.concat instead.\n",
      " 51%|█████     | 51/100 [01:06<01:00,  1.24s/it]/home/zhanghaohong/.aspera/connect/bin:/data4/zhanghaohong/anaconda3/bin:/data4/zhanghaohong/anaconda3/condabin:/home/zhanghaohong/.aspera/connect/bin:/usr/local/bin:/usr/bin:/usr/local/sbin:/usr/sbin:/data4/zhanghaohong/tmp/ipykernel_23322/3091834413.py:6: FutureWarning: The frame.append method is deprecated and will be removed from pandas in a future version. Use pandas.concat instead.\n",
      " 52%|█████▏    | 52/100 [01:08<00:59,  1.24s/it]/home/zhanghaohong/.aspera/connect/bin:/data4/zhanghaohong/anaconda3/bin:/data4/zhanghaohong/anaconda3/condabin:/home/zhanghaohong/.aspera/connect/bin:/usr/local/bin:/usr/bin:/usr/local/sbin:/usr/sbin:/data4/zhanghaohong/tmp/ipykernel_23322/3091834413.py:6: FutureWarning: The frame.append method is deprecated and will be removed from pandas in a future version. Use pandas.concat instead.\n",
      " 53%|█████▎    | 53/100 [01:09<00:58,  1.25s/it]/home/zhanghaohong/.aspera/connect/bin:/data4/zhanghaohong/anaconda3/bin:/data4/zhanghaohong/anaconda3/condabin:/home/zhanghaohong/.aspera/connect/bin:/usr/local/bin:/usr/bin:/usr/local/sbin:/usr/sbin:/data4/zhanghaohong/tmp/ipykernel_23322/3091834413.py:6: FutureWarning: The frame.append method is deprecated and will be removed from pandas in a future version. Use pandas.concat instead.\n",
      " 54%|█████▍    | 54/100 [01:10<00:57,  1.25s/it]/home/zhanghaohong/.aspera/connect/bin:/data4/zhanghaohong/anaconda3/bin:/data4/zhanghaohong/anaconda3/condabin:/home/zhanghaohong/.aspera/connect/bin:/usr/local/bin:/usr/bin:/usr/local/sbin:/usr/sbin:/data4/zhanghaohong/tmp/ipykernel_23322/3091834413.py:6: FutureWarning: The frame.append method is deprecated and will be removed from pandas in a future version. Use pandas.concat instead.\n",
      " 55%|█████▌    | 55/100 [01:11<00:56,  1.25s/it]/home/zhanghaohong/.aspera/connect/bin:/data4/zhanghaohong/anaconda3/bin:/data4/zhanghaohong/anaconda3/condabin:/home/zhanghaohong/.aspera/connect/bin:/usr/local/bin:/usr/bin:/usr/local/sbin:/usr/sbin:/data4/zhanghaohong/tmp/ipykernel_23322/3091834413.py:6: FutureWarning: The frame.append method is deprecated and will be removed from pandas in a future version. Use pandas.concat instead.\n",
      " 56%|█████▌    | 56/100 [01:13<00:54,  1.25s/it]/home/zhanghaohong/.aspera/connect/bin:/data4/zhanghaohong/anaconda3/bin:/data4/zhanghaohong/anaconda3/condabin:/home/zhanghaohong/.aspera/connect/bin:/usr/local/bin:/usr/bin:/usr/local/sbin:/usr/sbin:/data4/zhanghaohong/tmp/ipykernel_23322/3091834413.py:6: FutureWarning: The frame.append method is deprecated and will be removed from pandas in a future version. Use pandas.concat instead.\n",
      " 57%|█████▋    | 57/100 [01:14<00:53,  1.24s/it]/home/zhanghaohong/.aspera/connect/bin:/data4/zhanghaohong/anaconda3/bin:/data4/zhanghaohong/anaconda3/condabin:/home/zhanghaohong/.aspera/connect/bin:/usr/local/bin:/usr/bin:/usr/local/sbin:/usr/sbin:/data4/zhanghaohong/tmp/ipykernel_23322/3091834413.py:6: FutureWarning: The frame.append method is deprecated and will be removed from pandas in a future version. Use pandas.concat instead.\n",
      " 58%|█████▊    | 58/100 [01:15<00:52,  1.24s/it]/home/zhanghaohong/.aspera/connect/bin:/data4/zhanghaohong/anaconda3/bin:/data4/zhanghaohong/anaconda3/condabin:/home/zhanghaohong/.aspera/connect/bin:/usr/local/bin:/usr/bin:/usr/local/sbin:/usr/sbin:/data4/zhanghaohong/tmp/ipykernel_23322/3091834413.py:6: FutureWarning: The frame.append method is deprecated and will be removed from pandas in a future version. Use pandas.concat instead.\n",
      " 59%|█████▉    | 59/100 [01:16<00:50,  1.24s/it]/home/zhanghaohong/.aspera/connect/bin:/data4/zhanghaohong/anaconda3/bin:/data4/zhanghaohong/anaconda3/condabin:/home/zhanghaohong/.aspera/connect/bin:/usr/local/bin:/usr/bin:/usr/local/sbin:/usr/sbin:/data4/zhanghaohong/tmp/ipykernel_23322/3091834413.py:6: FutureWarning: The frame.append method is deprecated and will be removed from pandas in a future version. Use pandas.concat instead.\n",
      " 60%|██████    | 60/100 [01:18<00:49,  1.24s/it]/home/zhanghaohong/.aspera/connect/bin:/data4/zhanghaohong/anaconda3/bin:/data4/zhanghaohong/anaconda3/condabin:/home/zhanghaohong/.aspera/connect/bin:/usr/local/bin:/usr/bin:/usr/local/sbin:/usr/sbin:/data4/zhanghaohong/tmp/ipykernel_23322/3091834413.py:6: FutureWarning: The frame.append method is deprecated and will be removed from pandas in a future version. Use pandas.concat instead.\n",
      " 61%|██████    | 61/100 [01:19<00:48,  1.24s/it]/home/zhanghaohong/.aspera/connect/bin:/data4/zhanghaohong/anaconda3/bin:/data4/zhanghaohong/anaconda3/condabin:/home/zhanghaohong/.aspera/connect/bin:/usr/local/bin:/usr/bin:/usr/local/sbin:/usr/sbin:/data4/zhanghaohong/tmp/ipykernel_23322/3091834413.py:6: FutureWarning: The frame.append method is deprecated and will be removed from pandas in a future version. Use pandas.concat instead.\n",
      " 62%|██████▏   | 62/100 [01:20<00:47,  1.24s/it]/home/zhanghaohong/.aspera/connect/bin:/data4/zhanghaohong/anaconda3/bin:/data4/zhanghaohong/anaconda3/condabin:/home/zhanghaohong/.aspera/connect/bin:/usr/local/bin:/usr/bin:/usr/local/sbin:/usr/sbin:/data4/zhanghaohong/tmp/ipykernel_23322/3091834413.py:6: FutureWarning: The frame.append method is deprecated and will be removed from pandas in a future version. Use pandas.concat instead.\n",
      " 63%|██████▎   | 63/100 [01:21<00:45,  1.24s/it]/home/zhanghaohong/.aspera/connect/bin:/data4/zhanghaohong/anaconda3/bin:/data4/zhanghaohong/anaconda3/condabin:/home/zhanghaohong/.aspera/connect/bin:/usr/local/bin:/usr/bin:/usr/local/sbin:/usr/sbin:/data4/zhanghaohong/tmp/ipykernel_23322/3091834413.py:6: FutureWarning: The frame.append method is deprecated and will be removed from pandas in a future version. Use pandas.concat instead.\n",
      " 64%|██████▍   | 64/100 [01:23<00:44,  1.25s/it]/home/zhanghaohong/.aspera/connect/bin:/data4/zhanghaohong/anaconda3/bin:/data4/zhanghaohong/anaconda3/condabin:/home/zhanghaohong/.aspera/connect/bin:/usr/local/bin:/usr/bin:/usr/local/sbin:/usr/sbin:/data4/zhanghaohong/tmp/ipykernel_23322/3091834413.py:6: FutureWarning: The frame.append method is deprecated and will be removed from pandas in a future version. Use pandas.concat instead.\n",
      " 65%|██████▌   | 65/100 [01:24<00:43,  1.26s/it]/home/zhanghaohong/.aspera/connect/bin:/data4/zhanghaohong/anaconda3/bin:/data4/zhanghaohong/anaconda3/condabin:/home/zhanghaohong/.aspera/connect/bin:/usr/local/bin:/usr/bin:/usr/local/sbin:/usr/sbin:/data4/zhanghaohong/tmp/ipykernel_23322/3091834413.py:6: FutureWarning: The frame.append method is deprecated and will be removed from pandas in a future version. Use pandas.concat instead.\n",
      " 66%|██████▌   | 66/100 [01:25<00:42,  1.25s/it]/home/zhanghaohong/.aspera/connect/bin:/data4/zhanghaohong/anaconda3/bin:/data4/zhanghaohong/anaconda3/condabin:/home/zhanghaohong/.aspera/connect/bin:/usr/local/bin:/usr/bin:/usr/local/sbin:/usr/sbin:/data4/zhanghaohong/tmp/ipykernel_23322/3091834413.py:6: FutureWarning: The frame.append method is deprecated and will be removed from pandas in a future version. Use pandas.concat instead.\n",
      " 67%|██████▋   | 67/100 [01:26<00:41,  1.25s/it]/home/zhanghaohong/.aspera/connect/bin:/data4/zhanghaohong/anaconda3/bin:/data4/zhanghaohong/anaconda3/condabin:/home/zhanghaohong/.aspera/connect/bin:/usr/local/bin:/usr/bin:/usr/local/sbin:/usr/sbin:/data4/zhanghaohong/tmp/ipykernel_23322/3091834413.py:6: FutureWarning: The frame.append method is deprecated and will be removed from pandas in a future version. Use pandas.concat instead.\n",
      " 68%|██████▊   | 68/100 [01:28<00:39,  1.25s/it]/home/zhanghaohong/.aspera/connect/bin:/data4/zhanghaohong/anaconda3/bin:/data4/zhanghaohong/anaconda3/condabin:/home/zhanghaohong/.aspera/connect/bin:/usr/local/bin:/usr/bin:/usr/local/sbin:/usr/sbin:/data4/zhanghaohong/tmp/ipykernel_23322/3091834413.py:6: FutureWarning: The frame.append method is deprecated and will be removed from pandas in a future version. Use pandas.concat instead.\n",
      " 69%|██████▉   | 69/100 [01:29<00:38,  1.25s/it]/home/zhanghaohong/.aspera/connect/bin:/data4/zhanghaohong/anaconda3/bin:/data4/zhanghaohong/anaconda3/condabin:/home/zhanghaohong/.aspera/connect/bin:/usr/local/bin:/usr/bin:/usr/local/sbin:/usr/sbin:/data4/zhanghaohong/tmp/ipykernel_23322/3091834413.py:6: FutureWarning: The frame.append method is deprecated and will be removed from pandas in a future version. Use pandas.concat instead.\n",
      " 70%|███████   | 70/100 [01:30<00:37,  1.24s/it]/home/zhanghaohong/.aspera/connect/bin:/data4/zhanghaohong/anaconda3/bin:/data4/zhanghaohong/anaconda3/condabin:/home/zhanghaohong/.aspera/connect/bin:/usr/local/bin:/usr/bin:/usr/local/sbin:/usr/sbin:/data4/zhanghaohong/tmp/ipykernel_23322/3091834413.py:6: FutureWarning: The frame.append method is deprecated and will be removed from pandas in a future version. Use pandas.concat instead.\n",
      " 71%|███████   | 71/100 [01:31<00:36,  1.24s/it]/home/zhanghaohong/.aspera/connect/bin:/data4/zhanghaohong/anaconda3/bin:/data4/zhanghaohong/anaconda3/condabin:/home/zhanghaohong/.aspera/connect/bin:/usr/local/bin:/usr/bin:/usr/local/sbin:/usr/sbin:/data4/zhanghaohong/tmp/ipykernel_23322/3091834413.py:6: FutureWarning: The frame.append method is deprecated and will be removed from pandas in a future version. Use pandas.concat instead.\n",
      " 72%|███████▏  | 72/100 [01:32<00:34,  1.25s/it]/home/zhanghaohong/.aspera/connect/bin:/data4/zhanghaohong/anaconda3/bin:/data4/zhanghaohong/anaconda3/condabin:/home/zhanghaohong/.aspera/connect/bin:/usr/local/bin:/usr/bin:/usr/local/sbin:/usr/sbin:/data4/zhanghaohong/tmp/ipykernel_23322/3091834413.py:6: FutureWarning: The frame.append method is deprecated and will be removed from pandas in a future version. Use pandas.concat instead.\n",
      " 73%|███████▎  | 73/100 [01:34<00:33,  1.25s/it]/home/zhanghaohong/.aspera/connect/bin:/data4/zhanghaohong/anaconda3/bin:/data4/zhanghaohong/anaconda3/condabin:/home/zhanghaohong/.aspera/connect/bin:/usr/local/bin:/usr/bin:/usr/local/sbin:/usr/sbin:/data4/zhanghaohong/tmp/ipykernel_23322/3091834413.py:6: FutureWarning: The frame.append method is deprecated and will be removed from pandas in a future version. Use pandas.concat instead.\n",
      " 74%|███████▍  | 74/100 [01:35<00:32,  1.25s/it]/home/zhanghaohong/.aspera/connect/bin:/data4/zhanghaohong/anaconda3/bin:/data4/zhanghaohong/anaconda3/condabin:/home/zhanghaohong/.aspera/connect/bin:/usr/local/bin:/usr/bin:/usr/local/sbin:/usr/sbin:/data4/zhanghaohong/tmp/ipykernel_23322/3091834413.py:6: FutureWarning: The frame.append method is deprecated and will be removed from pandas in a future version. Use pandas.concat instead.\n",
      " 75%|███████▌  | 75/100 [01:36<00:31,  1.24s/it]/home/zhanghaohong/.aspera/connect/bin:/data4/zhanghaohong/anaconda3/bin:/data4/zhanghaohong/anaconda3/condabin:/home/zhanghaohong/.aspera/connect/bin:/usr/local/bin:/usr/bin:/usr/local/sbin:/usr/sbin:/data4/zhanghaohong/tmp/ipykernel_23322/3091834413.py:6: FutureWarning: The frame.append method is deprecated and will be removed from pandas in a future version. Use pandas.concat instead.\n",
      " 76%|███████▌  | 76/100 [01:37<00:29,  1.24s/it]/home/zhanghaohong/.aspera/connect/bin:/data4/zhanghaohong/anaconda3/bin:/data4/zhanghaohong/anaconda3/condabin:/home/zhanghaohong/.aspera/connect/bin:/usr/local/bin:/usr/bin:/usr/local/sbin:/usr/sbin:/data4/zhanghaohong/tmp/ipykernel_23322/3091834413.py:6: FutureWarning: The frame.append method is deprecated and will be removed from pandas in a future version. Use pandas.concat instead.\n",
      " 77%|███████▋  | 77/100 [01:39<00:28,  1.24s/it]/home/zhanghaohong/.aspera/connect/bin:/data4/zhanghaohong/anaconda3/bin:/data4/zhanghaohong/anaconda3/condabin:/home/zhanghaohong/.aspera/connect/bin:/usr/local/bin:/usr/bin:/usr/local/sbin:/usr/sbin:/data4/zhanghaohong/tmp/ipykernel_23322/3091834413.py:6: FutureWarning: The frame.append method is deprecated and will be removed from pandas in a future version. Use pandas.concat instead.\n",
      " 78%|███████▊  | 78/100 [01:40<00:27,  1.24s/it]/home/zhanghaohong/.aspera/connect/bin:/data4/zhanghaohong/anaconda3/bin:/data4/zhanghaohong/anaconda3/condabin:/home/zhanghaohong/.aspera/connect/bin:/usr/local/bin:/usr/bin:/usr/local/sbin:/usr/sbin:/data4/zhanghaohong/tmp/ipykernel_23322/3091834413.py:6: FutureWarning: The frame.append method is deprecated and will be removed from pandas in a future version. Use pandas.concat instead.\n",
      " 79%|███████▉  | 79/100 [01:41<00:26,  1.24s/it]/home/zhanghaohong/.aspera/connect/bin:/data4/zhanghaohong/anaconda3/bin:/data4/zhanghaohong/anaconda3/condabin:/home/zhanghaohong/.aspera/connect/bin:/usr/local/bin:/usr/bin:/usr/local/sbin:/usr/sbin:/data4/zhanghaohong/tmp/ipykernel_23322/3091834413.py:6: FutureWarning: The frame.append method is deprecated and will be removed from pandas in a future version. Use pandas.concat instead.\n",
      " 80%|████████  | 80/100 [01:42<00:24,  1.24s/it]/home/zhanghaohong/.aspera/connect/bin:/data4/zhanghaohong/anaconda3/bin:/data4/zhanghaohong/anaconda3/condabin:/home/zhanghaohong/.aspera/connect/bin:/usr/local/bin:/usr/bin:/usr/local/sbin:/usr/sbin:/data4/zhanghaohong/tmp/ipykernel_23322/3091834413.py:6: FutureWarning: The frame.append method is deprecated and will be removed from pandas in a future version. Use pandas.concat instead.\n",
      " 81%|████████  | 81/100 [01:44<00:23,  1.24s/it]/home/zhanghaohong/.aspera/connect/bin:/data4/zhanghaohong/anaconda3/bin:/data4/zhanghaohong/anaconda3/condabin:/home/zhanghaohong/.aspera/connect/bin:/usr/local/bin:/usr/bin:/usr/local/sbin:/usr/sbin:/data4/zhanghaohong/tmp/ipykernel_23322/3091834413.py:6: FutureWarning: The frame.append method is deprecated and will be removed from pandas in a future version. Use pandas.concat instead.\n",
      " 82%|████████▏ | 82/100 [01:45<00:22,  1.24s/it]/home/zhanghaohong/.aspera/connect/bin:/data4/zhanghaohong/anaconda3/bin:/data4/zhanghaohong/anaconda3/condabin:/home/zhanghaohong/.aspera/connect/bin:/usr/local/bin:/usr/bin:/usr/local/sbin:/usr/sbin:/data4/zhanghaohong/tmp/ipykernel_23322/3091834413.py:6: FutureWarning: The frame.append method is deprecated and will be removed from pandas in a future version. Use pandas.concat instead.\n",
      " 83%|████████▎ | 83/100 [01:46<00:21,  1.24s/it]/home/zhanghaohong/.aspera/connect/bin:/data4/zhanghaohong/anaconda3/bin:/data4/zhanghaohong/anaconda3/condabin:/home/zhanghaohong/.aspera/connect/bin:/usr/local/bin:/usr/bin:/usr/local/sbin:/usr/sbin:/data4/zhanghaohong/tmp/ipykernel_23322/3091834413.py:6: FutureWarning: The frame.append method is deprecated and will be removed from pandas in a future version. Use pandas.concat instead.\n",
      " 84%|████████▍ | 84/100 [01:47<00:19,  1.24s/it]/home/zhanghaohong/.aspera/connect/bin:/data4/zhanghaohong/anaconda3/bin:/data4/zhanghaohong/anaconda3/condabin:/home/zhanghaohong/.aspera/connect/bin:/usr/local/bin:/usr/bin:/usr/local/sbin:/usr/sbin:/data4/zhanghaohong/tmp/ipykernel_23322/3091834413.py:6: FutureWarning: The frame.append method is deprecated and will be removed from pandas in a future version. Use pandas.concat instead.\n",
      " 85%|████████▌ | 85/100 [01:49<00:18,  1.24s/it]/home/zhanghaohong/.aspera/connect/bin:/data4/zhanghaohong/anaconda3/bin:/data4/zhanghaohong/anaconda3/condabin:/home/zhanghaohong/.aspera/connect/bin:/usr/local/bin:/usr/bin:/usr/local/sbin:/usr/sbin:/data4/zhanghaohong/tmp/ipykernel_23322/3091834413.py:6: FutureWarning: The frame.append method is deprecated and will be removed from pandas in a future version. Use pandas.concat instead.\n",
      " 86%|████████▌ | 86/100 [01:50<00:17,  1.24s/it]/home/zhanghaohong/.aspera/connect/bin:/data4/zhanghaohong/anaconda3/bin:/data4/zhanghaohong/anaconda3/condabin:/home/zhanghaohong/.aspera/connect/bin:/usr/local/bin:/usr/bin:/usr/local/sbin:/usr/sbin:/data4/zhanghaohong/tmp/ipykernel_23322/3091834413.py:6: FutureWarning: The frame.append method is deprecated and will be removed from pandas in a future version. Use pandas.concat instead.\n",
      " 87%|████████▋ | 87/100 [01:51<00:16,  1.25s/it]/home/zhanghaohong/.aspera/connect/bin:/data4/zhanghaohong/anaconda3/bin:/data4/zhanghaohong/anaconda3/condabin:/home/zhanghaohong/.aspera/connect/bin:/usr/local/bin:/usr/bin:/usr/local/sbin:/usr/sbin:/data4/zhanghaohong/tmp/ipykernel_23322/3091834413.py:6: FutureWarning: The frame.append method is deprecated and will be removed from pandas in a future version. Use pandas.concat instead.\n",
      " 88%|████████▊ | 88/100 [01:52<00:14,  1.24s/it]/home/zhanghaohong/.aspera/connect/bin:/data4/zhanghaohong/anaconda3/bin:/data4/zhanghaohong/anaconda3/condabin:/home/zhanghaohong/.aspera/connect/bin:/usr/local/bin:/usr/bin:/usr/local/sbin:/usr/sbin:/data4/zhanghaohong/tmp/ipykernel_23322/3091834413.py:6: FutureWarning: The frame.append method is deprecated and will be removed from pandas in a future version. Use pandas.concat instead.\n",
      " 89%|████████▉ | 89/100 [01:54<00:13,  1.24s/it]/home/zhanghaohong/.aspera/connect/bin:/data4/zhanghaohong/anaconda3/bin:/data4/zhanghaohong/anaconda3/condabin:/home/zhanghaohong/.aspera/connect/bin:/usr/local/bin:/usr/bin:/usr/local/sbin:/usr/sbin:/data4/zhanghaohong/tmp/ipykernel_23322/3091834413.py:6: FutureWarning: The frame.append method is deprecated and will be removed from pandas in a future version. Use pandas.concat instead.\n",
      " 90%|█████████ | 90/100 [01:55<00:12,  1.24s/it]/home/zhanghaohong/.aspera/connect/bin:/data4/zhanghaohong/anaconda3/bin:/data4/zhanghaohong/anaconda3/condabin:/home/zhanghaohong/.aspera/connect/bin:/usr/local/bin:/usr/bin:/usr/local/sbin:/usr/sbin:/data4/zhanghaohong/tmp/ipykernel_23322/3091834413.py:6: FutureWarning: The frame.append method is deprecated and will be removed from pandas in a future version. Use pandas.concat instead.\n",
      " 91%|█████████ | 91/100 [01:56<00:11,  1.24s/it]/home/zhanghaohong/.aspera/connect/bin:/data4/zhanghaohong/anaconda3/bin:/data4/zhanghaohong/anaconda3/condabin:/home/zhanghaohong/.aspera/connect/bin:/usr/local/bin:/usr/bin:/usr/local/sbin:/usr/sbin:/data4/zhanghaohong/tmp/ipykernel_23322/3091834413.py:6: FutureWarning: The frame.append method is deprecated and will be removed from pandas in a future version. Use pandas.concat instead.\n",
      " 92%|█████████▏| 92/100 [01:57<00:09,  1.25s/it]/home/zhanghaohong/.aspera/connect/bin:/data4/zhanghaohong/anaconda3/bin:/data4/zhanghaohong/anaconda3/condabin:/home/zhanghaohong/.aspera/connect/bin:/usr/local/bin:/usr/bin:/usr/local/sbin:/usr/sbin:/data4/zhanghaohong/tmp/ipykernel_23322/3091834413.py:6: FutureWarning: The frame.append method is deprecated and will be removed from pandas in a future version. Use pandas.concat instead.\n",
      " 93%|█████████▎| 93/100 [01:59<00:08,  1.25s/it]/home/zhanghaohong/.aspera/connect/bin:/data4/zhanghaohong/anaconda3/bin:/data4/zhanghaohong/anaconda3/condabin:/home/zhanghaohong/.aspera/connect/bin:/usr/local/bin:/usr/bin:/usr/local/sbin:/usr/sbin:/data4/zhanghaohong/tmp/ipykernel_23322/3091834413.py:6: FutureWarning: The frame.append method is deprecated and will be removed from pandas in a future version. Use pandas.concat instead.\n",
      " 94%|█████████▍| 94/100 [02:00<00:07,  1.25s/it]/home/zhanghaohong/.aspera/connect/bin:/data4/zhanghaohong/anaconda3/bin:/data4/zhanghaohong/anaconda3/condabin:/home/zhanghaohong/.aspera/connect/bin:/usr/local/bin:/usr/bin:/usr/local/sbin:/usr/sbin:/data4/zhanghaohong/tmp/ipykernel_23322/3091834413.py:6: FutureWarning: The frame.append method is deprecated and will be removed from pandas in a future version. Use pandas.concat instead.\n",
      " 95%|█████████▌| 95/100 [02:01<00:06,  1.24s/it]/home/zhanghaohong/.aspera/connect/bin:/data4/zhanghaohong/anaconda3/bin:/data4/zhanghaohong/anaconda3/condabin:/home/zhanghaohong/.aspera/connect/bin:/usr/local/bin:/usr/bin:/usr/local/sbin:/usr/sbin:/data4/zhanghaohong/tmp/ipykernel_23322/3091834413.py:6: FutureWarning: The frame.append method is deprecated and will be removed from pandas in a future version. Use pandas.concat instead.\n",
      " 96%|█████████▌| 96/100 [02:02<00:04,  1.24s/it]/home/zhanghaohong/.aspera/connect/bin:/data4/zhanghaohong/anaconda3/bin:/data4/zhanghaohong/anaconda3/condabin:/home/zhanghaohong/.aspera/connect/bin:/usr/local/bin:/usr/bin:/usr/local/sbin:/usr/sbin:/data4/zhanghaohong/tmp/ipykernel_23322/3091834413.py:6: FutureWarning: The frame.append method is deprecated and will be removed from pandas in a future version. Use pandas.concat instead.\n",
      " 97%|█████████▋| 97/100 [02:04<00:03,  1.24s/it]/home/zhanghaohong/.aspera/connect/bin:/data4/zhanghaohong/anaconda3/bin:/data4/zhanghaohong/anaconda3/condabin:/home/zhanghaohong/.aspera/connect/bin:/usr/local/bin:/usr/bin:/usr/local/sbin:/usr/sbin:/data4/zhanghaohong/tmp/ipykernel_23322/3091834413.py:6: FutureWarning: The frame.append method is deprecated and will be removed from pandas in a future version. Use pandas.concat instead.\n",
      " 98%|█████████▊| 98/100 [02:05<00:02,  1.25s/it]/home/zhanghaohong/.aspera/connect/bin:/data4/zhanghaohong/anaconda3/bin:/data4/zhanghaohong/anaconda3/condabin:/home/zhanghaohong/.aspera/connect/bin:/usr/local/bin:/usr/bin:/usr/local/sbin:/usr/sbin:/data4/zhanghaohong/tmp/ipykernel_23322/3091834413.py:6: FutureWarning: The frame.append method is deprecated and will be removed from pandas in a future version. Use pandas.concat instead.\n",
      " 99%|█████████▉| 99/100 [02:06<00:01,  1.24s/it]/home/zhanghaohong/.aspera/connect/bin:/data4/zhanghaohong/anaconda3/bin:/data4/zhanghaohong/anaconda3/condabin:/home/zhanghaohong/.aspera/connect/bin:/usr/local/bin:/usr/bin:/usr/local/sbin:/usr/sbin:/data4/zhanghaohong/tmp/ipykernel_23322/3091834413.py:6: FutureWarning: The frame.append method is deprecated and will be removed from pandas in a future version. Use pandas.concat instead.\n",
      "100%|██████████| 100/100 [02:07<00:00,  1.28s/it]\n"
     ]
    }
   ],
   "source": [
    "from sklearn.metrics import f1_score\n",
    "\n",
    "f1_df = pd.DataFrame(columns = ['threshold', 'F1 score'])\n",
    "for threshold in tqdm(np.linspace(14, 20, 100)):\n",
    "    pred = test_df['Score'].apply(lambda x: 1 if x > threshold else 0)\n",
    "    f1_df = f1_df.append({'threshold': threshold,\n",
    "                            'F1 score': f1_score(test_df['Donar'], pred)}, ignore_index = True)"
   ]
  },
  {
   "cell_type": "code",
   "execution_count": 8,
   "metadata": {},
   "outputs": [
    {
     "data": {
      "image/png": "[encoded data removed]",
      "text/plain": [
       "<Figure size 640x480 with 1 Axes>"
      ]
     },
     "metadata": {},
     "output_type": "display_data"
    },
    {
     "data": {
      "text/plain": [
       "<ggplot: (8739389075423)>"
      ]
     },
     "execution_count": 8,
     "metadata": {},
     "output_type": "execute_result"
    }
   ],
   "source": [
    "f1_df = f1_df.astype(float)\n",
    "p = (ggplot(f1_df, aes(x = 'threshold', y = 'F1 score')) +\n",
    "            geom_line(color = '#66ccff', size = 2) +\n",
    "            theme_bw() +\n",
    "            theme(axis_text_x = element_text(color = 'black')))\n",
    "p "
   ]
  },
  {
   "cell_type": "markdown",
   "metadata": {},
   "source": [
    "##### 混淆矩阵"
   ]
  },
  {
   "cell_type": "code",
   "execution_count": 11,
   "metadata": {},
   "outputs": [
    {
     "data": {
      "image/png": "[encoded data removed]",
      "text/plain": [
       "<Figure size 360x360 with 1 Axes>"
      ]
     },
     "metadata": {
      "needs_background": "light"
     },
     "output_type": "display_data"
    }
   ],
   "source": [
    "best_threshold = f1_df.loc[f1_df['F1 score'].idxmax()]\n",
    "cf_mat = confusion_matrix(test_df['Donar'], test_df['Score'].\\\n",
    "        apply(lambda x: 1 if x > 15.5 else 0))\n",
    "\n",
    "plt.figure(figsize = (5, 5))\n",
    "cf_hm = sns.heatmap(np.log(cf_mat), \n",
    "                        annot = cf_mat, \n",
    "                        cmap = 'YlGnBu', \n",
    "                        xticklabels = ['Pred Normal', 'Pred Donar'],\n",
    "                        yticklabels = ['Normal', 'Donar'],\n",
    "                        cbar = False)"
   ]
  },
  {
   "cell_type": "code",
   "execution_count": 7,
   "metadata": {},
   "outputs": [
    {
     "name": "stdout",
     "output_type": "stream",
     "text": [
      "<class 'pandas.core.frame.DataFrame'>\n",
      "RangeIndex: 100 entries, 0 to 99\n",
      "Data columns (total 2 columns):\n",
      " #   Column     Non-Null Count  Dtype \n",
      "---  ------     --------------  ----- \n",
      " 0   threshold  100 non-null    object\n",
      " 1   F1 score   100 non-null    object\n",
      "dtypes: object(2)\n",
      "memory usage: 1.7+ KB\n"
     ]
    }
   ],
   "source": [
    "f1_df.info()"
   ]
  },
  {
   "cell_type": "markdown",
   "metadata": {
    "id": "Re8MDxEeE_3t",
    "pycharm": {
     "name": "#%% md\n"
    }
   },
   "source": [
    "#### 构建数据集"
   ]
  },
  {
   "cell_type": "markdown",
   "metadata": {
    "id": "V9Mx6iRVDhgX",
    "pycharm": {
     "name": "#%% md\n"
    }
   },
   "source": [
    "#### 计算AUROC"
   ]
  },
  {
   "cell_type": "code",
   "execution_count": 28,
   "metadata": {
    "colab": {
     "base_uri": "https://localhost:8080/"
    },
    "id": "uNYrDYKtEbOE",
    "outputId": "99ddcf2f-5ef7-47bb-c112-c7df2e731888",
    "pycharm": {
     "name": "#%%\n"
    }
   },
   "outputs": [
    {
     "data": {
      "text/plain": [
       "0.9859802207024837"
      ]
     },
     "execution_count": 28,
     "metadata": {},
     "output_type": "execute_result"
    }
   ],
   "source": [
    "fpr, tpr, _ = roc_curve(test_df['Donar'], test_df['Score'])\n",
    "roc_auc = auc(fpr, tpr)\n",
    "roc_auc"
   ]
  },
  {
   "cell_type": "code",
   "execution_count": 29,
   "metadata": {
    "colab": {
     "base_uri": "https://localhost:8080/",
     "height": 313
    },
    "id": "APlGvKuGHOxv",
    "outputId": "e517c6b8-28d1-4565-f1f8-0f62a2d02b7b",
    "pycharm": {
     "name": "#%%\n"
    }
   },
   "outputs": [
    {
     "data": {
      "text/plain": [
       "<matplotlib.legend.Legend at 0x1da5a31f310>"
      ]
     },
     "execution_count": 29,
     "metadata": {},
     "output_type": "execute_result"
    },
    {
     "data": {
      "image/png": "[encoded data removed]",
      "text/plain": [
       "<Figure size 432x288 with 1 Axes>"
      ]
     },
     "metadata": {
      "needs_background": "light"
     },
     "output_type": "display_data"
    }
   ],
   "source": [
    "plt.figure()\n",
    "lw = 2\n",
    "plt.plot(\n",
    "    fpr,\n",
    "    tpr,\n",
    "    color = \"darkorange\",\n",
    "    lw = lw,\n",
    "    label = \"ROC curve (area = %0.2f)\" % roc_auc,\n",
    ")\n",
    "plt.plot([0, 1], [0, 1], color=\"navy\", lw=lw, linestyle=\"--\")\n",
    "plt.xlim([0.0, 1.0])\n",
    "plt.ylim([0.0, 1.05])\n",
    "plt.xlabel(\"False Positive Rate\")\n",
    "plt.ylabel(\"True Positive Rate\")\n",
    "plt.title(\"Receiver operating characteristic example\")\n",
    "plt.legend(loc=\"lower right\")"
   ]
  },
  {
   "cell_type": "code",
   "execution_count": null,
   "metadata": {},
   "outputs": [],
   "source": []
  }
 ],
 "metadata": {
  "colab": {
   "collapsed_sections": [],
   "include_colab_link": true,
   "name": "WAM_for_function_finding.ipynb",
   "provenance": [],
   "toc_visible": true
  },
  "kernelspec": {
   "display_name": "Python 3.9.7 ('base')",
   "language": "python",
   "name": "python3"
  },
  "language_info": {
   "codemirror_mode": {
    "name": "ipython",
    "version": 3
   },
   "file_extension": ".py",
   "mimetype": "text/x-python",
   "name": "python",
   "nbconvert_exporter": "python",
   "pygments_lexer": "ipython3",
   "version": "3.9.7"
  },
  "vscode": {
   "interpreter": {
    "hash": "cba455981152ac3392ff4135c02b5b977f84f41280d0b3586aaa56380a6cadc9"
   }
  }
 },
 "nbformat": 4,
 "nbformat_minor": 0
}
