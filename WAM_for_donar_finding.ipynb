{
  "cells": [
    {
      "cell_type": "markdown",
      "metadata": {
        "colab_type": "text",
        "id": "view-in-github"
      },
      "source": [
        "<a href=\"https://colab.research.google.com/github/iceQHdrop/bioinformatic_data_mining/blob/main/WAM_for_function_finding.ipynb\" target=\"_parent\"><img src=\"https://colab.research.google.com/assets/colab-badge.svg\" alt=\"Open In Colab\"/></a>"
      ]
    },
    {
      "cell_type": "markdown",
      "metadata": {
        "id": "2a0nqoftCwPC"
      },
      "source": [
        "# WAM_for_donar_finding"
      ]
    },
    {
      "cell_type": "code",
      "execution_count": 2,
      "metadata": {
        "colab": {
          "base_uri": "https://localhost:8080/"
        },
        "id": "vzKBEnSIIice",
        "outputId": "61c19ba2-c0fc-4654-b941-b13e1fa257b6"
      },
      "outputs": [
        {
          "name": "stdout",
          "output_type": "stream",
          "text": [
            "Mounted at /content/drive\n"
          ]
        }
      ],
      "source": [
        "from google.colab import drive\n",
        "drive.mount('/content/drive')"
      ]
    },
    {
      "cell_type": "code",
      "execution_count": 3,
      "metadata": {
        "id": "wYZeMyLoIKnp"
      },
      "outputs": [],
      "source": [
        "! cp -r drive/MyDrive/Colab_Notebooks/bioinformatic_data_mining/dataset ./"
      ]
    },
    {
      "cell_type": "markdown",
      "metadata": {
        "id": "nulKN-DuxNj6"
      },
      "source": [
        "## 导入所需库"
      ]
    },
    {
      "cell_type": "code",
      "execution_count": 1,
      "metadata": {
        "id": "a02PPlPNCwPG"
      },
      "outputs": [],
      "source": [
        "import pandas as pd \n",
        "import numpy as np\n",
        "import xarray as xr    # 处理三维数据\n",
        "from tqdm import tqdm    # 进度条\n",
        "import os\n",
        "import re\n",
        "import matplotlib.pyplot as plt\n",
        "from sklearn.metrics import roc_curve, auc\n",
        "from plotnine import*\n",
        "\n",
        "%matplotlib inline"
      ]
    },
    {
      "cell_type": "markdown",
      "metadata": {
        "id": "P97KGnFe-SKa"
      },
      "source": [
        "## 设定路径，读取文件名"
      ]
    },
    {
      "cell_type": "code",
      "execution_count": 2,
      "metadata": {
        "id": "0Je1Ip4KCwPI"
      },
      "outputs": [],
      "source": [
        "train_path = 'dataset/TrainingSet'\n",
        "test_path = 'dataset/TestingSet'    \n",
        "train_files = os.listdir(train_path)\n",
        "test_files = os.listdir(test_path)"
      ]
    },
    {
      "cell_type": "markdown",
      "metadata": {
        "id": "ndICn3_YlCfy"
      },
      "source": [
        "## WAM"
      ]
    },
    {
      "cell_type": "markdown",
      "metadata": {
        "id": "mlgl_acBAnyb"
      },
      "source": [
        "### 处理训练数据"
      ]
    },
    {
      "cell_type": "markdown",
      "metadata": {
        "id": "HFycscWgAr77"
      },
      "source": [
        "#### 碱基计数"
      ]
    },
    {
      "cell_type": "code",
      "execution_count": 9,
      "metadata": {
        "colab": {
          "base_uri": "https://localhost:8080/"
        },
        "id": "bL_Md6BNzvlh",
        "outputId": "ab8db889-4a34-47c9-c2e1-c2a7ef0eb16b"
      },
      "outputs": [
        {
          "name": "stderr",
          "output_type": "stream",
          "text": [
            "  0%|          | 0/462 [00:00<?, ?it/s]"
          ]
        },
        {
          "name": "stdout",
          "output_type": "stream",
          "text": [
            "Loading data and counting base, this could be time consuming...\n"
          ]
        },
        {
          "name": "stderr",
          "output_type": "stream",
          "text": [
            "100%|██████████| 462/462 [13:32<00:00,  1.76s/it] \n"
          ]
        }
      ],
      "source": [
        "site_base_count = pd.DataFrame(np.zeros((9, 4)),    # 记录位点周围碱基数\n",
        "                               columns = ['a', 't', 'c', 'g'],\n",
        "                               index = [i-3 for i in range(9)])\n",
        "\n",
        "site_forward_count = xr.DataArray(np.zeros((9, 4, 4)),    # 记录位点周围当前一个碱基确定时碱基数\n",
        "                                  dims = ['position', 'forward', 'self'],\n",
        "                                  coords = [[i-3 for i in range(9)],\n",
        "                        ['a', 't', 'c', 'g'],\n",
        "                        ['a', 't', 'c', 'g']])\n",
        "\n",
        "background_forward_count = pd.DataFrame(np.zeros((4, 4)),    # 记录背景当前一个碱基确定时碱基数\n",
        "                                     columns = ['a', 't', 'c', 'g'],\n",
        "                                     index = ['a', 't', 'c', 'g'])\n",
        "site_seqs = []\n",
        "whole_seq = ''\n",
        "\n",
        "print('Loading data and counting base, this could be time consuming...')\n",
        "\n",
        "for train_file in tqdm(train_files):\n",
        "    with open(train_path + '/' + train_file, 'r') as f:\n",
        "        text = f.readlines()\n",
        "        site_positions = re.findall('(\\d+)(?=,)', text[1])    # 提取位置\n",
        "        seq = ''.join(text[2:]).replace('\\n', '').lower()    # 仅保留小写序列\n",
        "\n",
        "        for position in site_positions:\n",
        "            site_seqs.append(seq[int(position) - 4:int(position) + 5])    # 提取位点序列\n",
        "\n",
        "            for i in range(9):    # 统计位点周围9个位置的碱基\n",
        "                if int(position) - 1 + (i - 3) > 0:    # 排除在基因前三个碱基的位点\n",
        "                    base = seq[int(position) - 1 + (i - 3)]    \n",
        "                    site_base_count.loc[i-3, base] += 1\n",
        "\n",
        "            for i in range(8):    # 统计位点周围9个位置的碱基，当前一个碱基确定时的数目\n",
        "                if int(position) - 1 + (i - 3) > 0:\n",
        "                    base = seq[int(position) - 1 + (i - 2)]   \n",
        "                    forward_base = seq[int(position) - 1 + (i - 3)]\n",
        "                    site_forward_count.loc[i-2, forward_base, base] += 1\n",
        "                    \n",
        "        whole_seq += seq            \n",
        "            \n",
        "        for i in range(len(seq)-1):    # 统计背景碱基当前一个碱基确定时的数目，费时，保存后可注释掉\n",
        "            base = seq[i+1]\n",
        "            forward_base = seq[i]\n",
        "            try:    # 越过'n'\n",
        "                background_forward_count.loc[forward_base, base] += 1\n",
        "            except:\n",
        "                continue\n",
        "            \n",
        "background_forward_count.to_csv('dataset/background_forward_matrix.csv')"
      ]
    },
    {
      "cell_type": "markdown",
      "metadata": {
        "id": "8LXdkRlp8Clv"
      },
      "source": [
        "读取先前计算好的背景概率矩阵"
      ]
    },
    {
      "cell_type": "code",
      "execution_count": 10,
      "metadata": {
        "id": "4ant9Fsf61Xe"
      },
      "outputs": [],
      "source": [
        "background_forward_count = pd.read_csv('dataset/background_forward_matrix.csv', index_col = 0)"
      ]
    },
    {
      "cell_type": "markdown",
      "metadata": {
        "id": "Rh1yRhsZp4c0"
      },
      "source": [
        "#### 构建前景概率矩阵"
      ]
    },
    {
      "cell_type": "markdown",
      "metadata": {
        "id": "b16okD6819jk"
      },
      "source": [
        "构建不考虑前一个碱基的概率矩阵"
      ]
    },
    {
      "cell_type": "code",
      "execution_count": 11,
      "metadata": {
        "colab": {
          "base_uri": "https://localhost:8080/",
          "height": 328
        },
        "id": "tHg2nuRK18va",
        "outputId": "7a4dcf2e-5f2c-49d1-9918-404a2c914bdc"
      },
      "outputs": [
        {
          "data": {
            "text/html": [
              "<div>\n",
              "<style scoped>\n",
              "    .dataframe tbody tr th:only-of-type {\n",
              "        vertical-align: middle;\n",
              "    }\n",
              "\n",
              "    .dataframe tbody tr th {\n",
              "        vertical-align: top;\n",
              "    }\n",
              "\n",
              "    .dataframe thead th {\n",
              "        text-align: right;\n",
              "    }\n",
              "</style>\n",
              "<table border=\"1\" class=\"dataframe\">\n",
              "  <thead>\n",
              "    <tr style=\"text-align: right;\">\n",
              "      <th></th>\n",
              "      <th>a</th>\n",
              "      <th>t</th>\n",
              "      <th>c</th>\n",
              "      <th>g</th>\n",
              "    </tr>\n",
              "  </thead>\n",
              "  <tbody>\n",
              "    <tr>\n",
              "      <th>-3</th>\n",
              "      <td>0.270055</td>\n",
              "      <td>0.183536</td>\n",
              "      <td>0.305334</td>\n",
              "      <td>0.241075</td>\n",
              "    </tr>\n",
              "    <tr>\n",
              "      <th>-2</th>\n",
              "      <td>0.328433</td>\n",
              "      <td>0.119278</td>\n",
              "      <td>0.363713</td>\n",
              "      <td>0.188576</td>\n",
              "    </tr>\n",
              "    <tr>\n",
              "      <th>-1</th>\n",
              "      <td>0.585468</td>\n",
              "      <td>0.143217</td>\n",
              "      <td>0.137757</td>\n",
              "      <td>0.133557</td>\n",
              "    </tr>\n",
              "    <tr>\n",
              "      <th>0</th>\n",
              "      <td>0.094078</td>\n",
              "      <td>0.083158</td>\n",
              "      <td>0.034019</td>\n",
              "      <td>0.788744</td>\n",
              "    </tr>\n",
              "    <tr>\n",
              "      <th>1</th>\n",
              "      <td>0.000000</td>\n",
              "      <td>0.000000</td>\n",
              "      <td>0.000000</td>\n",
              "      <td>1.000000</td>\n",
              "    </tr>\n",
              "    <tr>\n",
              "      <th>2</th>\n",
              "      <td>0.000000</td>\n",
              "      <td>1.000000</td>\n",
              "      <td>0.000000</td>\n",
              "      <td>0.000000</td>\n",
              "    </tr>\n",
              "    <tr>\n",
              "      <th>3</th>\n",
              "      <td>0.490130</td>\n",
              "      <td>0.024360</td>\n",
              "      <td>0.027299</td>\n",
              "      <td>0.458211</td>\n",
              "    </tr>\n",
              "    <tr>\n",
              "      <th>4</th>\n",
              "      <td>0.713566</td>\n",
              "      <td>0.091558</td>\n",
              "      <td>0.077278</td>\n",
              "      <td>0.117598</td>\n",
              "    </tr>\n",
              "    <tr>\n",
              "      <th>5</th>\n",
              "      <td>0.065099</td>\n",
              "      <td>0.047039</td>\n",
              "      <td>0.049559</td>\n",
              "      <td>0.838303</td>\n",
              "    </tr>\n",
              "  </tbody>\n",
              "</table>\n",
              "</div>"
            ],
            "text/plain": [
              "           a         t         c         g\n",
              "-3  0.270055  0.183536  0.305334  0.241075\n",
              "-2  0.328433  0.119278  0.363713  0.188576\n",
              "-1  0.585468  0.143217  0.137757  0.133557\n",
              " 0  0.094078  0.083158  0.034019  0.788744\n",
              " 1  0.000000  0.000000  0.000000  1.000000\n",
              " 2  0.000000  1.000000  0.000000  0.000000\n",
              " 3  0.490130  0.024360  0.027299  0.458211\n",
              " 4  0.713566  0.091558  0.077278  0.117598\n",
              " 5  0.065099  0.047039  0.049559  0.838303"
            ]
          },
          "execution_count": 11,
          "metadata": {},
          "output_type": "execute_result"
        }
      ],
      "source": [
        "matrix_pos = site_base_count/len(site_seqs)\n",
        "matrix_pos"
      ]
    },
    {
      "cell_type": "markdown",
      "metadata": {
        "id": "A4JtneaL2DwS"
      },
      "source": [
        "构建考虑前一个碱基的概率矩阵"
      ]
    },
    {
      "cell_type": "code",
      "execution_count": 12,
      "metadata": {
        "colab": {
          "base_uri": "https://localhost:8080/",
          "height": 869
        },
        "id": "DkbuGV1lp8ME",
        "outputId": "af98322c-83ee-47d7-f625-4bb054024c5a"
      },
      "outputs": [
        {
          "data": {
            "text/html": [
              "<div><svg style=\"position: absolute; width: 0; height: 0; overflow: hidden\">\n",
              "<defs>\n",
              "<symbol id=\"icon-database\" viewBox=\"0 0 32 32\">\n",
              "<path d=\"M16 0c-8.837 0-16 2.239-16 5v4c0 2.761 7.163 5 16 5s16-2.239 16-5v-4c0-2.761-7.163-5-16-5z\"></path>\n",
              "<path d=\"M16 17c-8.837 0-16-2.239-16-5v6c0 2.761 7.163 5 16 5s16-2.239 16-5v-6c0 2.761-7.163 5-16 5z\"></path>\n",
              "<path d=\"M16 26c-8.837 0-16-2.239-16-5v6c0 2.761 7.163 5 16 5s16-2.239 16-5v-6c0 2.761-7.163 5-16 5z\"></path>\n",
              "</symbol>\n",
              "<symbol id=\"icon-file-text2\" viewBox=\"0 0 32 32\">\n",
              "<path d=\"M28.681 7.159c-0.694-0.947-1.662-2.053-2.724-3.116s-2.169-2.030-3.116-2.724c-1.612-1.182-2.393-1.319-2.841-1.319h-15.5c-1.378 0-2.5 1.121-2.5 2.5v27c0 1.378 1.122 2.5 2.5 2.5h23c1.378 0 2.5-1.122 2.5-2.5v-19.5c0-0.448-0.137-1.23-1.319-2.841zM24.543 5.457c0.959 0.959 1.712 1.825 2.268 2.543h-4.811v-4.811c0.718 0.556 1.584 1.309 2.543 2.268zM28 29.5c0 0.271-0.229 0.5-0.5 0.5h-23c-0.271 0-0.5-0.229-0.5-0.5v-27c0-0.271 0.229-0.5 0.5-0.5 0 0 15.499-0 15.5 0v7c0 0.552 0.448 1 1 1h7v19.5z\"></path>\n",
              "<path d=\"M23 26h-14c-0.552 0-1-0.448-1-1s0.448-1 1-1h14c0.552 0 1 0.448 1 1s-0.448 1-1 1z\"></path>\n",
              "<path d=\"M23 22h-14c-0.552 0-1-0.448-1-1s0.448-1 1-1h14c0.552 0 1 0.448 1 1s-0.448 1-1 1z\"></path>\n",
              "<path d=\"M23 18h-14c-0.552 0-1-0.448-1-1s0.448-1 1-1h14c0.552 0 1 0.448 1 1s-0.448 1-1 1z\"></path>\n",
              "</symbol>\n",
              "</defs>\n",
              "</svg>\n",
              "<style>/* CSS stylesheet for displaying xarray objects in jupyterlab.\n",
              " *\n",
              " */\n",
              "\n",
              ":root {\n",
              "  --xr-font-color0: var(--jp-content-font-color0, rgba(0, 0, 0, 1));\n",
              "  --xr-font-color2: var(--jp-content-font-color2, rgba(0, 0, 0, 0.54));\n",
              "  --xr-font-color3: var(--jp-content-font-color3, rgba(0, 0, 0, 0.38));\n",
              "  --xr-border-color: var(--jp-border-color2, #e0e0e0);\n",
              "  --xr-disabled-color: var(--jp-layout-color3, #bdbdbd);\n",
              "  --xr-background-color: var(--jp-layout-color0, white);\n",
              "  --xr-background-color-row-even: var(--jp-layout-color1, white);\n",
              "  --xr-background-color-row-odd: var(--jp-layout-color2, #eeeeee);\n",
              "}\n",
              "\n",
              "html[theme=dark],\n",
              "body.vscode-dark {\n",
              "  --xr-font-color0: rgba(255, 255, 255, 1);\n",
              "  --xr-font-color2: rgba(255, 255, 255, 0.54);\n",
              "  --xr-font-color3: rgba(255, 255, 255, 0.38);\n",
              "  --xr-border-color: #1F1F1F;\n",
              "  --xr-disabled-color: #515151;\n",
              "  --xr-background-color: #111111;\n",
              "  --xr-background-color-row-even: #111111;\n",
              "  --xr-background-color-row-odd: #313131;\n",
              "}\n",
              "\n",
              ".xr-wrap {\n",
              "  display: block !important;\n",
              "  min-width: 300px;\n",
              "  max-width: 700px;\n",
              "}\n",
              "\n",
              ".xr-text-repr-fallback {\n",
              "  /* fallback to plain text repr when CSS is not injected (untrusted notebook) */\n",
              "  display: none;\n",
              "}\n",
              "\n",
              ".xr-header {\n",
              "  padding-top: 6px;\n",
              "  padding-bottom: 6px;\n",
              "  margin-bottom: 4px;\n",
              "  border-bottom: solid 1px var(--xr-border-color);\n",
              "}\n",
              "\n",
              ".xr-header > div,\n",
              ".xr-header > ul {\n",
              "  display: inline;\n",
              "  margin-top: 0;\n",
              "  margin-bottom: 0;\n",
              "}\n",
              "\n",
              ".xr-obj-type,\n",
              ".xr-array-name {\n",
              "  margin-left: 2px;\n",
              "  margin-right: 10px;\n",
              "}\n",
              "\n",
              ".xr-obj-type {\n",
              "  color: var(--xr-font-color2);\n",
              "}\n",
              "\n",
              ".xr-sections {\n",
              "  padding-left: 0 !important;\n",
              "  display: grid;\n",
              "  grid-template-columns: 150px auto auto 1fr 20px 20px;\n",
              "}\n",
              "\n",
              ".xr-section-item {\n",
              "  display: contents;\n",
              "}\n",
              "\n",
              ".xr-section-item input {\n",
              "  display: none;\n",
              "}\n",
              "\n",
              ".xr-section-item input + label {\n",
              "  color: var(--xr-disabled-color);\n",
              "}\n",
              "\n",
              ".xr-section-item input:enabled + label {\n",
              "  cursor: pointer;\n",
              "  color: var(--xr-font-color2);\n",
              "}\n",
              "\n",
              ".xr-section-item input:enabled + label:hover {\n",
              "  color: var(--xr-font-color0);\n",
              "}\n",
              "\n",
              ".xr-section-summary {\n",
              "  grid-column: 1;\n",
              "  color: var(--xr-font-color2);\n",
              "  font-weight: 500;\n",
              "}\n",
              "\n",
              ".xr-section-summary > span {\n",
              "  display: inline-block;\n",
              "  padding-left: 0.5em;\n",
              "}\n",
              "\n",
              ".xr-section-summary-in:disabled + label {\n",
              "  color: var(--xr-font-color2);\n",
              "}\n",
              "\n",
              ".xr-section-summary-in + label:before {\n",
              "  display: inline-block;\n",
              "  content: '►';\n",
              "  font-size: 11px;\n",
              "  width: 15px;\n",
              "  text-align: center;\n",
              "}\n",
              "\n",
              ".xr-section-summary-in:disabled + label:before {\n",
              "  color: var(--xr-disabled-color);\n",
              "}\n",
              "\n",
              ".xr-section-summary-in:checked + label:before {\n",
              "  content: '▼';\n",
              "}\n",
              "\n",
              ".xr-section-summary-in:checked + label > span {\n",
              "  display: none;\n",
              "}\n",
              "\n",
              ".xr-section-summary,\n",
              ".xr-section-inline-details {\n",
              "  padding-top: 4px;\n",
              "  padding-bottom: 4px;\n",
              "}\n",
              "\n",
              ".xr-section-inline-details {\n",
              "  grid-column: 2 / -1;\n",
              "}\n",
              "\n",
              ".xr-section-details {\n",
              "  display: none;\n",
              "  grid-column: 1 / -1;\n",
              "  margin-bottom: 5px;\n",
              "}\n",
              "\n",
              ".xr-section-summary-in:checked ~ .xr-section-details {\n",
              "  display: contents;\n",
              "}\n",
              "\n",
              ".xr-array-wrap {\n",
              "  grid-column: 1 / -1;\n",
              "  display: grid;\n",
              "  grid-template-columns: 20px auto;\n",
              "}\n",
              "\n",
              ".xr-array-wrap > label {\n",
              "  grid-column: 1;\n",
              "  vertical-align: top;\n",
              "}\n",
              "\n",
              ".xr-preview {\n",
              "  color: var(--xr-font-color3);\n",
              "}\n",
              "\n",
              ".xr-array-preview,\n",
              ".xr-array-data {\n",
              "  padding: 0 5px !important;\n",
              "  grid-column: 2;\n",
              "}\n",
              "\n",
              ".xr-array-data,\n",
              ".xr-array-in:checked ~ .xr-array-preview {\n",
              "  display: none;\n",
              "}\n",
              "\n",
              ".xr-array-in:checked ~ .xr-array-data,\n",
              ".xr-array-preview {\n",
              "  display: inline-block;\n",
              "}\n",
              "\n",
              ".xr-dim-list {\n",
              "  display: inline-block !important;\n",
              "  list-style: none;\n",
              "  padding: 0 !important;\n",
              "  margin: 0;\n",
              "}\n",
              "\n",
              ".xr-dim-list li {\n",
              "  display: inline-block;\n",
              "  padding: 0;\n",
              "  margin: 0;\n",
              "}\n",
              "\n",
              ".xr-dim-list:before {\n",
              "  content: '(';\n",
              "}\n",
              "\n",
              ".xr-dim-list:after {\n",
              "  content: ')';\n",
              "}\n",
              "\n",
              ".xr-dim-list li:not(:last-child):after {\n",
              "  content: ',';\n",
              "  padding-right: 5px;\n",
              "}\n",
              "\n",
              ".xr-has-index {\n",
              "  font-weight: bold;\n",
              "}\n",
              "\n",
              ".xr-var-list,\n",
              ".xr-var-item {\n",
              "  display: contents;\n",
              "}\n",
              "\n",
              ".xr-var-item > div,\n",
              ".xr-var-item label,\n",
              ".xr-var-item > .xr-var-name span {\n",
              "  background-color: var(--xr-background-color-row-even);\n",
              "  margin-bottom: 0;\n",
              "}\n",
              "\n",
              ".xr-var-item > .xr-var-name:hover span {\n",
              "  padding-right: 5px;\n",
              "}\n",
              "\n",
              ".xr-var-list > li:nth-child(odd) > div,\n",
              ".xr-var-list > li:nth-child(odd) > label,\n",
              ".xr-var-list > li:nth-child(odd) > .xr-var-name span {\n",
              "  background-color: var(--xr-background-color-row-odd);\n",
              "}\n",
              "\n",
              ".xr-var-name {\n",
              "  grid-column: 1;\n",
              "}\n",
              "\n",
              ".xr-var-dims {\n",
              "  grid-column: 2;\n",
              "}\n",
              "\n",
              ".xr-var-dtype {\n",
              "  grid-column: 3;\n",
              "  text-align: right;\n",
              "  color: var(--xr-font-color2);\n",
              "}\n",
              "\n",
              ".xr-var-preview {\n",
              "  grid-column: 4;\n",
              "}\n",
              "\n",
              ".xr-var-name,\n",
              ".xr-var-dims,\n",
              ".xr-var-dtype,\n",
              ".xr-preview,\n",
              ".xr-attrs dt {\n",
              "  white-space: nowrap;\n",
              "  overflow: hidden;\n",
              "  text-overflow: ellipsis;\n",
              "  padding-right: 10px;\n",
              "}\n",
              "\n",
              ".xr-var-name:hover,\n",
              ".xr-var-dims:hover,\n",
              ".xr-var-dtype:hover,\n",
              ".xr-attrs dt:hover {\n",
              "  overflow: visible;\n",
              "  width: auto;\n",
              "  z-index: 1;\n",
              "}\n",
              "\n",
              ".xr-var-attrs,\n",
              ".xr-var-data {\n",
              "  display: none;\n",
              "  background-color: var(--xr-background-color) !important;\n",
              "  padding-bottom: 5px !important;\n",
              "}\n",
              "\n",
              ".xr-var-attrs-in:checked ~ .xr-var-attrs,\n",
              ".xr-var-data-in:checked ~ .xr-var-data {\n",
              "  display: block;\n",
              "}\n",
              "\n",
              ".xr-var-data > table {\n",
              "  float: right;\n",
              "}\n",
              "\n",
              ".xr-var-name span,\n",
              ".xr-var-data,\n",
              ".xr-attrs {\n",
              "  padding-left: 25px !important;\n",
              "}\n",
              "\n",
              ".xr-attrs,\n",
              ".xr-var-attrs,\n",
              ".xr-var-data {\n",
              "  grid-column: 1 / -1;\n",
              "}\n",
              "\n",
              "dl.xr-attrs {\n",
              "  padding: 0;\n",
              "  margin: 0;\n",
              "  display: grid;\n",
              "  grid-template-columns: 125px auto;\n",
              "}\n",
              "\n",
              ".xr-attrs dt,\n",
              ".xr-attrs dd {\n",
              "  padding: 0;\n",
              "  margin: 0;\n",
              "  float: left;\n",
              "  padding-right: 10px;\n",
              "  width: auto;\n",
              "}\n",
              "\n",
              ".xr-attrs dt {\n",
              "  font-weight: normal;\n",
              "  grid-column: 1;\n",
              "}\n",
              "\n",
              ".xr-attrs dt:hover span {\n",
              "  display: inline-block;\n",
              "  background: var(--xr-background-color);\n",
              "  padding-right: 10px;\n",
              "}\n",
              "\n",
              ".xr-attrs dd {\n",
              "  grid-column: 2;\n",
              "  white-space: pre-wrap;\n",
              "  word-break: break-all;\n",
              "}\n",
              "\n",
              ".xr-icon-database,\n",
              ".xr-icon-file-text2 {\n",
              "  display: inline-block;\n",
              "  vertical-align: middle;\n",
              "  width: 1em;\n",
              "  height: 1.5em !important;\n",
              "  stroke-width: 0;\n",
              "  stroke: currentColor;\n",
              "  fill: currentColor;\n",
              "}\n",
              "</style><pre class='xr-text-repr-fallback'>&lt;xarray.DataArray (position: 9, forward: 4, self: 4)&gt;\n",
              "array([[[0.        , 0.        , 0.        , 0.        ],\n",
              "        [0.        , 0.        , 0.        , 0.        ],\n",
              "        [0.        , 0.        , 0.        , 0.        ],\n",
              "        [0.        , 0.        , 0.        , 0.        ]],\n",
              "\n",
              "       [[0.3125972 , 0.14152411, 0.30948678, 0.23639191],\n",
              "        [0.1624714 , 0.13043478, 0.40732265, 0.29977117],\n",
              "        [0.39614856, 0.1389271 , 0.3823934 , 0.08253095],\n",
              "        [0.38675958, 0.06097561, 0.36759582, 0.18466899]],\n",
              "\n",
              "       [[0.61636829, 0.13682864, 0.0971867 , 0.14961637],\n",
              "        [0.18309859, 0.23943662, 0.24647887, 0.33098592],\n",
              "        [0.6778291 , 0.13972286, 0.12355658, 0.05889145],\n",
              "        [0.60801782, 0.10022272, 0.16703786, 0.1247216 ]],\n",
              "\n",
              "       [[0.07388809, 0.05308465, 0.01865136, 0.8543759 ],\n",
              "        [0.03519062, 0.08211144, 0.03225806, 0.85043988],\n",
              "        [0.18902439, 0.21646341, 0.07012195, 0.52439024],\n",
              "        [0.14779874, 0.07861635, 0.06603774, 0.70754717]],\n",
              "\n",
              "...\n",
              "\n",
              "       [[0.        , 0.        , 0.        , 0.        ],\n",
              "        [0.        , 0.        , 0.        , 0.        ],\n",
              "        [0.        , 0.        , 0.        , 0.        ],\n",
              "        [0.        , 1.        , 0.        , 0.        ]],\n",
              "\n",
              "       [[0.        , 0.        , 0.        , 0.        ],\n",
              "        [0.4901302 , 0.02435951, 0.02729945, 0.45821084],\n",
              "        [0.        , 0.        , 0.        , 0.        ],\n",
              "        [0.        , 0.        , 0.        , 0.        ]],\n",
              "\n",
              "       [[0.64610111, 0.13624679, 0.09597258, 0.12167952],\n",
              "        [0.34482759, 0.22413793, 0.06896552, 0.36206897],\n",
              "        [0.67692308, 0.18461538, 0.03076923, 0.10769231],\n",
              "        [0.80751604, 0.03116407, 0.06049496, 0.10082493]],\n",
              "\n",
              "       [[0.05768099, 0.03296057, 0.02707475, 0.8822837 ],\n",
              "        [0.04587156, 0.06422018, 0.07798165, 0.81192661],\n",
              "        [0.16304348, 0.18478261, 0.22282609, 0.42934783],\n",
              "        [0.06071429, 0.02857143, 0.05      , 0.86071429]]])\n",
              "Coordinates:\n",
              "  * position  (position) int32 -3 -2 -1 0 1 2 3 4 5\n",
              "  * forward   (forward) &lt;U1 &#x27;a&#x27; &#x27;t&#x27; &#x27;c&#x27; &#x27;g&#x27;\n",
              "  * self      (self) &lt;U1 &#x27;a&#x27; &#x27;t&#x27; &#x27;c&#x27; &#x27;g&#x27;</pre><div class='xr-wrap' style='display:none'><div class='xr-header'><div class='xr-obj-type'>xarray.DataArray</div><div class='xr-array-name'></div><ul class='xr-dim-list'><li><span class='xr-has-index'>position</span>: 9</li><li><span class='xr-has-index'>forward</span>: 4</li><li><span class='xr-has-index'>self</span>: 4</li></ul></div><ul class='xr-sections'><li class='xr-section-item'><div class='xr-array-wrap'><input id='section-a183cdba-8586-4cf9-aff0-348e3bcf4288' class='xr-array-in' type='checkbox' checked><label for='section-a183cdba-8586-4cf9-aff0-348e3bcf4288' title='Show/hide data repr'><svg class='icon xr-icon-database'><use xlink:href='#icon-database'></use></svg></label><div class='xr-array-preview xr-preview'><span>0.0 0.0 0.0 0.0 0.0 0.0 ... 0.2228 0.4293 0.06071 0.02857 0.05 0.8607</span></div><div class='xr-array-data'><pre>array([[[0.        , 0.        , 0.        , 0.        ],\n",
              "        [0.        , 0.        , 0.        , 0.        ],\n",
              "        [0.        , 0.        , 0.        , 0.        ],\n",
              "        [0.        , 0.        , 0.        , 0.        ]],\n",
              "\n",
              "       [[0.3125972 , 0.14152411, 0.30948678, 0.23639191],\n",
              "        [0.1624714 , 0.13043478, 0.40732265, 0.29977117],\n",
              "        [0.39614856, 0.1389271 , 0.3823934 , 0.08253095],\n",
              "        [0.38675958, 0.06097561, 0.36759582, 0.18466899]],\n",
              "\n",
              "       [[0.61636829, 0.13682864, 0.0971867 , 0.14961637],\n",
              "        [0.18309859, 0.23943662, 0.24647887, 0.33098592],\n",
              "        [0.6778291 , 0.13972286, 0.12355658, 0.05889145],\n",
              "        [0.60801782, 0.10022272, 0.16703786, 0.1247216 ]],\n",
              "\n",
              "       [[0.07388809, 0.05308465, 0.01865136, 0.8543759 ],\n",
              "        [0.03519062, 0.08211144, 0.03225806, 0.85043988],\n",
              "        [0.18902439, 0.21646341, 0.07012195, 0.52439024],\n",
              "        [0.14779874, 0.07861635, 0.06603774, 0.70754717]],\n",
              "\n",
              "...\n",
              "\n",
              "       [[0.        , 0.        , 0.        , 0.        ],\n",
              "        [0.        , 0.        , 0.        , 0.        ],\n",
              "        [0.        , 0.        , 0.        , 0.        ],\n",
              "        [0.        , 1.        , 0.        , 0.        ]],\n",
              "\n",
              "       [[0.        , 0.        , 0.        , 0.        ],\n",
              "        [0.4901302 , 0.02435951, 0.02729945, 0.45821084],\n",
              "        [0.        , 0.        , 0.        , 0.        ],\n",
              "        [0.        , 0.        , 0.        , 0.        ]],\n",
              "\n",
              "       [[0.64610111, 0.13624679, 0.09597258, 0.12167952],\n",
              "        [0.34482759, 0.22413793, 0.06896552, 0.36206897],\n",
              "        [0.67692308, 0.18461538, 0.03076923, 0.10769231],\n",
              "        [0.80751604, 0.03116407, 0.06049496, 0.10082493]],\n",
              "\n",
              "       [[0.05768099, 0.03296057, 0.02707475, 0.8822837 ],\n",
              "        [0.04587156, 0.06422018, 0.07798165, 0.81192661],\n",
              "        [0.16304348, 0.18478261, 0.22282609, 0.42934783],\n",
              "        [0.06071429, 0.02857143, 0.05      , 0.86071429]]])</pre></div></div></li><li class='xr-section-item'><input id='section-27961624-3a4b-4cf5-9ec8-b52e30a5399a' class='xr-section-summary-in' type='checkbox'  checked><label for='section-27961624-3a4b-4cf5-9ec8-b52e30a5399a' class='xr-section-summary' >Coordinates: <span>(3)</span></label><div class='xr-section-inline-details'></div><div class='xr-section-details'><ul class='xr-var-list'><li class='xr-var-item'><div class='xr-var-name'><span class='xr-has-index'>position</span></div><div class='xr-var-dims'>(position)</div><div class='xr-var-dtype'>int32</div><div class='xr-var-preview xr-preview'>-3 -2 -1 0 1 2 3 4 5</div><input id='attrs-f0b5f619-a1ad-42e9-a4e2-20fe897e1701' class='xr-var-attrs-in' type='checkbox' disabled><label for='attrs-f0b5f619-a1ad-42e9-a4e2-20fe897e1701' title='Show/Hide attributes'><svg class='icon xr-icon-file-text2'><use xlink:href='#icon-file-text2'></use></svg></label><input id='data-9547e0a0-e83c-413e-ab05-c5c5e0ea350c' class='xr-var-data-in' type='checkbox'><label for='data-9547e0a0-e83c-413e-ab05-c5c5e0ea350c' title='Show/Hide data repr'><svg class='icon xr-icon-database'><use xlink:href='#icon-database'></use></svg></label><div class='xr-var-attrs'><dl class='xr-attrs'></dl></div><div class='xr-var-data'><pre>array([-3, -2, -1,  0,  1,  2,  3,  4,  5])</pre></div></li><li class='xr-var-item'><div class='xr-var-name'><span class='xr-has-index'>forward</span></div><div class='xr-var-dims'>(forward)</div><div class='xr-var-dtype'>&lt;U1</div><div class='xr-var-preview xr-preview'>&#x27;a&#x27; &#x27;t&#x27; &#x27;c&#x27; &#x27;g&#x27;</div><input id='attrs-63c74049-aaa5-46e2-b31a-76542806c63f' class='xr-var-attrs-in' type='checkbox' disabled><label for='attrs-63c74049-aaa5-46e2-b31a-76542806c63f' title='Show/Hide attributes'><svg class='icon xr-icon-file-text2'><use xlink:href='#icon-file-text2'></use></svg></label><input id='data-ba225891-e163-480b-af0b-497efaab39b8' class='xr-var-data-in' type='checkbox'><label for='data-ba225891-e163-480b-af0b-497efaab39b8' title='Show/Hide data repr'><svg class='icon xr-icon-database'><use xlink:href='#icon-database'></use></svg></label><div class='xr-var-attrs'><dl class='xr-attrs'></dl></div><div class='xr-var-data'><pre>array([&#x27;a&#x27;, &#x27;t&#x27;, &#x27;c&#x27;, &#x27;g&#x27;], dtype=&#x27;&lt;U1&#x27;)</pre></div></li><li class='xr-var-item'><div class='xr-var-name'><span class='xr-has-index'>self</span></div><div class='xr-var-dims'>(self)</div><div class='xr-var-dtype'>&lt;U1</div><div class='xr-var-preview xr-preview'>&#x27;a&#x27; &#x27;t&#x27; &#x27;c&#x27; &#x27;g&#x27;</div><input id='attrs-1fbb0fe5-7e8b-4097-a4fb-b42344a09d71' class='xr-var-attrs-in' type='checkbox' disabled><label for='attrs-1fbb0fe5-7e8b-4097-a4fb-b42344a09d71' title='Show/Hide attributes'><svg class='icon xr-icon-file-text2'><use xlink:href='#icon-file-text2'></use></svg></label><input id='data-be69c138-8aa7-47f8-bfb8-ddde5b6347dc' class='xr-var-data-in' type='checkbox'><label for='data-be69c138-8aa7-47f8-bfb8-ddde5b6347dc' title='Show/Hide data repr'><svg class='icon xr-icon-database'><use xlink:href='#icon-database'></use></svg></label><div class='xr-var-attrs'><dl class='xr-attrs'></dl></div><div class='xr-var-data'><pre>array([&#x27;a&#x27;, &#x27;t&#x27;, &#x27;c&#x27;, &#x27;g&#x27;], dtype=&#x27;&lt;U1&#x27;)</pre></div></li></ul></div></li><li class='xr-section-item'><input id='section-0eb835d1-2b3b-4ee7-add3-39793d7e6361' class='xr-section-summary-in' type='checkbox' disabled ><label for='section-0eb835d1-2b3b-4ee7-add3-39793d7e6361' class='xr-section-summary'  title='Expand/collapse section'>Attributes: <span>(0)</span></label><div class='xr-section-inline-details'></div><div class='xr-section-details'><dl class='xr-attrs'></dl></div></li></ul></div></div>"
            ],
            "text/plain": [
              "<xarray.DataArray (position: 9, forward: 4, self: 4)>\n",
              "array([[[0.        , 0.        , 0.        , 0.        ],\n",
              "        [0.        , 0.        , 0.        , 0.        ],\n",
              "        [0.        , 0.        , 0.        , 0.        ],\n",
              "        [0.        , 0.        , 0.        , 0.        ]],\n",
              "\n",
              "       [[0.3125972 , 0.14152411, 0.30948678, 0.23639191],\n",
              "        [0.1624714 , 0.13043478, 0.40732265, 0.29977117],\n",
              "        [0.39614856, 0.1389271 , 0.3823934 , 0.08253095],\n",
              "        [0.38675958, 0.06097561, 0.36759582, 0.18466899]],\n",
              "\n",
              "       [[0.61636829, 0.13682864, 0.0971867 , 0.14961637],\n",
              "        [0.18309859, 0.23943662, 0.24647887, 0.33098592],\n",
              "        [0.6778291 , 0.13972286, 0.12355658, 0.05889145],\n",
              "        [0.60801782, 0.10022272, 0.16703786, 0.1247216 ]],\n",
              "\n",
              "       [[0.07388809, 0.05308465, 0.01865136, 0.8543759 ],\n",
              "        [0.03519062, 0.08211144, 0.03225806, 0.85043988],\n",
              "        [0.18902439, 0.21646341, 0.07012195, 0.52439024],\n",
              "        [0.14779874, 0.07861635, 0.06603774, 0.70754717]],\n",
              "\n",
              "...\n",
              "\n",
              "       [[0.        , 0.        , 0.        , 0.        ],\n",
              "        [0.        , 0.        , 0.        , 0.        ],\n",
              "        [0.        , 0.        , 0.        , 0.        ],\n",
              "        [0.        , 1.        , 0.        , 0.        ]],\n",
              "\n",
              "       [[0.        , 0.        , 0.        , 0.        ],\n",
              "        [0.4901302 , 0.02435951, 0.02729945, 0.45821084],\n",
              "        [0.        , 0.        , 0.        , 0.        ],\n",
              "        [0.        , 0.        , 0.        , 0.        ]],\n",
              "\n",
              "       [[0.64610111, 0.13624679, 0.09597258, 0.12167952],\n",
              "        [0.34482759, 0.22413793, 0.06896552, 0.36206897],\n",
              "        [0.67692308, 0.18461538, 0.03076923, 0.10769231],\n",
              "        [0.80751604, 0.03116407, 0.06049496, 0.10082493]],\n",
              "\n",
              "       [[0.05768099, 0.03296057, 0.02707475, 0.8822837 ],\n",
              "        [0.04587156, 0.06422018, 0.07798165, 0.81192661],\n",
              "        [0.16304348, 0.18478261, 0.22282609, 0.42934783],\n",
              "        [0.06071429, 0.02857143, 0.05      , 0.86071429]]])\n",
              "Coordinates:\n",
              "  * position  (position) int32 -3 -2 -1 0 1 2 3 4 5\n",
              "  * forward   (forward) <U1 'a' 't' 'c' 'g'\n",
              "  * self      (self) <U1 'a' 't' 'c' 'g'"
            ]
          },
          "execution_count": 12,
          "metadata": {},
          "output_type": "execute_result"
        }
      ],
      "source": [
        "matrix_forward_pos = site_forward_count.copy()\n",
        "\n",
        "for base in ['a', 't', 'c', 'g']:\n",
        "    matrix_forward_pos.loc[:, base] = matrix_forward_pos.loc[:, base]/matrix_forward_pos.loc[:, base].sum(axis = 1)\n",
        "\n",
        "matrix_forward_pos = matrix_forward_pos.fillna(0)\n",
        "matrix_forward_pos"
      ]
    },
    {
      "cell_type": "markdown",
      "metadata": {
        "id": "mQn_ToVTmo6p"
      },
      "source": [
        "#### 构建背景概率矩阵"
      ]
    },
    {
      "cell_type": "markdown",
      "metadata": {
        "id": "m2-38FyX2M-p"
      },
      "source": [
        "构建不考虑前一个碱基的概率矩阵"
      ]
    },
    {
      "cell_type": "code",
      "execution_count": 13,
      "metadata": {
        "colab": {
          "base_uri": "https://localhost:8080/",
          "height": 328
        },
        "id": "HW-YOQQH2L6-",
        "outputId": "75354408-b7b3-4db7-cfa9-bb71cc9dda37"
      },
      "outputs": [
        {
          "data": {
            "text/html": [
              "<div>\n",
              "<style scoped>\n",
              "    .dataframe tbody tr th:only-of-type {\n",
              "        vertical-align: middle;\n",
              "    }\n",
              "\n",
              "    .dataframe tbody tr th {\n",
              "        vertical-align: top;\n",
              "    }\n",
              "\n",
              "    .dataframe thead th {\n",
              "        text-align: right;\n",
              "    }\n",
              "</style>\n",
              "<table border=\"1\" class=\"dataframe\">\n",
              "  <thead>\n",
              "    <tr style=\"text-align: right;\">\n",
              "      <th></th>\n",
              "      <th>a</th>\n",
              "      <th>t</th>\n",
              "      <th>c</th>\n",
              "      <th>g</th>\n",
              "    </tr>\n",
              "  </thead>\n",
              "  <tbody>\n",
              "    <tr>\n",
              "      <th>-3</th>\n",
              "      <td>0.260085</td>\n",
              "      <td>0.271169</td>\n",
              "      <td>0.23217</td>\n",
              "      <td>0.236428</td>\n",
              "    </tr>\n",
              "    <tr>\n",
              "      <th>-2</th>\n",
              "      <td>0.260085</td>\n",
              "      <td>0.271169</td>\n",
              "      <td>0.23217</td>\n",
              "      <td>0.236428</td>\n",
              "    </tr>\n",
              "    <tr>\n",
              "      <th>-1</th>\n",
              "      <td>0.260085</td>\n",
              "      <td>0.271169</td>\n",
              "      <td>0.23217</td>\n",
              "      <td>0.236428</td>\n",
              "    </tr>\n",
              "    <tr>\n",
              "      <th>0</th>\n",
              "      <td>0.260085</td>\n",
              "      <td>0.271169</td>\n",
              "      <td>0.23217</td>\n",
              "      <td>0.236428</td>\n",
              "    </tr>\n",
              "    <tr>\n",
              "      <th>1</th>\n",
              "      <td>0.260085</td>\n",
              "      <td>0.271169</td>\n",
              "      <td>0.23217</td>\n",
              "      <td>0.236428</td>\n",
              "    </tr>\n",
              "    <tr>\n",
              "      <th>2</th>\n",
              "      <td>0.260085</td>\n",
              "      <td>0.271169</td>\n",
              "      <td>0.23217</td>\n",
              "      <td>0.236428</td>\n",
              "    </tr>\n",
              "    <tr>\n",
              "      <th>3</th>\n",
              "      <td>0.260085</td>\n",
              "      <td>0.271169</td>\n",
              "      <td>0.23217</td>\n",
              "      <td>0.236428</td>\n",
              "    </tr>\n",
              "    <tr>\n",
              "      <th>4</th>\n",
              "      <td>0.260085</td>\n",
              "      <td>0.271169</td>\n",
              "      <td>0.23217</td>\n",
              "      <td>0.236428</td>\n",
              "    </tr>\n",
              "    <tr>\n",
              "      <th>5</th>\n",
              "      <td>0.260085</td>\n",
              "      <td>0.271169</td>\n",
              "      <td>0.23217</td>\n",
              "      <td>0.236428</td>\n",
              "    </tr>\n",
              "  </tbody>\n",
              "</table>\n",
              "</div>"
            ],
            "text/plain": [
              "           a         t        c         g\n",
              "-3  0.260085  0.271169  0.23217  0.236428\n",
              "-2  0.260085  0.271169  0.23217  0.236428\n",
              "-1  0.260085  0.271169  0.23217  0.236428\n",
              " 0  0.260085  0.271169  0.23217  0.236428\n",
              " 1  0.260085  0.271169  0.23217  0.236428\n",
              " 2  0.260085  0.271169  0.23217  0.236428\n",
              " 3  0.260085  0.271169  0.23217  0.236428\n",
              " 4  0.260085  0.271169  0.23217  0.236428\n",
              " 5  0.260085  0.271169  0.23217  0.236428"
            ]
          },
          "execution_count": 13,
          "metadata": {},
          "output_type": "execute_result"
        }
      ],
      "source": [
        "whole_seq.replace('n', '')\n",
        "p_neg = [whole_seq.count(base)/len(whole_seq) for base in ['a', 't', 'c', 'g']]  \n",
        "matrix_neg = pd.DataFrame(np.tile(p_neg, (9, 1)),\n",
        "                          columns = ['a', 't', 'c', 'g'],\n",
        "                          index = [i-3 for i in range(9)])\n",
        "matrix_neg"
      ]
    },
    {
      "cell_type": "markdown",
      "metadata": {
        "id": "GWS9WnmF2Rfo"
      },
      "source": [
        "构建考虑前一个碱基的概率矩阵"
      ]
    },
    {
      "cell_type": "code",
      "execution_count": 14,
      "metadata": {
        "colab": {
          "base_uri": "https://localhost:8080/",
          "height": 173
        },
        "id": "P3sZEVjf-EzB",
        "outputId": "01abed8a-c5e8-4878-a618-edaf7f493342"
      },
      "outputs": [
        {
          "data": {
            "text/html": [
              "<div>\n",
              "<style scoped>\n",
              "    .dataframe tbody tr th:only-of-type {\n",
              "        vertical-align: middle;\n",
              "    }\n",
              "\n",
              "    .dataframe tbody tr th {\n",
              "        vertical-align: top;\n",
              "    }\n",
              "\n",
              "    .dataframe thead th {\n",
              "        text-align: right;\n",
              "    }\n",
              "</style>\n",
              "<table border=\"1\" class=\"dataframe\">\n",
              "  <thead>\n",
              "    <tr style=\"text-align: right;\">\n",
              "      <th></th>\n",
              "      <th>a</th>\n",
              "      <th>t</th>\n",
              "      <th>c</th>\n",
              "      <th>g</th>\n",
              "    </tr>\n",
              "  </thead>\n",
              "  <tbody>\n",
              "    <tr>\n",
              "      <th>a</th>\n",
              "      <td>0.296923</td>\n",
              "      <td>0.234069</td>\n",
              "      <td>0.187147</td>\n",
              "      <td>0.281861</td>\n",
              "    </tr>\n",
              "    <tr>\n",
              "      <th>t</th>\n",
              "      <td>0.186917</td>\n",
              "      <td>0.308036</td>\n",
              "      <td>0.223690</td>\n",
              "      <td>0.281356</td>\n",
              "    </tr>\n",
              "    <tr>\n",
              "      <th>c</th>\n",
              "      <td>0.307009</td>\n",
              "      <td>0.322820</td>\n",
              "      <td>0.294622</td>\n",
              "      <td>0.075548</td>\n",
              "    </tr>\n",
              "    <tr>\n",
              "      <th>g</th>\n",
              "      <td>0.257592</td>\n",
              "      <td>0.219191</td>\n",
              "      <td>0.230213</td>\n",
              "      <td>0.293004</td>\n",
              "    </tr>\n",
              "  </tbody>\n",
              "</table>\n",
              "</div>"
            ],
            "text/plain": [
              "          a         t         c         g\n",
              "a  0.296923  0.234069  0.187147  0.281861\n",
              "t  0.186917  0.308036  0.223690  0.281356\n",
              "c  0.307009  0.322820  0.294622  0.075548\n",
              "g  0.257592  0.219191  0.230213  0.293004"
            ]
          },
          "execution_count": 14,
          "metadata": {},
          "output_type": "execute_result"
        }
      ],
      "source": [
        "matrix_forward_neg = background_forward_count.apply(lambda x: x/x.sum(), axis = 1)\n",
        "matrix_forward_neg"
      ]
    },
    {
      "cell_type": "markdown",
      "metadata": {
        "id": "wx2vOgzeDl81"
      },
      "source": [
        "### 定义$S(X)$"
      ]
    },
    {
      "cell_type": "code",
      "execution_count": 30,
      "metadata": {
        "id": "9vPg8jeZLJGt"
      },
      "outputs": [],
      "source": [
        "def WAMDecisionFunction(seq):\n",
        "    score = np.log((matrix_pos.loc[-3, seq[0]] + 1)/matrix_neg.loc[-3, seq[0]])\n",
        "\n",
        "    for i in range(8):\n",
        "        score += np.log((matrix_forward_pos.loc[i-2, seq[i], seq[i+1]] + 1)/matrix_forward_neg.loc[seq[i], seq[i+1]])\n",
        "\n",
        "    return float(score)"
      ]
    },
    {
      "cell_type": "markdown",
      "metadata": {
        "id": "Qr4OZ-eYy713"
      },
      "source": [
        "### 寻找阈值 "
      ]
    },
    {
      "cell_type": "markdown",
      "metadata": {
        "id": "Z2snZ67MaeLl"
      },
      "source": [
        "#### 计算位点序列得分"
      ]
    },
    {
      "cell_type": "code",
      "execution_count": 31,
      "metadata": {
        "colab": {
          "base_uri": "https://localhost:8080/"
        },
        "id": "XZB-DTS9Ze1K",
        "outputId": "d6d6782a-faa0-4a55-d003-9c83458fb2a1"
      },
      "outputs": [
        {
          "data": {
            "text/plain": [
              "array([16.10031588, 17.26630261, 16.2886994 , ..., 16.12701094,\n",
              "       15.84424438, 16.73646724])"
            ]
          },
          "execution_count": 31,
          "metadata": {},
          "output_type": "execute_result"
        }
      ],
      "source": [
        "scores = [WAMDecisionFunction(seq) for seq in site_seqs]\n",
        "scores = np.array(scores)\n",
        "scores"
      ]
    },
    {
      "cell_type": "markdown",
      "metadata": {
        "id": "qi-5vgrEcJmK"
      },
      "source": [
        "#### 计算召回率"
      ]
    },
    {
      "cell_type": "code",
      "execution_count": 32,
      "metadata": {
        "colab": {
          "base_uri": "https://localhost:8080/"
        },
        "id": "f8L66Rv9am1X",
        "outputId": "caffc5c2-7dc5-41c7-f7dc-e190bc0103df"
      },
      "outputs": [
        {
          "data": {
            "text/plain": [
              "array([9.99580008e-01, 9.99580008e-01, 9.99580008e-01, 9.99580008e-01,\n",
              "       9.99580008e-01, 9.98740025e-01, 9.97900042e-01, 9.97480050e-01,\n",
              "       9.91600168e-01, 9.86980260e-01, 9.73960521e-01, 9.62620748e-01,\n",
              "       9.32801344e-01, 8.93742125e-01, 8.37463251e-01, 7.78244435e-01,\n",
              "       7.21545569e-01, 6.25787484e-01, 5.56068879e-01, 4.82990340e-01,\n",
              "       4.21671567e-01, 3.33893322e-01, 2.71734565e-01, 2.30995380e-01,\n",
              "       1.84796304e-01, 1.71776564e-01, 1.60856783e-01, 1.54136917e-01,\n",
              "       1.40697186e-01, 1.28937421e-01, 1.06677866e-01, 8.60982780e-02,\n",
              "       7.26585468e-02, 5.20789584e-02, 4.40991180e-02, 2.60394792e-02,\n",
              "       2.01595968e-02, 1.25997480e-02, 1.13397732e-02, 9.65980680e-03,\n",
              "       7.97984040e-03, 6.71986560e-03, 5.45989080e-03, 3.77992440e-03,\n",
              "       3.35993280e-03, 1.67996640e-03, 1.25997480e-03, 8.39983200e-04,\n",
              "       4.19991600e-04, 0.00000000e+00])"
            ]
          },
          "execution_count": 32,
          "metadata": {},
          "output_type": "execute_result"
        }
      ],
      "source": [
        "threshold = np.linspace(scores.min(), scores.max(), 50)\n",
        "\n",
        "recall = [np.sum(scores > thr)/scores.shape for thr in threshold]\n",
        "recall = np.array(recall).reshape(-1)\n",
        "recall"
      ]
    },
    {
      "cell_type": "markdown",
      "metadata": {
        "id": "WEv4Up4jco_m"
      },
      "source": [
        "#### 绘制阈值与召回率关系图"
      ]
    },
    {
      "cell_type": "code",
      "execution_count": 33,
      "metadata": {
        "colab": {
          "base_uri": "https://localhost:8080/",
          "height": 279
        },
        "id": "TSoyPvNOc8Q6",
        "outputId": "bd7f6baf-8905-46f7-8f3c-2448a0d6b494"
      },
      "outputs": [
        {
          "data": {
            "image/png": "[encoded data removed]",
            "text/plain": [
              "<Figure size 432x288 with 1 Axes>"
            ]
          },
          "metadata": {
            "needs_background": "light"
          },
          "output_type": "display_data"
        }
      ],
      "source": [
        "plt.figure()\n",
        "lw = 2\n",
        "plt.plot(\n",
        "    threshold,\n",
        "    recall,\n",
        "    color = 'darkorange',\n",
        "    lw = lw,\n",
        "    )\n",
        "plt.xlabel('Threshold')\n",
        "plt.ylabel('Recall')\n",
        "plt.show()"
      ]
    },
    {
      "cell_type": "markdown",
      "metadata": {
        "id": "evMVnW5mdZ6e"
      },
      "source": [
        "### 处理测试数据"
      ]
    },
    {
      "cell_type": "markdown",
      "metadata": {
        "id": "Pzv1ZSkBehrF"
      },
      "source": [
        "#### 导入并提取序列"
      ]
    },
    {
      "cell_type": "code",
      "execution_count": 34,
      "metadata": {
        "colab": {
          "base_uri": "https://localhost:8080/"
        },
        "id": "JhmuDX_ue4yD",
        "outputId": "8c7ec744-f90a-44e5-f655-eccc2f28d00a"
      },
      "outputs": [
        {
          "name": "stderr",
          "output_type": "stream",
          "text": [
            " 96%|█████████▌| 545/570 [00:00<00:00, 2748.76it/s]"
          ]
        },
        {
          "name": "stdout",
          "output_type": "stream",
          "text": [
            "Loading testing data...\n"
          ]
        },
        {
          "name": "stderr",
          "output_type": "stream",
          "text": [
            "100%|██████████| 570/570 [00:00<00:00, 2708.67it/s]\n"
          ]
        }
      ],
      "source": [
        "test_site_seqs = []\n",
        "test_normal_seqs = []\n",
        "\n",
        "print('Loading testing data...')\n",
        "\n",
        "for test_file in tqdm(test_files):\n",
        "    with open(test_path + '/' + test_file, 'r') as f:\n",
        "        text = f.readlines()\n",
        "        test_site_positions = re.findall('(\\d+)(?=,)', text[1])    # 提取位置\n",
        "        seq = ''.join(text[2:]).replace('\\n', '').lower()\n",
        "        \n",
        "        for position in test_site_positions:\n",
        "            test_site_seqs.append(seq[int(position) - 4:int(position) + 5])\n",
        "        \n",
        "        for num in range(4):    # 提取非位点序列\n",
        "            test_normal_position = np.random.randint(len(seq) - 9)    # 采样至倒数第九位\n",
        "            test_normal_seq = seq[test_normal_position - 4:test_normal_position + 5]\n",
        "\n",
        "            while test_normal_position in test_site_positions or \\\n",
        "                set(test_normal_seq) != {'a', 't', 'c', 'g'} or  \\\n",
        "                len(test_normal_seq) != 9:    # 排除donar位点与'n', 'm' 等\n",
        "\n",
        "                test_normal_position = np.random.randint(len(seq) - 9)\n",
        "                test_normal_seq = seq[test_normal_position - 4:test_normal_position + 5]\n",
        "\n",
        "            test_normal_seqs.append(test_normal_seq)"
      ]
    },
    {
      "cell_type": "markdown",
      "metadata": {
        "id": "Re8MDxEeE_3t"
      },
      "source": [
        "#### 构建数据集"
      ]
    },
    {
      "cell_type": "code",
      "execution_count": 35,
      "metadata": {
        "colab": {
          "base_uri": "https://localhost:8080/",
          "height": 204
        },
        "id": "mnPQ359GFPJc",
        "outputId": "bbcfd688-4684-4c13-b91a-4216cdb8aafe"
      },
      "outputs": [
        {
          "data": {
            "text/html": [
              "<div>\n",
              "<style scoped>\n",
              "    .dataframe tbody tr th:only-of-type {\n",
              "        vertical-align: middle;\n",
              "    }\n",
              "\n",
              "    .dataframe tbody tr th {\n",
              "        vertical-align: top;\n",
              "    }\n",
              "\n",
              "    .dataframe thead th {\n",
              "        text-align: right;\n",
              "    }\n",
              "</style>\n",
              "<table border=\"1\" class=\"dataframe\">\n",
              "  <thead>\n",
              "    <tr style=\"text-align: right;\">\n",
              "      <th></th>\n",
              "      <th>Seq</th>\n",
              "      <th>Donar</th>\n",
              "    </tr>\n",
              "  </thead>\n",
              "  <tbody>\n",
              "    <tr>\n",
              "      <th>0</th>\n",
              "      <td>cggggtgag</td>\n",
              "      <td>1.0</td>\n",
              "    </tr>\n",
              "    <tr>\n",
              "      <th>1</th>\n",
              "      <td>tgtggtaag</td>\n",
              "      <td>1.0</td>\n",
              "    </tr>\n",
              "    <tr>\n",
              "      <th>2</th>\n",
              "      <td>gtaggtgag</td>\n",
              "      <td>1.0</td>\n",
              "    </tr>\n",
              "    <tr>\n",
              "      <th>3</th>\n",
              "      <td>tgcggtagg</td>\n",
              "      <td>1.0</td>\n",
              "    </tr>\n",
              "    <tr>\n",
              "      <th>4</th>\n",
              "      <td>acaggtaat</td>\n",
              "      <td>1.0</td>\n",
              "    </tr>\n",
              "  </tbody>\n",
              "</table>\n",
              "</div>"
            ],
            "text/plain": [
              "         Seq  Donar\n",
              "0  cggggtgag    1.0\n",
              "1  tgtggtaag    1.0\n",
              "2  gtaggtgag    1.0\n",
              "3  tgcggtagg    1.0\n",
              "4  acaggtaat    1.0"
            ]
          },
          "execution_count": 35,
          "metadata": {},
          "output_type": "execute_result"
        }
      ],
      "source": [
        "test_site_df = pd.DataFrame(list(zip(test_site_seqs, np.ones(len(test_site_seqs)))),    # 位点\n",
        "                            columns = ['Seq', 'Donar'])\n",
        "\n",
        "test_normal_df = pd.DataFrame(list(zip(test_normal_seqs, np.zeros(len(test_normal_seqs)))),    # 非位点\n",
        "                              columns = ['Seq', 'Donar'])\n",
        "\n",
        "test_df = pd.concat([test_site_df, test_normal_df]).reset_index(drop = True)\n",
        "test_df.head()"
      ]
    },
    {
      "cell_type": "markdown",
      "metadata": {
        "id": "g4C4SBb4DbA6"
      },
      "source": [
        "#### 计算每一条序列得分"
      ]
    },
    {
      "cell_type": "code",
      "execution_count": 36,
      "metadata": {
        "colab": {
          "base_uri": "https://localhost:8080/",
          "height": 419
        },
        "id": "ld0ggiV84tm1",
        "outputId": "fe3ef586-6a3b-49d9-dd12-222887bbc5bb"
      },
      "outputs": [
        {
          "data": {
            "text/html": [
              "<div>\n",
              "<style scoped>\n",
              "    .dataframe tbody tr th:only-of-type {\n",
              "        vertical-align: middle;\n",
              "    }\n",
              "\n",
              "    .dataframe tbody tr th {\n",
              "        vertical-align: top;\n",
              "    }\n",
              "\n",
              "    .dataframe thead th {\n",
              "        text-align: right;\n",
              "    }\n",
              "</style>\n",
              "<table border=\"1\" class=\"dataframe\">\n",
              "  <thead>\n",
              "    <tr style=\"text-align: right;\">\n",
              "      <th></th>\n",
              "      <th>Seq</th>\n",
              "      <th>Donar</th>\n",
              "      <th>Score</th>\n",
              "    </tr>\n",
              "  </thead>\n",
              "  <tbody>\n",
              "    <tr>\n",
              "      <th>0</th>\n",
              "      <td>cggggtgag</td>\n",
              "      <td>1.0</td>\n",
              "      <td>17.120937</td>\n",
              "    </tr>\n",
              "    <tr>\n",
              "      <th>1</th>\n",
              "      <td>tgtggtaag</td>\n",
              "      <td>1.0</td>\n",
              "      <td>16.319874</td>\n",
              "    </tr>\n",
              "    <tr>\n",
              "      <th>2</th>\n",
              "      <td>gtaggtgag</td>\n",
              "      <td>1.0</td>\n",
              "      <td>16.588387</td>\n",
              "    </tr>\n",
              "    <tr>\n",
              "      <th>3</th>\n",
              "      <td>tgcggtagg</td>\n",
              "      <td>1.0</td>\n",
              "      <td>17.068964</td>\n",
              "    </tr>\n",
              "    <tr>\n",
              "      <th>4</th>\n",
              "      <td>acaggtaat</td>\n",
              "      <td>1.0</td>\n",
              "      <td>16.518456</td>\n",
              "    </tr>\n",
              "    <tr>\n",
              "      <th>...</th>\n",
              "      <td>...</td>\n",
              "      <td>...</td>\n",
              "      <td>...</td>\n",
              "    </tr>\n",
              "    <tr>\n",
              "      <th>4354</th>\n",
              "      <td>cttccagta</td>\n",
              "      <td>0.0</td>\n",
              "      <td>12.848649</td>\n",
              "    </tr>\n",
              "    <tr>\n",
              "      <th>4355</th>\n",
              "      <td>gattaagcc</td>\n",
              "      <td>0.0</td>\n",
              "      <td>13.286692</td>\n",
              "    </tr>\n",
              "    <tr>\n",
              "      <th>4356</th>\n",
              "      <td>gacagtttc</td>\n",
              "      <td>0.0</td>\n",
              "      <td>14.788470</td>\n",
              "    </tr>\n",
              "    <tr>\n",
              "      <th>4357</th>\n",
              "      <td>agcaagtat</td>\n",
              "      <td>0.0</td>\n",
              "      <td>13.497933</td>\n",
              "    </tr>\n",
              "    <tr>\n",
              "      <th>4358</th>\n",
              "      <td>tgcattgtt</td>\n",
              "      <td>0.0</td>\n",
              "      <td>13.044375</td>\n",
              "    </tr>\n",
              "  </tbody>\n",
              "</table>\n",
              "<p>4359 rows × 3 columns</p>\n",
              "</div>"
            ],
            "text/plain": [
              "            Seq  Donar      Score\n",
              "0     cggggtgag    1.0  17.120937\n",
              "1     tgtggtaag    1.0  16.319874\n",
              "2     gtaggtgag    1.0  16.588387\n",
              "3     tgcggtagg    1.0  17.068964\n",
              "4     acaggtaat    1.0  16.518456\n",
              "...         ...    ...        ...\n",
              "4354  cttccagta    0.0  12.848649\n",
              "4355  gattaagcc    0.0  13.286692\n",
              "4356  gacagtttc    0.0  14.788470\n",
              "4357  agcaagtat    0.0  13.497933\n",
              "4358  tgcattgtt    0.0  13.044375\n",
              "\n",
              "[4359 rows x 3 columns]"
            ]
          },
          "execution_count": 36,
          "metadata": {},
          "output_type": "execute_result"
        }
      ],
      "source": [
        "test_df['Score'] = test_df['Seq'].apply(WAMDecisionFunction)\n",
        "# test_df['Score'].fillna(-100, inplace = True)    # 去除空值\n",
        "test_df"
      ]
    },
    {
      "cell_type": "markdown",
      "metadata": {
        "id": "V9Mx6iRVDhgX"
      },
      "source": [
        "#### 计算AUROC"
      ]
    },
    {
      "cell_type": "code",
      "execution_count": 37,
      "metadata": {
        "colab": {
          "base_uri": "https://localhost:8080/"
        },
        "id": "uNYrDYKtEbOE",
        "outputId": "99ddcf2f-5ef7-47bb-c112-c7df2e731888"
      },
      "outputs": [
        {
          "data": {
            "text/plain": [
              "0.9808351898264178"
            ]
          },
          "execution_count": 37,
          "metadata": {},
          "output_type": "execute_result"
        }
      ],
      "source": [
        "fpr, tpr, _ = roc_curve(test_df['Donar'], test_df['Score'])\n",
        "roc_auc = auc(fpr, tpr)\n",
        "roc_auc"
      ]
    },
    {
      "cell_type": "code",
      "execution_count": 38,
      "metadata": {
        "colab": {
          "base_uri": "https://localhost:8080/",
          "height": 313
        },
        "id": "APlGvKuGHOxv",
        "outputId": "e517c6b8-28d1-4565-f1f8-0f62a2d02b7b"
      },
      "outputs": [
        {
          "data": {
            "text/plain": [
              "<matplotlib.legend.Legend at 0x250f418e820>"
            ]
          },
          "execution_count": 38,
          "metadata": {},
          "output_type": "execute_result"
        },
        {
          "data": {
            "image/png": "[encoded data removed]",
            "text/plain": [
              "<Figure size 432x288 with 1 Axes>"
            ]
          },
          "metadata": {
            "needs_background": "light"
          },
          "output_type": "display_data"
        }
      ],
      "source": [
        "plt.figure()\n",
        "lw = 2\n",
        "plt.plot(\n",
        "    fpr,\n",
        "    tpr,\n",
        "    color = \"darkorange\",\n",
        "    lw = lw,\n",
        "    label = \"ROC curve (area = %0.2f)\" % roc_auc,\n",
        ")\n",
        "plt.plot([0, 1], [0, 1], color=\"navy\", lw=lw, linestyle=\"--\")\n",
        "plt.xlim([0.0, 1.0])\n",
        "plt.ylim([0.0, 1.05])\n",
        "plt.xlabel(\"False Positive Rate\")\n",
        "plt.ylabel(\"True Positive Rate\")\n",
        "plt.title(\"Receiver operating characteristic example\")\n",
        "plt.legend(loc=\"lower right\")"
      ]
    }
  ],
  "metadata": {
    "colab": {
      "collapsed_sections": [],
      "include_colab_link": true,
      "name": "WAM_for_function_finding.ipynb",
      "provenance": [],
      "toc_visible": true
    },
    "interpreter": {
      "hash": "49cb93f377a7abe7414b7b0f21fb3017538004a126cf690fb524202736b7fb92"
    },
    "kernelspec": {
      "display_name": "Python 3.8.8 ('base')",
      "language": "python",
      "name": "python3"
    },
    "language_info": {
      "codemirror_mode": {
        "name": "ipython",
        "version": 3
      },
      "file_extension": ".py",
      "mimetype": "text/x-python",
      "name": "python",
      "nbconvert_exporter": "python",
      "pygments_lexer": "ipython3",
      "version": "3.8.8"
    }
  },
  "nbformat": 4,
  "nbformat_minor": 0
}
